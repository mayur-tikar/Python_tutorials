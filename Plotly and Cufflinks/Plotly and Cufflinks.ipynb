{
 "cells": [
  {
   "cell_type": "markdown",
   "metadata": {},
   "source": [
    "\n",
    "# Plotly and Cufflinks"
   ]
  },
  {
   "cell_type": "markdown",
   "metadata": {},
   "source": [
    "Plotly is a library that allows you to create interactive plots that you can use in dashboards or websites (you can save them as html files or static images).\n",
    "Cufflinks connects ploty with pandas\n",
    "\n",
    "## Installation\n",
    "\n",
    "In order for this all to work, you'll need to install plotly and cufflinks to call plots directly off of a pandas dataframe. These libraries are not currently available through **conda** but are available through **pip**. Install the libraries at your command line/terminal using:\n",
    "\n",
    "    pip install plotly\n",
    "    pip install cufflinks\n",
    "\n",
    "**NOTE: Make sure you only have one installation of Python on your computer when you do this, otherwise the installation may not work.**\n",
    "\n",
    "## Imports and Set-up"
   ]
  },
  {
   "cell_type": "code",
   "execution_count": 3,
   "metadata": {},
   "outputs": [],
   "source": [
    "import pandas as pd\n",
    "import numpy as np\n",
    "%matplotlib inline"
   ]
  },
  {
   "cell_type": "code",
   "execution_count": 4,
   "metadata": {},
   "outputs": [
    {
     "name": "stdout",
     "output_type": "stream",
     "text": [
      "5.9.0\n"
     ]
    }
   ],
   "source": [
    "from plotly import __version__\n",
    "from plotly.offline import download_plotlyjs, init_notebook_mode, plot, iplot\n",
    "\n",
    "print(__version__) # requires version >= 1.9.0"
   ]
  },
  {
   "cell_type": "code",
   "execution_count": 5,
   "metadata": {},
   "outputs": [],
   "source": [
    "import cufflinks as cf"
   ]
  },
  {
   "cell_type": "code",
   "execution_count": 6,
   "metadata": {},
   "outputs": [
    {
     "data": {
      "text/html": [
       "        <script type=\"text/javascript\">\n",
       "        window.PlotlyConfig = {MathJaxConfig: 'local'};\n",
       "        if (window.MathJax && window.MathJax.Hub && window.MathJax.Hub.Config) {window.MathJax.Hub.Config({SVG: {font: \"STIX-Web\"}});}\n",
       "        if (typeof require !== 'undefined') {\n",
       "        require.undef(\"plotly\");\n",
       "        requirejs.config({\n",
       "            paths: {\n",
       "                'plotly': ['https://cdn.plot.ly/plotly-2.12.1.min']\n",
       "            }\n",
       "        });\n",
       "        require(['plotly'], function(Plotly) {\n",
       "            window._Plotly = Plotly;\n",
       "        });\n",
       "        }\n",
       "        </script>\n",
       "        "
      ]
     },
     "metadata": {},
     "output_type": "display_data"
    }
   ],
   "source": [
    "# For Notebooks\n",
    "init_notebook_mode(connected=True)"
   ]
  },
  {
   "cell_type": "code",
   "execution_count": 7,
   "metadata": {},
   "outputs": [
    {
     "data": {
      "text/html": [
       "        <script type=\"text/javascript\">\n",
       "        window.PlotlyConfig = {MathJaxConfig: 'local'};\n",
       "        if (window.MathJax && window.MathJax.Hub && window.MathJax.Hub.Config) {window.MathJax.Hub.Config({SVG: {font: \"STIX-Web\"}});}\n",
       "        if (typeof require !== 'undefined') {\n",
       "        require.undef(\"plotly\");\n",
       "        requirejs.config({\n",
       "            paths: {\n",
       "                'plotly': ['https://cdn.plot.ly/plotly-2.12.1.min']\n",
       "            }\n",
       "        });\n",
       "        require(['plotly'], function(Plotly) {\n",
       "            window._Plotly = Plotly;\n",
       "        });\n",
       "        }\n",
       "        </script>\n",
       "        "
      ]
     },
     "metadata": {},
     "output_type": "display_data"
    }
   ],
   "source": [
    "# For offline use\n",
    "cf.go_offline()"
   ]
  },
  {
   "cell_type": "markdown",
   "metadata": {},
   "source": [
    "### Fake Data"
   ]
  },
  {
   "cell_type": "code",
   "execution_count": 8,
   "metadata": {},
   "outputs": [],
   "source": [
    "df = pd.DataFrame(np.random.randn(100,4),columns='A B C D'.split())"
   ]
  },
  {
   "cell_type": "code",
   "execution_count": 9,
   "metadata": {},
   "outputs": [
    {
     "data": {
      "text/html": [
       "<div>\n",
       "<style scoped>\n",
       "    .dataframe tbody tr th:only-of-type {\n",
       "        vertical-align: middle;\n",
       "    }\n",
       "\n",
       "    .dataframe tbody tr th {\n",
       "        vertical-align: top;\n",
       "    }\n",
       "\n",
       "    .dataframe thead th {\n",
       "        text-align: right;\n",
       "    }\n",
       "</style>\n",
       "<table border=\"1\" class=\"dataframe\">\n",
       "  <thead>\n",
       "    <tr style=\"text-align: right;\">\n",
       "      <th></th>\n",
       "      <th>A</th>\n",
       "      <th>B</th>\n",
       "      <th>C</th>\n",
       "      <th>D</th>\n",
       "    </tr>\n",
       "  </thead>\n",
       "  <tbody>\n",
       "    <tr>\n",
       "      <th>0</th>\n",
       "      <td>-0.871770</td>\n",
       "      <td>0.506562</td>\n",
       "      <td>-1.636957</td>\n",
       "      <td>-0.073610</td>\n",
       "    </tr>\n",
       "    <tr>\n",
       "      <th>1</th>\n",
       "      <td>0.111584</td>\n",
       "      <td>-0.260297</td>\n",
       "      <td>-0.637604</td>\n",
       "      <td>-1.954620</td>\n",
       "    </tr>\n",
       "    <tr>\n",
       "      <th>2</th>\n",
       "      <td>-2.740740</td>\n",
       "      <td>0.894774</td>\n",
       "      <td>-0.040748</td>\n",
       "      <td>0.386828</td>\n",
       "    </tr>\n",
       "    <tr>\n",
       "      <th>3</th>\n",
       "      <td>-1.083198</td>\n",
       "      <td>-0.207065</td>\n",
       "      <td>0.344977</td>\n",
       "      <td>1.602276</td>\n",
       "    </tr>\n",
       "    <tr>\n",
       "      <th>4</th>\n",
       "      <td>1.105107</td>\n",
       "      <td>1.165771</td>\n",
       "      <td>-0.190769</td>\n",
       "      <td>0.502503</td>\n",
       "    </tr>\n",
       "  </tbody>\n",
       "</table>\n",
       "</div>"
      ],
      "text/plain": [
       "          A         B         C         D\n",
       "0 -0.871770  0.506562 -1.636957 -0.073610\n",
       "1  0.111584 -0.260297 -0.637604 -1.954620\n",
       "2 -2.740740  0.894774 -0.040748  0.386828\n",
       "3 -1.083198 -0.207065  0.344977  1.602276\n",
       "4  1.105107  1.165771 -0.190769  0.502503"
      ]
     },
     "execution_count": 9,
     "metadata": {},
     "output_type": "execute_result"
    }
   ],
   "source": [
    "df.head()"
   ]
  },
  {
   "cell_type": "code",
   "execution_count": 10,
   "metadata": {},
   "outputs": [],
   "source": [
    "df2 = pd.DataFrame({'Category':['A','B','C'],'Values':[32,43,50]})"
   ]
  },
  {
   "cell_type": "code",
   "execution_count": 11,
   "metadata": {},
   "outputs": [
    {
     "data": {
      "text/html": [
       "<div>\n",
       "<style scoped>\n",
       "    .dataframe tbody tr th:only-of-type {\n",
       "        vertical-align: middle;\n",
       "    }\n",
       "\n",
       "    .dataframe tbody tr th {\n",
       "        vertical-align: top;\n",
       "    }\n",
       "\n",
       "    .dataframe thead th {\n",
       "        text-align: right;\n",
       "    }\n",
       "</style>\n",
       "<table border=\"1\" class=\"dataframe\">\n",
       "  <thead>\n",
       "    <tr style=\"text-align: right;\">\n",
       "      <th></th>\n",
       "      <th>Category</th>\n",
       "      <th>Values</th>\n",
       "    </tr>\n",
       "  </thead>\n",
       "  <tbody>\n",
       "    <tr>\n",
       "      <th>0</th>\n",
       "      <td>A</td>\n",
       "      <td>32</td>\n",
       "    </tr>\n",
       "    <tr>\n",
       "      <th>1</th>\n",
       "      <td>B</td>\n",
       "      <td>43</td>\n",
       "    </tr>\n",
       "    <tr>\n",
       "      <th>2</th>\n",
       "      <td>C</td>\n",
       "      <td>50</td>\n",
       "    </tr>\n",
       "  </tbody>\n",
       "</table>\n",
       "</div>"
      ],
      "text/plain": [
       "  Category  Values\n",
       "0        A      32\n",
       "1        B      43\n",
       "2        C      50"
      ]
     },
     "execution_count": 11,
     "metadata": {},
     "output_type": "execute_result"
    }
   ],
   "source": [
    "df2.head()"
   ]
  },
  {
   "cell_type": "markdown",
   "metadata": {},
   "source": [
    "## Using Cufflinks and iplot()\n",
    "\n",
    "* scatter\n",
    "* bar\n",
    "* box\n",
    "* spread\n",
    "* ratio\n",
    "* heatmap\n",
    "* surface\n",
    "* histogram\n",
    "* bubble"
   ]
  },
  {
   "cell_type": "markdown",
   "metadata": {},
   "source": [
    "## Scatter"
   ]
  },
  {
   "cell_type": "code",
   "execution_count": 12,
   "metadata": {},
   "outputs": [
    {
     "data": {
      "application/vnd.plotly.v1+json": {
       "config": {
        "linkText": "Export to plot.ly",
        "plotlyServerURL": "https://plot.ly",
        "showLink": true
       },
       "data": [
        {
         "line": {
          "color": "rgba(255, 153, 51, 1.0)",
          "dash": "solid",
          "shape": "linear",
          "width": 1.3
         },
         "marker": {
          "size": 10,
          "symbol": "circle"
         },
         "mode": "markers",
         "name": "B",
         "text": "",
         "type": "scatter",
         "x": [
          -0.8717698350824767,
          0.11158432563991447,
          -2.7407395816036657,
          -1.0831976641681382,
          1.1051072558998412,
          -0.17169344572694262,
          0.43545635385970705,
          -0.09179294744208095,
          1.2264053142154256,
          1.551070466120222,
          -0.07121816924493687,
          -0.24600156908269727,
          0.15679944703330018,
          0.36559433298643446,
          2.660901371310062,
          1.855261613043312,
          -1.187059893505927,
          -0.3052965411783563,
          0.34235339848159724,
          -1.0084991752646242,
          -0.44254546436287656,
          0.6015254636451396,
          -0.2893097954432154,
          -0.7546569708093946,
          -0.649126922087612,
          -2.1670947304978943,
          -0.3521562590934882,
          -0.9825167171173528,
          0.4823638869124494,
          1.3991689937677,
          -1.0813487141186187,
          0.6812913811262418,
          -1.7997352733997822,
          0.40689483051570857,
          0.7305405406125538,
          0.17729696480255686,
          -0.4913828603510736,
          2.1551214812117236,
          -0.3357732892600588,
          0.6710258318221457,
          0.4922473932911538,
          -0.10608069827993899,
          -1.0721648569540283,
          1.5728260539297312,
          0.20627952814649006,
          0.4331828673111826,
          0.5413904546492052,
          0.596582038146462,
          -1.8059550967021047,
          1.0945562036012295,
          -0.6169826965091776,
          -1.7902865377237571,
          0.5756306505590018,
          0.22217194529919052,
          -0.37471866566691503,
          0.7533629372808431,
          1.2629346709986544,
          -0.29821714013709033,
          -0.40133028481671007,
          -0.14040244863090015,
          -0.7990425935512757,
          -0.25061752621963,
          0.09440658081002298,
          0.4639600910791964,
          -0.7548655530468488,
          0.2734573473584046,
          0.49953115601213216,
          0.2621673503662859,
          0.30879618891841415,
          -0.742579207698379,
          -2.140700808751398,
          1.085103424801508,
          2.5556712856305173,
          -0.3637449248748844,
          -1.7745895218285208,
          1.2839097135591673,
          1.4597017361633555,
          0.14355489019463594,
          1.1128650539993221,
          -1.399046146468581,
          0.29022433493130806,
          0.13941011249953447,
          -0.2557152779064104,
          -0.7964512095902642,
          0.9961864143816616,
          -0.2691610164434471,
          -0.5858401029934867,
          0.11472154570458645,
          -0.4385200016664815,
          1.5008416922368417,
          -1.4689795375674919,
          -1.3756996146289049,
          -1.4038172925442085,
          0.03665900419045025,
          1.3403311533249536,
          0.06474975963959607,
          -0.2672933031787719,
          0.5128393508997586,
          -0.393643566601903,
          0.22607092990429803
         ],
         "y": [
          0.5065620379191607,
          -0.2602965765539084,
          0.8947735922539433,
          -0.20706460026943954,
          1.165771221022478,
          0.0032613999056064972,
          0.15139506602725938,
          0.6216258350353989,
          -0.021273642226957677,
          -1.1658427051339177,
          0.4485693463235875,
          1.198274486639321,
          -0.25883153636865897,
          1.5829050442292472,
          -0.2682700312910577,
          -0.9352385575141785,
          0.38738771844743153,
          0.6574085019682239,
          -0.3572746873306874,
          2.714060854793366,
          -0.27291585141713237,
          -1.2906302068302504,
          -1.222761949561528,
          0.013025776556479629,
          0.9555304598689044,
          -0.6561146067300845,
          0.7298158130029747,
          -0.0432119828545582,
          -1.5216252605551706,
          -0.41404987215419986,
          -0.4810554232967754,
          -0.3078050607294259,
          -0.9495597220821862,
          0.20112949349038098,
          0.47257768807001005,
          0.29574464382459376,
          -0.6667256588550254,
          -0.7800462317273794,
          -2.4382958618125476,
          1.3828570141272503,
          -0.21013575867841097,
          -0.3029006268498382,
          1.2927029777297245,
          0.2830982533145663,
          0.3963400146525552,
          -0.3848004619501144,
          -0.09272185828621662,
          0.6770153647503461,
          -0.1959600613591739,
          0.5404291839045626,
          -1.8217224971370247,
          1.3296596322879783,
          0.8917605845336027,
          -0.15443195850639932,
          -0.3156397923478492,
          -1.2712742376782356,
          1.1883595805266332,
          0.6353385091511609,
          1.3454674446590853,
          0.12178515997828125,
          -0.8555683113616778,
          -0.9785772156833887,
          0.057287811538334794,
          0.8105752779966868,
          0.529391625431157,
          0.02176697311291148,
          0.1811098993369195,
          0.5414145403099591,
          1.4132829236858184,
          1.121263069616955,
          -0.6065062884038721,
          -0.4234421639133906,
          0.7333946895918884,
          -0.7988318165943966,
          -0.15333737291964203,
          0.6713340498814011,
          2.5654821666609644,
          -0.6368941736308625,
          0.2447377902458404,
          -0.2695855843246836,
          0.1999260409044481,
          2.7906488565862717,
          -0.5480652035741574,
          1.4897751979445475,
          0.9394818515356372,
          -0.6843231983909116,
          -0.8926565888689287,
          -1.0233349824867406,
          -0.19876779176298331,
          0.331603640930695,
          -0.4698479174404729,
          -0.23190086495094775,
          0.0019005050666524434,
          -0.47242195242887397,
          0.6676122184294951,
          0.22315978389252422,
          0.08768989910542416,
          0.4226123590160756,
          -1.8801039927214822,
          0.36933946508991744
         ]
        }
       ],
       "layout": {
        "legend": {
         "bgcolor": "#F5F6F9",
         "font": {
          "color": "#4D5663"
         }
        },
        "paper_bgcolor": "#F5F6F9",
        "plot_bgcolor": "#F5F6F9",
        "template": {
         "data": {
          "bar": [
           {
            "error_x": {
             "color": "#2a3f5f"
            },
            "error_y": {
             "color": "#2a3f5f"
            },
            "marker": {
             "line": {
              "color": "#E5ECF6",
              "width": 0.5
             },
             "pattern": {
              "fillmode": "overlay",
              "size": 10,
              "solidity": 0.2
             }
            },
            "type": "bar"
           }
          ],
          "barpolar": [
           {
            "marker": {
             "line": {
              "color": "#E5ECF6",
              "width": 0.5
             },
             "pattern": {
              "fillmode": "overlay",
              "size": 10,
              "solidity": 0.2
             }
            },
            "type": "barpolar"
           }
          ],
          "carpet": [
           {
            "aaxis": {
             "endlinecolor": "#2a3f5f",
             "gridcolor": "white",
             "linecolor": "white",
             "minorgridcolor": "white",
             "startlinecolor": "#2a3f5f"
            },
            "baxis": {
             "endlinecolor": "#2a3f5f",
             "gridcolor": "white",
             "linecolor": "white",
             "minorgridcolor": "white",
             "startlinecolor": "#2a3f5f"
            },
            "type": "carpet"
           }
          ],
          "choropleth": [
           {
            "colorbar": {
             "outlinewidth": 0,
             "ticks": ""
            },
            "type": "choropleth"
           }
          ],
          "contour": [
           {
            "colorbar": {
             "outlinewidth": 0,
             "ticks": ""
            },
            "colorscale": [
             [
              0,
              "#0d0887"
             ],
             [
              0.1111111111111111,
              "#46039f"
             ],
             [
              0.2222222222222222,
              "#7201a8"
             ],
             [
              0.3333333333333333,
              "#9c179e"
             ],
             [
              0.4444444444444444,
              "#bd3786"
             ],
             [
              0.5555555555555556,
              "#d8576b"
             ],
             [
              0.6666666666666666,
              "#ed7953"
             ],
             [
              0.7777777777777778,
              "#fb9f3a"
             ],
             [
              0.8888888888888888,
              "#fdca26"
             ],
             [
              1,
              "#f0f921"
             ]
            ],
            "type": "contour"
           }
          ],
          "contourcarpet": [
           {
            "colorbar": {
             "outlinewidth": 0,
             "ticks": ""
            },
            "type": "contourcarpet"
           }
          ],
          "heatmap": [
           {
            "colorbar": {
             "outlinewidth": 0,
             "ticks": ""
            },
            "colorscale": [
             [
              0,
              "#0d0887"
             ],
             [
              0.1111111111111111,
              "#46039f"
             ],
             [
              0.2222222222222222,
              "#7201a8"
             ],
             [
              0.3333333333333333,
              "#9c179e"
             ],
             [
              0.4444444444444444,
              "#bd3786"
             ],
             [
              0.5555555555555556,
              "#d8576b"
             ],
             [
              0.6666666666666666,
              "#ed7953"
             ],
             [
              0.7777777777777778,
              "#fb9f3a"
             ],
             [
              0.8888888888888888,
              "#fdca26"
             ],
             [
              1,
              "#f0f921"
             ]
            ],
            "type": "heatmap"
           }
          ],
          "heatmapgl": [
           {
            "colorbar": {
             "outlinewidth": 0,
             "ticks": ""
            },
            "colorscale": [
             [
              0,
              "#0d0887"
             ],
             [
              0.1111111111111111,
              "#46039f"
             ],
             [
              0.2222222222222222,
              "#7201a8"
             ],
             [
              0.3333333333333333,
              "#9c179e"
             ],
             [
              0.4444444444444444,
              "#bd3786"
             ],
             [
              0.5555555555555556,
              "#d8576b"
             ],
             [
              0.6666666666666666,
              "#ed7953"
             ],
             [
              0.7777777777777778,
              "#fb9f3a"
             ],
             [
              0.8888888888888888,
              "#fdca26"
             ],
             [
              1,
              "#f0f921"
             ]
            ],
            "type": "heatmapgl"
           }
          ],
          "histogram": [
           {
            "marker": {
             "pattern": {
              "fillmode": "overlay",
              "size": 10,
              "solidity": 0.2
             }
            },
            "type": "histogram"
           }
          ],
          "histogram2d": [
           {
            "colorbar": {
             "outlinewidth": 0,
             "ticks": ""
            },
            "colorscale": [
             [
              0,
              "#0d0887"
             ],
             [
              0.1111111111111111,
              "#46039f"
             ],
             [
              0.2222222222222222,
              "#7201a8"
             ],
             [
              0.3333333333333333,
              "#9c179e"
             ],
             [
              0.4444444444444444,
              "#bd3786"
             ],
             [
              0.5555555555555556,
              "#d8576b"
             ],
             [
              0.6666666666666666,
              "#ed7953"
             ],
             [
              0.7777777777777778,
              "#fb9f3a"
             ],
             [
              0.8888888888888888,
              "#fdca26"
             ],
             [
              1,
              "#f0f921"
             ]
            ],
            "type": "histogram2d"
           }
          ],
          "histogram2dcontour": [
           {
            "colorbar": {
             "outlinewidth": 0,
             "ticks": ""
            },
            "colorscale": [
             [
              0,
              "#0d0887"
             ],
             [
              0.1111111111111111,
              "#46039f"
             ],
             [
              0.2222222222222222,
              "#7201a8"
             ],
             [
              0.3333333333333333,
              "#9c179e"
             ],
             [
              0.4444444444444444,
              "#bd3786"
             ],
             [
              0.5555555555555556,
              "#d8576b"
             ],
             [
              0.6666666666666666,
              "#ed7953"
             ],
             [
              0.7777777777777778,
              "#fb9f3a"
             ],
             [
              0.8888888888888888,
              "#fdca26"
             ],
             [
              1,
              "#f0f921"
             ]
            ],
            "type": "histogram2dcontour"
           }
          ],
          "mesh3d": [
           {
            "colorbar": {
             "outlinewidth": 0,
             "ticks": ""
            },
            "type": "mesh3d"
           }
          ],
          "parcoords": [
           {
            "line": {
             "colorbar": {
              "outlinewidth": 0,
              "ticks": ""
             }
            },
            "type": "parcoords"
           }
          ],
          "pie": [
           {
            "automargin": true,
            "type": "pie"
           }
          ],
          "scatter": [
           {
            "fillpattern": {
             "fillmode": "overlay",
             "size": 10,
             "solidity": 0.2
            },
            "type": "scatter"
           }
          ],
          "scatter3d": [
           {
            "line": {
             "colorbar": {
              "outlinewidth": 0,
              "ticks": ""
             }
            },
            "marker": {
             "colorbar": {
              "outlinewidth": 0,
              "ticks": ""
             }
            },
            "type": "scatter3d"
           }
          ],
          "scattercarpet": [
           {
            "marker": {
             "colorbar": {
              "outlinewidth": 0,
              "ticks": ""
             }
            },
            "type": "scattercarpet"
           }
          ],
          "scattergeo": [
           {
            "marker": {
             "colorbar": {
              "outlinewidth": 0,
              "ticks": ""
             }
            },
            "type": "scattergeo"
           }
          ],
          "scattergl": [
           {
            "marker": {
             "colorbar": {
              "outlinewidth": 0,
              "ticks": ""
             }
            },
            "type": "scattergl"
           }
          ],
          "scattermapbox": [
           {
            "marker": {
             "colorbar": {
              "outlinewidth": 0,
              "ticks": ""
             }
            },
            "type": "scattermapbox"
           }
          ],
          "scatterpolar": [
           {
            "marker": {
             "colorbar": {
              "outlinewidth": 0,
              "ticks": ""
             }
            },
            "type": "scatterpolar"
           }
          ],
          "scatterpolargl": [
           {
            "marker": {
             "colorbar": {
              "outlinewidth": 0,
              "ticks": ""
             }
            },
            "type": "scatterpolargl"
           }
          ],
          "scatterternary": [
           {
            "marker": {
             "colorbar": {
              "outlinewidth": 0,
              "ticks": ""
             }
            },
            "type": "scatterternary"
           }
          ],
          "surface": [
           {
            "colorbar": {
             "outlinewidth": 0,
             "ticks": ""
            },
            "colorscale": [
             [
              0,
              "#0d0887"
             ],
             [
              0.1111111111111111,
              "#46039f"
             ],
             [
              0.2222222222222222,
              "#7201a8"
             ],
             [
              0.3333333333333333,
              "#9c179e"
             ],
             [
              0.4444444444444444,
              "#bd3786"
             ],
             [
              0.5555555555555556,
              "#d8576b"
             ],
             [
              0.6666666666666666,
              "#ed7953"
             ],
             [
              0.7777777777777778,
              "#fb9f3a"
             ],
             [
              0.8888888888888888,
              "#fdca26"
             ],
             [
              1,
              "#f0f921"
             ]
            ],
            "type": "surface"
           }
          ],
          "table": [
           {
            "cells": {
             "fill": {
              "color": "#EBF0F8"
             },
             "line": {
              "color": "white"
             }
            },
            "header": {
             "fill": {
              "color": "#C8D4E3"
             },
             "line": {
              "color": "white"
             }
            },
            "type": "table"
           }
          ]
         },
         "layout": {
          "annotationdefaults": {
           "arrowcolor": "#2a3f5f",
           "arrowhead": 0,
           "arrowwidth": 1
          },
          "autotypenumbers": "strict",
          "coloraxis": {
           "colorbar": {
            "outlinewidth": 0,
            "ticks": ""
           }
          },
          "colorscale": {
           "diverging": [
            [
             0,
             "#8e0152"
            ],
            [
             0.1,
             "#c51b7d"
            ],
            [
             0.2,
             "#de77ae"
            ],
            [
             0.3,
             "#f1b6da"
            ],
            [
             0.4,
             "#fde0ef"
            ],
            [
             0.5,
             "#f7f7f7"
            ],
            [
             0.6,
             "#e6f5d0"
            ],
            [
             0.7,
             "#b8e186"
            ],
            [
             0.8,
             "#7fbc41"
            ],
            [
             0.9,
             "#4d9221"
            ],
            [
             1,
             "#276419"
            ]
           ],
           "sequential": [
            [
             0,
             "#0d0887"
            ],
            [
             0.1111111111111111,
             "#46039f"
            ],
            [
             0.2222222222222222,
             "#7201a8"
            ],
            [
             0.3333333333333333,
             "#9c179e"
            ],
            [
             0.4444444444444444,
             "#bd3786"
            ],
            [
             0.5555555555555556,
             "#d8576b"
            ],
            [
             0.6666666666666666,
             "#ed7953"
            ],
            [
             0.7777777777777778,
             "#fb9f3a"
            ],
            [
             0.8888888888888888,
             "#fdca26"
            ],
            [
             1,
             "#f0f921"
            ]
           ],
           "sequentialminus": [
            [
             0,
             "#0d0887"
            ],
            [
             0.1111111111111111,
             "#46039f"
            ],
            [
             0.2222222222222222,
             "#7201a8"
            ],
            [
             0.3333333333333333,
             "#9c179e"
            ],
            [
             0.4444444444444444,
             "#bd3786"
            ],
            [
             0.5555555555555556,
             "#d8576b"
            ],
            [
             0.6666666666666666,
             "#ed7953"
            ],
            [
             0.7777777777777778,
             "#fb9f3a"
            ],
            [
             0.8888888888888888,
             "#fdca26"
            ],
            [
             1,
             "#f0f921"
            ]
           ]
          },
          "colorway": [
           "#636efa",
           "#EF553B",
           "#00cc96",
           "#ab63fa",
           "#FFA15A",
           "#19d3f3",
           "#FF6692",
           "#B6E880",
           "#FF97FF",
           "#FECB52"
          ],
          "font": {
           "color": "#2a3f5f"
          },
          "geo": {
           "bgcolor": "white",
           "lakecolor": "white",
           "landcolor": "#E5ECF6",
           "showlakes": true,
           "showland": true,
           "subunitcolor": "white"
          },
          "hoverlabel": {
           "align": "left"
          },
          "hovermode": "closest",
          "mapbox": {
           "style": "light"
          },
          "paper_bgcolor": "white",
          "plot_bgcolor": "#E5ECF6",
          "polar": {
           "angularaxis": {
            "gridcolor": "white",
            "linecolor": "white",
            "ticks": ""
           },
           "bgcolor": "#E5ECF6",
           "radialaxis": {
            "gridcolor": "white",
            "linecolor": "white",
            "ticks": ""
           }
          },
          "scene": {
           "xaxis": {
            "backgroundcolor": "#E5ECF6",
            "gridcolor": "white",
            "gridwidth": 2,
            "linecolor": "white",
            "showbackground": true,
            "ticks": "",
            "zerolinecolor": "white"
           },
           "yaxis": {
            "backgroundcolor": "#E5ECF6",
            "gridcolor": "white",
            "gridwidth": 2,
            "linecolor": "white",
            "showbackground": true,
            "ticks": "",
            "zerolinecolor": "white"
           },
           "zaxis": {
            "backgroundcolor": "#E5ECF6",
            "gridcolor": "white",
            "gridwidth": 2,
            "linecolor": "white",
            "showbackground": true,
            "ticks": "",
            "zerolinecolor": "white"
           }
          },
          "shapedefaults": {
           "line": {
            "color": "#2a3f5f"
           }
          },
          "ternary": {
           "aaxis": {
            "gridcolor": "white",
            "linecolor": "white",
            "ticks": ""
           },
           "baxis": {
            "gridcolor": "white",
            "linecolor": "white",
            "ticks": ""
           },
           "bgcolor": "#E5ECF6",
           "caxis": {
            "gridcolor": "white",
            "linecolor": "white",
            "ticks": ""
           }
          },
          "title": {
           "x": 0.05
          },
          "xaxis": {
           "automargin": true,
           "gridcolor": "white",
           "linecolor": "white",
           "ticks": "",
           "title": {
            "standoff": 15
           },
           "zerolinecolor": "white",
           "zerolinewidth": 2
          },
          "yaxis": {
           "automargin": true,
           "gridcolor": "white",
           "linecolor": "white",
           "ticks": "",
           "title": {
            "standoff": 15
           },
           "zerolinecolor": "white",
           "zerolinewidth": 2
          }
         }
        },
        "title": {
         "font": {
          "color": "#4D5663"
         }
        },
        "xaxis": {
         "gridcolor": "#E1E5ED",
         "showgrid": true,
         "tickfont": {
          "color": "#4D5663"
         },
         "title": {
          "font": {
           "color": "#4D5663"
          },
          "text": ""
         },
         "zerolinecolor": "#E1E5ED"
        },
        "yaxis": {
         "gridcolor": "#E1E5ED",
         "showgrid": true,
         "tickfont": {
          "color": "#4D5663"
         },
         "title": {
          "font": {
           "color": "#4D5663"
          },
          "text": ""
         },
         "zerolinecolor": "#E1E5ED"
        }
       }
      },
      "text/html": [
       "<div>                            <div id=\"2bcb0114-c306-4165-ac18-1663c59031ee\" class=\"plotly-graph-div\" style=\"height:525px; width:100%;\"></div>            <script type=\"text/javascript\">                require([\"plotly\"], function(Plotly) {                    window.PLOTLYENV=window.PLOTLYENV || {};\n",
       "                    window.PLOTLYENV.BASE_URL='https://plot.ly';                                    if (document.getElementById(\"2bcb0114-c306-4165-ac18-1663c59031ee\")) {                    Plotly.newPlot(                        \"2bcb0114-c306-4165-ac18-1663c59031ee\",                        [{\"line\":{\"color\":\"rgba(255, 153, 51, 1.0)\",\"dash\":\"solid\",\"shape\":\"linear\",\"width\":1.3},\"marker\":{\"size\":10,\"symbol\":\"circle\"},\"mode\":\"markers\",\"name\":\"B\",\"text\":\"\",\"x\":[-0.8717698350824767,0.11158432563991447,-2.7407395816036657,-1.0831976641681382,1.1051072558998412,-0.17169344572694262,0.43545635385970705,-0.09179294744208095,1.2264053142154256,1.551070466120222,-0.07121816924493687,-0.24600156908269727,0.15679944703330018,0.36559433298643446,2.660901371310062,1.855261613043312,-1.187059893505927,-0.3052965411783563,0.34235339848159724,-1.0084991752646242,-0.44254546436287656,0.6015254636451396,-0.2893097954432154,-0.7546569708093946,-0.649126922087612,-2.1670947304978943,-0.3521562590934882,-0.9825167171173528,0.4823638869124494,1.3991689937677,-1.0813487141186187,0.6812913811262418,-1.7997352733997822,0.40689483051570857,0.7305405406125538,0.17729696480255686,-0.4913828603510736,2.1551214812117236,-0.3357732892600588,0.6710258318221457,0.4922473932911538,-0.10608069827993899,-1.0721648569540283,1.5728260539297312,0.20627952814649006,0.4331828673111826,0.5413904546492052,0.596582038146462,-1.8059550967021047,1.0945562036012295,-0.6169826965091776,-1.7902865377237571,0.5756306505590018,0.22217194529919052,-0.37471866566691503,0.7533629372808431,1.2629346709986544,-0.29821714013709033,-0.40133028481671007,-0.14040244863090015,-0.7990425935512757,-0.25061752621963,0.09440658081002298,0.4639600910791964,-0.7548655530468488,0.2734573473584046,0.49953115601213216,0.2621673503662859,0.30879618891841415,-0.742579207698379,-2.140700808751398,1.085103424801508,2.5556712856305173,-0.3637449248748844,-1.7745895218285208,1.2839097135591673,1.4597017361633555,0.14355489019463594,1.1128650539993221,-1.399046146468581,0.29022433493130806,0.13941011249953447,-0.2557152779064104,-0.7964512095902642,0.9961864143816616,-0.2691610164434471,-0.5858401029934867,0.11472154570458645,-0.4385200016664815,1.5008416922368417,-1.4689795375674919,-1.3756996146289049,-1.4038172925442085,0.03665900419045025,1.3403311533249536,0.06474975963959607,-0.2672933031787719,0.5128393508997586,-0.393643566601903,0.22607092990429803],\"y\":[0.5065620379191607,-0.2602965765539084,0.8947735922539433,-0.20706460026943954,1.165771221022478,0.0032613999056064972,0.15139506602725938,0.6216258350353989,-0.021273642226957677,-1.1658427051339177,0.4485693463235875,1.198274486639321,-0.25883153636865897,1.5829050442292472,-0.2682700312910577,-0.9352385575141785,0.38738771844743153,0.6574085019682239,-0.3572746873306874,2.714060854793366,-0.27291585141713237,-1.2906302068302504,-1.222761949561528,0.013025776556479629,0.9555304598689044,-0.6561146067300845,0.7298158130029747,-0.0432119828545582,-1.5216252605551706,-0.41404987215419986,-0.4810554232967754,-0.3078050607294259,-0.9495597220821862,0.20112949349038098,0.47257768807001005,0.29574464382459376,-0.6667256588550254,-0.7800462317273794,-2.4382958618125476,1.3828570141272503,-0.21013575867841097,-0.3029006268498382,1.2927029777297245,0.2830982533145663,0.3963400146525552,-0.3848004619501144,-0.09272185828621662,0.6770153647503461,-0.1959600613591739,0.5404291839045626,-1.8217224971370247,1.3296596322879783,0.8917605845336027,-0.15443195850639932,-0.3156397923478492,-1.2712742376782356,1.1883595805266332,0.6353385091511609,1.3454674446590853,0.12178515997828125,-0.8555683113616778,-0.9785772156833887,0.057287811538334794,0.8105752779966868,0.529391625431157,0.02176697311291148,0.1811098993369195,0.5414145403099591,1.4132829236858184,1.121263069616955,-0.6065062884038721,-0.4234421639133906,0.7333946895918884,-0.7988318165943966,-0.15333737291964203,0.6713340498814011,2.5654821666609644,-0.6368941736308625,0.2447377902458404,-0.2695855843246836,0.1999260409044481,2.7906488565862717,-0.5480652035741574,1.4897751979445475,0.9394818515356372,-0.6843231983909116,-0.8926565888689287,-1.0233349824867406,-0.19876779176298331,0.331603640930695,-0.4698479174404729,-0.23190086495094775,0.0019005050666524434,-0.47242195242887397,0.6676122184294951,0.22315978389252422,0.08768989910542416,0.4226123590160756,-1.8801039927214822,0.36933946508991744],\"type\":\"scatter\"}],                        {\"legend\":{\"bgcolor\":\"#F5F6F9\",\"font\":{\"color\":\"#4D5663\"}},\"paper_bgcolor\":\"#F5F6F9\",\"plot_bgcolor\":\"#F5F6F9\",\"template\":{\"data\":{\"barpolar\":[{\"marker\":{\"line\":{\"color\":\"#E5ECF6\",\"width\":0.5},\"pattern\":{\"fillmode\":\"overlay\",\"size\":10,\"solidity\":0.2}},\"type\":\"barpolar\"}],\"bar\":[{\"error_x\":{\"color\":\"#2a3f5f\"},\"error_y\":{\"color\":\"#2a3f5f\"},\"marker\":{\"line\":{\"color\":\"#E5ECF6\",\"width\":0.5},\"pattern\":{\"fillmode\":\"overlay\",\"size\":10,\"solidity\":0.2}},\"type\":\"bar\"}],\"carpet\":[{\"aaxis\":{\"endlinecolor\":\"#2a3f5f\",\"gridcolor\":\"white\",\"linecolor\":\"white\",\"minorgridcolor\":\"white\",\"startlinecolor\":\"#2a3f5f\"},\"baxis\":{\"endlinecolor\":\"#2a3f5f\",\"gridcolor\":\"white\",\"linecolor\":\"white\",\"minorgridcolor\":\"white\",\"startlinecolor\":\"#2a3f5f\"},\"type\":\"carpet\"}],\"choropleth\":[{\"colorbar\":{\"outlinewidth\":0,\"ticks\":\"\"},\"type\":\"choropleth\"}],\"contourcarpet\":[{\"colorbar\":{\"outlinewidth\":0,\"ticks\":\"\"},\"type\":\"contourcarpet\"}],\"contour\":[{\"colorbar\":{\"outlinewidth\":0,\"ticks\":\"\"},\"colorscale\":[[0.0,\"#0d0887\"],[0.1111111111111111,\"#46039f\"],[0.2222222222222222,\"#7201a8\"],[0.3333333333333333,\"#9c179e\"],[0.4444444444444444,\"#bd3786\"],[0.5555555555555556,\"#d8576b\"],[0.6666666666666666,\"#ed7953\"],[0.7777777777777778,\"#fb9f3a\"],[0.8888888888888888,\"#fdca26\"],[1.0,\"#f0f921\"]],\"type\":\"contour\"}],\"heatmapgl\":[{\"colorbar\":{\"outlinewidth\":0,\"ticks\":\"\"},\"colorscale\":[[0.0,\"#0d0887\"],[0.1111111111111111,\"#46039f\"],[0.2222222222222222,\"#7201a8\"],[0.3333333333333333,\"#9c179e\"],[0.4444444444444444,\"#bd3786\"],[0.5555555555555556,\"#d8576b\"],[0.6666666666666666,\"#ed7953\"],[0.7777777777777778,\"#fb9f3a\"],[0.8888888888888888,\"#fdca26\"],[1.0,\"#f0f921\"]],\"type\":\"heatmapgl\"}],\"heatmap\":[{\"colorbar\":{\"outlinewidth\":0,\"ticks\":\"\"},\"colorscale\":[[0.0,\"#0d0887\"],[0.1111111111111111,\"#46039f\"],[0.2222222222222222,\"#7201a8\"],[0.3333333333333333,\"#9c179e\"],[0.4444444444444444,\"#bd3786\"],[0.5555555555555556,\"#d8576b\"],[0.6666666666666666,\"#ed7953\"],[0.7777777777777778,\"#fb9f3a\"],[0.8888888888888888,\"#fdca26\"],[1.0,\"#f0f921\"]],\"type\":\"heatmap\"}],\"histogram2dcontour\":[{\"colorbar\":{\"outlinewidth\":0,\"ticks\":\"\"},\"colorscale\":[[0.0,\"#0d0887\"],[0.1111111111111111,\"#46039f\"],[0.2222222222222222,\"#7201a8\"],[0.3333333333333333,\"#9c179e\"],[0.4444444444444444,\"#bd3786\"],[0.5555555555555556,\"#d8576b\"],[0.6666666666666666,\"#ed7953\"],[0.7777777777777778,\"#fb9f3a\"],[0.8888888888888888,\"#fdca26\"],[1.0,\"#f0f921\"]],\"type\":\"histogram2dcontour\"}],\"histogram2d\":[{\"colorbar\":{\"outlinewidth\":0,\"ticks\":\"\"},\"colorscale\":[[0.0,\"#0d0887\"],[0.1111111111111111,\"#46039f\"],[0.2222222222222222,\"#7201a8\"],[0.3333333333333333,\"#9c179e\"],[0.4444444444444444,\"#bd3786\"],[0.5555555555555556,\"#d8576b\"],[0.6666666666666666,\"#ed7953\"],[0.7777777777777778,\"#fb9f3a\"],[0.8888888888888888,\"#fdca26\"],[1.0,\"#f0f921\"]],\"type\":\"histogram2d\"}],\"histogram\":[{\"marker\":{\"pattern\":{\"fillmode\":\"overlay\",\"size\":10,\"solidity\":0.2}},\"type\":\"histogram\"}],\"mesh3d\":[{\"colorbar\":{\"outlinewidth\":0,\"ticks\":\"\"},\"type\":\"mesh3d\"}],\"parcoords\":[{\"line\":{\"colorbar\":{\"outlinewidth\":0,\"ticks\":\"\"}},\"type\":\"parcoords\"}],\"pie\":[{\"automargin\":true,\"type\":\"pie\"}],\"scatter3d\":[{\"line\":{\"colorbar\":{\"outlinewidth\":0,\"ticks\":\"\"}},\"marker\":{\"colorbar\":{\"outlinewidth\":0,\"ticks\":\"\"}},\"type\":\"scatter3d\"}],\"scattercarpet\":[{\"marker\":{\"colorbar\":{\"outlinewidth\":0,\"ticks\":\"\"}},\"type\":\"scattercarpet\"}],\"scattergeo\":[{\"marker\":{\"colorbar\":{\"outlinewidth\":0,\"ticks\":\"\"}},\"type\":\"scattergeo\"}],\"scattergl\":[{\"marker\":{\"colorbar\":{\"outlinewidth\":0,\"ticks\":\"\"}},\"type\":\"scattergl\"}],\"scattermapbox\":[{\"marker\":{\"colorbar\":{\"outlinewidth\":0,\"ticks\":\"\"}},\"type\":\"scattermapbox\"}],\"scatterpolargl\":[{\"marker\":{\"colorbar\":{\"outlinewidth\":0,\"ticks\":\"\"}},\"type\":\"scatterpolargl\"}],\"scatterpolar\":[{\"marker\":{\"colorbar\":{\"outlinewidth\":0,\"ticks\":\"\"}},\"type\":\"scatterpolar\"}],\"scatter\":[{\"fillpattern\":{\"fillmode\":\"overlay\",\"size\":10,\"solidity\":0.2},\"type\":\"scatter\"}],\"scatterternary\":[{\"marker\":{\"colorbar\":{\"outlinewidth\":0,\"ticks\":\"\"}},\"type\":\"scatterternary\"}],\"surface\":[{\"colorbar\":{\"outlinewidth\":0,\"ticks\":\"\"},\"colorscale\":[[0.0,\"#0d0887\"],[0.1111111111111111,\"#46039f\"],[0.2222222222222222,\"#7201a8\"],[0.3333333333333333,\"#9c179e\"],[0.4444444444444444,\"#bd3786\"],[0.5555555555555556,\"#d8576b\"],[0.6666666666666666,\"#ed7953\"],[0.7777777777777778,\"#fb9f3a\"],[0.8888888888888888,\"#fdca26\"],[1.0,\"#f0f921\"]],\"type\":\"surface\"}],\"table\":[{\"cells\":{\"fill\":{\"color\":\"#EBF0F8\"},\"line\":{\"color\":\"white\"}},\"header\":{\"fill\":{\"color\":\"#C8D4E3\"},\"line\":{\"color\":\"white\"}},\"type\":\"table\"}]},\"layout\":{\"annotationdefaults\":{\"arrowcolor\":\"#2a3f5f\",\"arrowhead\":0,\"arrowwidth\":1},\"autotypenumbers\":\"strict\",\"coloraxis\":{\"colorbar\":{\"outlinewidth\":0,\"ticks\":\"\"}},\"colorscale\":{\"diverging\":[[0,\"#8e0152\"],[0.1,\"#c51b7d\"],[0.2,\"#de77ae\"],[0.3,\"#f1b6da\"],[0.4,\"#fde0ef\"],[0.5,\"#f7f7f7\"],[0.6,\"#e6f5d0\"],[0.7,\"#b8e186\"],[0.8,\"#7fbc41\"],[0.9,\"#4d9221\"],[1,\"#276419\"]],\"sequential\":[[0.0,\"#0d0887\"],[0.1111111111111111,\"#46039f\"],[0.2222222222222222,\"#7201a8\"],[0.3333333333333333,\"#9c179e\"],[0.4444444444444444,\"#bd3786\"],[0.5555555555555556,\"#d8576b\"],[0.6666666666666666,\"#ed7953\"],[0.7777777777777778,\"#fb9f3a\"],[0.8888888888888888,\"#fdca26\"],[1.0,\"#f0f921\"]],\"sequentialminus\":[[0.0,\"#0d0887\"],[0.1111111111111111,\"#46039f\"],[0.2222222222222222,\"#7201a8\"],[0.3333333333333333,\"#9c179e\"],[0.4444444444444444,\"#bd3786\"],[0.5555555555555556,\"#d8576b\"],[0.6666666666666666,\"#ed7953\"],[0.7777777777777778,\"#fb9f3a\"],[0.8888888888888888,\"#fdca26\"],[1.0,\"#f0f921\"]]},\"colorway\":[\"#636efa\",\"#EF553B\",\"#00cc96\",\"#ab63fa\",\"#FFA15A\",\"#19d3f3\",\"#FF6692\",\"#B6E880\",\"#FF97FF\",\"#FECB52\"],\"font\":{\"color\":\"#2a3f5f\"},\"geo\":{\"bgcolor\":\"white\",\"lakecolor\":\"white\",\"landcolor\":\"#E5ECF6\",\"showlakes\":true,\"showland\":true,\"subunitcolor\":\"white\"},\"hoverlabel\":{\"align\":\"left\"},\"hovermode\":\"closest\",\"mapbox\":{\"style\":\"light\"},\"paper_bgcolor\":\"white\",\"plot_bgcolor\":\"#E5ECF6\",\"polar\":{\"angularaxis\":{\"gridcolor\":\"white\",\"linecolor\":\"white\",\"ticks\":\"\"},\"bgcolor\":\"#E5ECF6\",\"radialaxis\":{\"gridcolor\":\"white\",\"linecolor\":\"white\",\"ticks\":\"\"}},\"scene\":{\"xaxis\":{\"backgroundcolor\":\"#E5ECF6\",\"gridcolor\":\"white\",\"gridwidth\":2,\"linecolor\":\"white\",\"showbackground\":true,\"ticks\":\"\",\"zerolinecolor\":\"white\"},\"yaxis\":{\"backgroundcolor\":\"#E5ECF6\",\"gridcolor\":\"white\",\"gridwidth\":2,\"linecolor\":\"white\",\"showbackground\":true,\"ticks\":\"\",\"zerolinecolor\":\"white\"},\"zaxis\":{\"backgroundcolor\":\"#E5ECF6\",\"gridcolor\":\"white\",\"gridwidth\":2,\"linecolor\":\"white\",\"showbackground\":true,\"ticks\":\"\",\"zerolinecolor\":\"white\"}},\"shapedefaults\":{\"line\":{\"color\":\"#2a3f5f\"}},\"ternary\":{\"aaxis\":{\"gridcolor\":\"white\",\"linecolor\":\"white\",\"ticks\":\"\"},\"baxis\":{\"gridcolor\":\"white\",\"linecolor\":\"white\",\"ticks\":\"\"},\"bgcolor\":\"#E5ECF6\",\"caxis\":{\"gridcolor\":\"white\",\"linecolor\":\"white\",\"ticks\":\"\"}},\"title\":{\"x\":0.05},\"xaxis\":{\"automargin\":true,\"gridcolor\":\"white\",\"linecolor\":\"white\",\"ticks\":\"\",\"title\":{\"standoff\":15},\"zerolinecolor\":\"white\",\"zerolinewidth\":2},\"yaxis\":{\"automargin\":true,\"gridcolor\":\"white\",\"linecolor\":\"white\",\"ticks\":\"\",\"title\":{\"standoff\":15},\"zerolinecolor\":\"white\",\"zerolinewidth\":2}}},\"title\":{\"font\":{\"color\":\"#4D5663\"}},\"xaxis\":{\"gridcolor\":\"#E1E5ED\",\"showgrid\":true,\"tickfont\":{\"color\":\"#4D5663\"},\"title\":{\"font\":{\"color\":\"#4D5663\"},\"text\":\"\"},\"zerolinecolor\":\"#E1E5ED\"},\"yaxis\":{\"gridcolor\":\"#E1E5ED\",\"showgrid\":true,\"tickfont\":{\"color\":\"#4D5663\"},\"title\":{\"font\":{\"color\":\"#4D5663\"},\"text\":\"\"},\"zerolinecolor\":\"#E1E5ED\"}},                        {\"showLink\": true, \"linkText\": \"Export to plot.ly\", \"plotlyServerURL\": \"https://plot.ly\", \"responsive\": true}                    ).then(function(){\n",
       "                            \n",
       "var gd = document.getElementById('2bcb0114-c306-4165-ac18-1663c59031ee');\n",
       "var x = new MutationObserver(function (mutations, observer) {{\n",
       "        var display = window.getComputedStyle(gd).display;\n",
       "        if (!display || display === 'none') {{\n",
       "            console.log([gd, 'removed!']);\n",
       "            Plotly.purge(gd);\n",
       "            observer.disconnect();\n",
       "        }}\n",
       "}});\n",
       "\n",
       "// Listen for the removal of the full notebook cells\n",
       "var notebookContainer = gd.closest('#notebook-container');\n",
       "if (notebookContainer) {{\n",
       "    x.observe(notebookContainer, {childList: true});\n",
       "}}\n",
       "\n",
       "// Listen for the clearing of the current output cell\n",
       "var outputEl = gd.closest('.output');\n",
       "if (outputEl) {{\n",
       "    x.observe(outputEl, {childList: true});\n",
       "}}\n",
       "\n",
       "                        })                };                });            </script>        </div>"
      ]
     },
     "metadata": {},
     "output_type": "display_data"
    }
   ],
   "source": [
    "df.iplot(kind='scatter',x='A',y='B',mode='markers',size=10)"
   ]
  },
  {
   "cell_type": "markdown",
   "metadata": {},
   "source": [
    "## Bar Plots"
   ]
  },
  {
   "cell_type": "code",
   "execution_count": 13,
   "metadata": {},
   "outputs": [
    {
     "data": {
      "application/vnd.plotly.v1+json": {
       "config": {
        "linkText": "Export to plot.ly",
        "plotlyServerURL": "https://plot.ly",
        "showLink": true
       },
       "data": [
        {
         "marker": {
          "color": "rgba(255, 153, 51, 0.6)",
          "line": {
           "color": "rgba(255, 153, 51, 1.0)",
           "width": 1
          }
         },
         "name": "Values",
         "orientation": "v",
         "text": "",
         "type": "bar",
         "x": [
          "A",
          "B",
          "C"
         ],
         "y": [
          32,
          43,
          50
         ]
        }
       ],
       "layout": {
        "legend": {
         "bgcolor": "#F5F6F9",
         "font": {
          "color": "#4D5663"
         }
        },
        "paper_bgcolor": "#F5F6F9",
        "plot_bgcolor": "#F5F6F9",
        "template": {
         "data": {
          "bar": [
           {
            "error_x": {
             "color": "#2a3f5f"
            },
            "error_y": {
             "color": "#2a3f5f"
            },
            "marker": {
             "line": {
              "color": "#E5ECF6",
              "width": 0.5
             },
             "pattern": {
              "fillmode": "overlay",
              "size": 10,
              "solidity": 0.2
             }
            },
            "type": "bar"
           }
          ],
          "barpolar": [
           {
            "marker": {
             "line": {
              "color": "#E5ECF6",
              "width": 0.5
             },
             "pattern": {
              "fillmode": "overlay",
              "size": 10,
              "solidity": 0.2
             }
            },
            "type": "barpolar"
           }
          ],
          "carpet": [
           {
            "aaxis": {
             "endlinecolor": "#2a3f5f",
             "gridcolor": "white",
             "linecolor": "white",
             "minorgridcolor": "white",
             "startlinecolor": "#2a3f5f"
            },
            "baxis": {
             "endlinecolor": "#2a3f5f",
             "gridcolor": "white",
             "linecolor": "white",
             "minorgridcolor": "white",
             "startlinecolor": "#2a3f5f"
            },
            "type": "carpet"
           }
          ],
          "choropleth": [
           {
            "colorbar": {
             "outlinewidth": 0,
             "ticks": ""
            },
            "type": "choropleth"
           }
          ],
          "contour": [
           {
            "colorbar": {
             "outlinewidth": 0,
             "ticks": ""
            },
            "colorscale": [
             [
              0,
              "#0d0887"
             ],
             [
              0.1111111111111111,
              "#46039f"
             ],
             [
              0.2222222222222222,
              "#7201a8"
             ],
             [
              0.3333333333333333,
              "#9c179e"
             ],
             [
              0.4444444444444444,
              "#bd3786"
             ],
             [
              0.5555555555555556,
              "#d8576b"
             ],
             [
              0.6666666666666666,
              "#ed7953"
             ],
             [
              0.7777777777777778,
              "#fb9f3a"
             ],
             [
              0.8888888888888888,
              "#fdca26"
             ],
             [
              1,
              "#f0f921"
             ]
            ],
            "type": "contour"
           }
          ],
          "contourcarpet": [
           {
            "colorbar": {
             "outlinewidth": 0,
             "ticks": ""
            },
            "type": "contourcarpet"
           }
          ],
          "heatmap": [
           {
            "colorbar": {
             "outlinewidth": 0,
             "ticks": ""
            },
            "colorscale": [
             [
              0,
              "#0d0887"
             ],
             [
              0.1111111111111111,
              "#46039f"
             ],
             [
              0.2222222222222222,
              "#7201a8"
             ],
             [
              0.3333333333333333,
              "#9c179e"
             ],
             [
              0.4444444444444444,
              "#bd3786"
             ],
             [
              0.5555555555555556,
              "#d8576b"
             ],
             [
              0.6666666666666666,
              "#ed7953"
             ],
             [
              0.7777777777777778,
              "#fb9f3a"
             ],
             [
              0.8888888888888888,
              "#fdca26"
             ],
             [
              1,
              "#f0f921"
             ]
            ],
            "type": "heatmap"
           }
          ],
          "heatmapgl": [
           {
            "colorbar": {
             "outlinewidth": 0,
             "ticks": ""
            },
            "colorscale": [
             [
              0,
              "#0d0887"
             ],
             [
              0.1111111111111111,
              "#46039f"
             ],
             [
              0.2222222222222222,
              "#7201a8"
             ],
             [
              0.3333333333333333,
              "#9c179e"
             ],
             [
              0.4444444444444444,
              "#bd3786"
             ],
             [
              0.5555555555555556,
              "#d8576b"
             ],
             [
              0.6666666666666666,
              "#ed7953"
             ],
             [
              0.7777777777777778,
              "#fb9f3a"
             ],
             [
              0.8888888888888888,
              "#fdca26"
             ],
             [
              1,
              "#f0f921"
             ]
            ],
            "type": "heatmapgl"
           }
          ],
          "histogram": [
           {
            "marker": {
             "pattern": {
              "fillmode": "overlay",
              "size": 10,
              "solidity": 0.2
             }
            },
            "type": "histogram"
           }
          ],
          "histogram2d": [
           {
            "colorbar": {
             "outlinewidth": 0,
             "ticks": ""
            },
            "colorscale": [
             [
              0,
              "#0d0887"
             ],
             [
              0.1111111111111111,
              "#46039f"
             ],
             [
              0.2222222222222222,
              "#7201a8"
             ],
             [
              0.3333333333333333,
              "#9c179e"
             ],
             [
              0.4444444444444444,
              "#bd3786"
             ],
             [
              0.5555555555555556,
              "#d8576b"
             ],
             [
              0.6666666666666666,
              "#ed7953"
             ],
             [
              0.7777777777777778,
              "#fb9f3a"
             ],
             [
              0.8888888888888888,
              "#fdca26"
             ],
             [
              1,
              "#f0f921"
             ]
            ],
            "type": "histogram2d"
           }
          ],
          "histogram2dcontour": [
           {
            "colorbar": {
             "outlinewidth": 0,
             "ticks": ""
            },
            "colorscale": [
             [
              0,
              "#0d0887"
             ],
             [
              0.1111111111111111,
              "#46039f"
             ],
             [
              0.2222222222222222,
              "#7201a8"
             ],
             [
              0.3333333333333333,
              "#9c179e"
             ],
             [
              0.4444444444444444,
              "#bd3786"
             ],
             [
              0.5555555555555556,
              "#d8576b"
             ],
             [
              0.6666666666666666,
              "#ed7953"
             ],
             [
              0.7777777777777778,
              "#fb9f3a"
             ],
             [
              0.8888888888888888,
              "#fdca26"
             ],
             [
              1,
              "#f0f921"
             ]
            ],
            "type": "histogram2dcontour"
           }
          ],
          "mesh3d": [
           {
            "colorbar": {
             "outlinewidth": 0,
             "ticks": ""
            },
            "type": "mesh3d"
           }
          ],
          "parcoords": [
           {
            "line": {
             "colorbar": {
              "outlinewidth": 0,
              "ticks": ""
             }
            },
            "type": "parcoords"
           }
          ],
          "pie": [
           {
            "automargin": true,
            "type": "pie"
           }
          ],
          "scatter": [
           {
            "fillpattern": {
             "fillmode": "overlay",
             "size": 10,
             "solidity": 0.2
            },
            "type": "scatter"
           }
          ],
          "scatter3d": [
           {
            "line": {
             "colorbar": {
              "outlinewidth": 0,
              "ticks": ""
             }
            },
            "marker": {
             "colorbar": {
              "outlinewidth": 0,
              "ticks": ""
             }
            },
            "type": "scatter3d"
           }
          ],
          "scattercarpet": [
           {
            "marker": {
             "colorbar": {
              "outlinewidth": 0,
              "ticks": ""
             }
            },
            "type": "scattercarpet"
           }
          ],
          "scattergeo": [
           {
            "marker": {
             "colorbar": {
              "outlinewidth": 0,
              "ticks": ""
             }
            },
            "type": "scattergeo"
           }
          ],
          "scattergl": [
           {
            "marker": {
             "colorbar": {
              "outlinewidth": 0,
              "ticks": ""
             }
            },
            "type": "scattergl"
           }
          ],
          "scattermapbox": [
           {
            "marker": {
             "colorbar": {
              "outlinewidth": 0,
              "ticks": ""
             }
            },
            "type": "scattermapbox"
           }
          ],
          "scatterpolar": [
           {
            "marker": {
             "colorbar": {
              "outlinewidth": 0,
              "ticks": ""
             }
            },
            "type": "scatterpolar"
           }
          ],
          "scatterpolargl": [
           {
            "marker": {
             "colorbar": {
              "outlinewidth": 0,
              "ticks": ""
             }
            },
            "type": "scatterpolargl"
           }
          ],
          "scatterternary": [
           {
            "marker": {
             "colorbar": {
              "outlinewidth": 0,
              "ticks": ""
             }
            },
            "type": "scatterternary"
           }
          ],
          "surface": [
           {
            "colorbar": {
             "outlinewidth": 0,
             "ticks": ""
            },
            "colorscale": [
             [
              0,
              "#0d0887"
             ],
             [
              0.1111111111111111,
              "#46039f"
             ],
             [
              0.2222222222222222,
              "#7201a8"
             ],
             [
              0.3333333333333333,
              "#9c179e"
             ],
             [
              0.4444444444444444,
              "#bd3786"
             ],
             [
              0.5555555555555556,
              "#d8576b"
             ],
             [
              0.6666666666666666,
              "#ed7953"
             ],
             [
              0.7777777777777778,
              "#fb9f3a"
             ],
             [
              0.8888888888888888,
              "#fdca26"
             ],
             [
              1,
              "#f0f921"
             ]
            ],
            "type": "surface"
           }
          ],
          "table": [
           {
            "cells": {
             "fill": {
              "color": "#EBF0F8"
             },
             "line": {
              "color": "white"
             }
            },
            "header": {
             "fill": {
              "color": "#C8D4E3"
             },
             "line": {
              "color": "white"
             }
            },
            "type": "table"
           }
          ]
         },
         "layout": {
          "annotationdefaults": {
           "arrowcolor": "#2a3f5f",
           "arrowhead": 0,
           "arrowwidth": 1
          },
          "autotypenumbers": "strict",
          "coloraxis": {
           "colorbar": {
            "outlinewidth": 0,
            "ticks": ""
           }
          },
          "colorscale": {
           "diverging": [
            [
             0,
             "#8e0152"
            ],
            [
             0.1,
             "#c51b7d"
            ],
            [
             0.2,
             "#de77ae"
            ],
            [
             0.3,
             "#f1b6da"
            ],
            [
             0.4,
             "#fde0ef"
            ],
            [
             0.5,
             "#f7f7f7"
            ],
            [
             0.6,
             "#e6f5d0"
            ],
            [
             0.7,
             "#b8e186"
            ],
            [
             0.8,
             "#7fbc41"
            ],
            [
             0.9,
             "#4d9221"
            ],
            [
             1,
             "#276419"
            ]
           ],
           "sequential": [
            [
             0,
             "#0d0887"
            ],
            [
             0.1111111111111111,
             "#46039f"
            ],
            [
             0.2222222222222222,
             "#7201a8"
            ],
            [
             0.3333333333333333,
             "#9c179e"
            ],
            [
             0.4444444444444444,
             "#bd3786"
            ],
            [
             0.5555555555555556,
             "#d8576b"
            ],
            [
             0.6666666666666666,
             "#ed7953"
            ],
            [
             0.7777777777777778,
             "#fb9f3a"
            ],
            [
             0.8888888888888888,
             "#fdca26"
            ],
            [
             1,
             "#f0f921"
            ]
           ],
           "sequentialminus": [
            [
             0,
             "#0d0887"
            ],
            [
             0.1111111111111111,
             "#46039f"
            ],
            [
             0.2222222222222222,
             "#7201a8"
            ],
            [
             0.3333333333333333,
             "#9c179e"
            ],
            [
             0.4444444444444444,
             "#bd3786"
            ],
            [
             0.5555555555555556,
             "#d8576b"
            ],
            [
             0.6666666666666666,
             "#ed7953"
            ],
            [
             0.7777777777777778,
             "#fb9f3a"
            ],
            [
             0.8888888888888888,
             "#fdca26"
            ],
            [
             1,
             "#f0f921"
            ]
           ]
          },
          "colorway": [
           "#636efa",
           "#EF553B",
           "#00cc96",
           "#ab63fa",
           "#FFA15A",
           "#19d3f3",
           "#FF6692",
           "#B6E880",
           "#FF97FF",
           "#FECB52"
          ],
          "font": {
           "color": "#2a3f5f"
          },
          "geo": {
           "bgcolor": "white",
           "lakecolor": "white",
           "landcolor": "#E5ECF6",
           "showlakes": true,
           "showland": true,
           "subunitcolor": "white"
          },
          "hoverlabel": {
           "align": "left"
          },
          "hovermode": "closest",
          "mapbox": {
           "style": "light"
          },
          "paper_bgcolor": "white",
          "plot_bgcolor": "#E5ECF6",
          "polar": {
           "angularaxis": {
            "gridcolor": "white",
            "linecolor": "white",
            "ticks": ""
           },
           "bgcolor": "#E5ECF6",
           "radialaxis": {
            "gridcolor": "white",
            "linecolor": "white",
            "ticks": ""
           }
          },
          "scene": {
           "xaxis": {
            "backgroundcolor": "#E5ECF6",
            "gridcolor": "white",
            "gridwidth": 2,
            "linecolor": "white",
            "showbackground": true,
            "ticks": "",
            "zerolinecolor": "white"
           },
           "yaxis": {
            "backgroundcolor": "#E5ECF6",
            "gridcolor": "white",
            "gridwidth": 2,
            "linecolor": "white",
            "showbackground": true,
            "ticks": "",
            "zerolinecolor": "white"
           },
           "zaxis": {
            "backgroundcolor": "#E5ECF6",
            "gridcolor": "white",
            "gridwidth": 2,
            "linecolor": "white",
            "showbackground": true,
            "ticks": "",
            "zerolinecolor": "white"
           }
          },
          "shapedefaults": {
           "line": {
            "color": "#2a3f5f"
           }
          },
          "ternary": {
           "aaxis": {
            "gridcolor": "white",
            "linecolor": "white",
            "ticks": ""
           },
           "baxis": {
            "gridcolor": "white",
            "linecolor": "white",
            "ticks": ""
           },
           "bgcolor": "#E5ECF6",
           "caxis": {
            "gridcolor": "white",
            "linecolor": "white",
            "ticks": ""
           }
          },
          "title": {
           "x": 0.05
          },
          "xaxis": {
           "automargin": true,
           "gridcolor": "white",
           "linecolor": "white",
           "ticks": "",
           "title": {
            "standoff": 15
           },
           "zerolinecolor": "white",
           "zerolinewidth": 2
          },
          "yaxis": {
           "automargin": true,
           "gridcolor": "white",
           "linecolor": "white",
           "ticks": "",
           "title": {
            "standoff": 15
           },
           "zerolinecolor": "white",
           "zerolinewidth": 2
          }
         }
        },
        "title": {
         "font": {
          "color": "#4D5663"
         }
        },
        "xaxis": {
         "gridcolor": "#E1E5ED",
         "showgrid": true,
         "tickfont": {
          "color": "#4D5663"
         },
         "title": {
          "font": {
           "color": "#4D5663"
          },
          "text": ""
         },
         "zerolinecolor": "#E1E5ED"
        },
        "yaxis": {
         "gridcolor": "#E1E5ED",
         "showgrid": true,
         "tickfont": {
          "color": "#4D5663"
         },
         "title": {
          "font": {
           "color": "#4D5663"
          },
          "text": ""
         },
         "zerolinecolor": "#E1E5ED"
        }
       }
      },
      "text/html": [
       "<div>                            <div id=\"17ed7bf1-b735-4082-9bb7-2c7aed9e87a6\" class=\"plotly-graph-div\" style=\"height:525px; width:100%;\"></div>            <script type=\"text/javascript\">                require([\"plotly\"], function(Plotly) {                    window.PLOTLYENV=window.PLOTLYENV || {};\n",
       "                    window.PLOTLYENV.BASE_URL='https://plot.ly';                                    if (document.getElementById(\"17ed7bf1-b735-4082-9bb7-2c7aed9e87a6\")) {                    Plotly.newPlot(                        \"17ed7bf1-b735-4082-9bb7-2c7aed9e87a6\",                        [{\"marker\":{\"color\":\"rgba(255, 153, 51, 0.6)\",\"line\":{\"color\":\"rgba(255, 153, 51, 1.0)\",\"width\":1}},\"name\":\"Values\",\"orientation\":\"v\",\"text\":\"\",\"x\":[\"A\",\"B\",\"C\"],\"y\":[32,43,50],\"type\":\"bar\"}],                        {\"legend\":{\"bgcolor\":\"#F5F6F9\",\"font\":{\"color\":\"#4D5663\"}},\"paper_bgcolor\":\"#F5F6F9\",\"plot_bgcolor\":\"#F5F6F9\",\"template\":{\"data\":{\"barpolar\":[{\"marker\":{\"line\":{\"color\":\"#E5ECF6\",\"width\":0.5},\"pattern\":{\"fillmode\":\"overlay\",\"size\":10,\"solidity\":0.2}},\"type\":\"barpolar\"}],\"bar\":[{\"error_x\":{\"color\":\"#2a3f5f\"},\"error_y\":{\"color\":\"#2a3f5f\"},\"marker\":{\"line\":{\"color\":\"#E5ECF6\",\"width\":0.5},\"pattern\":{\"fillmode\":\"overlay\",\"size\":10,\"solidity\":0.2}},\"type\":\"bar\"}],\"carpet\":[{\"aaxis\":{\"endlinecolor\":\"#2a3f5f\",\"gridcolor\":\"white\",\"linecolor\":\"white\",\"minorgridcolor\":\"white\",\"startlinecolor\":\"#2a3f5f\"},\"baxis\":{\"endlinecolor\":\"#2a3f5f\",\"gridcolor\":\"white\",\"linecolor\":\"white\",\"minorgridcolor\":\"white\",\"startlinecolor\":\"#2a3f5f\"},\"type\":\"carpet\"}],\"choropleth\":[{\"colorbar\":{\"outlinewidth\":0,\"ticks\":\"\"},\"type\":\"choropleth\"}],\"contourcarpet\":[{\"colorbar\":{\"outlinewidth\":0,\"ticks\":\"\"},\"type\":\"contourcarpet\"}],\"contour\":[{\"colorbar\":{\"outlinewidth\":0,\"ticks\":\"\"},\"colorscale\":[[0.0,\"#0d0887\"],[0.1111111111111111,\"#46039f\"],[0.2222222222222222,\"#7201a8\"],[0.3333333333333333,\"#9c179e\"],[0.4444444444444444,\"#bd3786\"],[0.5555555555555556,\"#d8576b\"],[0.6666666666666666,\"#ed7953\"],[0.7777777777777778,\"#fb9f3a\"],[0.8888888888888888,\"#fdca26\"],[1.0,\"#f0f921\"]],\"type\":\"contour\"}],\"heatmapgl\":[{\"colorbar\":{\"outlinewidth\":0,\"ticks\":\"\"},\"colorscale\":[[0.0,\"#0d0887\"],[0.1111111111111111,\"#46039f\"],[0.2222222222222222,\"#7201a8\"],[0.3333333333333333,\"#9c179e\"],[0.4444444444444444,\"#bd3786\"],[0.5555555555555556,\"#d8576b\"],[0.6666666666666666,\"#ed7953\"],[0.7777777777777778,\"#fb9f3a\"],[0.8888888888888888,\"#fdca26\"],[1.0,\"#f0f921\"]],\"type\":\"heatmapgl\"}],\"heatmap\":[{\"colorbar\":{\"outlinewidth\":0,\"ticks\":\"\"},\"colorscale\":[[0.0,\"#0d0887\"],[0.1111111111111111,\"#46039f\"],[0.2222222222222222,\"#7201a8\"],[0.3333333333333333,\"#9c179e\"],[0.4444444444444444,\"#bd3786\"],[0.5555555555555556,\"#d8576b\"],[0.6666666666666666,\"#ed7953\"],[0.7777777777777778,\"#fb9f3a\"],[0.8888888888888888,\"#fdca26\"],[1.0,\"#f0f921\"]],\"type\":\"heatmap\"}],\"histogram2dcontour\":[{\"colorbar\":{\"outlinewidth\":0,\"ticks\":\"\"},\"colorscale\":[[0.0,\"#0d0887\"],[0.1111111111111111,\"#46039f\"],[0.2222222222222222,\"#7201a8\"],[0.3333333333333333,\"#9c179e\"],[0.4444444444444444,\"#bd3786\"],[0.5555555555555556,\"#d8576b\"],[0.6666666666666666,\"#ed7953\"],[0.7777777777777778,\"#fb9f3a\"],[0.8888888888888888,\"#fdca26\"],[1.0,\"#f0f921\"]],\"type\":\"histogram2dcontour\"}],\"histogram2d\":[{\"colorbar\":{\"outlinewidth\":0,\"ticks\":\"\"},\"colorscale\":[[0.0,\"#0d0887\"],[0.1111111111111111,\"#46039f\"],[0.2222222222222222,\"#7201a8\"],[0.3333333333333333,\"#9c179e\"],[0.4444444444444444,\"#bd3786\"],[0.5555555555555556,\"#d8576b\"],[0.6666666666666666,\"#ed7953\"],[0.7777777777777778,\"#fb9f3a\"],[0.8888888888888888,\"#fdca26\"],[1.0,\"#f0f921\"]],\"type\":\"histogram2d\"}],\"histogram\":[{\"marker\":{\"pattern\":{\"fillmode\":\"overlay\",\"size\":10,\"solidity\":0.2}},\"type\":\"histogram\"}],\"mesh3d\":[{\"colorbar\":{\"outlinewidth\":0,\"ticks\":\"\"},\"type\":\"mesh3d\"}],\"parcoords\":[{\"line\":{\"colorbar\":{\"outlinewidth\":0,\"ticks\":\"\"}},\"type\":\"parcoords\"}],\"pie\":[{\"automargin\":true,\"type\":\"pie\"}],\"scatter3d\":[{\"line\":{\"colorbar\":{\"outlinewidth\":0,\"ticks\":\"\"}},\"marker\":{\"colorbar\":{\"outlinewidth\":0,\"ticks\":\"\"}},\"type\":\"scatter3d\"}],\"scattercarpet\":[{\"marker\":{\"colorbar\":{\"outlinewidth\":0,\"ticks\":\"\"}},\"type\":\"scattercarpet\"}],\"scattergeo\":[{\"marker\":{\"colorbar\":{\"outlinewidth\":0,\"ticks\":\"\"}},\"type\":\"scattergeo\"}],\"scattergl\":[{\"marker\":{\"colorbar\":{\"outlinewidth\":0,\"ticks\":\"\"}},\"type\":\"scattergl\"}],\"scattermapbox\":[{\"marker\":{\"colorbar\":{\"outlinewidth\":0,\"ticks\":\"\"}},\"type\":\"scattermapbox\"}],\"scatterpolargl\":[{\"marker\":{\"colorbar\":{\"outlinewidth\":0,\"ticks\":\"\"}},\"type\":\"scatterpolargl\"}],\"scatterpolar\":[{\"marker\":{\"colorbar\":{\"outlinewidth\":0,\"ticks\":\"\"}},\"type\":\"scatterpolar\"}],\"scatter\":[{\"fillpattern\":{\"fillmode\":\"overlay\",\"size\":10,\"solidity\":0.2},\"type\":\"scatter\"}],\"scatterternary\":[{\"marker\":{\"colorbar\":{\"outlinewidth\":0,\"ticks\":\"\"}},\"type\":\"scatterternary\"}],\"surface\":[{\"colorbar\":{\"outlinewidth\":0,\"ticks\":\"\"},\"colorscale\":[[0.0,\"#0d0887\"],[0.1111111111111111,\"#46039f\"],[0.2222222222222222,\"#7201a8\"],[0.3333333333333333,\"#9c179e\"],[0.4444444444444444,\"#bd3786\"],[0.5555555555555556,\"#d8576b\"],[0.6666666666666666,\"#ed7953\"],[0.7777777777777778,\"#fb9f3a\"],[0.8888888888888888,\"#fdca26\"],[1.0,\"#f0f921\"]],\"type\":\"surface\"}],\"table\":[{\"cells\":{\"fill\":{\"color\":\"#EBF0F8\"},\"line\":{\"color\":\"white\"}},\"header\":{\"fill\":{\"color\":\"#C8D4E3\"},\"line\":{\"color\":\"white\"}},\"type\":\"table\"}]},\"layout\":{\"annotationdefaults\":{\"arrowcolor\":\"#2a3f5f\",\"arrowhead\":0,\"arrowwidth\":1},\"autotypenumbers\":\"strict\",\"coloraxis\":{\"colorbar\":{\"outlinewidth\":0,\"ticks\":\"\"}},\"colorscale\":{\"diverging\":[[0,\"#8e0152\"],[0.1,\"#c51b7d\"],[0.2,\"#de77ae\"],[0.3,\"#f1b6da\"],[0.4,\"#fde0ef\"],[0.5,\"#f7f7f7\"],[0.6,\"#e6f5d0\"],[0.7,\"#b8e186\"],[0.8,\"#7fbc41\"],[0.9,\"#4d9221\"],[1,\"#276419\"]],\"sequential\":[[0.0,\"#0d0887\"],[0.1111111111111111,\"#46039f\"],[0.2222222222222222,\"#7201a8\"],[0.3333333333333333,\"#9c179e\"],[0.4444444444444444,\"#bd3786\"],[0.5555555555555556,\"#d8576b\"],[0.6666666666666666,\"#ed7953\"],[0.7777777777777778,\"#fb9f3a\"],[0.8888888888888888,\"#fdca26\"],[1.0,\"#f0f921\"]],\"sequentialminus\":[[0.0,\"#0d0887\"],[0.1111111111111111,\"#46039f\"],[0.2222222222222222,\"#7201a8\"],[0.3333333333333333,\"#9c179e\"],[0.4444444444444444,\"#bd3786\"],[0.5555555555555556,\"#d8576b\"],[0.6666666666666666,\"#ed7953\"],[0.7777777777777778,\"#fb9f3a\"],[0.8888888888888888,\"#fdca26\"],[1.0,\"#f0f921\"]]},\"colorway\":[\"#636efa\",\"#EF553B\",\"#00cc96\",\"#ab63fa\",\"#FFA15A\",\"#19d3f3\",\"#FF6692\",\"#B6E880\",\"#FF97FF\",\"#FECB52\"],\"font\":{\"color\":\"#2a3f5f\"},\"geo\":{\"bgcolor\":\"white\",\"lakecolor\":\"white\",\"landcolor\":\"#E5ECF6\",\"showlakes\":true,\"showland\":true,\"subunitcolor\":\"white\"},\"hoverlabel\":{\"align\":\"left\"},\"hovermode\":\"closest\",\"mapbox\":{\"style\":\"light\"},\"paper_bgcolor\":\"white\",\"plot_bgcolor\":\"#E5ECF6\",\"polar\":{\"angularaxis\":{\"gridcolor\":\"white\",\"linecolor\":\"white\",\"ticks\":\"\"},\"bgcolor\":\"#E5ECF6\",\"radialaxis\":{\"gridcolor\":\"white\",\"linecolor\":\"white\",\"ticks\":\"\"}},\"scene\":{\"xaxis\":{\"backgroundcolor\":\"#E5ECF6\",\"gridcolor\":\"white\",\"gridwidth\":2,\"linecolor\":\"white\",\"showbackground\":true,\"ticks\":\"\",\"zerolinecolor\":\"white\"},\"yaxis\":{\"backgroundcolor\":\"#E5ECF6\",\"gridcolor\":\"white\",\"gridwidth\":2,\"linecolor\":\"white\",\"showbackground\":true,\"ticks\":\"\",\"zerolinecolor\":\"white\"},\"zaxis\":{\"backgroundcolor\":\"#E5ECF6\",\"gridcolor\":\"white\",\"gridwidth\":2,\"linecolor\":\"white\",\"showbackground\":true,\"ticks\":\"\",\"zerolinecolor\":\"white\"}},\"shapedefaults\":{\"line\":{\"color\":\"#2a3f5f\"}},\"ternary\":{\"aaxis\":{\"gridcolor\":\"white\",\"linecolor\":\"white\",\"ticks\":\"\"},\"baxis\":{\"gridcolor\":\"white\",\"linecolor\":\"white\",\"ticks\":\"\"},\"bgcolor\":\"#E5ECF6\",\"caxis\":{\"gridcolor\":\"white\",\"linecolor\":\"white\",\"ticks\":\"\"}},\"title\":{\"x\":0.05},\"xaxis\":{\"automargin\":true,\"gridcolor\":\"white\",\"linecolor\":\"white\",\"ticks\":\"\",\"title\":{\"standoff\":15},\"zerolinecolor\":\"white\",\"zerolinewidth\":2},\"yaxis\":{\"automargin\":true,\"gridcolor\":\"white\",\"linecolor\":\"white\",\"ticks\":\"\",\"title\":{\"standoff\":15},\"zerolinecolor\":\"white\",\"zerolinewidth\":2}}},\"title\":{\"font\":{\"color\":\"#4D5663\"}},\"xaxis\":{\"gridcolor\":\"#E1E5ED\",\"showgrid\":true,\"tickfont\":{\"color\":\"#4D5663\"},\"title\":{\"font\":{\"color\":\"#4D5663\"},\"text\":\"\"},\"zerolinecolor\":\"#E1E5ED\"},\"yaxis\":{\"gridcolor\":\"#E1E5ED\",\"showgrid\":true,\"tickfont\":{\"color\":\"#4D5663\"},\"title\":{\"font\":{\"color\":\"#4D5663\"},\"text\":\"\"},\"zerolinecolor\":\"#E1E5ED\"}},                        {\"showLink\": true, \"linkText\": \"Export to plot.ly\", \"plotlyServerURL\": \"https://plot.ly\", \"responsive\": true}                    ).then(function(){\n",
       "                            \n",
       "var gd = document.getElementById('17ed7bf1-b735-4082-9bb7-2c7aed9e87a6');\n",
       "var x = new MutationObserver(function (mutations, observer) {{\n",
       "        var display = window.getComputedStyle(gd).display;\n",
       "        if (!display || display === 'none') {{\n",
       "            console.log([gd, 'removed!']);\n",
       "            Plotly.purge(gd);\n",
       "            observer.disconnect();\n",
       "        }}\n",
       "}});\n",
       "\n",
       "// Listen for the removal of the full notebook cells\n",
       "var notebookContainer = gd.closest('#notebook-container');\n",
       "if (notebookContainer) {{\n",
       "    x.observe(notebookContainer, {childList: true});\n",
       "}}\n",
       "\n",
       "// Listen for the clearing of the current output cell\n",
       "var outputEl = gd.closest('.output');\n",
       "if (outputEl) {{\n",
       "    x.observe(outputEl, {childList: true});\n",
       "}}\n",
       "\n",
       "                        })                };                });            </script>        </div>"
      ]
     },
     "metadata": {},
     "output_type": "display_data"
    }
   ],
   "source": [
    "df2.iplot(kind='bar',x='Category',y='Values')"
   ]
  },
  {
   "cell_type": "code",
   "execution_count": 14,
   "metadata": {},
   "outputs": [
    {
     "data": {
      "application/vnd.plotly.v1+json": {
       "config": {
        "linkText": "Export to plot.ly",
        "plotlyServerURL": "https://plot.ly",
        "showLink": true
       },
       "data": [
        {
         "marker": {
          "color": "rgba(255, 153, 51, 0.6)",
          "line": {
           "color": "rgba(255, 153, 51, 1.0)",
           "width": 1
          }
         },
         "name": "None",
         "orientation": "v",
         "text": "",
         "type": "bar",
         "x": [
          "A",
          "B",
          "C",
          "D"
         ],
         "y": [
          100,
          100,
          100,
          100
         ]
        }
       ],
       "layout": {
        "legend": {
         "bgcolor": "#F5F6F9",
         "font": {
          "color": "#4D5663"
         }
        },
        "paper_bgcolor": "#F5F6F9",
        "plot_bgcolor": "#F5F6F9",
        "template": {
         "data": {
          "bar": [
           {
            "error_x": {
             "color": "#2a3f5f"
            },
            "error_y": {
             "color": "#2a3f5f"
            },
            "marker": {
             "line": {
              "color": "#E5ECF6",
              "width": 0.5
             },
             "pattern": {
              "fillmode": "overlay",
              "size": 10,
              "solidity": 0.2
             }
            },
            "type": "bar"
           }
          ],
          "barpolar": [
           {
            "marker": {
             "line": {
              "color": "#E5ECF6",
              "width": 0.5
             },
             "pattern": {
              "fillmode": "overlay",
              "size": 10,
              "solidity": 0.2
             }
            },
            "type": "barpolar"
           }
          ],
          "carpet": [
           {
            "aaxis": {
             "endlinecolor": "#2a3f5f",
             "gridcolor": "white",
             "linecolor": "white",
             "minorgridcolor": "white",
             "startlinecolor": "#2a3f5f"
            },
            "baxis": {
             "endlinecolor": "#2a3f5f",
             "gridcolor": "white",
             "linecolor": "white",
             "minorgridcolor": "white",
             "startlinecolor": "#2a3f5f"
            },
            "type": "carpet"
           }
          ],
          "choropleth": [
           {
            "colorbar": {
             "outlinewidth": 0,
             "ticks": ""
            },
            "type": "choropleth"
           }
          ],
          "contour": [
           {
            "colorbar": {
             "outlinewidth": 0,
             "ticks": ""
            },
            "colorscale": [
             [
              0,
              "#0d0887"
             ],
             [
              0.1111111111111111,
              "#46039f"
             ],
             [
              0.2222222222222222,
              "#7201a8"
             ],
             [
              0.3333333333333333,
              "#9c179e"
             ],
             [
              0.4444444444444444,
              "#bd3786"
             ],
             [
              0.5555555555555556,
              "#d8576b"
             ],
             [
              0.6666666666666666,
              "#ed7953"
             ],
             [
              0.7777777777777778,
              "#fb9f3a"
             ],
             [
              0.8888888888888888,
              "#fdca26"
             ],
             [
              1,
              "#f0f921"
             ]
            ],
            "type": "contour"
           }
          ],
          "contourcarpet": [
           {
            "colorbar": {
             "outlinewidth": 0,
             "ticks": ""
            },
            "type": "contourcarpet"
           }
          ],
          "heatmap": [
           {
            "colorbar": {
             "outlinewidth": 0,
             "ticks": ""
            },
            "colorscale": [
             [
              0,
              "#0d0887"
             ],
             [
              0.1111111111111111,
              "#46039f"
             ],
             [
              0.2222222222222222,
              "#7201a8"
             ],
             [
              0.3333333333333333,
              "#9c179e"
             ],
             [
              0.4444444444444444,
              "#bd3786"
             ],
             [
              0.5555555555555556,
              "#d8576b"
             ],
             [
              0.6666666666666666,
              "#ed7953"
             ],
             [
              0.7777777777777778,
              "#fb9f3a"
             ],
             [
              0.8888888888888888,
              "#fdca26"
             ],
             [
              1,
              "#f0f921"
             ]
            ],
            "type": "heatmap"
           }
          ],
          "heatmapgl": [
           {
            "colorbar": {
             "outlinewidth": 0,
             "ticks": ""
            },
            "colorscale": [
             [
              0,
              "#0d0887"
             ],
             [
              0.1111111111111111,
              "#46039f"
             ],
             [
              0.2222222222222222,
              "#7201a8"
             ],
             [
              0.3333333333333333,
              "#9c179e"
             ],
             [
              0.4444444444444444,
              "#bd3786"
             ],
             [
              0.5555555555555556,
              "#d8576b"
             ],
             [
              0.6666666666666666,
              "#ed7953"
             ],
             [
              0.7777777777777778,
              "#fb9f3a"
             ],
             [
              0.8888888888888888,
              "#fdca26"
             ],
             [
              1,
              "#f0f921"
             ]
            ],
            "type": "heatmapgl"
           }
          ],
          "histogram": [
           {
            "marker": {
             "pattern": {
              "fillmode": "overlay",
              "size": 10,
              "solidity": 0.2
             }
            },
            "type": "histogram"
           }
          ],
          "histogram2d": [
           {
            "colorbar": {
             "outlinewidth": 0,
             "ticks": ""
            },
            "colorscale": [
             [
              0,
              "#0d0887"
             ],
             [
              0.1111111111111111,
              "#46039f"
             ],
             [
              0.2222222222222222,
              "#7201a8"
             ],
             [
              0.3333333333333333,
              "#9c179e"
             ],
             [
              0.4444444444444444,
              "#bd3786"
             ],
             [
              0.5555555555555556,
              "#d8576b"
             ],
             [
              0.6666666666666666,
              "#ed7953"
             ],
             [
              0.7777777777777778,
              "#fb9f3a"
             ],
             [
              0.8888888888888888,
              "#fdca26"
             ],
             [
              1,
              "#f0f921"
             ]
            ],
            "type": "histogram2d"
           }
          ],
          "histogram2dcontour": [
           {
            "colorbar": {
             "outlinewidth": 0,
             "ticks": ""
            },
            "colorscale": [
             [
              0,
              "#0d0887"
             ],
             [
              0.1111111111111111,
              "#46039f"
             ],
             [
              0.2222222222222222,
              "#7201a8"
             ],
             [
              0.3333333333333333,
              "#9c179e"
             ],
             [
              0.4444444444444444,
              "#bd3786"
             ],
             [
              0.5555555555555556,
              "#d8576b"
             ],
             [
              0.6666666666666666,
              "#ed7953"
             ],
             [
              0.7777777777777778,
              "#fb9f3a"
             ],
             [
              0.8888888888888888,
              "#fdca26"
             ],
             [
              1,
              "#f0f921"
             ]
            ],
            "type": "histogram2dcontour"
           }
          ],
          "mesh3d": [
           {
            "colorbar": {
             "outlinewidth": 0,
             "ticks": ""
            },
            "type": "mesh3d"
           }
          ],
          "parcoords": [
           {
            "line": {
             "colorbar": {
              "outlinewidth": 0,
              "ticks": ""
             }
            },
            "type": "parcoords"
           }
          ],
          "pie": [
           {
            "automargin": true,
            "type": "pie"
           }
          ],
          "scatter": [
           {
            "fillpattern": {
             "fillmode": "overlay",
             "size": 10,
             "solidity": 0.2
            },
            "type": "scatter"
           }
          ],
          "scatter3d": [
           {
            "line": {
             "colorbar": {
              "outlinewidth": 0,
              "ticks": ""
             }
            },
            "marker": {
             "colorbar": {
              "outlinewidth": 0,
              "ticks": ""
             }
            },
            "type": "scatter3d"
           }
          ],
          "scattercarpet": [
           {
            "marker": {
             "colorbar": {
              "outlinewidth": 0,
              "ticks": ""
             }
            },
            "type": "scattercarpet"
           }
          ],
          "scattergeo": [
           {
            "marker": {
             "colorbar": {
              "outlinewidth": 0,
              "ticks": ""
             }
            },
            "type": "scattergeo"
           }
          ],
          "scattergl": [
           {
            "marker": {
             "colorbar": {
              "outlinewidth": 0,
              "ticks": ""
             }
            },
            "type": "scattergl"
           }
          ],
          "scattermapbox": [
           {
            "marker": {
             "colorbar": {
              "outlinewidth": 0,
              "ticks": ""
             }
            },
            "type": "scattermapbox"
           }
          ],
          "scatterpolar": [
           {
            "marker": {
             "colorbar": {
              "outlinewidth": 0,
              "ticks": ""
             }
            },
            "type": "scatterpolar"
           }
          ],
          "scatterpolargl": [
           {
            "marker": {
             "colorbar": {
              "outlinewidth": 0,
              "ticks": ""
             }
            },
            "type": "scatterpolargl"
           }
          ],
          "scatterternary": [
           {
            "marker": {
             "colorbar": {
              "outlinewidth": 0,
              "ticks": ""
             }
            },
            "type": "scatterternary"
           }
          ],
          "surface": [
           {
            "colorbar": {
             "outlinewidth": 0,
             "ticks": ""
            },
            "colorscale": [
             [
              0,
              "#0d0887"
             ],
             [
              0.1111111111111111,
              "#46039f"
             ],
             [
              0.2222222222222222,
              "#7201a8"
             ],
             [
              0.3333333333333333,
              "#9c179e"
             ],
             [
              0.4444444444444444,
              "#bd3786"
             ],
             [
              0.5555555555555556,
              "#d8576b"
             ],
             [
              0.6666666666666666,
              "#ed7953"
             ],
             [
              0.7777777777777778,
              "#fb9f3a"
             ],
             [
              0.8888888888888888,
              "#fdca26"
             ],
             [
              1,
              "#f0f921"
             ]
            ],
            "type": "surface"
           }
          ],
          "table": [
           {
            "cells": {
             "fill": {
              "color": "#EBF0F8"
             },
             "line": {
              "color": "white"
             }
            },
            "header": {
             "fill": {
              "color": "#C8D4E3"
             },
             "line": {
              "color": "white"
             }
            },
            "type": "table"
           }
          ]
         },
         "layout": {
          "annotationdefaults": {
           "arrowcolor": "#2a3f5f",
           "arrowhead": 0,
           "arrowwidth": 1
          },
          "autotypenumbers": "strict",
          "coloraxis": {
           "colorbar": {
            "outlinewidth": 0,
            "ticks": ""
           }
          },
          "colorscale": {
           "diverging": [
            [
             0,
             "#8e0152"
            ],
            [
             0.1,
             "#c51b7d"
            ],
            [
             0.2,
             "#de77ae"
            ],
            [
             0.3,
             "#f1b6da"
            ],
            [
             0.4,
             "#fde0ef"
            ],
            [
             0.5,
             "#f7f7f7"
            ],
            [
             0.6,
             "#e6f5d0"
            ],
            [
             0.7,
             "#b8e186"
            ],
            [
             0.8,
             "#7fbc41"
            ],
            [
             0.9,
             "#4d9221"
            ],
            [
             1,
             "#276419"
            ]
           ],
           "sequential": [
            [
             0,
             "#0d0887"
            ],
            [
             0.1111111111111111,
             "#46039f"
            ],
            [
             0.2222222222222222,
             "#7201a8"
            ],
            [
             0.3333333333333333,
             "#9c179e"
            ],
            [
             0.4444444444444444,
             "#bd3786"
            ],
            [
             0.5555555555555556,
             "#d8576b"
            ],
            [
             0.6666666666666666,
             "#ed7953"
            ],
            [
             0.7777777777777778,
             "#fb9f3a"
            ],
            [
             0.8888888888888888,
             "#fdca26"
            ],
            [
             1,
             "#f0f921"
            ]
           ],
           "sequentialminus": [
            [
             0,
             "#0d0887"
            ],
            [
             0.1111111111111111,
             "#46039f"
            ],
            [
             0.2222222222222222,
             "#7201a8"
            ],
            [
             0.3333333333333333,
             "#9c179e"
            ],
            [
             0.4444444444444444,
             "#bd3786"
            ],
            [
             0.5555555555555556,
             "#d8576b"
            ],
            [
             0.6666666666666666,
             "#ed7953"
            ],
            [
             0.7777777777777778,
             "#fb9f3a"
            ],
            [
             0.8888888888888888,
             "#fdca26"
            ],
            [
             1,
             "#f0f921"
            ]
           ]
          },
          "colorway": [
           "#636efa",
           "#EF553B",
           "#00cc96",
           "#ab63fa",
           "#FFA15A",
           "#19d3f3",
           "#FF6692",
           "#B6E880",
           "#FF97FF",
           "#FECB52"
          ],
          "font": {
           "color": "#2a3f5f"
          },
          "geo": {
           "bgcolor": "white",
           "lakecolor": "white",
           "landcolor": "#E5ECF6",
           "showlakes": true,
           "showland": true,
           "subunitcolor": "white"
          },
          "hoverlabel": {
           "align": "left"
          },
          "hovermode": "closest",
          "mapbox": {
           "style": "light"
          },
          "paper_bgcolor": "white",
          "plot_bgcolor": "#E5ECF6",
          "polar": {
           "angularaxis": {
            "gridcolor": "white",
            "linecolor": "white",
            "ticks": ""
           },
           "bgcolor": "#E5ECF6",
           "radialaxis": {
            "gridcolor": "white",
            "linecolor": "white",
            "ticks": ""
           }
          },
          "scene": {
           "xaxis": {
            "backgroundcolor": "#E5ECF6",
            "gridcolor": "white",
            "gridwidth": 2,
            "linecolor": "white",
            "showbackground": true,
            "ticks": "",
            "zerolinecolor": "white"
           },
           "yaxis": {
            "backgroundcolor": "#E5ECF6",
            "gridcolor": "white",
            "gridwidth": 2,
            "linecolor": "white",
            "showbackground": true,
            "ticks": "",
            "zerolinecolor": "white"
           },
           "zaxis": {
            "backgroundcolor": "#E5ECF6",
            "gridcolor": "white",
            "gridwidth": 2,
            "linecolor": "white",
            "showbackground": true,
            "ticks": "",
            "zerolinecolor": "white"
           }
          },
          "shapedefaults": {
           "line": {
            "color": "#2a3f5f"
           }
          },
          "ternary": {
           "aaxis": {
            "gridcolor": "white",
            "linecolor": "white",
            "ticks": ""
           },
           "baxis": {
            "gridcolor": "white",
            "linecolor": "white",
            "ticks": ""
           },
           "bgcolor": "#E5ECF6",
           "caxis": {
            "gridcolor": "white",
            "linecolor": "white",
            "ticks": ""
           }
          },
          "title": {
           "x": 0.05
          },
          "xaxis": {
           "automargin": true,
           "gridcolor": "white",
           "linecolor": "white",
           "ticks": "",
           "title": {
            "standoff": 15
           },
           "zerolinecolor": "white",
           "zerolinewidth": 2
          },
          "yaxis": {
           "automargin": true,
           "gridcolor": "white",
           "linecolor": "white",
           "ticks": "",
           "title": {
            "standoff": 15
           },
           "zerolinecolor": "white",
           "zerolinewidth": 2
          }
         }
        },
        "title": {
         "font": {
          "color": "#4D5663"
         }
        },
        "xaxis": {
         "gridcolor": "#E1E5ED",
         "showgrid": true,
         "tickfont": {
          "color": "#4D5663"
         },
         "title": {
          "font": {
           "color": "#4D5663"
          },
          "text": ""
         },
         "zerolinecolor": "#E1E5ED"
        },
        "yaxis": {
         "gridcolor": "#E1E5ED",
         "showgrid": true,
         "tickfont": {
          "color": "#4D5663"
         },
         "title": {
          "font": {
           "color": "#4D5663"
          },
          "text": ""
         },
         "zerolinecolor": "#E1E5ED"
        }
       }
      },
      "text/html": [
       "<div>                            <div id=\"a5f0a733-8605-4775-ba91-db8dbed8e1ba\" class=\"plotly-graph-div\" style=\"height:525px; width:100%;\"></div>            <script type=\"text/javascript\">                require([\"plotly\"], function(Plotly) {                    window.PLOTLYENV=window.PLOTLYENV || {};\n",
       "                    window.PLOTLYENV.BASE_URL='https://plot.ly';                                    if (document.getElementById(\"a5f0a733-8605-4775-ba91-db8dbed8e1ba\")) {                    Plotly.newPlot(                        \"a5f0a733-8605-4775-ba91-db8dbed8e1ba\",                        [{\"marker\":{\"color\":\"rgba(255, 153, 51, 0.6)\",\"line\":{\"color\":\"rgba(255, 153, 51, 1.0)\",\"width\":1}},\"name\":\"None\",\"orientation\":\"v\",\"text\":\"\",\"x\":[\"A\",\"B\",\"C\",\"D\"],\"y\":[100,100,100,100],\"type\":\"bar\"}],                        {\"legend\":{\"bgcolor\":\"#F5F6F9\",\"font\":{\"color\":\"#4D5663\"}},\"paper_bgcolor\":\"#F5F6F9\",\"plot_bgcolor\":\"#F5F6F9\",\"template\":{\"data\":{\"barpolar\":[{\"marker\":{\"line\":{\"color\":\"#E5ECF6\",\"width\":0.5},\"pattern\":{\"fillmode\":\"overlay\",\"size\":10,\"solidity\":0.2}},\"type\":\"barpolar\"}],\"bar\":[{\"error_x\":{\"color\":\"#2a3f5f\"},\"error_y\":{\"color\":\"#2a3f5f\"},\"marker\":{\"line\":{\"color\":\"#E5ECF6\",\"width\":0.5},\"pattern\":{\"fillmode\":\"overlay\",\"size\":10,\"solidity\":0.2}},\"type\":\"bar\"}],\"carpet\":[{\"aaxis\":{\"endlinecolor\":\"#2a3f5f\",\"gridcolor\":\"white\",\"linecolor\":\"white\",\"minorgridcolor\":\"white\",\"startlinecolor\":\"#2a3f5f\"},\"baxis\":{\"endlinecolor\":\"#2a3f5f\",\"gridcolor\":\"white\",\"linecolor\":\"white\",\"minorgridcolor\":\"white\",\"startlinecolor\":\"#2a3f5f\"},\"type\":\"carpet\"}],\"choropleth\":[{\"colorbar\":{\"outlinewidth\":0,\"ticks\":\"\"},\"type\":\"choropleth\"}],\"contourcarpet\":[{\"colorbar\":{\"outlinewidth\":0,\"ticks\":\"\"},\"type\":\"contourcarpet\"}],\"contour\":[{\"colorbar\":{\"outlinewidth\":0,\"ticks\":\"\"},\"colorscale\":[[0.0,\"#0d0887\"],[0.1111111111111111,\"#46039f\"],[0.2222222222222222,\"#7201a8\"],[0.3333333333333333,\"#9c179e\"],[0.4444444444444444,\"#bd3786\"],[0.5555555555555556,\"#d8576b\"],[0.6666666666666666,\"#ed7953\"],[0.7777777777777778,\"#fb9f3a\"],[0.8888888888888888,\"#fdca26\"],[1.0,\"#f0f921\"]],\"type\":\"contour\"}],\"heatmapgl\":[{\"colorbar\":{\"outlinewidth\":0,\"ticks\":\"\"},\"colorscale\":[[0.0,\"#0d0887\"],[0.1111111111111111,\"#46039f\"],[0.2222222222222222,\"#7201a8\"],[0.3333333333333333,\"#9c179e\"],[0.4444444444444444,\"#bd3786\"],[0.5555555555555556,\"#d8576b\"],[0.6666666666666666,\"#ed7953\"],[0.7777777777777778,\"#fb9f3a\"],[0.8888888888888888,\"#fdca26\"],[1.0,\"#f0f921\"]],\"type\":\"heatmapgl\"}],\"heatmap\":[{\"colorbar\":{\"outlinewidth\":0,\"ticks\":\"\"},\"colorscale\":[[0.0,\"#0d0887\"],[0.1111111111111111,\"#46039f\"],[0.2222222222222222,\"#7201a8\"],[0.3333333333333333,\"#9c179e\"],[0.4444444444444444,\"#bd3786\"],[0.5555555555555556,\"#d8576b\"],[0.6666666666666666,\"#ed7953\"],[0.7777777777777778,\"#fb9f3a\"],[0.8888888888888888,\"#fdca26\"],[1.0,\"#f0f921\"]],\"type\":\"heatmap\"}],\"histogram2dcontour\":[{\"colorbar\":{\"outlinewidth\":0,\"ticks\":\"\"},\"colorscale\":[[0.0,\"#0d0887\"],[0.1111111111111111,\"#46039f\"],[0.2222222222222222,\"#7201a8\"],[0.3333333333333333,\"#9c179e\"],[0.4444444444444444,\"#bd3786\"],[0.5555555555555556,\"#d8576b\"],[0.6666666666666666,\"#ed7953\"],[0.7777777777777778,\"#fb9f3a\"],[0.8888888888888888,\"#fdca26\"],[1.0,\"#f0f921\"]],\"type\":\"histogram2dcontour\"}],\"histogram2d\":[{\"colorbar\":{\"outlinewidth\":0,\"ticks\":\"\"},\"colorscale\":[[0.0,\"#0d0887\"],[0.1111111111111111,\"#46039f\"],[0.2222222222222222,\"#7201a8\"],[0.3333333333333333,\"#9c179e\"],[0.4444444444444444,\"#bd3786\"],[0.5555555555555556,\"#d8576b\"],[0.6666666666666666,\"#ed7953\"],[0.7777777777777778,\"#fb9f3a\"],[0.8888888888888888,\"#fdca26\"],[1.0,\"#f0f921\"]],\"type\":\"histogram2d\"}],\"histogram\":[{\"marker\":{\"pattern\":{\"fillmode\":\"overlay\",\"size\":10,\"solidity\":0.2}},\"type\":\"histogram\"}],\"mesh3d\":[{\"colorbar\":{\"outlinewidth\":0,\"ticks\":\"\"},\"type\":\"mesh3d\"}],\"parcoords\":[{\"line\":{\"colorbar\":{\"outlinewidth\":0,\"ticks\":\"\"}},\"type\":\"parcoords\"}],\"pie\":[{\"automargin\":true,\"type\":\"pie\"}],\"scatter3d\":[{\"line\":{\"colorbar\":{\"outlinewidth\":0,\"ticks\":\"\"}},\"marker\":{\"colorbar\":{\"outlinewidth\":0,\"ticks\":\"\"}},\"type\":\"scatter3d\"}],\"scattercarpet\":[{\"marker\":{\"colorbar\":{\"outlinewidth\":0,\"ticks\":\"\"}},\"type\":\"scattercarpet\"}],\"scattergeo\":[{\"marker\":{\"colorbar\":{\"outlinewidth\":0,\"ticks\":\"\"}},\"type\":\"scattergeo\"}],\"scattergl\":[{\"marker\":{\"colorbar\":{\"outlinewidth\":0,\"ticks\":\"\"}},\"type\":\"scattergl\"}],\"scattermapbox\":[{\"marker\":{\"colorbar\":{\"outlinewidth\":0,\"ticks\":\"\"}},\"type\":\"scattermapbox\"}],\"scatterpolargl\":[{\"marker\":{\"colorbar\":{\"outlinewidth\":0,\"ticks\":\"\"}},\"type\":\"scatterpolargl\"}],\"scatterpolar\":[{\"marker\":{\"colorbar\":{\"outlinewidth\":0,\"ticks\":\"\"}},\"type\":\"scatterpolar\"}],\"scatter\":[{\"fillpattern\":{\"fillmode\":\"overlay\",\"size\":10,\"solidity\":0.2},\"type\":\"scatter\"}],\"scatterternary\":[{\"marker\":{\"colorbar\":{\"outlinewidth\":0,\"ticks\":\"\"}},\"type\":\"scatterternary\"}],\"surface\":[{\"colorbar\":{\"outlinewidth\":0,\"ticks\":\"\"},\"colorscale\":[[0.0,\"#0d0887\"],[0.1111111111111111,\"#46039f\"],[0.2222222222222222,\"#7201a8\"],[0.3333333333333333,\"#9c179e\"],[0.4444444444444444,\"#bd3786\"],[0.5555555555555556,\"#d8576b\"],[0.6666666666666666,\"#ed7953\"],[0.7777777777777778,\"#fb9f3a\"],[0.8888888888888888,\"#fdca26\"],[1.0,\"#f0f921\"]],\"type\":\"surface\"}],\"table\":[{\"cells\":{\"fill\":{\"color\":\"#EBF0F8\"},\"line\":{\"color\":\"white\"}},\"header\":{\"fill\":{\"color\":\"#C8D4E3\"},\"line\":{\"color\":\"white\"}},\"type\":\"table\"}]},\"layout\":{\"annotationdefaults\":{\"arrowcolor\":\"#2a3f5f\",\"arrowhead\":0,\"arrowwidth\":1},\"autotypenumbers\":\"strict\",\"coloraxis\":{\"colorbar\":{\"outlinewidth\":0,\"ticks\":\"\"}},\"colorscale\":{\"diverging\":[[0,\"#8e0152\"],[0.1,\"#c51b7d\"],[0.2,\"#de77ae\"],[0.3,\"#f1b6da\"],[0.4,\"#fde0ef\"],[0.5,\"#f7f7f7\"],[0.6,\"#e6f5d0\"],[0.7,\"#b8e186\"],[0.8,\"#7fbc41\"],[0.9,\"#4d9221\"],[1,\"#276419\"]],\"sequential\":[[0.0,\"#0d0887\"],[0.1111111111111111,\"#46039f\"],[0.2222222222222222,\"#7201a8\"],[0.3333333333333333,\"#9c179e\"],[0.4444444444444444,\"#bd3786\"],[0.5555555555555556,\"#d8576b\"],[0.6666666666666666,\"#ed7953\"],[0.7777777777777778,\"#fb9f3a\"],[0.8888888888888888,\"#fdca26\"],[1.0,\"#f0f921\"]],\"sequentialminus\":[[0.0,\"#0d0887\"],[0.1111111111111111,\"#46039f\"],[0.2222222222222222,\"#7201a8\"],[0.3333333333333333,\"#9c179e\"],[0.4444444444444444,\"#bd3786\"],[0.5555555555555556,\"#d8576b\"],[0.6666666666666666,\"#ed7953\"],[0.7777777777777778,\"#fb9f3a\"],[0.8888888888888888,\"#fdca26\"],[1.0,\"#f0f921\"]]},\"colorway\":[\"#636efa\",\"#EF553B\",\"#00cc96\",\"#ab63fa\",\"#FFA15A\",\"#19d3f3\",\"#FF6692\",\"#B6E880\",\"#FF97FF\",\"#FECB52\"],\"font\":{\"color\":\"#2a3f5f\"},\"geo\":{\"bgcolor\":\"white\",\"lakecolor\":\"white\",\"landcolor\":\"#E5ECF6\",\"showlakes\":true,\"showland\":true,\"subunitcolor\":\"white\"},\"hoverlabel\":{\"align\":\"left\"},\"hovermode\":\"closest\",\"mapbox\":{\"style\":\"light\"},\"paper_bgcolor\":\"white\",\"plot_bgcolor\":\"#E5ECF6\",\"polar\":{\"angularaxis\":{\"gridcolor\":\"white\",\"linecolor\":\"white\",\"ticks\":\"\"},\"bgcolor\":\"#E5ECF6\",\"radialaxis\":{\"gridcolor\":\"white\",\"linecolor\":\"white\",\"ticks\":\"\"}},\"scene\":{\"xaxis\":{\"backgroundcolor\":\"#E5ECF6\",\"gridcolor\":\"white\",\"gridwidth\":2,\"linecolor\":\"white\",\"showbackground\":true,\"ticks\":\"\",\"zerolinecolor\":\"white\"},\"yaxis\":{\"backgroundcolor\":\"#E5ECF6\",\"gridcolor\":\"white\",\"gridwidth\":2,\"linecolor\":\"white\",\"showbackground\":true,\"ticks\":\"\",\"zerolinecolor\":\"white\"},\"zaxis\":{\"backgroundcolor\":\"#E5ECF6\",\"gridcolor\":\"white\",\"gridwidth\":2,\"linecolor\":\"white\",\"showbackground\":true,\"ticks\":\"\",\"zerolinecolor\":\"white\"}},\"shapedefaults\":{\"line\":{\"color\":\"#2a3f5f\"}},\"ternary\":{\"aaxis\":{\"gridcolor\":\"white\",\"linecolor\":\"white\",\"ticks\":\"\"},\"baxis\":{\"gridcolor\":\"white\",\"linecolor\":\"white\",\"ticks\":\"\"},\"bgcolor\":\"#E5ECF6\",\"caxis\":{\"gridcolor\":\"white\",\"linecolor\":\"white\",\"ticks\":\"\"}},\"title\":{\"x\":0.05},\"xaxis\":{\"automargin\":true,\"gridcolor\":\"white\",\"linecolor\":\"white\",\"ticks\":\"\",\"title\":{\"standoff\":15},\"zerolinecolor\":\"white\",\"zerolinewidth\":2},\"yaxis\":{\"automargin\":true,\"gridcolor\":\"white\",\"linecolor\":\"white\",\"ticks\":\"\",\"title\":{\"standoff\":15},\"zerolinecolor\":\"white\",\"zerolinewidth\":2}}},\"title\":{\"font\":{\"color\":\"#4D5663\"}},\"xaxis\":{\"gridcolor\":\"#E1E5ED\",\"showgrid\":true,\"tickfont\":{\"color\":\"#4D5663\"},\"title\":{\"font\":{\"color\":\"#4D5663\"},\"text\":\"\"},\"zerolinecolor\":\"#E1E5ED\"},\"yaxis\":{\"gridcolor\":\"#E1E5ED\",\"showgrid\":true,\"tickfont\":{\"color\":\"#4D5663\"},\"title\":{\"font\":{\"color\":\"#4D5663\"},\"text\":\"\"},\"zerolinecolor\":\"#E1E5ED\"}},                        {\"showLink\": true, \"linkText\": \"Export to plot.ly\", \"plotlyServerURL\": \"https://plot.ly\", \"responsive\": true}                    ).then(function(){\n",
       "                            \n",
       "var gd = document.getElementById('a5f0a733-8605-4775-ba91-db8dbed8e1ba');\n",
       "var x = new MutationObserver(function (mutations, observer) {{\n",
       "        var display = window.getComputedStyle(gd).display;\n",
       "        if (!display || display === 'none') {{\n",
       "            console.log([gd, 'removed!']);\n",
       "            Plotly.purge(gd);\n",
       "            observer.disconnect();\n",
       "        }}\n",
       "}});\n",
       "\n",
       "// Listen for the removal of the full notebook cells\n",
       "var notebookContainer = gd.closest('#notebook-container');\n",
       "if (notebookContainer) {{\n",
       "    x.observe(notebookContainer, {childList: true});\n",
       "}}\n",
       "\n",
       "// Listen for the clearing of the current output cell\n",
       "var outputEl = gd.closest('.output');\n",
       "if (outputEl) {{\n",
       "    x.observe(outputEl, {childList: true});\n",
       "}}\n",
       "\n",
       "                        })                };                });            </script>        </div>"
      ]
     },
     "metadata": {},
     "output_type": "display_data"
    }
   ],
   "source": [
    "df.count().iplot(kind='bar')"
   ]
  },
  {
   "cell_type": "markdown",
   "metadata": {},
   "source": [
    "## Boxplots"
   ]
  },
  {
   "cell_type": "code",
   "execution_count": 15,
   "metadata": {},
   "outputs": [
    {
     "data": {
      "application/vnd.plotly.v1+json": {
       "config": {
        "linkText": "Export to plot.ly",
        "plotlyServerURL": "https://plot.ly",
        "showLink": true
       },
       "data": [
        {
         "boxpoints": false,
         "line": {
          "width": 1.3
         },
         "marker": {
          "color": "rgba(255, 153, 51, 1.0)"
         },
         "name": "A",
         "orientation": "v",
         "type": "box",
         "y": [
          -0.8717698350824767,
          0.11158432563991447,
          -2.7407395816036657,
          -1.0831976641681382,
          1.1051072558998412,
          -0.17169344572694262,
          0.43545635385970705,
          -0.09179294744208095,
          1.2264053142154256,
          1.551070466120222,
          -0.07121816924493687,
          -0.24600156908269727,
          0.15679944703330018,
          0.36559433298643446,
          2.660901371310062,
          1.855261613043312,
          -1.187059893505927,
          -0.3052965411783563,
          0.34235339848159724,
          -1.0084991752646242,
          -0.44254546436287656,
          0.6015254636451396,
          -0.2893097954432154,
          -0.7546569708093946,
          -0.649126922087612,
          -2.1670947304978943,
          -0.3521562590934882,
          -0.9825167171173528,
          0.4823638869124494,
          1.3991689937677,
          -1.0813487141186187,
          0.6812913811262418,
          -1.7997352733997822,
          0.40689483051570857,
          0.7305405406125538,
          0.17729696480255686,
          -0.4913828603510736,
          2.1551214812117236,
          -0.3357732892600588,
          0.6710258318221457,
          0.4922473932911538,
          -0.10608069827993899,
          -1.0721648569540283,
          1.5728260539297312,
          0.20627952814649006,
          0.4331828673111826,
          0.5413904546492052,
          0.596582038146462,
          -1.8059550967021047,
          1.0945562036012295,
          -0.6169826965091776,
          -1.7902865377237571,
          0.5756306505590018,
          0.22217194529919052,
          -0.37471866566691503,
          0.7533629372808431,
          1.2629346709986544,
          -0.29821714013709033,
          -0.40133028481671007,
          -0.14040244863090015,
          -0.7990425935512757,
          -0.25061752621963,
          0.09440658081002298,
          0.4639600910791964,
          -0.7548655530468488,
          0.2734573473584046,
          0.49953115601213216,
          0.2621673503662859,
          0.30879618891841415,
          -0.742579207698379,
          -2.140700808751398,
          1.085103424801508,
          2.5556712856305173,
          -0.3637449248748844,
          -1.7745895218285208,
          1.2839097135591673,
          1.4597017361633555,
          0.14355489019463594,
          1.1128650539993221,
          -1.399046146468581,
          0.29022433493130806,
          0.13941011249953447,
          -0.2557152779064104,
          -0.7964512095902642,
          0.9961864143816616,
          -0.2691610164434471,
          -0.5858401029934867,
          0.11472154570458645,
          -0.4385200016664815,
          1.5008416922368417,
          -1.4689795375674919,
          -1.3756996146289049,
          -1.4038172925442085,
          0.03665900419045025,
          1.3403311533249536,
          0.06474975963959607,
          -0.2672933031787719,
          0.5128393508997586,
          -0.393643566601903,
          0.22607092990429803
         ]
        },
        {
         "boxpoints": false,
         "line": {
          "width": 1.3
         },
         "marker": {
          "color": "rgba(55, 128, 191, 1.0)"
         },
         "name": "B",
         "orientation": "v",
         "type": "box",
         "y": [
          0.5065620379191607,
          -0.2602965765539084,
          0.8947735922539433,
          -0.20706460026943954,
          1.165771221022478,
          0.0032613999056064972,
          0.15139506602725938,
          0.6216258350353989,
          -0.021273642226957677,
          -1.1658427051339177,
          0.4485693463235875,
          1.198274486639321,
          -0.25883153636865897,
          1.5829050442292472,
          -0.2682700312910577,
          -0.9352385575141785,
          0.38738771844743153,
          0.6574085019682239,
          -0.3572746873306874,
          2.714060854793366,
          -0.27291585141713237,
          -1.2906302068302504,
          -1.222761949561528,
          0.013025776556479629,
          0.9555304598689044,
          -0.6561146067300845,
          0.7298158130029747,
          -0.0432119828545582,
          -1.5216252605551706,
          -0.41404987215419986,
          -0.4810554232967754,
          -0.3078050607294259,
          -0.9495597220821862,
          0.20112949349038098,
          0.47257768807001005,
          0.29574464382459376,
          -0.6667256588550254,
          -0.7800462317273794,
          -2.4382958618125476,
          1.3828570141272503,
          -0.21013575867841097,
          -0.3029006268498382,
          1.2927029777297245,
          0.2830982533145663,
          0.3963400146525552,
          -0.3848004619501144,
          -0.09272185828621662,
          0.6770153647503461,
          -0.1959600613591739,
          0.5404291839045626,
          -1.8217224971370247,
          1.3296596322879783,
          0.8917605845336027,
          -0.15443195850639932,
          -0.3156397923478492,
          -1.2712742376782356,
          1.1883595805266332,
          0.6353385091511609,
          1.3454674446590853,
          0.12178515997828125,
          -0.8555683113616778,
          -0.9785772156833887,
          0.057287811538334794,
          0.8105752779966868,
          0.529391625431157,
          0.02176697311291148,
          0.1811098993369195,
          0.5414145403099591,
          1.4132829236858184,
          1.121263069616955,
          -0.6065062884038721,
          -0.4234421639133906,
          0.7333946895918884,
          -0.7988318165943966,
          -0.15333737291964203,
          0.6713340498814011,
          2.5654821666609644,
          -0.6368941736308625,
          0.2447377902458404,
          -0.2695855843246836,
          0.1999260409044481,
          2.7906488565862717,
          -0.5480652035741574,
          1.4897751979445475,
          0.9394818515356372,
          -0.6843231983909116,
          -0.8926565888689287,
          -1.0233349824867406,
          -0.19876779176298331,
          0.331603640930695,
          -0.4698479174404729,
          -0.23190086495094775,
          0.0019005050666524434,
          -0.47242195242887397,
          0.6676122184294951,
          0.22315978389252422,
          0.08768989910542416,
          0.4226123590160756,
          -1.8801039927214822,
          0.36933946508991744
         ]
        },
        {
         "boxpoints": false,
         "line": {
          "width": 1.3
         },
         "marker": {
          "color": "rgba(50, 171, 96, 1.0)"
         },
         "name": "C",
         "orientation": "v",
         "type": "box",
         "y": [
          -1.636956662731303,
          -0.6376043572924962,
          -0.04074808935507628,
          0.34497677696840484,
          -0.19076916942011005,
          -2.0954179115141818,
          -0.1258038529727859,
          -1.8322894147741204,
          0.2619118827468143,
          0.2888115165866037,
          1.6364493228914556,
          -0.551431182905678,
          1.1820607294773688,
          0.8382851237881066,
          0.05411647258773308,
          1.6032469748148923,
          -0.07039817890104534,
          0.9884718968144668,
          0.78145279651797,
          -0.9674629069418702,
          0.45066994892508166,
          -0.9660195906372077,
          0.5638362505027132,
          -0.31239299662172076,
          1.3629951220558272,
          1.0056265249042886,
          0.6586321388426318,
          -1.7485069952611128,
          -0.3467098592376142,
          0.5253221217405029,
          0.01221581442141305,
          -0.5888478040710935,
          -0.3699537395884266,
          1.8263495711307631,
          0.7879559997924204,
          -0.46413106150570277,
          0.15674294678992978,
          1.3999271035218088,
          0.9209383937821997,
          -1.403228581932192,
          -0.03426984855449471,
          0.8965896218615761,
          -0.5799793555951641,
          0.9301499968144166,
          1.2290103431464956,
          1.8497601002940371,
          -1.1586219484257647,
          0.7488581431714749,
          -1.8853196898851619,
          -0.8315380262150668,
          0.9715328986813034,
          0.5447699216016609,
          0.2034341042310319,
          -0.14660290085412775,
          0.0408606414598768,
          -0.5345984287120338,
          -0.06998739469961222,
          -0.45412086165879645,
          -1.423782090243259,
          -0.900151888308105,
          -1.4757163490379523,
          -0.5726645809768245,
          -0.13455376044729145,
          1.4873421811179082,
          -1.2503324306966512,
          0.4128439778789257,
          0.6840175517600873,
          0.5309673702717542,
          -0.4572041909767813,
          2.132455347659096,
          -1.4696516510617859,
          -0.9168835139347818,
          0.3645932325354682,
          0.43757693567404343,
          0.34345892699501984,
          1.0539374300788713,
          -0.16222096350144485,
          -0.6250207991087227,
          -1.4864522625867662,
          0.9822502059575067,
          0.26150056034773633,
          -0.22949725038415353,
          0.4011434816669361,
          0.14807677357748775,
          -0.8257120845329259,
          -0.5719670046842023,
          -1.4301469056048395,
          1.0815026785969433,
          2.503204404751823,
          0.24462449545777584,
          -0.6965985378768902,
          -0.6120127016594211,
          -0.5281273060393614,
          -0.33176256581655306,
          -0.942252273020844,
          0.2642135737777716,
          -0.03545626490580988,
          -0.9748092770873191,
          0.8552252426105975,
          -1.142679274938753
         ]
        },
        {
         "boxpoints": false,
         "line": {
          "width": 1.3
         },
         "marker": {
          "color": "rgba(128, 0, 128, 1.0)"
         },
         "name": "D",
         "orientation": "v",
         "type": "box",
         "y": [
          -0.07361023118327803,
          -1.954620093840618,
          0.3868275981196489,
          1.6022759283893118,
          0.5025031626623727,
          0.49297890284603363,
          -1.5175409515682257,
          -1.3988304194778804,
          0.7651118782401064,
          1.0195034760829493,
          -0.288436533540941,
          -0.427864616296082,
          -0.6981146609047546,
          -0.5837048700144051,
          0.28625126469522205,
          0.033969180055852845,
          -0.6800941336845024,
          -1.2936759604819117,
          0.2976493477975922,
          0.8876648716287192,
          0.4539119475551905,
          0.46876307597007094,
          0.42860056900710036,
          0.4162356701437077,
          -1.3411061973503395,
          0.6593272851144585,
          0.006360936392886699,
          -0.09294284205777326,
          0.8186243719201479,
          0.8375383073202678,
          -0.257778987819475,
          -0.9029949282022555,
          0.20524331367960652,
          -0.9320590169586531,
          -0.3745256486057368,
          0.3443083354664249,
          1.1036934902034283,
          -0.5098200365561425,
          0.8824236017654274,
          0.4851045623174309,
          -0.9121612675512513,
          0.46725976905766886,
          -0.38480015719057103,
          1.072600167340778,
          0.5606624960519553,
          0.05538623717839237,
          -0.9256291974263261,
          -1.3085284502493197,
          0.5322089433139756,
          1.3711258601960699,
          0.8939837960076227,
          0.6323907190600253,
          -0.04608371954015574,
          -0.6120198505115956,
          -1.113995762940247,
          -0.4604899515584618,
          -1.1814699481756323,
          0.47379987149557157,
          1.1365868596602342,
          0.3251544689243104,
          -1.6099274719269303,
          0.10935135880595509,
          -0.31071960743429444,
          -0.2587371889720593,
          -1.4803413476675145,
          -2.296481131385899,
          -1.307467158891181,
          0.11281434648274909,
          -0.27399818011197324,
          -0.2620068775064324,
          0.9864897880510298,
          1.1458292298213306,
          -0.37315735252561644,
          0.7304093761080327,
          0.1980194607638059,
          0.585256830129519,
          -1.0975617901207673,
          0.13051460601987414,
          -0.6971999142736548,
          -1.1888300482764687,
          0.538170007088638,
          0.6960707066352149,
          -1.3155445632578306,
          0.445343941603825,
          1.9551168589061723,
          -1.0867432370182428,
          -0.8716209241960768,
          0.38771374137623954,
          0.21161730176790372,
          0.5300797560802026,
          -0.46012960283045934,
          0.8688986413921359,
          -0.9154699808991233,
          1.1453668429563433,
          0.9862346094675136,
          0.9744844483024134,
          0.5219721187073837,
          -1.3173678443749777,
          1.246537174178265,
          -1.1376531789629023
         ]
        }
       ],
       "layout": {
        "legend": {
         "bgcolor": "#F5F6F9",
         "font": {
          "color": "#4D5663"
         }
        },
        "paper_bgcolor": "#F5F6F9",
        "plot_bgcolor": "#F5F6F9",
        "template": {
         "data": {
          "bar": [
           {
            "error_x": {
             "color": "#2a3f5f"
            },
            "error_y": {
             "color": "#2a3f5f"
            },
            "marker": {
             "line": {
              "color": "#E5ECF6",
              "width": 0.5
             },
             "pattern": {
              "fillmode": "overlay",
              "size": 10,
              "solidity": 0.2
             }
            },
            "type": "bar"
           }
          ],
          "barpolar": [
           {
            "marker": {
             "line": {
              "color": "#E5ECF6",
              "width": 0.5
             },
             "pattern": {
              "fillmode": "overlay",
              "size": 10,
              "solidity": 0.2
             }
            },
            "type": "barpolar"
           }
          ],
          "carpet": [
           {
            "aaxis": {
             "endlinecolor": "#2a3f5f",
             "gridcolor": "white",
             "linecolor": "white",
             "minorgridcolor": "white",
             "startlinecolor": "#2a3f5f"
            },
            "baxis": {
             "endlinecolor": "#2a3f5f",
             "gridcolor": "white",
             "linecolor": "white",
             "minorgridcolor": "white",
             "startlinecolor": "#2a3f5f"
            },
            "type": "carpet"
           }
          ],
          "choropleth": [
           {
            "colorbar": {
             "outlinewidth": 0,
             "ticks": ""
            },
            "type": "choropleth"
           }
          ],
          "contour": [
           {
            "colorbar": {
             "outlinewidth": 0,
             "ticks": ""
            },
            "colorscale": [
             [
              0,
              "#0d0887"
             ],
             [
              0.1111111111111111,
              "#46039f"
             ],
             [
              0.2222222222222222,
              "#7201a8"
             ],
             [
              0.3333333333333333,
              "#9c179e"
             ],
             [
              0.4444444444444444,
              "#bd3786"
             ],
             [
              0.5555555555555556,
              "#d8576b"
             ],
             [
              0.6666666666666666,
              "#ed7953"
             ],
             [
              0.7777777777777778,
              "#fb9f3a"
             ],
             [
              0.8888888888888888,
              "#fdca26"
             ],
             [
              1,
              "#f0f921"
             ]
            ],
            "type": "contour"
           }
          ],
          "contourcarpet": [
           {
            "colorbar": {
             "outlinewidth": 0,
             "ticks": ""
            },
            "type": "contourcarpet"
           }
          ],
          "heatmap": [
           {
            "colorbar": {
             "outlinewidth": 0,
             "ticks": ""
            },
            "colorscale": [
             [
              0,
              "#0d0887"
             ],
             [
              0.1111111111111111,
              "#46039f"
             ],
             [
              0.2222222222222222,
              "#7201a8"
             ],
             [
              0.3333333333333333,
              "#9c179e"
             ],
             [
              0.4444444444444444,
              "#bd3786"
             ],
             [
              0.5555555555555556,
              "#d8576b"
             ],
             [
              0.6666666666666666,
              "#ed7953"
             ],
             [
              0.7777777777777778,
              "#fb9f3a"
             ],
             [
              0.8888888888888888,
              "#fdca26"
             ],
             [
              1,
              "#f0f921"
             ]
            ],
            "type": "heatmap"
           }
          ],
          "heatmapgl": [
           {
            "colorbar": {
             "outlinewidth": 0,
             "ticks": ""
            },
            "colorscale": [
             [
              0,
              "#0d0887"
             ],
             [
              0.1111111111111111,
              "#46039f"
             ],
             [
              0.2222222222222222,
              "#7201a8"
             ],
             [
              0.3333333333333333,
              "#9c179e"
             ],
             [
              0.4444444444444444,
              "#bd3786"
             ],
             [
              0.5555555555555556,
              "#d8576b"
             ],
             [
              0.6666666666666666,
              "#ed7953"
             ],
             [
              0.7777777777777778,
              "#fb9f3a"
             ],
             [
              0.8888888888888888,
              "#fdca26"
             ],
             [
              1,
              "#f0f921"
             ]
            ],
            "type": "heatmapgl"
           }
          ],
          "histogram": [
           {
            "marker": {
             "pattern": {
              "fillmode": "overlay",
              "size": 10,
              "solidity": 0.2
             }
            },
            "type": "histogram"
           }
          ],
          "histogram2d": [
           {
            "colorbar": {
             "outlinewidth": 0,
             "ticks": ""
            },
            "colorscale": [
             [
              0,
              "#0d0887"
             ],
             [
              0.1111111111111111,
              "#46039f"
             ],
             [
              0.2222222222222222,
              "#7201a8"
             ],
             [
              0.3333333333333333,
              "#9c179e"
             ],
             [
              0.4444444444444444,
              "#bd3786"
             ],
             [
              0.5555555555555556,
              "#d8576b"
             ],
             [
              0.6666666666666666,
              "#ed7953"
             ],
             [
              0.7777777777777778,
              "#fb9f3a"
             ],
             [
              0.8888888888888888,
              "#fdca26"
             ],
             [
              1,
              "#f0f921"
             ]
            ],
            "type": "histogram2d"
           }
          ],
          "histogram2dcontour": [
           {
            "colorbar": {
             "outlinewidth": 0,
             "ticks": ""
            },
            "colorscale": [
             [
              0,
              "#0d0887"
             ],
             [
              0.1111111111111111,
              "#46039f"
             ],
             [
              0.2222222222222222,
              "#7201a8"
             ],
             [
              0.3333333333333333,
              "#9c179e"
             ],
             [
              0.4444444444444444,
              "#bd3786"
             ],
             [
              0.5555555555555556,
              "#d8576b"
             ],
             [
              0.6666666666666666,
              "#ed7953"
             ],
             [
              0.7777777777777778,
              "#fb9f3a"
             ],
             [
              0.8888888888888888,
              "#fdca26"
             ],
             [
              1,
              "#f0f921"
             ]
            ],
            "type": "histogram2dcontour"
           }
          ],
          "mesh3d": [
           {
            "colorbar": {
             "outlinewidth": 0,
             "ticks": ""
            },
            "type": "mesh3d"
           }
          ],
          "parcoords": [
           {
            "line": {
             "colorbar": {
              "outlinewidth": 0,
              "ticks": ""
             }
            },
            "type": "parcoords"
           }
          ],
          "pie": [
           {
            "automargin": true,
            "type": "pie"
           }
          ],
          "scatter": [
           {
            "fillpattern": {
             "fillmode": "overlay",
             "size": 10,
             "solidity": 0.2
            },
            "type": "scatter"
           }
          ],
          "scatter3d": [
           {
            "line": {
             "colorbar": {
              "outlinewidth": 0,
              "ticks": ""
             }
            },
            "marker": {
             "colorbar": {
              "outlinewidth": 0,
              "ticks": ""
             }
            },
            "type": "scatter3d"
           }
          ],
          "scattercarpet": [
           {
            "marker": {
             "colorbar": {
              "outlinewidth": 0,
              "ticks": ""
             }
            },
            "type": "scattercarpet"
           }
          ],
          "scattergeo": [
           {
            "marker": {
             "colorbar": {
              "outlinewidth": 0,
              "ticks": ""
             }
            },
            "type": "scattergeo"
           }
          ],
          "scattergl": [
           {
            "marker": {
             "colorbar": {
              "outlinewidth": 0,
              "ticks": ""
             }
            },
            "type": "scattergl"
           }
          ],
          "scattermapbox": [
           {
            "marker": {
             "colorbar": {
              "outlinewidth": 0,
              "ticks": ""
             }
            },
            "type": "scattermapbox"
           }
          ],
          "scatterpolar": [
           {
            "marker": {
             "colorbar": {
              "outlinewidth": 0,
              "ticks": ""
             }
            },
            "type": "scatterpolar"
           }
          ],
          "scatterpolargl": [
           {
            "marker": {
             "colorbar": {
              "outlinewidth": 0,
              "ticks": ""
             }
            },
            "type": "scatterpolargl"
           }
          ],
          "scatterternary": [
           {
            "marker": {
             "colorbar": {
              "outlinewidth": 0,
              "ticks": ""
             }
            },
            "type": "scatterternary"
           }
          ],
          "surface": [
           {
            "colorbar": {
             "outlinewidth": 0,
             "ticks": ""
            },
            "colorscale": [
             [
              0,
              "#0d0887"
             ],
             [
              0.1111111111111111,
              "#46039f"
             ],
             [
              0.2222222222222222,
              "#7201a8"
             ],
             [
              0.3333333333333333,
              "#9c179e"
             ],
             [
              0.4444444444444444,
              "#bd3786"
             ],
             [
              0.5555555555555556,
              "#d8576b"
             ],
             [
              0.6666666666666666,
              "#ed7953"
             ],
             [
              0.7777777777777778,
              "#fb9f3a"
             ],
             [
              0.8888888888888888,
              "#fdca26"
             ],
             [
              1,
              "#f0f921"
             ]
            ],
            "type": "surface"
           }
          ],
          "table": [
           {
            "cells": {
             "fill": {
              "color": "#EBF0F8"
             },
             "line": {
              "color": "white"
             }
            },
            "header": {
             "fill": {
              "color": "#C8D4E3"
             },
             "line": {
              "color": "white"
             }
            },
            "type": "table"
           }
          ]
         },
         "layout": {
          "annotationdefaults": {
           "arrowcolor": "#2a3f5f",
           "arrowhead": 0,
           "arrowwidth": 1
          },
          "autotypenumbers": "strict",
          "coloraxis": {
           "colorbar": {
            "outlinewidth": 0,
            "ticks": ""
           }
          },
          "colorscale": {
           "diverging": [
            [
             0,
             "#8e0152"
            ],
            [
             0.1,
             "#c51b7d"
            ],
            [
             0.2,
             "#de77ae"
            ],
            [
             0.3,
             "#f1b6da"
            ],
            [
             0.4,
             "#fde0ef"
            ],
            [
             0.5,
             "#f7f7f7"
            ],
            [
             0.6,
             "#e6f5d0"
            ],
            [
             0.7,
             "#b8e186"
            ],
            [
             0.8,
             "#7fbc41"
            ],
            [
             0.9,
             "#4d9221"
            ],
            [
             1,
             "#276419"
            ]
           ],
           "sequential": [
            [
             0,
             "#0d0887"
            ],
            [
             0.1111111111111111,
             "#46039f"
            ],
            [
             0.2222222222222222,
             "#7201a8"
            ],
            [
             0.3333333333333333,
             "#9c179e"
            ],
            [
             0.4444444444444444,
             "#bd3786"
            ],
            [
             0.5555555555555556,
             "#d8576b"
            ],
            [
             0.6666666666666666,
             "#ed7953"
            ],
            [
             0.7777777777777778,
             "#fb9f3a"
            ],
            [
             0.8888888888888888,
             "#fdca26"
            ],
            [
             1,
             "#f0f921"
            ]
           ],
           "sequentialminus": [
            [
             0,
             "#0d0887"
            ],
            [
             0.1111111111111111,
             "#46039f"
            ],
            [
             0.2222222222222222,
             "#7201a8"
            ],
            [
             0.3333333333333333,
             "#9c179e"
            ],
            [
             0.4444444444444444,
             "#bd3786"
            ],
            [
             0.5555555555555556,
             "#d8576b"
            ],
            [
             0.6666666666666666,
             "#ed7953"
            ],
            [
             0.7777777777777778,
             "#fb9f3a"
            ],
            [
             0.8888888888888888,
             "#fdca26"
            ],
            [
             1,
             "#f0f921"
            ]
           ]
          },
          "colorway": [
           "#636efa",
           "#EF553B",
           "#00cc96",
           "#ab63fa",
           "#FFA15A",
           "#19d3f3",
           "#FF6692",
           "#B6E880",
           "#FF97FF",
           "#FECB52"
          ],
          "font": {
           "color": "#2a3f5f"
          },
          "geo": {
           "bgcolor": "white",
           "lakecolor": "white",
           "landcolor": "#E5ECF6",
           "showlakes": true,
           "showland": true,
           "subunitcolor": "white"
          },
          "hoverlabel": {
           "align": "left"
          },
          "hovermode": "closest",
          "mapbox": {
           "style": "light"
          },
          "paper_bgcolor": "white",
          "plot_bgcolor": "#E5ECF6",
          "polar": {
           "angularaxis": {
            "gridcolor": "white",
            "linecolor": "white",
            "ticks": ""
           },
           "bgcolor": "#E5ECF6",
           "radialaxis": {
            "gridcolor": "white",
            "linecolor": "white",
            "ticks": ""
           }
          },
          "scene": {
           "xaxis": {
            "backgroundcolor": "#E5ECF6",
            "gridcolor": "white",
            "gridwidth": 2,
            "linecolor": "white",
            "showbackground": true,
            "ticks": "",
            "zerolinecolor": "white"
           },
           "yaxis": {
            "backgroundcolor": "#E5ECF6",
            "gridcolor": "white",
            "gridwidth": 2,
            "linecolor": "white",
            "showbackground": true,
            "ticks": "",
            "zerolinecolor": "white"
           },
           "zaxis": {
            "backgroundcolor": "#E5ECF6",
            "gridcolor": "white",
            "gridwidth": 2,
            "linecolor": "white",
            "showbackground": true,
            "ticks": "",
            "zerolinecolor": "white"
           }
          },
          "shapedefaults": {
           "line": {
            "color": "#2a3f5f"
           }
          },
          "ternary": {
           "aaxis": {
            "gridcolor": "white",
            "linecolor": "white",
            "ticks": ""
           },
           "baxis": {
            "gridcolor": "white",
            "linecolor": "white",
            "ticks": ""
           },
           "bgcolor": "#E5ECF6",
           "caxis": {
            "gridcolor": "white",
            "linecolor": "white",
            "ticks": ""
           }
          },
          "title": {
           "x": 0.05
          },
          "xaxis": {
           "automargin": true,
           "gridcolor": "white",
           "linecolor": "white",
           "ticks": "",
           "title": {
            "standoff": 15
           },
           "zerolinecolor": "white",
           "zerolinewidth": 2
          },
          "yaxis": {
           "automargin": true,
           "gridcolor": "white",
           "linecolor": "white",
           "ticks": "",
           "title": {
            "standoff": 15
           },
           "zerolinecolor": "white",
           "zerolinewidth": 2
          }
         }
        },
        "title": {
         "font": {
          "color": "#4D5663"
         }
        },
        "xaxis": {
         "gridcolor": "#E1E5ED",
         "showgrid": true,
         "tickfont": {
          "color": "#4D5663"
         },
         "title": {
          "font": {
           "color": "#4D5663"
          },
          "text": ""
         },
         "zerolinecolor": "#E1E5ED"
        },
        "yaxis": {
         "gridcolor": "#E1E5ED",
         "showgrid": true,
         "tickfont": {
          "color": "#4D5663"
         },
         "title": {
          "font": {
           "color": "#4D5663"
          },
          "text": ""
         },
         "zerolinecolor": "#E1E5ED"
        }
       }
      },
      "text/html": [
       "<div>                            <div id=\"488e6f26-ac7e-4f83-9f9a-9e5dcca8a26c\" class=\"plotly-graph-div\" style=\"height:525px; width:100%;\"></div>            <script type=\"text/javascript\">                require([\"plotly\"], function(Plotly) {                    window.PLOTLYENV=window.PLOTLYENV || {};\n",
       "                    window.PLOTLYENV.BASE_URL='https://plot.ly';                                    if (document.getElementById(\"488e6f26-ac7e-4f83-9f9a-9e5dcca8a26c\")) {                    Plotly.newPlot(                        \"488e6f26-ac7e-4f83-9f9a-9e5dcca8a26c\",                        [{\"boxpoints\":false,\"line\":{\"width\":1.3},\"marker\":{\"color\":\"rgba(255, 153, 51, 1.0)\"},\"name\":\"A\",\"orientation\":\"v\",\"y\":[-0.8717698350824767,0.11158432563991447,-2.7407395816036657,-1.0831976641681382,1.1051072558998412,-0.17169344572694262,0.43545635385970705,-0.09179294744208095,1.2264053142154256,1.551070466120222,-0.07121816924493687,-0.24600156908269727,0.15679944703330018,0.36559433298643446,2.660901371310062,1.855261613043312,-1.187059893505927,-0.3052965411783563,0.34235339848159724,-1.0084991752646242,-0.44254546436287656,0.6015254636451396,-0.2893097954432154,-0.7546569708093946,-0.649126922087612,-2.1670947304978943,-0.3521562590934882,-0.9825167171173528,0.4823638869124494,1.3991689937677,-1.0813487141186187,0.6812913811262418,-1.7997352733997822,0.40689483051570857,0.7305405406125538,0.17729696480255686,-0.4913828603510736,2.1551214812117236,-0.3357732892600588,0.6710258318221457,0.4922473932911538,-0.10608069827993899,-1.0721648569540283,1.5728260539297312,0.20627952814649006,0.4331828673111826,0.5413904546492052,0.596582038146462,-1.8059550967021047,1.0945562036012295,-0.6169826965091776,-1.7902865377237571,0.5756306505590018,0.22217194529919052,-0.37471866566691503,0.7533629372808431,1.2629346709986544,-0.29821714013709033,-0.40133028481671007,-0.14040244863090015,-0.7990425935512757,-0.25061752621963,0.09440658081002298,0.4639600910791964,-0.7548655530468488,0.2734573473584046,0.49953115601213216,0.2621673503662859,0.30879618891841415,-0.742579207698379,-2.140700808751398,1.085103424801508,2.5556712856305173,-0.3637449248748844,-1.7745895218285208,1.2839097135591673,1.4597017361633555,0.14355489019463594,1.1128650539993221,-1.399046146468581,0.29022433493130806,0.13941011249953447,-0.2557152779064104,-0.7964512095902642,0.9961864143816616,-0.2691610164434471,-0.5858401029934867,0.11472154570458645,-0.4385200016664815,1.5008416922368417,-1.4689795375674919,-1.3756996146289049,-1.4038172925442085,0.03665900419045025,1.3403311533249536,0.06474975963959607,-0.2672933031787719,0.5128393508997586,-0.393643566601903,0.22607092990429803],\"type\":\"box\"},{\"boxpoints\":false,\"line\":{\"width\":1.3},\"marker\":{\"color\":\"rgba(55, 128, 191, 1.0)\"},\"name\":\"B\",\"orientation\":\"v\",\"y\":[0.5065620379191607,-0.2602965765539084,0.8947735922539433,-0.20706460026943954,1.165771221022478,0.0032613999056064972,0.15139506602725938,0.6216258350353989,-0.021273642226957677,-1.1658427051339177,0.4485693463235875,1.198274486639321,-0.25883153636865897,1.5829050442292472,-0.2682700312910577,-0.9352385575141785,0.38738771844743153,0.6574085019682239,-0.3572746873306874,2.714060854793366,-0.27291585141713237,-1.2906302068302504,-1.222761949561528,0.013025776556479629,0.9555304598689044,-0.6561146067300845,0.7298158130029747,-0.0432119828545582,-1.5216252605551706,-0.41404987215419986,-0.4810554232967754,-0.3078050607294259,-0.9495597220821862,0.20112949349038098,0.47257768807001005,0.29574464382459376,-0.6667256588550254,-0.7800462317273794,-2.4382958618125476,1.3828570141272503,-0.21013575867841097,-0.3029006268498382,1.2927029777297245,0.2830982533145663,0.3963400146525552,-0.3848004619501144,-0.09272185828621662,0.6770153647503461,-0.1959600613591739,0.5404291839045626,-1.8217224971370247,1.3296596322879783,0.8917605845336027,-0.15443195850639932,-0.3156397923478492,-1.2712742376782356,1.1883595805266332,0.6353385091511609,1.3454674446590853,0.12178515997828125,-0.8555683113616778,-0.9785772156833887,0.057287811538334794,0.8105752779966868,0.529391625431157,0.02176697311291148,0.1811098993369195,0.5414145403099591,1.4132829236858184,1.121263069616955,-0.6065062884038721,-0.4234421639133906,0.7333946895918884,-0.7988318165943966,-0.15333737291964203,0.6713340498814011,2.5654821666609644,-0.6368941736308625,0.2447377902458404,-0.2695855843246836,0.1999260409044481,2.7906488565862717,-0.5480652035741574,1.4897751979445475,0.9394818515356372,-0.6843231983909116,-0.8926565888689287,-1.0233349824867406,-0.19876779176298331,0.331603640930695,-0.4698479174404729,-0.23190086495094775,0.0019005050666524434,-0.47242195242887397,0.6676122184294951,0.22315978389252422,0.08768989910542416,0.4226123590160756,-1.8801039927214822,0.36933946508991744],\"type\":\"box\"},{\"boxpoints\":false,\"line\":{\"width\":1.3},\"marker\":{\"color\":\"rgba(50, 171, 96, 1.0)\"},\"name\":\"C\",\"orientation\":\"v\",\"y\":[-1.636956662731303,-0.6376043572924962,-0.04074808935507628,0.34497677696840484,-0.19076916942011005,-2.0954179115141818,-0.1258038529727859,-1.8322894147741204,0.2619118827468143,0.2888115165866037,1.6364493228914556,-0.551431182905678,1.1820607294773688,0.8382851237881066,0.05411647258773308,1.6032469748148923,-0.07039817890104534,0.9884718968144668,0.78145279651797,-0.9674629069418702,0.45066994892508166,-0.9660195906372077,0.5638362505027132,-0.31239299662172076,1.3629951220558272,1.0056265249042886,0.6586321388426318,-1.7485069952611128,-0.3467098592376142,0.5253221217405029,0.01221581442141305,-0.5888478040710935,-0.3699537395884266,1.8263495711307631,0.7879559997924204,-0.46413106150570277,0.15674294678992978,1.3999271035218088,0.9209383937821997,-1.403228581932192,-0.03426984855449471,0.8965896218615761,-0.5799793555951641,0.9301499968144166,1.2290103431464956,1.8497601002940371,-1.1586219484257647,0.7488581431714749,-1.8853196898851619,-0.8315380262150668,0.9715328986813034,0.5447699216016609,0.2034341042310319,-0.14660290085412775,0.0408606414598768,-0.5345984287120338,-0.06998739469961222,-0.45412086165879645,-1.423782090243259,-0.900151888308105,-1.4757163490379523,-0.5726645809768245,-0.13455376044729145,1.4873421811179082,-1.2503324306966512,0.4128439778789257,0.6840175517600873,0.5309673702717542,-0.4572041909767813,2.132455347659096,-1.4696516510617859,-0.9168835139347818,0.3645932325354682,0.43757693567404343,0.34345892699501984,1.0539374300788713,-0.16222096350144485,-0.6250207991087227,-1.4864522625867662,0.9822502059575067,0.26150056034773633,-0.22949725038415353,0.4011434816669361,0.14807677357748775,-0.8257120845329259,-0.5719670046842023,-1.4301469056048395,1.0815026785969433,2.503204404751823,0.24462449545777584,-0.6965985378768902,-0.6120127016594211,-0.5281273060393614,-0.33176256581655306,-0.942252273020844,0.2642135737777716,-0.03545626490580988,-0.9748092770873191,0.8552252426105975,-1.142679274938753],\"type\":\"box\"},{\"boxpoints\":false,\"line\":{\"width\":1.3},\"marker\":{\"color\":\"rgba(128, 0, 128, 1.0)\"},\"name\":\"D\",\"orientation\":\"v\",\"y\":[-0.07361023118327803,-1.954620093840618,0.3868275981196489,1.6022759283893118,0.5025031626623727,0.49297890284603363,-1.5175409515682257,-1.3988304194778804,0.7651118782401064,1.0195034760829493,-0.288436533540941,-0.427864616296082,-0.6981146609047546,-0.5837048700144051,0.28625126469522205,0.033969180055852845,-0.6800941336845024,-1.2936759604819117,0.2976493477975922,0.8876648716287192,0.4539119475551905,0.46876307597007094,0.42860056900710036,0.4162356701437077,-1.3411061973503395,0.6593272851144585,0.006360936392886699,-0.09294284205777326,0.8186243719201479,0.8375383073202678,-0.257778987819475,-0.9029949282022555,0.20524331367960652,-0.9320590169586531,-0.3745256486057368,0.3443083354664249,1.1036934902034283,-0.5098200365561425,0.8824236017654274,0.4851045623174309,-0.9121612675512513,0.46725976905766886,-0.38480015719057103,1.072600167340778,0.5606624960519553,0.05538623717839237,-0.9256291974263261,-1.3085284502493197,0.5322089433139756,1.3711258601960699,0.8939837960076227,0.6323907190600253,-0.04608371954015574,-0.6120198505115956,-1.113995762940247,-0.4604899515584618,-1.1814699481756323,0.47379987149557157,1.1365868596602342,0.3251544689243104,-1.6099274719269303,0.10935135880595509,-0.31071960743429444,-0.2587371889720593,-1.4803413476675145,-2.296481131385899,-1.307467158891181,0.11281434648274909,-0.27399818011197324,-0.2620068775064324,0.9864897880510298,1.1458292298213306,-0.37315735252561644,0.7304093761080327,0.1980194607638059,0.585256830129519,-1.0975617901207673,0.13051460601987414,-0.6971999142736548,-1.1888300482764687,0.538170007088638,0.6960707066352149,-1.3155445632578306,0.445343941603825,1.9551168589061723,-1.0867432370182428,-0.8716209241960768,0.38771374137623954,0.21161730176790372,0.5300797560802026,-0.46012960283045934,0.8688986413921359,-0.9154699808991233,1.1453668429563433,0.9862346094675136,0.9744844483024134,0.5219721187073837,-1.3173678443749777,1.246537174178265,-1.1376531789629023],\"type\":\"box\"}],                        {\"legend\":{\"bgcolor\":\"#F5F6F9\",\"font\":{\"color\":\"#4D5663\"}},\"paper_bgcolor\":\"#F5F6F9\",\"plot_bgcolor\":\"#F5F6F9\",\"template\":{\"data\":{\"barpolar\":[{\"marker\":{\"line\":{\"color\":\"#E5ECF6\",\"width\":0.5},\"pattern\":{\"fillmode\":\"overlay\",\"size\":10,\"solidity\":0.2}},\"type\":\"barpolar\"}],\"bar\":[{\"error_x\":{\"color\":\"#2a3f5f\"},\"error_y\":{\"color\":\"#2a3f5f\"},\"marker\":{\"line\":{\"color\":\"#E5ECF6\",\"width\":0.5},\"pattern\":{\"fillmode\":\"overlay\",\"size\":10,\"solidity\":0.2}},\"type\":\"bar\"}],\"carpet\":[{\"aaxis\":{\"endlinecolor\":\"#2a3f5f\",\"gridcolor\":\"white\",\"linecolor\":\"white\",\"minorgridcolor\":\"white\",\"startlinecolor\":\"#2a3f5f\"},\"baxis\":{\"endlinecolor\":\"#2a3f5f\",\"gridcolor\":\"white\",\"linecolor\":\"white\",\"minorgridcolor\":\"white\",\"startlinecolor\":\"#2a3f5f\"},\"type\":\"carpet\"}],\"choropleth\":[{\"colorbar\":{\"outlinewidth\":0,\"ticks\":\"\"},\"type\":\"choropleth\"}],\"contourcarpet\":[{\"colorbar\":{\"outlinewidth\":0,\"ticks\":\"\"},\"type\":\"contourcarpet\"}],\"contour\":[{\"colorbar\":{\"outlinewidth\":0,\"ticks\":\"\"},\"colorscale\":[[0.0,\"#0d0887\"],[0.1111111111111111,\"#46039f\"],[0.2222222222222222,\"#7201a8\"],[0.3333333333333333,\"#9c179e\"],[0.4444444444444444,\"#bd3786\"],[0.5555555555555556,\"#d8576b\"],[0.6666666666666666,\"#ed7953\"],[0.7777777777777778,\"#fb9f3a\"],[0.8888888888888888,\"#fdca26\"],[1.0,\"#f0f921\"]],\"type\":\"contour\"}],\"heatmapgl\":[{\"colorbar\":{\"outlinewidth\":0,\"ticks\":\"\"},\"colorscale\":[[0.0,\"#0d0887\"],[0.1111111111111111,\"#46039f\"],[0.2222222222222222,\"#7201a8\"],[0.3333333333333333,\"#9c179e\"],[0.4444444444444444,\"#bd3786\"],[0.5555555555555556,\"#d8576b\"],[0.6666666666666666,\"#ed7953\"],[0.7777777777777778,\"#fb9f3a\"],[0.8888888888888888,\"#fdca26\"],[1.0,\"#f0f921\"]],\"type\":\"heatmapgl\"}],\"heatmap\":[{\"colorbar\":{\"outlinewidth\":0,\"ticks\":\"\"},\"colorscale\":[[0.0,\"#0d0887\"],[0.1111111111111111,\"#46039f\"],[0.2222222222222222,\"#7201a8\"],[0.3333333333333333,\"#9c179e\"],[0.4444444444444444,\"#bd3786\"],[0.5555555555555556,\"#d8576b\"],[0.6666666666666666,\"#ed7953\"],[0.7777777777777778,\"#fb9f3a\"],[0.8888888888888888,\"#fdca26\"],[1.0,\"#f0f921\"]],\"type\":\"heatmap\"}],\"histogram2dcontour\":[{\"colorbar\":{\"outlinewidth\":0,\"ticks\":\"\"},\"colorscale\":[[0.0,\"#0d0887\"],[0.1111111111111111,\"#46039f\"],[0.2222222222222222,\"#7201a8\"],[0.3333333333333333,\"#9c179e\"],[0.4444444444444444,\"#bd3786\"],[0.5555555555555556,\"#d8576b\"],[0.6666666666666666,\"#ed7953\"],[0.7777777777777778,\"#fb9f3a\"],[0.8888888888888888,\"#fdca26\"],[1.0,\"#f0f921\"]],\"type\":\"histogram2dcontour\"}],\"histogram2d\":[{\"colorbar\":{\"outlinewidth\":0,\"ticks\":\"\"},\"colorscale\":[[0.0,\"#0d0887\"],[0.1111111111111111,\"#46039f\"],[0.2222222222222222,\"#7201a8\"],[0.3333333333333333,\"#9c179e\"],[0.4444444444444444,\"#bd3786\"],[0.5555555555555556,\"#d8576b\"],[0.6666666666666666,\"#ed7953\"],[0.7777777777777778,\"#fb9f3a\"],[0.8888888888888888,\"#fdca26\"],[1.0,\"#f0f921\"]],\"type\":\"histogram2d\"}],\"histogram\":[{\"marker\":{\"pattern\":{\"fillmode\":\"overlay\",\"size\":10,\"solidity\":0.2}},\"type\":\"histogram\"}],\"mesh3d\":[{\"colorbar\":{\"outlinewidth\":0,\"ticks\":\"\"},\"type\":\"mesh3d\"}],\"parcoords\":[{\"line\":{\"colorbar\":{\"outlinewidth\":0,\"ticks\":\"\"}},\"type\":\"parcoords\"}],\"pie\":[{\"automargin\":true,\"type\":\"pie\"}],\"scatter3d\":[{\"line\":{\"colorbar\":{\"outlinewidth\":0,\"ticks\":\"\"}},\"marker\":{\"colorbar\":{\"outlinewidth\":0,\"ticks\":\"\"}},\"type\":\"scatter3d\"}],\"scattercarpet\":[{\"marker\":{\"colorbar\":{\"outlinewidth\":0,\"ticks\":\"\"}},\"type\":\"scattercarpet\"}],\"scattergeo\":[{\"marker\":{\"colorbar\":{\"outlinewidth\":0,\"ticks\":\"\"}},\"type\":\"scattergeo\"}],\"scattergl\":[{\"marker\":{\"colorbar\":{\"outlinewidth\":0,\"ticks\":\"\"}},\"type\":\"scattergl\"}],\"scattermapbox\":[{\"marker\":{\"colorbar\":{\"outlinewidth\":0,\"ticks\":\"\"}},\"type\":\"scattermapbox\"}],\"scatterpolargl\":[{\"marker\":{\"colorbar\":{\"outlinewidth\":0,\"ticks\":\"\"}},\"type\":\"scatterpolargl\"}],\"scatterpolar\":[{\"marker\":{\"colorbar\":{\"outlinewidth\":0,\"ticks\":\"\"}},\"type\":\"scatterpolar\"}],\"scatter\":[{\"fillpattern\":{\"fillmode\":\"overlay\",\"size\":10,\"solidity\":0.2},\"type\":\"scatter\"}],\"scatterternary\":[{\"marker\":{\"colorbar\":{\"outlinewidth\":0,\"ticks\":\"\"}},\"type\":\"scatterternary\"}],\"surface\":[{\"colorbar\":{\"outlinewidth\":0,\"ticks\":\"\"},\"colorscale\":[[0.0,\"#0d0887\"],[0.1111111111111111,\"#46039f\"],[0.2222222222222222,\"#7201a8\"],[0.3333333333333333,\"#9c179e\"],[0.4444444444444444,\"#bd3786\"],[0.5555555555555556,\"#d8576b\"],[0.6666666666666666,\"#ed7953\"],[0.7777777777777778,\"#fb9f3a\"],[0.8888888888888888,\"#fdca26\"],[1.0,\"#f0f921\"]],\"type\":\"surface\"}],\"table\":[{\"cells\":{\"fill\":{\"color\":\"#EBF0F8\"},\"line\":{\"color\":\"white\"}},\"header\":{\"fill\":{\"color\":\"#C8D4E3\"},\"line\":{\"color\":\"white\"}},\"type\":\"table\"}]},\"layout\":{\"annotationdefaults\":{\"arrowcolor\":\"#2a3f5f\",\"arrowhead\":0,\"arrowwidth\":1},\"autotypenumbers\":\"strict\",\"coloraxis\":{\"colorbar\":{\"outlinewidth\":0,\"ticks\":\"\"}},\"colorscale\":{\"diverging\":[[0,\"#8e0152\"],[0.1,\"#c51b7d\"],[0.2,\"#de77ae\"],[0.3,\"#f1b6da\"],[0.4,\"#fde0ef\"],[0.5,\"#f7f7f7\"],[0.6,\"#e6f5d0\"],[0.7,\"#b8e186\"],[0.8,\"#7fbc41\"],[0.9,\"#4d9221\"],[1,\"#276419\"]],\"sequential\":[[0.0,\"#0d0887\"],[0.1111111111111111,\"#46039f\"],[0.2222222222222222,\"#7201a8\"],[0.3333333333333333,\"#9c179e\"],[0.4444444444444444,\"#bd3786\"],[0.5555555555555556,\"#d8576b\"],[0.6666666666666666,\"#ed7953\"],[0.7777777777777778,\"#fb9f3a\"],[0.8888888888888888,\"#fdca26\"],[1.0,\"#f0f921\"]],\"sequentialminus\":[[0.0,\"#0d0887\"],[0.1111111111111111,\"#46039f\"],[0.2222222222222222,\"#7201a8\"],[0.3333333333333333,\"#9c179e\"],[0.4444444444444444,\"#bd3786\"],[0.5555555555555556,\"#d8576b\"],[0.6666666666666666,\"#ed7953\"],[0.7777777777777778,\"#fb9f3a\"],[0.8888888888888888,\"#fdca26\"],[1.0,\"#f0f921\"]]},\"colorway\":[\"#636efa\",\"#EF553B\",\"#00cc96\",\"#ab63fa\",\"#FFA15A\",\"#19d3f3\",\"#FF6692\",\"#B6E880\",\"#FF97FF\",\"#FECB52\"],\"font\":{\"color\":\"#2a3f5f\"},\"geo\":{\"bgcolor\":\"white\",\"lakecolor\":\"white\",\"landcolor\":\"#E5ECF6\",\"showlakes\":true,\"showland\":true,\"subunitcolor\":\"white\"},\"hoverlabel\":{\"align\":\"left\"},\"hovermode\":\"closest\",\"mapbox\":{\"style\":\"light\"},\"paper_bgcolor\":\"white\",\"plot_bgcolor\":\"#E5ECF6\",\"polar\":{\"angularaxis\":{\"gridcolor\":\"white\",\"linecolor\":\"white\",\"ticks\":\"\"},\"bgcolor\":\"#E5ECF6\",\"radialaxis\":{\"gridcolor\":\"white\",\"linecolor\":\"white\",\"ticks\":\"\"}},\"scene\":{\"xaxis\":{\"backgroundcolor\":\"#E5ECF6\",\"gridcolor\":\"white\",\"gridwidth\":2,\"linecolor\":\"white\",\"showbackground\":true,\"ticks\":\"\",\"zerolinecolor\":\"white\"},\"yaxis\":{\"backgroundcolor\":\"#E5ECF6\",\"gridcolor\":\"white\",\"gridwidth\":2,\"linecolor\":\"white\",\"showbackground\":true,\"ticks\":\"\",\"zerolinecolor\":\"white\"},\"zaxis\":{\"backgroundcolor\":\"#E5ECF6\",\"gridcolor\":\"white\",\"gridwidth\":2,\"linecolor\":\"white\",\"showbackground\":true,\"ticks\":\"\",\"zerolinecolor\":\"white\"}},\"shapedefaults\":{\"line\":{\"color\":\"#2a3f5f\"}},\"ternary\":{\"aaxis\":{\"gridcolor\":\"white\",\"linecolor\":\"white\",\"ticks\":\"\"},\"baxis\":{\"gridcolor\":\"white\",\"linecolor\":\"white\",\"ticks\":\"\"},\"bgcolor\":\"#E5ECF6\",\"caxis\":{\"gridcolor\":\"white\",\"linecolor\":\"white\",\"ticks\":\"\"}},\"title\":{\"x\":0.05},\"xaxis\":{\"automargin\":true,\"gridcolor\":\"white\",\"linecolor\":\"white\",\"ticks\":\"\",\"title\":{\"standoff\":15},\"zerolinecolor\":\"white\",\"zerolinewidth\":2},\"yaxis\":{\"automargin\":true,\"gridcolor\":\"white\",\"linecolor\":\"white\",\"ticks\":\"\",\"title\":{\"standoff\":15},\"zerolinecolor\":\"white\",\"zerolinewidth\":2}}},\"title\":{\"font\":{\"color\":\"#4D5663\"}},\"xaxis\":{\"gridcolor\":\"#E1E5ED\",\"showgrid\":true,\"tickfont\":{\"color\":\"#4D5663\"},\"title\":{\"font\":{\"color\":\"#4D5663\"},\"text\":\"\"},\"zerolinecolor\":\"#E1E5ED\"},\"yaxis\":{\"gridcolor\":\"#E1E5ED\",\"showgrid\":true,\"tickfont\":{\"color\":\"#4D5663\"},\"title\":{\"font\":{\"color\":\"#4D5663\"},\"text\":\"\"},\"zerolinecolor\":\"#E1E5ED\"}},                        {\"showLink\": true, \"linkText\": \"Export to plot.ly\", \"plotlyServerURL\": \"https://plot.ly\", \"responsive\": true}                    ).then(function(){\n",
       "                            \n",
       "var gd = document.getElementById('488e6f26-ac7e-4f83-9f9a-9e5dcca8a26c');\n",
       "var x = new MutationObserver(function (mutations, observer) {{\n",
       "        var display = window.getComputedStyle(gd).display;\n",
       "        if (!display || display === 'none') {{\n",
       "            console.log([gd, 'removed!']);\n",
       "            Plotly.purge(gd);\n",
       "            observer.disconnect();\n",
       "        }}\n",
       "}});\n",
       "\n",
       "// Listen for the removal of the full notebook cells\n",
       "var notebookContainer = gd.closest('#notebook-container');\n",
       "if (notebookContainer) {{\n",
       "    x.observe(notebookContainer, {childList: true});\n",
       "}}\n",
       "\n",
       "// Listen for the clearing of the current output cell\n",
       "var outputEl = gd.closest('.output');\n",
       "if (outputEl) {{\n",
       "    x.observe(outputEl, {childList: true});\n",
       "}}\n",
       "\n",
       "                        })                };                });            </script>        </div>"
      ]
     },
     "metadata": {},
     "output_type": "display_data"
    }
   ],
   "source": [
    "df.iplot(kind='box')"
   ]
  },
  {
   "cell_type": "markdown",
   "metadata": {},
   "source": [
    "## 3d Surface"
   ]
  },
  {
   "cell_type": "code",
   "execution_count": 16,
   "metadata": {},
   "outputs": [
    {
     "data": {
      "application/vnd.plotly.v1+json": {
       "config": {
        "linkText": "Export to plot.ly",
        "plotlyServerURL": "https://plot.ly",
        "showLink": true
       },
       "data": [
        {
         "colorscale": [
          [
           0,
           "rgb(165,0,38)"
          ],
          [
           0.1,
           "rgb(215,48,39)"
          ],
          [
           0.2,
           "rgb(244,109,67)"
          ],
          [
           0.3,
           "rgb(253,174,97)"
          ],
          [
           0.4,
           "rgb(254,224,144)"
          ],
          [
           0.5,
           "rgb(255,255,191)"
          ],
          [
           0.6,
           "rgb(224,243,248)"
          ],
          [
           0.7,
           "rgb(171,217,233)"
          ],
          [
           0.8,
           "rgb(116,173,209)"
          ],
          [
           0.9,
           "rgb(69,117,180)"
          ],
          [
           1,
           "rgb(49,54,149)"
          ]
         ],
         "type": "surface",
         "x": [
          0,
          1,
          2,
          3,
          4
         ],
         "y": [
          "x",
          "y",
          "z"
         ],
         "z": [
          [
           1,
           2,
           3,
           4,
           5
          ],
          [
           10,
           20,
           30,
           20,
           10
          ],
          [
           5,
           4,
           3,
           2,
           1
          ]
         ]
        }
       ],
       "layout": {
        "legend": {
         "bgcolor": "#F5F6F9",
         "font": {
          "color": "#4D5663"
         }
        },
        "paper_bgcolor": "#F5F6F9",
        "plot_bgcolor": "#F5F6F9",
        "template": {
         "data": {
          "bar": [
           {
            "error_x": {
             "color": "#2a3f5f"
            },
            "error_y": {
             "color": "#2a3f5f"
            },
            "marker": {
             "line": {
              "color": "#E5ECF6",
              "width": 0.5
             },
             "pattern": {
              "fillmode": "overlay",
              "size": 10,
              "solidity": 0.2
             }
            },
            "type": "bar"
           }
          ],
          "barpolar": [
           {
            "marker": {
             "line": {
              "color": "#E5ECF6",
              "width": 0.5
             },
             "pattern": {
              "fillmode": "overlay",
              "size": 10,
              "solidity": 0.2
             }
            },
            "type": "barpolar"
           }
          ],
          "carpet": [
           {
            "aaxis": {
             "endlinecolor": "#2a3f5f",
             "gridcolor": "white",
             "linecolor": "white",
             "minorgridcolor": "white",
             "startlinecolor": "#2a3f5f"
            },
            "baxis": {
             "endlinecolor": "#2a3f5f",
             "gridcolor": "white",
             "linecolor": "white",
             "minorgridcolor": "white",
             "startlinecolor": "#2a3f5f"
            },
            "type": "carpet"
           }
          ],
          "choropleth": [
           {
            "colorbar": {
             "outlinewidth": 0,
             "ticks": ""
            },
            "type": "choropleth"
           }
          ],
          "contour": [
           {
            "colorbar": {
             "outlinewidth": 0,
             "ticks": ""
            },
            "colorscale": [
             [
              0,
              "#0d0887"
             ],
             [
              0.1111111111111111,
              "#46039f"
             ],
             [
              0.2222222222222222,
              "#7201a8"
             ],
             [
              0.3333333333333333,
              "#9c179e"
             ],
             [
              0.4444444444444444,
              "#bd3786"
             ],
             [
              0.5555555555555556,
              "#d8576b"
             ],
             [
              0.6666666666666666,
              "#ed7953"
             ],
             [
              0.7777777777777778,
              "#fb9f3a"
             ],
             [
              0.8888888888888888,
              "#fdca26"
             ],
             [
              1,
              "#f0f921"
             ]
            ],
            "type": "contour"
           }
          ],
          "contourcarpet": [
           {
            "colorbar": {
             "outlinewidth": 0,
             "ticks": ""
            },
            "type": "contourcarpet"
           }
          ],
          "heatmap": [
           {
            "colorbar": {
             "outlinewidth": 0,
             "ticks": ""
            },
            "colorscale": [
             [
              0,
              "#0d0887"
             ],
             [
              0.1111111111111111,
              "#46039f"
             ],
             [
              0.2222222222222222,
              "#7201a8"
             ],
             [
              0.3333333333333333,
              "#9c179e"
             ],
             [
              0.4444444444444444,
              "#bd3786"
             ],
             [
              0.5555555555555556,
              "#d8576b"
             ],
             [
              0.6666666666666666,
              "#ed7953"
             ],
             [
              0.7777777777777778,
              "#fb9f3a"
             ],
             [
              0.8888888888888888,
              "#fdca26"
             ],
             [
              1,
              "#f0f921"
             ]
            ],
            "type": "heatmap"
           }
          ],
          "heatmapgl": [
           {
            "colorbar": {
             "outlinewidth": 0,
             "ticks": ""
            },
            "colorscale": [
             [
              0,
              "#0d0887"
             ],
             [
              0.1111111111111111,
              "#46039f"
             ],
             [
              0.2222222222222222,
              "#7201a8"
             ],
             [
              0.3333333333333333,
              "#9c179e"
             ],
             [
              0.4444444444444444,
              "#bd3786"
             ],
             [
              0.5555555555555556,
              "#d8576b"
             ],
             [
              0.6666666666666666,
              "#ed7953"
             ],
             [
              0.7777777777777778,
              "#fb9f3a"
             ],
             [
              0.8888888888888888,
              "#fdca26"
             ],
             [
              1,
              "#f0f921"
             ]
            ],
            "type": "heatmapgl"
           }
          ],
          "histogram": [
           {
            "marker": {
             "pattern": {
              "fillmode": "overlay",
              "size": 10,
              "solidity": 0.2
             }
            },
            "type": "histogram"
           }
          ],
          "histogram2d": [
           {
            "colorbar": {
             "outlinewidth": 0,
             "ticks": ""
            },
            "colorscale": [
             [
              0,
              "#0d0887"
             ],
             [
              0.1111111111111111,
              "#46039f"
             ],
             [
              0.2222222222222222,
              "#7201a8"
             ],
             [
              0.3333333333333333,
              "#9c179e"
             ],
             [
              0.4444444444444444,
              "#bd3786"
             ],
             [
              0.5555555555555556,
              "#d8576b"
             ],
             [
              0.6666666666666666,
              "#ed7953"
             ],
             [
              0.7777777777777778,
              "#fb9f3a"
             ],
             [
              0.8888888888888888,
              "#fdca26"
             ],
             [
              1,
              "#f0f921"
             ]
            ],
            "type": "histogram2d"
           }
          ],
          "histogram2dcontour": [
           {
            "colorbar": {
             "outlinewidth": 0,
             "ticks": ""
            },
            "colorscale": [
             [
              0,
              "#0d0887"
             ],
             [
              0.1111111111111111,
              "#46039f"
             ],
             [
              0.2222222222222222,
              "#7201a8"
             ],
             [
              0.3333333333333333,
              "#9c179e"
             ],
             [
              0.4444444444444444,
              "#bd3786"
             ],
             [
              0.5555555555555556,
              "#d8576b"
             ],
             [
              0.6666666666666666,
              "#ed7953"
             ],
             [
              0.7777777777777778,
              "#fb9f3a"
             ],
             [
              0.8888888888888888,
              "#fdca26"
             ],
             [
              1,
              "#f0f921"
             ]
            ],
            "type": "histogram2dcontour"
           }
          ],
          "mesh3d": [
           {
            "colorbar": {
             "outlinewidth": 0,
             "ticks": ""
            },
            "type": "mesh3d"
           }
          ],
          "parcoords": [
           {
            "line": {
             "colorbar": {
              "outlinewidth": 0,
              "ticks": ""
             }
            },
            "type": "parcoords"
           }
          ],
          "pie": [
           {
            "automargin": true,
            "type": "pie"
           }
          ],
          "scatter": [
           {
            "fillpattern": {
             "fillmode": "overlay",
             "size": 10,
             "solidity": 0.2
            },
            "type": "scatter"
           }
          ],
          "scatter3d": [
           {
            "line": {
             "colorbar": {
              "outlinewidth": 0,
              "ticks": ""
             }
            },
            "marker": {
             "colorbar": {
              "outlinewidth": 0,
              "ticks": ""
             }
            },
            "type": "scatter3d"
           }
          ],
          "scattercarpet": [
           {
            "marker": {
             "colorbar": {
              "outlinewidth": 0,
              "ticks": ""
             }
            },
            "type": "scattercarpet"
           }
          ],
          "scattergeo": [
           {
            "marker": {
             "colorbar": {
              "outlinewidth": 0,
              "ticks": ""
             }
            },
            "type": "scattergeo"
           }
          ],
          "scattergl": [
           {
            "marker": {
             "colorbar": {
              "outlinewidth": 0,
              "ticks": ""
             }
            },
            "type": "scattergl"
           }
          ],
          "scattermapbox": [
           {
            "marker": {
             "colorbar": {
              "outlinewidth": 0,
              "ticks": ""
             }
            },
            "type": "scattermapbox"
           }
          ],
          "scatterpolar": [
           {
            "marker": {
             "colorbar": {
              "outlinewidth": 0,
              "ticks": ""
             }
            },
            "type": "scatterpolar"
           }
          ],
          "scatterpolargl": [
           {
            "marker": {
             "colorbar": {
              "outlinewidth": 0,
              "ticks": ""
             }
            },
            "type": "scatterpolargl"
           }
          ],
          "scatterternary": [
           {
            "marker": {
             "colorbar": {
              "outlinewidth": 0,
              "ticks": ""
             }
            },
            "type": "scatterternary"
           }
          ],
          "surface": [
           {
            "colorbar": {
             "outlinewidth": 0,
             "ticks": ""
            },
            "colorscale": [
             [
              0,
              "#0d0887"
             ],
             [
              0.1111111111111111,
              "#46039f"
             ],
             [
              0.2222222222222222,
              "#7201a8"
             ],
             [
              0.3333333333333333,
              "#9c179e"
             ],
             [
              0.4444444444444444,
              "#bd3786"
             ],
             [
              0.5555555555555556,
              "#d8576b"
             ],
             [
              0.6666666666666666,
              "#ed7953"
             ],
             [
              0.7777777777777778,
              "#fb9f3a"
             ],
             [
              0.8888888888888888,
              "#fdca26"
             ],
             [
              1,
              "#f0f921"
             ]
            ],
            "type": "surface"
           }
          ],
          "table": [
           {
            "cells": {
             "fill": {
              "color": "#EBF0F8"
             },
             "line": {
              "color": "white"
             }
            },
            "header": {
             "fill": {
              "color": "#C8D4E3"
             },
             "line": {
              "color": "white"
             }
            },
            "type": "table"
           }
          ]
         },
         "layout": {
          "annotationdefaults": {
           "arrowcolor": "#2a3f5f",
           "arrowhead": 0,
           "arrowwidth": 1
          },
          "autotypenumbers": "strict",
          "coloraxis": {
           "colorbar": {
            "outlinewidth": 0,
            "ticks": ""
           }
          },
          "colorscale": {
           "diverging": [
            [
             0,
             "#8e0152"
            ],
            [
             0.1,
             "#c51b7d"
            ],
            [
             0.2,
             "#de77ae"
            ],
            [
             0.3,
             "#f1b6da"
            ],
            [
             0.4,
             "#fde0ef"
            ],
            [
             0.5,
             "#f7f7f7"
            ],
            [
             0.6,
             "#e6f5d0"
            ],
            [
             0.7,
             "#b8e186"
            ],
            [
             0.8,
             "#7fbc41"
            ],
            [
             0.9,
             "#4d9221"
            ],
            [
             1,
             "#276419"
            ]
           ],
           "sequential": [
            [
             0,
             "#0d0887"
            ],
            [
             0.1111111111111111,
             "#46039f"
            ],
            [
             0.2222222222222222,
             "#7201a8"
            ],
            [
             0.3333333333333333,
             "#9c179e"
            ],
            [
             0.4444444444444444,
             "#bd3786"
            ],
            [
             0.5555555555555556,
             "#d8576b"
            ],
            [
             0.6666666666666666,
             "#ed7953"
            ],
            [
             0.7777777777777778,
             "#fb9f3a"
            ],
            [
             0.8888888888888888,
             "#fdca26"
            ],
            [
             1,
             "#f0f921"
            ]
           ],
           "sequentialminus": [
            [
             0,
             "#0d0887"
            ],
            [
             0.1111111111111111,
             "#46039f"
            ],
            [
             0.2222222222222222,
             "#7201a8"
            ],
            [
             0.3333333333333333,
             "#9c179e"
            ],
            [
             0.4444444444444444,
             "#bd3786"
            ],
            [
             0.5555555555555556,
             "#d8576b"
            ],
            [
             0.6666666666666666,
             "#ed7953"
            ],
            [
             0.7777777777777778,
             "#fb9f3a"
            ],
            [
             0.8888888888888888,
             "#fdca26"
            ],
            [
             1,
             "#f0f921"
            ]
           ]
          },
          "colorway": [
           "#636efa",
           "#EF553B",
           "#00cc96",
           "#ab63fa",
           "#FFA15A",
           "#19d3f3",
           "#FF6692",
           "#B6E880",
           "#FF97FF",
           "#FECB52"
          ],
          "font": {
           "color": "#2a3f5f"
          },
          "geo": {
           "bgcolor": "white",
           "lakecolor": "white",
           "landcolor": "#E5ECF6",
           "showlakes": true,
           "showland": true,
           "subunitcolor": "white"
          },
          "hoverlabel": {
           "align": "left"
          },
          "hovermode": "closest",
          "mapbox": {
           "style": "light"
          },
          "paper_bgcolor": "white",
          "plot_bgcolor": "#E5ECF6",
          "polar": {
           "angularaxis": {
            "gridcolor": "white",
            "linecolor": "white",
            "ticks": ""
           },
           "bgcolor": "#E5ECF6",
           "radialaxis": {
            "gridcolor": "white",
            "linecolor": "white",
            "ticks": ""
           }
          },
          "scene": {
           "xaxis": {
            "backgroundcolor": "#E5ECF6",
            "gridcolor": "white",
            "gridwidth": 2,
            "linecolor": "white",
            "showbackground": true,
            "ticks": "",
            "zerolinecolor": "white"
           },
           "yaxis": {
            "backgroundcolor": "#E5ECF6",
            "gridcolor": "white",
            "gridwidth": 2,
            "linecolor": "white",
            "showbackground": true,
            "ticks": "",
            "zerolinecolor": "white"
           },
           "zaxis": {
            "backgroundcolor": "#E5ECF6",
            "gridcolor": "white",
            "gridwidth": 2,
            "linecolor": "white",
            "showbackground": true,
            "ticks": "",
            "zerolinecolor": "white"
           }
          },
          "shapedefaults": {
           "line": {
            "color": "#2a3f5f"
           }
          },
          "ternary": {
           "aaxis": {
            "gridcolor": "white",
            "linecolor": "white",
            "ticks": ""
           },
           "baxis": {
            "gridcolor": "white",
            "linecolor": "white",
            "ticks": ""
           },
           "bgcolor": "#E5ECF6",
           "caxis": {
            "gridcolor": "white",
            "linecolor": "white",
            "ticks": ""
           }
          },
          "title": {
           "x": 0.05
          },
          "xaxis": {
           "automargin": true,
           "gridcolor": "white",
           "linecolor": "white",
           "ticks": "",
           "title": {
            "standoff": 15
           },
           "zerolinecolor": "white",
           "zerolinewidth": 2
          },
          "yaxis": {
           "automargin": true,
           "gridcolor": "white",
           "linecolor": "white",
           "ticks": "",
           "title": {
            "standoff": 15
           },
           "zerolinecolor": "white",
           "zerolinewidth": 2
          }
         }
        },
        "title": {
         "font": {
          "color": "#4D5663"
         }
        },
        "xaxis": {
         "gridcolor": "#E1E5ED",
         "showgrid": true,
         "tickfont": {
          "color": "#4D5663"
         },
         "title": {
          "font": {
           "color": "#4D5663"
          },
          "text": ""
         },
         "zerolinecolor": "#E1E5ED"
        },
        "yaxis": {
         "gridcolor": "#E1E5ED",
         "showgrid": true,
         "tickfont": {
          "color": "#4D5663"
         },
         "title": {
          "font": {
           "color": "#4D5663"
          },
          "text": ""
         },
         "zerolinecolor": "#E1E5ED"
        }
       }
      },
      "text/html": [
       "<div>                            <div id=\"1d9d76e5-441c-4a32-96a9-b4e1cfbfad11\" class=\"plotly-graph-div\" style=\"height:525px; width:100%;\"></div>            <script type=\"text/javascript\">                require([\"plotly\"], function(Plotly) {                    window.PLOTLYENV=window.PLOTLYENV || {};\n",
       "                    window.PLOTLYENV.BASE_URL='https://plot.ly';                                    if (document.getElementById(\"1d9d76e5-441c-4a32-96a9-b4e1cfbfad11\")) {                    Plotly.newPlot(                        \"1d9d76e5-441c-4a32-96a9-b4e1cfbfad11\",                        [{\"colorscale\":[[0.0,\"rgb(165,0,38)\"],[0.1,\"rgb(215,48,39)\"],[0.2,\"rgb(244,109,67)\"],[0.3,\"rgb(253,174,97)\"],[0.4,\"rgb(254,224,144)\"],[0.5,\"rgb(255,255,191)\"],[0.6,\"rgb(224,243,248)\"],[0.7,\"rgb(171,217,233)\"],[0.8,\"rgb(116,173,209)\"],[0.9,\"rgb(69,117,180)\"],[1.0,\"rgb(49,54,149)\"]],\"x\":[0,1,2,3,4],\"y\":[\"x\",\"y\",\"z\"],\"z\":[[1,2,3,4,5],[10,20,30,20,10],[5,4,3,2,1]],\"type\":\"surface\"}],                        {\"legend\":{\"bgcolor\":\"#F5F6F9\",\"font\":{\"color\":\"#4D5663\"}},\"paper_bgcolor\":\"#F5F6F9\",\"plot_bgcolor\":\"#F5F6F9\",\"template\":{\"data\":{\"barpolar\":[{\"marker\":{\"line\":{\"color\":\"#E5ECF6\",\"width\":0.5},\"pattern\":{\"fillmode\":\"overlay\",\"size\":10,\"solidity\":0.2}},\"type\":\"barpolar\"}],\"bar\":[{\"error_x\":{\"color\":\"#2a3f5f\"},\"error_y\":{\"color\":\"#2a3f5f\"},\"marker\":{\"line\":{\"color\":\"#E5ECF6\",\"width\":0.5},\"pattern\":{\"fillmode\":\"overlay\",\"size\":10,\"solidity\":0.2}},\"type\":\"bar\"}],\"carpet\":[{\"aaxis\":{\"endlinecolor\":\"#2a3f5f\",\"gridcolor\":\"white\",\"linecolor\":\"white\",\"minorgridcolor\":\"white\",\"startlinecolor\":\"#2a3f5f\"},\"baxis\":{\"endlinecolor\":\"#2a3f5f\",\"gridcolor\":\"white\",\"linecolor\":\"white\",\"minorgridcolor\":\"white\",\"startlinecolor\":\"#2a3f5f\"},\"type\":\"carpet\"}],\"choropleth\":[{\"colorbar\":{\"outlinewidth\":0,\"ticks\":\"\"},\"type\":\"choropleth\"}],\"contourcarpet\":[{\"colorbar\":{\"outlinewidth\":0,\"ticks\":\"\"},\"type\":\"contourcarpet\"}],\"contour\":[{\"colorbar\":{\"outlinewidth\":0,\"ticks\":\"\"},\"colorscale\":[[0.0,\"#0d0887\"],[0.1111111111111111,\"#46039f\"],[0.2222222222222222,\"#7201a8\"],[0.3333333333333333,\"#9c179e\"],[0.4444444444444444,\"#bd3786\"],[0.5555555555555556,\"#d8576b\"],[0.6666666666666666,\"#ed7953\"],[0.7777777777777778,\"#fb9f3a\"],[0.8888888888888888,\"#fdca26\"],[1.0,\"#f0f921\"]],\"type\":\"contour\"}],\"heatmapgl\":[{\"colorbar\":{\"outlinewidth\":0,\"ticks\":\"\"},\"colorscale\":[[0.0,\"#0d0887\"],[0.1111111111111111,\"#46039f\"],[0.2222222222222222,\"#7201a8\"],[0.3333333333333333,\"#9c179e\"],[0.4444444444444444,\"#bd3786\"],[0.5555555555555556,\"#d8576b\"],[0.6666666666666666,\"#ed7953\"],[0.7777777777777778,\"#fb9f3a\"],[0.8888888888888888,\"#fdca26\"],[1.0,\"#f0f921\"]],\"type\":\"heatmapgl\"}],\"heatmap\":[{\"colorbar\":{\"outlinewidth\":0,\"ticks\":\"\"},\"colorscale\":[[0.0,\"#0d0887\"],[0.1111111111111111,\"#46039f\"],[0.2222222222222222,\"#7201a8\"],[0.3333333333333333,\"#9c179e\"],[0.4444444444444444,\"#bd3786\"],[0.5555555555555556,\"#d8576b\"],[0.6666666666666666,\"#ed7953\"],[0.7777777777777778,\"#fb9f3a\"],[0.8888888888888888,\"#fdca26\"],[1.0,\"#f0f921\"]],\"type\":\"heatmap\"}],\"histogram2dcontour\":[{\"colorbar\":{\"outlinewidth\":0,\"ticks\":\"\"},\"colorscale\":[[0.0,\"#0d0887\"],[0.1111111111111111,\"#46039f\"],[0.2222222222222222,\"#7201a8\"],[0.3333333333333333,\"#9c179e\"],[0.4444444444444444,\"#bd3786\"],[0.5555555555555556,\"#d8576b\"],[0.6666666666666666,\"#ed7953\"],[0.7777777777777778,\"#fb9f3a\"],[0.8888888888888888,\"#fdca26\"],[1.0,\"#f0f921\"]],\"type\":\"histogram2dcontour\"}],\"histogram2d\":[{\"colorbar\":{\"outlinewidth\":0,\"ticks\":\"\"},\"colorscale\":[[0.0,\"#0d0887\"],[0.1111111111111111,\"#46039f\"],[0.2222222222222222,\"#7201a8\"],[0.3333333333333333,\"#9c179e\"],[0.4444444444444444,\"#bd3786\"],[0.5555555555555556,\"#d8576b\"],[0.6666666666666666,\"#ed7953\"],[0.7777777777777778,\"#fb9f3a\"],[0.8888888888888888,\"#fdca26\"],[1.0,\"#f0f921\"]],\"type\":\"histogram2d\"}],\"histogram\":[{\"marker\":{\"pattern\":{\"fillmode\":\"overlay\",\"size\":10,\"solidity\":0.2}},\"type\":\"histogram\"}],\"mesh3d\":[{\"colorbar\":{\"outlinewidth\":0,\"ticks\":\"\"},\"type\":\"mesh3d\"}],\"parcoords\":[{\"line\":{\"colorbar\":{\"outlinewidth\":0,\"ticks\":\"\"}},\"type\":\"parcoords\"}],\"pie\":[{\"automargin\":true,\"type\":\"pie\"}],\"scatter3d\":[{\"line\":{\"colorbar\":{\"outlinewidth\":0,\"ticks\":\"\"}},\"marker\":{\"colorbar\":{\"outlinewidth\":0,\"ticks\":\"\"}},\"type\":\"scatter3d\"}],\"scattercarpet\":[{\"marker\":{\"colorbar\":{\"outlinewidth\":0,\"ticks\":\"\"}},\"type\":\"scattercarpet\"}],\"scattergeo\":[{\"marker\":{\"colorbar\":{\"outlinewidth\":0,\"ticks\":\"\"}},\"type\":\"scattergeo\"}],\"scattergl\":[{\"marker\":{\"colorbar\":{\"outlinewidth\":0,\"ticks\":\"\"}},\"type\":\"scattergl\"}],\"scattermapbox\":[{\"marker\":{\"colorbar\":{\"outlinewidth\":0,\"ticks\":\"\"}},\"type\":\"scattermapbox\"}],\"scatterpolargl\":[{\"marker\":{\"colorbar\":{\"outlinewidth\":0,\"ticks\":\"\"}},\"type\":\"scatterpolargl\"}],\"scatterpolar\":[{\"marker\":{\"colorbar\":{\"outlinewidth\":0,\"ticks\":\"\"}},\"type\":\"scatterpolar\"}],\"scatter\":[{\"fillpattern\":{\"fillmode\":\"overlay\",\"size\":10,\"solidity\":0.2},\"type\":\"scatter\"}],\"scatterternary\":[{\"marker\":{\"colorbar\":{\"outlinewidth\":0,\"ticks\":\"\"}},\"type\":\"scatterternary\"}],\"surface\":[{\"colorbar\":{\"outlinewidth\":0,\"ticks\":\"\"},\"colorscale\":[[0.0,\"#0d0887\"],[0.1111111111111111,\"#46039f\"],[0.2222222222222222,\"#7201a8\"],[0.3333333333333333,\"#9c179e\"],[0.4444444444444444,\"#bd3786\"],[0.5555555555555556,\"#d8576b\"],[0.6666666666666666,\"#ed7953\"],[0.7777777777777778,\"#fb9f3a\"],[0.8888888888888888,\"#fdca26\"],[1.0,\"#f0f921\"]],\"type\":\"surface\"}],\"table\":[{\"cells\":{\"fill\":{\"color\":\"#EBF0F8\"},\"line\":{\"color\":\"white\"}},\"header\":{\"fill\":{\"color\":\"#C8D4E3\"},\"line\":{\"color\":\"white\"}},\"type\":\"table\"}]},\"layout\":{\"annotationdefaults\":{\"arrowcolor\":\"#2a3f5f\",\"arrowhead\":0,\"arrowwidth\":1},\"autotypenumbers\":\"strict\",\"coloraxis\":{\"colorbar\":{\"outlinewidth\":0,\"ticks\":\"\"}},\"colorscale\":{\"diverging\":[[0,\"#8e0152\"],[0.1,\"#c51b7d\"],[0.2,\"#de77ae\"],[0.3,\"#f1b6da\"],[0.4,\"#fde0ef\"],[0.5,\"#f7f7f7\"],[0.6,\"#e6f5d0\"],[0.7,\"#b8e186\"],[0.8,\"#7fbc41\"],[0.9,\"#4d9221\"],[1,\"#276419\"]],\"sequential\":[[0.0,\"#0d0887\"],[0.1111111111111111,\"#46039f\"],[0.2222222222222222,\"#7201a8\"],[0.3333333333333333,\"#9c179e\"],[0.4444444444444444,\"#bd3786\"],[0.5555555555555556,\"#d8576b\"],[0.6666666666666666,\"#ed7953\"],[0.7777777777777778,\"#fb9f3a\"],[0.8888888888888888,\"#fdca26\"],[1.0,\"#f0f921\"]],\"sequentialminus\":[[0.0,\"#0d0887\"],[0.1111111111111111,\"#46039f\"],[0.2222222222222222,\"#7201a8\"],[0.3333333333333333,\"#9c179e\"],[0.4444444444444444,\"#bd3786\"],[0.5555555555555556,\"#d8576b\"],[0.6666666666666666,\"#ed7953\"],[0.7777777777777778,\"#fb9f3a\"],[0.8888888888888888,\"#fdca26\"],[1.0,\"#f0f921\"]]},\"colorway\":[\"#636efa\",\"#EF553B\",\"#00cc96\",\"#ab63fa\",\"#FFA15A\",\"#19d3f3\",\"#FF6692\",\"#B6E880\",\"#FF97FF\",\"#FECB52\"],\"font\":{\"color\":\"#2a3f5f\"},\"geo\":{\"bgcolor\":\"white\",\"lakecolor\":\"white\",\"landcolor\":\"#E5ECF6\",\"showlakes\":true,\"showland\":true,\"subunitcolor\":\"white\"},\"hoverlabel\":{\"align\":\"left\"},\"hovermode\":\"closest\",\"mapbox\":{\"style\":\"light\"},\"paper_bgcolor\":\"white\",\"plot_bgcolor\":\"#E5ECF6\",\"polar\":{\"angularaxis\":{\"gridcolor\":\"white\",\"linecolor\":\"white\",\"ticks\":\"\"},\"bgcolor\":\"#E5ECF6\",\"radialaxis\":{\"gridcolor\":\"white\",\"linecolor\":\"white\",\"ticks\":\"\"}},\"scene\":{\"xaxis\":{\"backgroundcolor\":\"#E5ECF6\",\"gridcolor\":\"white\",\"gridwidth\":2,\"linecolor\":\"white\",\"showbackground\":true,\"ticks\":\"\",\"zerolinecolor\":\"white\"},\"yaxis\":{\"backgroundcolor\":\"#E5ECF6\",\"gridcolor\":\"white\",\"gridwidth\":2,\"linecolor\":\"white\",\"showbackground\":true,\"ticks\":\"\",\"zerolinecolor\":\"white\"},\"zaxis\":{\"backgroundcolor\":\"#E5ECF6\",\"gridcolor\":\"white\",\"gridwidth\":2,\"linecolor\":\"white\",\"showbackground\":true,\"ticks\":\"\",\"zerolinecolor\":\"white\"}},\"shapedefaults\":{\"line\":{\"color\":\"#2a3f5f\"}},\"ternary\":{\"aaxis\":{\"gridcolor\":\"white\",\"linecolor\":\"white\",\"ticks\":\"\"},\"baxis\":{\"gridcolor\":\"white\",\"linecolor\":\"white\",\"ticks\":\"\"},\"bgcolor\":\"#E5ECF6\",\"caxis\":{\"gridcolor\":\"white\",\"linecolor\":\"white\",\"ticks\":\"\"}},\"title\":{\"x\":0.05},\"xaxis\":{\"automargin\":true,\"gridcolor\":\"white\",\"linecolor\":\"white\",\"ticks\":\"\",\"title\":{\"standoff\":15},\"zerolinecolor\":\"white\",\"zerolinewidth\":2},\"yaxis\":{\"automargin\":true,\"gridcolor\":\"white\",\"linecolor\":\"white\",\"ticks\":\"\",\"title\":{\"standoff\":15},\"zerolinecolor\":\"white\",\"zerolinewidth\":2}}},\"title\":{\"font\":{\"color\":\"#4D5663\"}},\"xaxis\":{\"gridcolor\":\"#E1E5ED\",\"showgrid\":true,\"tickfont\":{\"color\":\"#4D5663\"},\"title\":{\"font\":{\"color\":\"#4D5663\"},\"text\":\"\"},\"zerolinecolor\":\"#E1E5ED\"},\"yaxis\":{\"gridcolor\":\"#E1E5ED\",\"showgrid\":true,\"tickfont\":{\"color\":\"#4D5663\"},\"title\":{\"font\":{\"color\":\"#4D5663\"},\"text\":\"\"},\"zerolinecolor\":\"#E1E5ED\"}},                        {\"showLink\": true, \"linkText\": \"Export to plot.ly\", \"plotlyServerURL\": \"https://plot.ly\", \"responsive\": true}                    ).then(function(){\n",
       "                            \n",
       "var gd = document.getElementById('1d9d76e5-441c-4a32-96a9-b4e1cfbfad11');\n",
       "var x = new MutationObserver(function (mutations, observer) {{\n",
       "        var display = window.getComputedStyle(gd).display;\n",
       "        if (!display || display === 'none') {{\n",
       "            console.log([gd, 'removed!']);\n",
       "            Plotly.purge(gd);\n",
       "            observer.disconnect();\n",
       "        }}\n",
       "}});\n",
       "\n",
       "// Listen for the removal of the full notebook cells\n",
       "var notebookContainer = gd.closest('#notebook-container');\n",
       "if (notebookContainer) {{\n",
       "    x.observe(notebookContainer, {childList: true});\n",
       "}}\n",
       "\n",
       "// Listen for the clearing of the current output cell\n",
       "var outputEl = gd.closest('.output');\n",
       "if (outputEl) {{\n",
       "    x.observe(outputEl, {childList: true});\n",
       "}}\n",
       "\n",
       "                        })                };                });            </script>        </div>"
      ]
     },
     "metadata": {},
     "output_type": "display_data"
    }
   ],
   "source": [
    "df3 = pd.DataFrame({'x':[1,2,3,4,5],'y':[10,20,30,20,10],'z':[5,4,3,2,1]})\n",
    "df3.iplot(kind='surface',colorscale='rdylbu')"
   ]
  },
  {
   "cell_type": "markdown",
   "metadata": {},
   "source": [
    "## Spread"
   ]
  },
  {
   "cell_type": "code",
   "execution_count": 17,
   "metadata": {},
   "outputs": [
    {
     "name": "stderr",
     "output_type": "stream",
     "text": [
      "/Users/ishasaraf/anaconda3/lib/python3.11/site-packages/cufflinks/plotlytools.py:849: FutureWarning:\n",
      "\n",
      "The pandas.np module is deprecated and will be removed from pandas in a future version. Import numpy directly instead.\n",
      "\n",
      "/Users/ishasaraf/anaconda3/lib/python3.11/site-packages/cufflinks/plotlytools.py:850: FutureWarning:\n",
      "\n",
      "The pandas.np module is deprecated and will be removed from pandas in a future version. Import numpy directly instead.\n",
      "\n"
     ]
    },
    {
     "data": {
      "application/vnd.plotly.v1+json": {
       "config": {
        "linkText": "Export to plot.ly",
        "plotlyServerURL": "https://plot.ly",
        "showLink": true
       },
       "data": [
        {
         "line": {
          "color": "rgba(255, 153, 51, 1.0)",
          "dash": "solid",
          "shape": "linear",
          "width": 1.3
         },
         "mode": "lines",
         "name": "A",
         "text": "",
         "type": "scatter",
         "x": [
          0,
          1,
          2,
          3,
          4,
          5,
          6,
          7,
          8,
          9,
          10,
          11,
          12,
          13,
          14,
          15,
          16,
          17,
          18,
          19,
          20,
          21,
          22,
          23,
          24,
          25,
          26,
          27,
          28,
          29,
          30,
          31,
          32,
          33,
          34,
          35,
          36,
          37,
          38,
          39,
          40,
          41,
          42,
          43,
          44,
          45,
          46,
          47,
          48,
          49,
          50,
          51,
          52,
          53,
          54,
          55,
          56,
          57,
          58,
          59,
          60,
          61,
          62,
          63,
          64,
          65,
          66,
          67,
          68,
          69,
          70,
          71,
          72,
          73,
          74,
          75,
          76,
          77,
          78,
          79,
          80,
          81,
          82,
          83,
          84,
          85,
          86,
          87,
          88,
          89,
          90,
          91,
          92,
          93,
          94,
          95,
          96,
          97,
          98,
          99
         ],
         "y": [
          -0.8717698350824767,
          0.11158432563991447,
          -2.7407395816036657,
          -1.0831976641681382,
          1.1051072558998412,
          -0.17169344572694262,
          0.43545635385970705,
          -0.09179294744208095,
          1.2264053142154256,
          1.551070466120222,
          -0.07121816924493687,
          -0.24600156908269727,
          0.15679944703330018,
          0.36559433298643446,
          2.660901371310062,
          1.855261613043312,
          -1.187059893505927,
          -0.3052965411783563,
          0.34235339848159724,
          -1.0084991752646242,
          -0.44254546436287656,
          0.6015254636451396,
          -0.2893097954432154,
          -0.7546569708093946,
          -0.649126922087612,
          -2.1670947304978943,
          -0.3521562590934882,
          -0.9825167171173528,
          0.4823638869124494,
          1.3991689937677,
          -1.0813487141186187,
          0.6812913811262418,
          -1.7997352733997822,
          0.40689483051570857,
          0.7305405406125538,
          0.17729696480255686,
          -0.4913828603510736,
          2.1551214812117236,
          -0.3357732892600588,
          0.6710258318221457,
          0.4922473932911538,
          -0.10608069827993899,
          -1.0721648569540283,
          1.5728260539297312,
          0.20627952814649006,
          0.4331828673111826,
          0.5413904546492052,
          0.596582038146462,
          -1.8059550967021047,
          1.0945562036012295,
          -0.6169826965091776,
          -1.7902865377237571,
          0.5756306505590018,
          0.22217194529919052,
          -0.37471866566691503,
          0.7533629372808431,
          1.2629346709986544,
          -0.29821714013709033,
          -0.40133028481671007,
          -0.14040244863090015,
          -0.7990425935512757,
          -0.25061752621963,
          0.09440658081002298,
          0.4639600910791964,
          -0.7548655530468488,
          0.2734573473584046,
          0.49953115601213216,
          0.2621673503662859,
          0.30879618891841415,
          -0.742579207698379,
          -2.140700808751398,
          1.085103424801508,
          2.5556712856305173,
          -0.3637449248748844,
          -1.7745895218285208,
          1.2839097135591673,
          1.4597017361633555,
          0.14355489019463594,
          1.1128650539993221,
          -1.399046146468581,
          0.29022433493130806,
          0.13941011249953447,
          -0.2557152779064104,
          -0.7964512095902642,
          0.9961864143816616,
          -0.2691610164434471,
          -0.5858401029934867,
          0.11472154570458645,
          -0.4385200016664815,
          1.5008416922368417,
          -1.4689795375674919,
          -1.3756996146289049,
          -1.4038172925442085,
          0.03665900419045025,
          1.3403311533249536,
          0.06474975963959607,
          -0.2672933031787719,
          0.5128393508997586,
          -0.393643566601903,
          0.22607092990429803
         ]
        },
        {
         "line": {
          "color": "rgba(55, 128, 191, 1.0)",
          "dash": "solid",
          "shape": "linear",
          "width": 1.3
         },
         "mode": "lines",
         "name": "B",
         "text": "",
         "type": "scatter",
         "x": [
          0,
          1,
          2,
          3,
          4,
          5,
          6,
          7,
          8,
          9,
          10,
          11,
          12,
          13,
          14,
          15,
          16,
          17,
          18,
          19,
          20,
          21,
          22,
          23,
          24,
          25,
          26,
          27,
          28,
          29,
          30,
          31,
          32,
          33,
          34,
          35,
          36,
          37,
          38,
          39,
          40,
          41,
          42,
          43,
          44,
          45,
          46,
          47,
          48,
          49,
          50,
          51,
          52,
          53,
          54,
          55,
          56,
          57,
          58,
          59,
          60,
          61,
          62,
          63,
          64,
          65,
          66,
          67,
          68,
          69,
          70,
          71,
          72,
          73,
          74,
          75,
          76,
          77,
          78,
          79,
          80,
          81,
          82,
          83,
          84,
          85,
          86,
          87,
          88,
          89,
          90,
          91,
          92,
          93,
          94,
          95,
          96,
          97,
          98,
          99
         ],
         "y": [
          0.5065620379191607,
          -0.2602965765539084,
          0.8947735922539433,
          -0.20706460026943954,
          1.165771221022478,
          0.0032613999056064972,
          0.15139506602725938,
          0.6216258350353989,
          -0.021273642226957677,
          -1.1658427051339177,
          0.4485693463235875,
          1.198274486639321,
          -0.25883153636865897,
          1.5829050442292472,
          -0.2682700312910577,
          -0.9352385575141785,
          0.38738771844743153,
          0.6574085019682239,
          -0.3572746873306874,
          2.714060854793366,
          -0.27291585141713237,
          -1.2906302068302504,
          -1.222761949561528,
          0.013025776556479629,
          0.9555304598689044,
          -0.6561146067300845,
          0.7298158130029747,
          -0.0432119828545582,
          -1.5216252605551706,
          -0.41404987215419986,
          -0.4810554232967754,
          -0.3078050607294259,
          -0.9495597220821862,
          0.20112949349038098,
          0.47257768807001005,
          0.29574464382459376,
          -0.6667256588550254,
          -0.7800462317273794,
          -2.4382958618125476,
          1.3828570141272503,
          -0.21013575867841097,
          -0.3029006268498382,
          1.2927029777297245,
          0.2830982533145663,
          0.3963400146525552,
          -0.3848004619501144,
          -0.09272185828621662,
          0.6770153647503461,
          -0.1959600613591739,
          0.5404291839045626,
          -1.8217224971370247,
          1.3296596322879783,
          0.8917605845336027,
          -0.15443195850639932,
          -0.3156397923478492,
          -1.2712742376782356,
          1.1883595805266332,
          0.6353385091511609,
          1.3454674446590853,
          0.12178515997828125,
          -0.8555683113616778,
          -0.9785772156833887,
          0.057287811538334794,
          0.8105752779966868,
          0.529391625431157,
          0.02176697311291148,
          0.1811098993369195,
          0.5414145403099591,
          1.4132829236858184,
          1.121263069616955,
          -0.6065062884038721,
          -0.4234421639133906,
          0.7333946895918884,
          -0.7988318165943966,
          -0.15333737291964203,
          0.6713340498814011,
          2.5654821666609644,
          -0.6368941736308625,
          0.2447377902458404,
          -0.2695855843246836,
          0.1999260409044481,
          2.7906488565862717,
          -0.5480652035741574,
          1.4897751979445475,
          0.9394818515356372,
          -0.6843231983909116,
          -0.8926565888689287,
          -1.0233349824867406,
          -0.19876779176298331,
          0.331603640930695,
          -0.4698479174404729,
          -0.23190086495094775,
          0.0019005050666524434,
          -0.47242195242887397,
          0.6676122184294951,
          0.22315978389252422,
          0.08768989910542416,
          0.4226123590160756,
          -1.8801039927214822,
          0.36933946508991744
         ]
        },
        {
         "connectgaps": false,
         "fill": "tozeroy",
         "line": {
          "color": "green",
          "dash": "solid",
          "shape": "linear",
          "width": 0.5
         },
         "mode": "lines",
         "name": "Spread",
         "showlegend": false,
         "type": "scatter",
         "x": [
          0,
          1,
          2,
          3,
          4,
          5,
          6,
          7,
          8,
          9,
          10,
          11,
          12,
          13,
          14,
          15,
          16,
          17,
          18,
          19,
          20,
          21,
          22,
          23,
          24,
          25,
          26,
          27,
          28,
          29,
          30,
          31,
          32,
          33,
          34,
          35,
          36,
          37,
          38,
          39,
          40,
          41,
          42,
          43,
          44,
          45,
          46,
          47,
          48,
          49,
          50,
          51,
          52,
          53,
          54,
          55,
          56,
          57,
          58,
          59,
          60,
          61,
          62,
          63,
          64,
          65,
          66,
          67,
          68,
          69,
          70,
          71,
          72,
          73,
          74,
          75,
          76,
          77,
          78,
          79,
          80,
          81,
          82,
          83,
          84,
          85,
          86,
          87,
          88,
          89,
          90,
          91,
          92,
          93,
          94,
          95,
          96,
          97,
          98,
          99
         ],
         "xaxis": "x2",
         "y": [
          "",
          0.37188090219382286,
          "",
          "",
          "",
          "",
          0.28406128783244766,
          "",
          1.2476789564423834,
          2.7169131712541397,
          "",
          "",
          0.41563098340195914,
          "",
          2.9291714026011197,
          2.7905001705574906,
          "",
          "",
          0.6996280858122846,
          "",
          "",
          1.8921556704753901,
          0.9334521541183127,
          "",
          "",
          "",
          "",
          "",
          2.00398914746762,
          1.8132188659219,
          "",
          0.9890964418556676,
          "",
          0.2057653370253276,
          0.25796285254254375,
          "",
          0.17534279850395185,
          2.935167712939103,
          2.102522572552489,
          "",
          0.7023831519695648,
          0.19681992856989922,
          "",
          1.289727800615165,
          "",
          0.817983329261297,
          0.6341123129354218,
          "",
          "",
          0.5541270196966669,
          1.2047398006278471,
          "",
          "",
          0.37660390380558983,
          "",
          2.0246371749590786,
          0.07457509047202127,
          "",
          "",
          "",
          0.056525717810402054,
          0.7279596894637588,
          0.03711876927168819,
          "",
          "",
          0.2516903742454931,
          0.31842125667521265,
          "",
          "",
          "",
          "",
          1.5085455887148984,
          1.822276596038629,
          0.4350868917195122,
          "",
          0.6125756636777662,
          "",
          0.7804490638254985,
          0.8681272637534817,
          "",
          0.09029829402685996,
          "",
          0.29234992566774703,
          "",
          0.05670456284602432,
          0.4151621819474645,
          0.3068164858754421,
          1.138056528191327,
          "",
          1.1692380513061467,
          "",
          "",
          "",
          0.5090809566193242,
          0.6727189348954584,
          "",
          "",
          0.09022699188368305,
          1.4864604261195793,
          ""
         ],
         "yaxis": "y2"
        },
        {
         "connectgaps": false,
         "fill": "tozeroy",
         "line": {
          "color": "red",
          "dash": "solid",
          "shape": "linear",
          "width": 0.5
         },
         "mode": "lines",
         "name": "Spread",
         "showlegend": false,
         "type": "scatter",
         "x": [
          0,
          1,
          2,
          3,
          4,
          5,
          6,
          7,
          8,
          9,
          10,
          11,
          12,
          13,
          14,
          15,
          16,
          17,
          18,
          19,
          20,
          21,
          22,
          23,
          24,
          25,
          26,
          27,
          28,
          29,
          30,
          31,
          32,
          33,
          34,
          35,
          36,
          37,
          38,
          39,
          40,
          41,
          42,
          43,
          44,
          45,
          46,
          47,
          48,
          49,
          50,
          51,
          52,
          53,
          54,
          55,
          56,
          57,
          58,
          59,
          60,
          61,
          62,
          63,
          64,
          65,
          66,
          67,
          68,
          69,
          70,
          71,
          72,
          73,
          74,
          75,
          76,
          77,
          78,
          79,
          80,
          81,
          82,
          83,
          84,
          85,
          86,
          87,
          88,
          89,
          90,
          91,
          92,
          93,
          94,
          95,
          96,
          97,
          98,
          99
         ],
         "xaxis": "x2",
         "y": [
          -1.3783318730016374,
          "",
          -3.6355131738576087,
          -0.8761330638986987,
          -0.06066396512263683,
          -0.17495484563254912,
          "",
          -0.7134187824774799,
          "",
          "",
          -0.5197875155685244,
          -1.4442760557220182,
          "",
          -1.2173107112428128,
          "",
          "",
          -1.5744476119533586,
          -0.9627050431465802,
          "",
          -3.72256003005799,
          -0.1696296129457442,
          "",
          "",
          -0.7676827473658743,
          -1.6046573819565164,
          -1.5109801237678098,
          -1.081972072096463,
          -0.9393047342627946,
          "",
          "",
          -0.6002932908218432,
          "",
          -0.850175551317596,
          "",
          "",
          -0.1184476790220369,
          "",
          "",
          "",
          -0.7118311823051046,
          "",
          "",
          -2.3648678346837526,
          "",
          -0.19006048650606513,
          "",
          "",
          -0.08043332660388403,
          -1.6099950353429309,
          "",
          "",
          -3.1199461700117355,
          -0.316129933974601,
          "",
          -0.059078873319065806,
          "",
          "",
          -0.9335556492882512,
          -1.7467977294757953,
          -0.2621876086091814,
          "",
          "",
          "",
          -0.34661518691749044,
          -1.284257178478006,
          "",
          "",
          -0.27924718994367315,
          -1.1044867347674043,
          -1.863842277315334,
          -1.534194520347526,
          "",
          "",
          "",
          -1.6212521489088787,
          "",
          -1.1057804304976089,
          "",
          "",
          -1.1294605621438976,
          "",
          -2.6512387440867373,
          "",
          -2.2862264075348118,
          "",
          "",
          "",
          "",
          -0.23975220990349816,
          "",
          -0.9991316201270191,
          -1.1437987496779571,
          -1.405717797610861,
          "",
          "",
          -0.15841002425292816,
          -0.3549832022841961,
          "",
          "",
          -0.1432685351856194
         ],
         "yaxis": "y2"
        }
       ],
       "layout": {
        "hovermode": "x",
        "legend": {
         "bgcolor": "#F5F6F9",
         "font": {
          "color": "#4D5663"
         }
        },
        "paper_bgcolor": "#F5F6F9",
        "plot_bgcolor": "#F5F6F9",
        "template": {
         "data": {
          "bar": [
           {
            "error_x": {
             "color": "#2a3f5f"
            },
            "error_y": {
             "color": "#2a3f5f"
            },
            "marker": {
             "line": {
              "color": "#E5ECF6",
              "width": 0.5
             },
             "pattern": {
              "fillmode": "overlay",
              "size": 10,
              "solidity": 0.2
             }
            },
            "type": "bar"
           }
          ],
          "barpolar": [
           {
            "marker": {
             "line": {
              "color": "#E5ECF6",
              "width": 0.5
             },
             "pattern": {
              "fillmode": "overlay",
              "size": 10,
              "solidity": 0.2
             }
            },
            "type": "barpolar"
           }
          ],
          "carpet": [
           {
            "aaxis": {
             "endlinecolor": "#2a3f5f",
             "gridcolor": "white",
             "linecolor": "white",
             "minorgridcolor": "white",
             "startlinecolor": "#2a3f5f"
            },
            "baxis": {
             "endlinecolor": "#2a3f5f",
             "gridcolor": "white",
             "linecolor": "white",
             "minorgridcolor": "white",
             "startlinecolor": "#2a3f5f"
            },
            "type": "carpet"
           }
          ],
          "choropleth": [
           {
            "colorbar": {
             "outlinewidth": 0,
             "ticks": ""
            },
            "type": "choropleth"
           }
          ],
          "contour": [
           {
            "colorbar": {
             "outlinewidth": 0,
             "ticks": ""
            },
            "colorscale": [
             [
              0,
              "#0d0887"
             ],
             [
              0.1111111111111111,
              "#46039f"
             ],
             [
              0.2222222222222222,
              "#7201a8"
             ],
             [
              0.3333333333333333,
              "#9c179e"
             ],
             [
              0.4444444444444444,
              "#bd3786"
             ],
             [
              0.5555555555555556,
              "#d8576b"
             ],
             [
              0.6666666666666666,
              "#ed7953"
             ],
             [
              0.7777777777777778,
              "#fb9f3a"
             ],
             [
              0.8888888888888888,
              "#fdca26"
             ],
             [
              1,
              "#f0f921"
             ]
            ],
            "type": "contour"
           }
          ],
          "contourcarpet": [
           {
            "colorbar": {
             "outlinewidth": 0,
             "ticks": ""
            },
            "type": "contourcarpet"
           }
          ],
          "heatmap": [
           {
            "colorbar": {
             "outlinewidth": 0,
             "ticks": ""
            },
            "colorscale": [
             [
              0,
              "#0d0887"
             ],
             [
              0.1111111111111111,
              "#46039f"
             ],
             [
              0.2222222222222222,
              "#7201a8"
             ],
             [
              0.3333333333333333,
              "#9c179e"
             ],
             [
              0.4444444444444444,
              "#bd3786"
             ],
             [
              0.5555555555555556,
              "#d8576b"
             ],
             [
              0.6666666666666666,
              "#ed7953"
             ],
             [
              0.7777777777777778,
              "#fb9f3a"
             ],
             [
              0.8888888888888888,
              "#fdca26"
             ],
             [
              1,
              "#f0f921"
             ]
            ],
            "type": "heatmap"
           }
          ],
          "heatmapgl": [
           {
            "colorbar": {
             "outlinewidth": 0,
             "ticks": ""
            },
            "colorscale": [
             [
              0,
              "#0d0887"
             ],
             [
              0.1111111111111111,
              "#46039f"
             ],
             [
              0.2222222222222222,
              "#7201a8"
             ],
             [
              0.3333333333333333,
              "#9c179e"
             ],
             [
              0.4444444444444444,
              "#bd3786"
             ],
             [
              0.5555555555555556,
              "#d8576b"
             ],
             [
              0.6666666666666666,
              "#ed7953"
             ],
             [
              0.7777777777777778,
              "#fb9f3a"
             ],
             [
              0.8888888888888888,
              "#fdca26"
             ],
             [
              1,
              "#f0f921"
             ]
            ],
            "type": "heatmapgl"
           }
          ],
          "histogram": [
           {
            "marker": {
             "pattern": {
              "fillmode": "overlay",
              "size": 10,
              "solidity": 0.2
             }
            },
            "type": "histogram"
           }
          ],
          "histogram2d": [
           {
            "colorbar": {
             "outlinewidth": 0,
             "ticks": ""
            },
            "colorscale": [
             [
              0,
              "#0d0887"
             ],
             [
              0.1111111111111111,
              "#46039f"
             ],
             [
              0.2222222222222222,
              "#7201a8"
             ],
             [
              0.3333333333333333,
              "#9c179e"
             ],
             [
              0.4444444444444444,
              "#bd3786"
             ],
             [
              0.5555555555555556,
              "#d8576b"
             ],
             [
              0.6666666666666666,
              "#ed7953"
             ],
             [
              0.7777777777777778,
              "#fb9f3a"
             ],
             [
              0.8888888888888888,
              "#fdca26"
             ],
             [
              1,
              "#f0f921"
             ]
            ],
            "type": "histogram2d"
           }
          ],
          "histogram2dcontour": [
           {
            "colorbar": {
             "outlinewidth": 0,
             "ticks": ""
            },
            "colorscale": [
             [
              0,
              "#0d0887"
             ],
             [
              0.1111111111111111,
              "#46039f"
             ],
             [
              0.2222222222222222,
              "#7201a8"
             ],
             [
              0.3333333333333333,
              "#9c179e"
             ],
             [
              0.4444444444444444,
              "#bd3786"
             ],
             [
              0.5555555555555556,
              "#d8576b"
             ],
             [
              0.6666666666666666,
              "#ed7953"
             ],
             [
              0.7777777777777778,
              "#fb9f3a"
             ],
             [
              0.8888888888888888,
              "#fdca26"
             ],
             [
              1,
              "#f0f921"
             ]
            ],
            "type": "histogram2dcontour"
           }
          ],
          "mesh3d": [
           {
            "colorbar": {
             "outlinewidth": 0,
             "ticks": ""
            },
            "type": "mesh3d"
           }
          ],
          "parcoords": [
           {
            "line": {
             "colorbar": {
              "outlinewidth": 0,
              "ticks": ""
             }
            },
            "type": "parcoords"
           }
          ],
          "pie": [
           {
            "automargin": true,
            "type": "pie"
           }
          ],
          "scatter": [
           {
            "fillpattern": {
             "fillmode": "overlay",
             "size": 10,
             "solidity": 0.2
            },
            "type": "scatter"
           }
          ],
          "scatter3d": [
           {
            "line": {
             "colorbar": {
              "outlinewidth": 0,
              "ticks": ""
             }
            },
            "marker": {
             "colorbar": {
              "outlinewidth": 0,
              "ticks": ""
             }
            },
            "type": "scatter3d"
           }
          ],
          "scattercarpet": [
           {
            "marker": {
             "colorbar": {
              "outlinewidth": 0,
              "ticks": ""
             }
            },
            "type": "scattercarpet"
           }
          ],
          "scattergeo": [
           {
            "marker": {
             "colorbar": {
              "outlinewidth": 0,
              "ticks": ""
             }
            },
            "type": "scattergeo"
           }
          ],
          "scattergl": [
           {
            "marker": {
             "colorbar": {
              "outlinewidth": 0,
              "ticks": ""
             }
            },
            "type": "scattergl"
           }
          ],
          "scattermapbox": [
           {
            "marker": {
             "colorbar": {
              "outlinewidth": 0,
              "ticks": ""
             }
            },
            "type": "scattermapbox"
           }
          ],
          "scatterpolar": [
           {
            "marker": {
             "colorbar": {
              "outlinewidth": 0,
              "ticks": ""
             }
            },
            "type": "scatterpolar"
           }
          ],
          "scatterpolargl": [
           {
            "marker": {
             "colorbar": {
              "outlinewidth": 0,
              "ticks": ""
             }
            },
            "type": "scatterpolargl"
           }
          ],
          "scatterternary": [
           {
            "marker": {
             "colorbar": {
              "outlinewidth": 0,
              "ticks": ""
             }
            },
            "type": "scatterternary"
           }
          ],
          "surface": [
           {
            "colorbar": {
             "outlinewidth": 0,
             "ticks": ""
            },
            "colorscale": [
             [
              0,
              "#0d0887"
             ],
             [
              0.1111111111111111,
              "#46039f"
             ],
             [
              0.2222222222222222,
              "#7201a8"
             ],
             [
              0.3333333333333333,
              "#9c179e"
             ],
             [
              0.4444444444444444,
              "#bd3786"
             ],
             [
              0.5555555555555556,
              "#d8576b"
             ],
             [
              0.6666666666666666,
              "#ed7953"
             ],
             [
              0.7777777777777778,
              "#fb9f3a"
             ],
             [
              0.8888888888888888,
              "#fdca26"
             ],
             [
              1,
              "#f0f921"
             ]
            ],
            "type": "surface"
           }
          ],
          "table": [
           {
            "cells": {
             "fill": {
              "color": "#EBF0F8"
             },
             "line": {
              "color": "white"
             }
            },
            "header": {
             "fill": {
              "color": "#C8D4E3"
             },
             "line": {
              "color": "white"
             }
            },
            "type": "table"
           }
          ]
         },
         "layout": {
          "annotationdefaults": {
           "arrowcolor": "#2a3f5f",
           "arrowhead": 0,
           "arrowwidth": 1
          },
          "autotypenumbers": "strict",
          "coloraxis": {
           "colorbar": {
            "outlinewidth": 0,
            "ticks": ""
           }
          },
          "colorscale": {
           "diverging": [
            [
             0,
             "#8e0152"
            ],
            [
             0.1,
             "#c51b7d"
            ],
            [
             0.2,
             "#de77ae"
            ],
            [
             0.3,
             "#f1b6da"
            ],
            [
             0.4,
             "#fde0ef"
            ],
            [
             0.5,
             "#f7f7f7"
            ],
            [
             0.6,
             "#e6f5d0"
            ],
            [
             0.7,
             "#b8e186"
            ],
            [
             0.8,
             "#7fbc41"
            ],
            [
             0.9,
             "#4d9221"
            ],
            [
             1,
             "#276419"
            ]
           ],
           "sequential": [
            [
             0,
             "#0d0887"
            ],
            [
             0.1111111111111111,
             "#46039f"
            ],
            [
             0.2222222222222222,
             "#7201a8"
            ],
            [
             0.3333333333333333,
             "#9c179e"
            ],
            [
             0.4444444444444444,
             "#bd3786"
            ],
            [
             0.5555555555555556,
             "#d8576b"
            ],
            [
             0.6666666666666666,
             "#ed7953"
            ],
            [
             0.7777777777777778,
             "#fb9f3a"
            ],
            [
             0.8888888888888888,
             "#fdca26"
            ],
            [
             1,
             "#f0f921"
            ]
           ],
           "sequentialminus": [
            [
             0,
             "#0d0887"
            ],
            [
             0.1111111111111111,
             "#46039f"
            ],
            [
             0.2222222222222222,
             "#7201a8"
            ],
            [
             0.3333333333333333,
             "#9c179e"
            ],
            [
             0.4444444444444444,
             "#bd3786"
            ],
            [
             0.5555555555555556,
             "#d8576b"
            ],
            [
             0.6666666666666666,
             "#ed7953"
            ],
            [
             0.7777777777777778,
             "#fb9f3a"
            ],
            [
             0.8888888888888888,
             "#fdca26"
            ],
            [
             1,
             "#f0f921"
            ]
           ]
          },
          "colorway": [
           "#636efa",
           "#EF553B",
           "#00cc96",
           "#ab63fa",
           "#FFA15A",
           "#19d3f3",
           "#FF6692",
           "#B6E880",
           "#FF97FF",
           "#FECB52"
          ],
          "font": {
           "color": "#2a3f5f"
          },
          "geo": {
           "bgcolor": "white",
           "lakecolor": "white",
           "landcolor": "#E5ECF6",
           "showlakes": true,
           "showland": true,
           "subunitcolor": "white"
          },
          "hoverlabel": {
           "align": "left"
          },
          "hovermode": "closest",
          "mapbox": {
           "style": "light"
          },
          "paper_bgcolor": "white",
          "plot_bgcolor": "#E5ECF6",
          "polar": {
           "angularaxis": {
            "gridcolor": "white",
            "linecolor": "white",
            "ticks": ""
           },
           "bgcolor": "#E5ECF6",
           "radialaxis": {
            "gridcolor": "white",
            "linecolor": "white",
            "ticks": ""
           }
          },
          "scene": {
           "xaxis": {
            "backgroundcolor": "#E5ECF6",
            "gridcolor": "white",
            "gridwidth": 2,
            "linecolor": "white",
            "showbackground": true,
            "ticks": "",
            "zerolinecolor": "white"
           },
           "yaxis": {
            "backgroundcolor": "#E5ECF6",
            "gridcolor": "white",
            "gridwidth": 2,
            "linecolor": "white",
            "showbackground": true,
            "ticks": "",
            "zerolinecolor": "white"
           },
           "zaxis": {
            "backgroundcolor": "#E5ECF6",
            "gridcolor": "white",
            "gridwidth": 2,
            "linecolor": "white",
            "showbackground": true,
            "ticks": "",
            "zerolinecolor": "white"
           }
          },
          "shapedefaults": {
           "line": {
            "color": "#2a3f5f"
           }
          },
          "ternary": {
           "aaxis": {
            "gridcolor": "white",
            "linecolor": "white",
            "ticks": ""
           },
           "baxis": {
            "gridcolor": "white",
            "linecolor": "white",
            "ticks": ""
           },
           "bgcolor": "#E5ECF6",
           "caxis": {
            "gridcolor": "white",
            "linecolor": "white",
            "ticks": ""
           }
          },
          "title": {
           "x": 0.05
          },
          "xaxis": {
           "automargin": true,
           "gridcolor": "white",
           "linecolor": "white",
           "ticks": "",
           "title": {
            "standoff": 15
           },
           "zerolinecolor": "white",
           "zerolinewidth": 2
          },
          "yaxis": {
           "automargin": true,
           "gridcolor": "white",
           "linecolor": "white",
           "ticks": "",
           "title": {
            "standoff": 15
           },
           "zerolinecolor": "white",
           "zerolinewidth": 2
          }
         }
        },
        "title": {
         "font": {
          "color": "#4D5663"
         }
        },
        "xaxis": {
         "gridcolor": "#E1E5ED",
         "showgrid": true,
         "tickfont": {
          "color": "#4D5663"
         },
         "title": {
          "font": {
           "color": "#4D5663"
          },
          "text": ""
         },
         "zerolinecolor": "#E1E5ED"
        },
        "xaxis2": {
         "anchor": "y2",
         "gridcolor": "#E1E5ED",
         "showgrid": true,
         "showticklabels": false,
         "tickfont": {
          "color": "#4D5663"
         },
         "title": {
          "font": {
           "color": "#4D5663"
          },
          "text": ""
         },
         "zerolinecolor": "#E1E5ED"
        },
        "yaxis": {
         "domain": [
          0.3,
          1
         ],
         "gridcolor": "#E1E5ED",
         "showgrid": true,
         "tickfont": {
          "color": "#4D5663"
         },
         "title": {
          "font": {
           "color": "#4D5663"
          },
          "text": ""
         },
         "zerolinecolor": "#E1E5ED"
        },
        "yaxis2": {
         "domain": [
          0,
          0.25
         ],
         "gridcolor": "#E1E5ED",
         "showgrid": true,
         "tickfont": {
          "color": "#4D5663"
         },
         "title": {
          "font": {
           "color": "#4D5663"
          },
          "text": "Spread"
         },
         "zerolinecolor": "#E1E5ED"
        }
       }
      },
      "text/html": [
       "<div>                            <div id=\"fc452d44-8b10-4056-82dc-14910bc070f3\" class=\"plotly-graph-div\" style=\"height:525px; width:100%;\"></div>            <script type=\"text/javascript\">                require([\"plotly\"], function(Plotly) {                    window.PLOTLYENV=window.PLOTLYENV || {};\n",
       "                    window.PLOTLYENV.BASE_URL='https://plot.ly';                                    if (document.getElementById(\"fc452d44-8b10-4056-82dc-14910bc070f3\")) {                    Plotly.newPlot(                        \"fc452d44-8b10-4056-82dc-14910bc070f3\",                        [{\"line\":{\"color\":\"rgba(255, 153, 51, 1.0)\",\"dash\":\"solid\",\"shape\":\"linear\",\"width\":1.3},\"mode\":\"lines\",\"name\":\"A\",\"text\":\"\",\"x\":[0,1,2,3,4,5,6,7,8,9,10,11,12,13,14,15,16,17,18,19,20,21,22,23,24,25,26,27,28,29,30,31,32,33,34,35,36,37,38,39,40,41,42,43,44,45,46,47,48,49,50,51,52,53,54,55,56,57,58,59,60,61,62,63,64,65,66,67,68,69,70,71,72,73,74,75,76,77,78,79,80,81,82,83,84,85,86,87,88,89,90,91,92,93,94,95,96,97,98,99],\"y\":[-0.8717698350824767,0.11158432563991447,-2.7407395816036657,-1.0831976641681382,1.1051072558998412,-0.17169344572694262,0.43545635385970705,-0.09179294744208095,1.2264053142154256,1.551070466120222,-0.07121816924493687,-0.24600156908269727,0.15679944703330018,0.36559433298643446,2.660901371310062,1.855261613043312,-1.187059893505927,-0.3052965411783563,0.34235339848159724,-1.0084991752646242,-0.44254546436287656,0.6015254636451396,-0.2893097954432154,-0.7546569708093946,-0.649126922087612,-2.1670947304978943,-0.3521562590934882,-0.9825167171173528,0.4823638869124494,1.3991689937677,-1.0813487141186187,0.6812913811262418,-1.7997352733997822,0.40689483051570857,0.7305405406125538,0.17729696480255686,-0.4913828603510736,2.1551214812117236,-0.3357732892600588,0.6710258318221457,0.4922473932911538,-0.10608069827993899,-1.0721648569540283,1.5728260539297312,0.20627952814649006,0.4331828673111826,0.5413904546492052,0.596582038146462,-1.8059550967021047,1.0945562036012295,-0.6169826965091776,-1.7902865377237571,0.5756306505590018,0.22217194529919052,-0.37471866566691503,0.7533629372808431,1.2629346709986544,-0.29821714013709033,-0.40133028481671007,-0.14040244863090015,-0.7990425935512757,-0.25061752621963,0.09440658081002298,0.4639600910791964,-0.7548655530468488,0.2734573473584046,0.49953115601213216,0.2621673503662859,0.30879618891841415,-0.742579207698379,-2.140700808751398,1.085103424801508,2.5556712856305173,-0.3637449248748844,-1.7745895218285208,1.2839097135591673,1.4597017361633555,0.14355489019463594,1.1128650539993221,-1.399046146468581,0.29022433493130806,0.13941011249953447,-0.2557152779064104,-0.7964512095902642,0.9961864143816616,-0.2691610164434471,-0.5858401029934867,0.11472154570458645,-0.4385200016664815,1.5008416922368417,-1.4689795375674919,-1.3756996146289049,-1.4038172925442085,0.03665900419045025,1.3403311533249536,0.06474975963959607,-0.2672933031787719,0.5128393508997586,-0.393643566601903,0.22607092990429803],\"type\":\"scatter\"},{\"line\":{\"color\":\"rgba(55, 128, 191, 1.0)\",\"dash\":\"solid\",\"shape\":\"linear\",\"width\":1.3},\"mode\":\"lines\",\"name\":\"B\",\"text\":\"\",\"x\":[0,1,2,3,4,5,6,7,8,9,10,11,12,13,14,15,16,17,18,19,20,21,22,23,24,25,26,27,28,29,30,31,32,33,34,35,36,37,38,39,40,41,42,43,44,45,46,47,48,49,50,51,52,53,54,55,56,57,58,59,60,61,62,63,64,65,66,67,68,69,70,71,72,73,74,75,76,77,78,79,80,81,82,83,84,85,86,87,88,89,90,91,92,93,94,95,96,97,98,99],\"y\":[0.5065620379191607,-0.2602965765539084,0.8947735922539433,-0.20706460026943954,1.165771221022478,0.0032613999056064972,0.15139506602725938,0.6216258350353989,-0.021273642226957677,-1.1658427051339177,0.4485693463235875,1.198274486639321,-0.25883153636865897,1.5829050442292472,-0.2682700312910577,-0.9352385575141785,0.38738771844743153,0.6574085019682239,-0.3572746873306874,2.714060854793366,-0.27291585141713237,-1.2906302068302504,-1.222761949561528,0.013025776556479629,0.9555304598689044,-0.6561146067300845,0.7298158130029747,-0.0432119828545582,-1.5216252605551706,-0.41404987215419986,-0.4810554232967754,-0.3078050607294259,-0.9495597220821862,0.20112949349038098,0.47257768807001005,0.29574464382459376,-0.6667256588550254,-0.7800462317273794,-2.4382958618125476,1.3828570141272503,-0.21013575867841097,-0.3029006268498382,1.2927029777297245,0.2830982533145663,0.3963400146525552,-0.3848004619501144,-0.09272185828621662,0.6770153647503461,-0.1959600613591739,0.5404291839045626,-1.8217224971370247,1.3296596322879783,0.8917605845336027,-0.15443195850639932,-0.3156397923478492,-1.2712742376782356,1.1883595805266332,0.6353385091511609,1.3454674446590853,0.12178515997828125,-0.8555683113616778,-0.9785772156833887,0.057287811538334794,0.8105752779966868,0.529391625431157,0.02176697311291148,0.1811098993369195,0.5414145403099591,1.4132829236858184,1.121263069616955,-0.6065062884038721,-0.4234421639133906,0.7333946895918884,-0.7988318165943966,-0.15333737291964203,0.6713340498814011,2.5654821666609644,-0.6368941736308625,0.2447377902458404,-0.2695855843246836,0.1999260409044481,2.7906488565862717,-0.5480652035741574,1.4897751979445475,0.9394818515356372,-0.6843231983909116,-0.8926565888689287,-1.0233349824867406,-0.19876779176298331,0.331603640930695,-0.4698479174404729,-0.23190086495094775,0.0019005050666524434,-0.47242195242887397,0.6676122184294951,0.22315978389252422,0.08768989910542416,0.4226123590160756,-1.8801039927214822,0.36933946508991744],\"type\":\"scatter\"},{\"connectgaps\":false,\"fill\":\"tozeroy\",\"line\":{\"color\":\"green\",\"dash\":\"solid\",\"shape\":\"linear\",\"width\":0.5},\"mode\":\"lines\",\"name\":\"Spread\",\"showlegend\":false,\"x\":[0,1,2,3,4,5,6,7,8,9,10,11,12,13,14,15,16,17,18,19,20,21,22,23,24,25,26,27,28,29,30,31,32,33,34,35,36,37,38,39,40,41,42,43,44,45,46,47,48,49,50,51,52,53,54,55,56,57,58,59,60,61,62,63,64,65,66,67,68,69,70,71,72,73,74,75,76,77,78,79,80,81,82,83,84,85,86,87,88,89,90,91,92,93,94,95,96,97,98,99],\"xaxis\":\"x2\",\"y\":[\"\",0.37188090219382286,\"\",\"\",\"\",\"\",0.28406128783244766,\"\",1.2476789564423834,2.7169131712541397,\"\",\"\",0.41563098340195914,\"\",2.9291714026011197,2.7905001705574906,\"\",\"\",0.6996280858122846,\"\",\"\",1.8921556704753901,0.9334521541183127,\"\",\"\",\"\",\"\",\"\",2.00398914746762,1.8132188659219,\"\",0.9890964418556676,\"\",0.2057653370253276,0.25796285254254375,\"\",0.17534279850395185,2.935167712939103,2.102522572552489,\"\",0.7023831519695648,0.19681992856989922,\"\",1.289727800615165,\"\",0.817983329261297,0.6341123129354218,\"\",\"\",0.5541270196966669,1.2047398006278471,\"\",\"\",0.37660390380558983,\"\",2.0246371749590786,0.07457509047202127,\"\",\"\",\"\",0.056525717810402054,0.7279596894637588,0.03711876927168819,\"\",\"\",0.2516903742454931,0.31842125667521265,\"\",\"\",\"\",\"\",1.5085455887148984,1.822276596038629,0.4350868917195122,\"\",0.6125756636777662,\"\",0.7804490638254985,0.8681272637534817,\"\",0.09029829402685996,\"\",0.29234992566774703,\"\",0.05670456284602432,0.4151621819474645,0.3068164858754421,1.138056528191327,\"\",1.1692380513061467,\"\",\"\",\"\",0.5090809566193242,0.6727189348954584,\"\",\"\",0.09022699188368305,1.4864604261195793,\"\"],\"yaxis\":\"y2\",\"type\":\"scatter\"},{\"connectgaps\":false,\"fill\":\"tozeroy\",\"line\":{\"color\":\"red\",\"dash\":\"solid\",\"shape\":\"linear\",\"width\":0.5},\"mode\":\"lines\",\"name\":\"Spread\",\"showlegend\":false,\"x\":[0,1,2,3,4,5,6,7,8,9,10,11,12,13,14,15,16,17,18,19,20,21,22,23,24,25,26,27,28,29,30,31,32,33,34,35,36,37,38,39,40,41,42,43,44,45,46,47,48,49,50,51,52,53,54,55,56,57,58,59,60,61,62,63,64,65,66,67,68,69,70,71,72,73,74,75,76,77,78,79,80,81,82,83,84,85,86,87,88,89,90,91,92,93,94,95,96,97,98,99],\"xaxis\":\"x2\",\"y\":[-1.3783318730016374,\"\",-3.6355131738576087,-0.8761330638986987,-0.06066396512263683,-0.17495484563254912,\"\",-0.7134187824774799,\"\",\"\",-0.5197875155685244,-1.4442760557220182,\"\",-1.2173107112428128,\"\",\"\",-1.5744476119533586,-0.9627050431465802,\"\",-3.72256003005799,-0.1696296129457442,\"\",\"\",-0.7676827473658743,-1.6046573819565164,-1.5109801237678098,-1.081972072096463,-0.9393047342627946,\"\",\"\",-0.6002932908218432,\"\",-0.850175551317596,\"\",\"\",-0.1184476790220369,\"\",\"\",\"\",-0.7118311823051046,\"\",\"\",-2.3648678346837526,\"\",-0.19006048650606513,\"\",\"\",-0.08043332660388403,-1.6099950353429309,\"\",\"\",-3.1199461700117355,-0.316129933974601,\"\",-0.059078873319065806,\"\",\"\",-0.9335556492882512,-1.7467977294757953,-0.2621876086091814,\"\",\"\",\"\",-0.34661518691749044,-1.284257178478006,\"\",\"\",-0.27924718994367315,-1.1044867347674043,-1.863842277315334,-1.534194520347526,\"\",\"\",\"\",-1.6212521489088787,\"\",-1.1057804304976089,\"\",\"\",-1.1294605621438976,\"\",-2.6512387440867373,\"\",-2.2862264075348118,\"\",\"\",\"\",\"\",-0.23975220990349816,\"\",-0.9991316201270191,-1.1437987496779571,-1.405717797610861,\"\",\"\",-0.15841002425292816,-0.3549832022841961,\"\",\"\",-0.1432685351856194],\"yaxis\":\"y2\",\"type\":\"scatter\"}],                        {\"hovermode\":\"x\",\"legend\":{\"bgcolor\":\"#F5F6F9\",\"font\":{\"color\":\"#4D5663\"}},\"paper_bgcolor\":\"#F5F6F9\",\"plot_bgcolor\":\"#F5F6F9\",\"template\":{\"data\":{\"barpolar\":[{\"marker\":{\"line\":{\"color\":\"#E5ECF6\",\"width\":0.5},\"pattern\":{\"fillmode\":\"overlay\",\"size\":10,\"solidity\":0.2}},\"type\":\"barpolar\"}],\"bar\":[{\"error_x\":{\"color\":\"#2a3f5f\"},\"error_y\":{\"color\":\"#2a3f5f\"},\"marker\":{\"line\":{\"color\":\"#E5ECF6\",\"width\":0.5},\"pattern\":{\"fillmode\":\"overlay\",\"size\":10,\"solidity\":0.2}},\"type\":\"bar\"}],\"carpet\":[{\"aaxis\":{\"endlinecolor\":\"#2a3f5f\",\"gridcolor\":\"white\",\"linecolor\":\"white\",\"minorgridcolor\":\"white\",\"startlinecolor\":\"#2a3f5f\"},\"baxis\":{\"endlinecolor\":\"#2a3f5f\",\"gridcolor\":\"white\",\"linecolor\":\"white\",\"minorgridcolor\":\"white\",\"startlinecolor\":\"#2a3f5f\"},\"type\":\"carpet\"}],\"choropleth\":[{\"colorbar\":{\"outlinewidth\":0,\"ticks\":\"\"},\"type\":\"choropleth\"}],\"contourcarpet\":[{\"colorbar\":{\"outlinewidth\":0,\"ticks\":\"\"},\"type\":\"contourcarpet\"}],\"contour\":[{\"colorbar\":{\"outlinewidth\":0,\"ticks\":\"\"},\"colorscale\":[[0.0,\"#0d0887\"],[0.1111111111111111,\"#46039f\"],[0.2222222222222222,\"#7201a8\"],[0.3333333333333333,\"#9c179e\"],[0.4444444444444444,\"#bd3786\"],[0.5555555555555556,\"#d8576b\"],[0.6666666666666666,\"#ed7953\"],[0.7777777777777778,\"#fb9f3a\"],[0.8888888888888888,\"#fdca26\"],[1.0,\"#f0f921\"]],\"type\":\"contour\"}],\"heatmapgl\":[{\"colorbar\":{\"outlinewidth\":0,\"ticks\":\"\"},\"colorscale\":[[0.0,\"#0d0887\"],[0.1111111111111111,\"#46039f\"],[0.2222222222222222,\"#7201a8\"],[0.3333333333333333,\"#9c179e\"],[0.4444444444444444,\"#bd3786\"],[0.5555555555555556,\"#d8576b\"],[0.6666666666666666,\"#ed7953\"],[0.7777777777777778,\"#fb9f3a\"],[0.8888888888888888,\"#fdca26\"],[1.0,\"#f0f921\"]],\"type\":\"heatmapgl\"}],\"heatmap\":[{\"colorbar\":{\"outlinewidth\":0,\"ticks\":\"\"},\"colorscale\":[[0.0,\"#0d0887\"],[0.1111111111111111,\"#46039f\"],[0.2222222222222222,\"#7201a8\"],[0.3333333333333333,\"#9c179e\"],[0.4444444444444444,\"#bd3786\"],[0.5555555555555556,\"#d8576b\"],[0.6666666666666666,\"#ed7953\"],[0.7777777777777778,\"#fb9f3a\"],[0.8888888888888888,\"#fdca26\"],[1.0,\"#f0f921\"]],\"type\":\"heatmap\"}],\"histogram2dcontour\":[{\"colorbar\":{\"outlinewidth\":0,\"ticks\":\"\"},\"colorscale\":[[0.0,\"#0d0887\"],[0.1111111111111111,\"#46039f\"],[0.2222222222222222,\"#7201a8\"],[0.3333333333333333,\"#9c179e\"],[0.4444444444444444,\"#bd3786\"],[0.5555555555555556,\"#d8576b\"],[0.6666666666666666,\"#ed7953\"],[0.7777777777777778,\"#fb9f3a\"],[0.8888888888888888,\"#fdca26\"],[1.0,\"#f0f921\"]],\"type\":\"histogram2dcontour\"}],\"histogram2d\":[{\"colorbar\":{\"outlinewidth\":0,\"ticks\":\"\"},\"colorscale\":[[0.0,\"#0d0887\"],[0.1111111111111111,\"#46039f\"],[0.2222222222222222,\"#7201a8\"],[0.3333333333333333,\"#9c179e\"],[0.4444444444444444,\"#bd3786\"],[0.5555555555555556,\"#d8576b\"],[0.6666666666666666,\"#ed7953\"],[0.7777777777777778,\"#fb9f3a\"],[0.8888888888888888,\"#fdca26\"],[1.0,\"#f0f921\"]],\"type\":\"histogram2d\"}],\"histogram\":[{\"marker\":{\"pattern\":{\"fillmode\":\"overlay\",\"size\":10,\"solidity\":0.2}},\"type\":\"histogram\"}],\"mesh3d\":[{\"colorbar\":{\"outlinewidth\":0,\"ticks\":\"\"},\"type\":\"mesh3d\"}],\"parcoords\":[{\"line\":{\"colorbar\":{\"outlinewidth\":0,\"ticks\":\"\"}},\"type\":\"parcoords\"}],\"pie\":[{\"automargin\":true,\"type\":\"pie\"}],\"scatter3d\":[{\"line\":{\"colorbar\":{\"outlinewidth\":0,\"ticks\":\"\"}},\"marker\":{\"colorbar\":{\"outlinewidth\":0,\"ticks\":\"\"}},\"type\":\"scatter3d\"}],\"scattercarpet\":[{\"marker\":{\"colorbar\":{\"outlinewidth\":0,\"ticks\":\"\"}},\"type\":\"scattercarpet\"}],\"scattergeo\":[{\"marker\":{\"colorbar\":{\"outlinewidth\":0,\"ticks\":\"\"}},\"type\":\"scattergeo\"}],\"scattergl\":[{\"marker\":{\"colorbar\":{\"outlinewidth\":0,\"ticks\":\"\"}},\"type\":\"scattergl\"}],\"scattermapbox\":[{\"marker\":{\"colorbar\":{\"outlinewidth\":0,\"ticks\":\"\"}},\"type\":\"scattermapbox\"}],\"scatterpolargl\":[{\"marker\":{\"colorbar\":{\"outlinewidth\":0,\"ticks\":\"\"}},\"type\":\"scatterpolargl\"}],\"scatterpolar\":[{\"marker\":{\"colorbar\":{\"outlinewidth\":0,\"ticks\":\"\"}},\"type\":\"scatterpolar\"}],\"scatter\":[{\"fillpattern\":{\"fillmode\":\"overlay\",\"size\":10,\"solidity\":0.2},\"type\":\"scatter\"}],\"scatterternary\":[{\"marker\":{\"colorbar\":{\"outlinewidth\":0,\"ticks\":\"\"}},\"type\":\"scatterternary\"}],\"surface\":[{\"colorbar\":{\"outlinewidth\":0,\"ticks\":\"\"},\"colorscale\":[[0.0,\"#0d0887\"],[0.1111111111111111,\"#46039f\"],[0.2222222222222222,\"#7201a8\"],[0.3333333333333333,\"#9c179e\"],[0.4444444444444444,\"#bd3786\"],[0.5555555555555556,\"#d8576b\"],[0.6666666666666666,\"#ed7953\"],[0.7777777777777778,\"#fb9f3a\"],[0.8888888888888888,\"#fdca26\"],[1.0,\"#f0f921\"]],\"type\":\"surface\"}],\"table\":[{\"cells\":{\"fill\":{\"color\":\"#EBF0F8\"},\"line\":{\"color\":\"white\"}},\"header\":{\"fill\":{\"color\":\"#C8D4E3\"},\"line\":{\"color\":\"white\"}},\"type\":\"table\"}]},\"layout\":{\"annotationdefaults\":{\"arrowcolor\":\"#2a3f5f\",\"arrowhead\":0,\"arrowwidth\":1},\"autotypenumbers\":\"strict\",\"coloraxis\":{\"colorbar\":{\"outlinewidth\":0,\"ticks\":\"\"}},\"colorscale\":{\"diverging\":[[0,\"#8e0152\"],[0.1,\"#c51b7d\"],[0.2,\"#de77ae\"],[0.3,\"#f1b6da\"],[0.4,\"#fde0ef\"],[0.5,\"#f7f7f7\"],[0.6,\"#e6f5d0\"],[0.7,\"#b8e186\"],[0.8,\"#7fbc41\"],[0.9,\"#4d9221\"],[1,\"#276419\"]],\"sequential\":[[0.0,\"#0d0887\"],[0.1111111111111111,\"#46039f\"],[0.2222222222222222,\"#7201a8\"],[0.3333333333333333,\"#9c179e\"],[0.4444444444444444,\"#bd3786\"],[0.5555555555555556,\"#d8576b\"],[0.6666666666666666,\"#ed7953\"],[0.7777777777777778,\"#fb9f3a\"],[0.8888888888888888,\"#fdca26\"],[1.0,\"#f0f921\"]],\"sequentialminus\":[[0.0,\"#0d0887\"],[0.1111111111111111,\"#46039f\"],[0.2222222222222222,\"#7201a8\"],[0.3333333333333333,\"#9c179e\"],[0.4444444444444444,\"#bd3786\"],[0.5555555555555556,\"#d8576b\"],[0.6666666666666666,\"#ed7953\"],[0.7777777777777778,\"#fb9f3a\"],[0.8888888888888888,\"#fdca26\"],[1.0,\"#f0f921\"]]},\"colorway\":[\"#636efa\",\"#EF553B\",\"#00cc96\",\"#ab63fa\",\"#FFA15A\",\"#19d3f3\",\"#FF6692\",\"#B6E880\",\"#FF97FF\",\"#FECB52\"],\"font\":{\"color\":\"#2a3f5f\"},\"geo\":{\"bgcolor\":\"white\",\"lakecolor\":\"white\",\"landcolor\":\"#E5ECF6\",\"showlakes\":true,\"showland\":true,\"subunitcolor\":\"white\"},\"hoverlabel\":{\"align\":\"left\"},\"hovermode\":\"closest\",\"mapbox\":{\"style\":\"light\"},\"paper_bgcolor\":\"white\",\"plot_bgcolor\":\"#E5ECF6\",\"polar\":{\"angularaxis\":{\"gridcolor\":\"white\",\"linecolor\":\"white\",\"ticks\":\"\"},\"bgcolor\":\"#E5ECF6\",\"radialaxis\":{\"gridcolor\":\"white\",\"linecolor\":\"white\",\"ticks\":\"\"}},\"scene\":{\"xaxis\":{\"backgroundcolor\":\"#E5ECF6\",\"gridcolor\":\"white\",\"gridwidth\":2,\"linecolor\":\"white\",\"showbackground\":true,\"ticks\":\"\",\"zerolinecolor\":\"white\"},\"yaxis\":{\"backgroundcolor\":\"#E5ECF6\",\"gridcolor\":\"white\",\"gridwidth\":2,\"linecolor\":\"white\",\"showbackground\":true,\"ticks\":\"\",\"zerolinecolor\":\"white\"},\"zaxis\":{\"backgroundcolor\":\"#E5ECF6\",\"gridcolor\":\"white\",\"gridwidth\":2,\"linecolor\":\"white\",\"showbackground\":true,\"ticks\":\"\",\"zerolinecolor\":\"white\"}},\"shapedefaults\":{\"line\":{\"color\":\"#2a3f5f\"}},\"ternary\":{\"aaxis\":{\"gridcolor\":\"white\",\"linecolor\":\"white\",\"ticks\":\"\"},\"baxis\":{\"gridcolor\":\"white\",\"linecolor\":\"white\",\"ticks\":\"\"},\"bgcolor\":\"#E5ECF6\",\"caxis\":{\"gridcolor\":\"white\",\"linecolor\":\"white\",\"ticks\":\"\"}},\"title\":{\"x\":0.05},\"xaxis\":{\"automargin\":true,\"gridcolor\":\"white\",\"linecolor\":\"white\",\"ticks\":\"\",\"title\":{\"standoff\":15},\"zerolinecolor\":\"white\",\"zerolinewidth\":2},\"yaxis\":{\"automargin\":true,\"gridcolor\":\"white\",\"linecolor\":\"white\",\"ticks\":\"\",\"title\":{\"standoff\":15},\"zerolinecolor\":\"white\",\"zerolinewidth\":2}}},\"title\":{\"font\":{\"color\":\"#4D5663\"}},\"xaxis\":{\"gridcolor\":\"#E1E5ED\",\"showgrid\":true,\"tickfont\":{\"color\":\"#4D5663\"},\"title\":{\"font\":{\"color\":\"#4D5663\"},\"text\":\"\"},\"zerolinecolor\":\"#E1E5ED\"},\"yaxis\":{\"domain\":[0.3,1],\"gridcolor\":\"#E1E5ED\",\"showgrid\":true,\"tickfont\":{\"color\":\"#4D5663\"},\"title\":{\"font\":{\"color\":\"#4D5663\"},\"text\":\"\"},\"zerolinecolor\":\"#E1E5ED\"},\"yaxis2\":{\"domain\":[0,0.25],\"gridcolor\":\"#E1E5ED\",\"showgrid\":true,\"tickfont\":{\"color\":\"#4D5663\"},\"title\":{\"font\":{\"color\":\"#4D5663\"},\"text\":\"Spread\"},\"zerolinecolor\":\"#E1E5ED\"},\"xaxis2\":{\"anchor\":\"y2\",\"gridcolor\":\"#E1E5ED\",\"showgrid\":true,\"showticklabels\":false,\"tickfont\":{\"color\":\"#4D5663\"},\"title\":{\"font\":{\"color\":\"#4D5663\"},\"text\":\"\"},\"zerolinecolor\":\"#E1E5ED\"}},                        {\"showLink\": true, \"linkText\": \"Export to plot.ly\", \"plotlyServerURL\": \"https://plot.ly\", \"responsive\": true}                    ).then(function(){\n",
       "                            \n",
       "var gd = document.getElementById('fc452d44-8b10-4056-82dc-14910bc070f3');\n",
       "var x = new MutationObserver(function (mutations, observer) {{\n",
       "        var display = window.getComputedStyle(gd).display;\n",
       "        if (!display || display === 'none') {{\n",
       "            console.log([gd, 'removed!']);\n",
       "            Plotly.purge(gd);\n",
       "            observer.disconnect();\n",
       "        }}\n",
       "}});\n",
       "\n",
       "// Listen for the removal of the full notebook cells\n",
       "var notebookContainer = gd.closest('#notebook-container');\n",
       "if (notebookContainer) {{\n",
       "    x.observe(notebookContainer, {childList: true});\n",
       "}}\n",
       "\n",
       "// Listen for the clearing of the current output cell\n",
       "var outputEl = gd.closest('.output');\n",
       "if (outputEl) {{\n",
       "    x.observe(outputEl, {childList: true});\n",
       "}}\n",
       "\n",
       "                        })                };                });            </script>        </div>"
      ]
     },
     "metadata": {},
     "output_type": "display_data"
    }
   ],
   "source": [
    "df[['A','B']].iplot(kind='spread')"
   ]
  },
  {
   "cell_type": "markdown",
   "metadata": {},
   "source": [
    "## histogram"
   ]
  },
  {
   "cell_type": "code",
   "execution_count": 18,
   "metadata": {},
   "outputs": [
    {
     "data": {
      "application/vnd.plotly.v1+json": {
       "config": {
        "linkText": "Export to plot.ly",
        "plotlyServerURL": "https://plot.ly",
        "showLink": true
       },
       "data": [
        {
         "histfunc": "count",
         "histnorm": "",
         "marker": {
          "color": "rgba(255, 153, 51, 1.0)",
          "line": {
           "color": "#4D5663",
           "width": 1.3
          }
         },
         "name": "A",
         "nbinsx": 25,
         "opacity": 0.8,
         "orientation": "v",
         "type": "histogram",
         "x": [
          -0.8717698350824767,
          0.11158432563991447,
          -2.7407395816036657,
          -1.0831976641681382,
          1.1051072558998412,
          -0.17169344572694262,
          0.43545635385970705,
          -0.09179294744208095,
          1.2264053142154256,
          1.551070466120222,
          -0.07121816924493687,
          -0.24600156908269727,
          0.15679944703330018,
          0.36559433298643446,
          2.660901371310062,
          1.855261613043312,
          -1.187059893505927,
          -0.3052965411783563,
          0.34235339848159724,
          -1.0084991752646242,
          -0.44254546436287656,
          0.6015254636451396,
          -0.2893097954432154,
          -0.7546569708093946,
          -0.649126922087612,
          -2.1670947304978943,
          -0.3521562590934882,
          -0.9825167171173528,
          0.4823638869124494,
          1.3991689937677,
          -1.0813487141186187,
          0.6812913811262418,
          -1.7997352733997822,
          0.40689483051570857,
          0.7305405406125538,
          0.17729696480255686,
          -0.4913828603510736,
          2.1551214812117236,
          -0.3357732892600588,
          0.6710258318221457,
          0.4922473932911538,
          -0.10608069827993899,
          -1.0721648569540283,
          1.5728260539297312,
          0.20627952814649006,
          0.4331828673111826,
          0.5413904546492052,
          0.596582038146462,
          -1.8059550967021047,
          1.0945562036012295,
          -0.6169826965091776,
          -1.7902865377237571,
          0.5756306505590018,
          0.22217194529919052,
          -0.37471866566691503,
          0.7533629372808431,
          1.2629346709986544,
          -0.29821714013709033,
          -0.40133028481671007,
          -0.14040244863090015,
          -0.7990425935512757,
          -0.25061752621963,
          0.09440658081002298,
          0.4639600910791964,
          -0.7548655530468488,
          0.2734573473584046,
          0.49953115601213216,
          0.2621673503662859,
          0.30879618891841415,
          -0.742579207698379,
          -2.140700808751398,
          1.085103424801508,
          2.5556712856305173,
          -0.3637449248748844,
          -1.7745895218285208,
          1.2839097135591673,
          1.4597017361633555,
          0.14355489019463594,
          1.1128650539993221,
          -1.399046146468581,
          0.29022433493130806,
          0.13941011249953447,
          -0.2557152779064104,
          -0.7964512095902642,
          0.9961864143816616,
          -0.2691610164434471,
          -0.5858401029934867,
          0.11472154570458645,
          -0.4385200016664815,
          1.5008416922368417,
          -1.4689795375674919,
          -1.3756996146289049,
          -1.4038172925442085,
          0.03665900419045025,
          1.3403311533249536,
          0.06474975963959607,
          -0.2672933031787719,
          0.5128393508997586,
          -0.393643566601903,
          0.22607092990429803
         ]
        }
       ],
       "layout": {
        "barmode": "overlay",
        "legend": {
         "bgcolor": "#F5F6F9",
         "font": {
          "color": "#4D5663"
         }
        },
        "paper_bgcolor": "#F5F6F9",
        "plot_bgcolor": "#F5F6F9",
        "template": {
         "data": {
          "bar": [
           {
            "error_x": {
             "color": "#2a3f5f"
            },
            "error_y": {
             "color": "#2a3f5f"
            },
            "marker": {
             "line": {
              "color": "#E5ECF6",
              "width": 0.5
             },
             "pattern": {
              "fillmode": "overlay",
              "size": 10,
              "solidity": 0.2
             }
            },
            "type": "bar"
           }
          ],
          "barpolar": [
           {
            "marker": {
             "line": {
              "color": "#E5ECF6",
              "width": 0.5
             },
             "pattern": {
              "fillmode": "overlay",
              "size": 10,
              "solidity": 0.2
             }
            },
            "type": "barpolar"
           }
          ],
          "carpet": [
           {
            "aaxis": {
             "endlinecolor": "#2a3f5f",
             "gridcolor": "white",
             "linecolor": "white",
             "minorgridcolor": "white",
             "startlinecolor": "#2a3f5f"
            },
            "baxis": {
             "endlinecolor": "#2a3f5f",
             "gridcolor": "white",
             "linecolor": "white",
             "minorgridcolor": "white",
             "startlinecolor": "#2a3f5f"
            },
            "type": "carpet"
           }
          ],
          "choropleth": [
           {
            "colorbar": {
             "outlinewidth": 0,
             "ticks": ""
            },
            "type": "choropleth"
           }
          ],
          "contour": [
           {
            "colorbar": {
             "outlinewidth": 0,
             "ticks": ""
            },
            "colorscale": [
             [
              0,
              "#0d0887"
             ],
             [
              0.1111111111111111,
              "#46039f"
             ],
             [
              0.2222222222222222,
              "#7201a8"
             ],
             [
              0.3333333333333333,
              "#9c179e"
             ],
             [
              0.4444444444444444,
              "#bd3786"
             ],
             [
              0.5555555555555556,
              "#d8576b"
             ],
             [
              0.6666666666666666,
              "#ed7953"
             ],
             [
              0.7777777777777778,
              "#fb9f3a"
             ],
             [
              0.8888888888888888,
              "#fdca26"
             ],
             [
              1,
              "#f0f921"
             ]
            ],
            "type": "contour"
           }
          ],
          "contourcarpet": [
           {
            "colorbar": {
             "outlinewidth": 0,
             "ticks": ""
            },
            "type": "contourcarpet"
           }
          ],
          "heatmap": [
           {
            "colorbar": {
             "outlinewidth": 0,
             "ticks": ""
            },
            "colorscale": [
             [
              0,
              "#0d0887"
             ],
             [
              0.1111111111111111,
              "#46039f"
             ],
             [
              0.2222222222222222,
              "#7201a8"
             ],
             [
              0.3333333333333333,
              "#9c179e"
             ],
             [
              0.4444444444444444,
              "#bd3786"
             ],
             [
              0.5555555555555556,
              "#d8576b"
             ],
             [
              0.6666666666666666,
              "#ed7953"
             ],
             [
              0.7777777777777778,
              "#fb9f3a"
             ],
             [
              0.8888888888888888,
              "#fdca26"
             ],
             [
              1,
              "#f0f921"
             ]
            ],
            "type": "heatmap"
           }
          ],
          "heatmapgl": [
           {
            "colorbar": {
             "outlinewidth": 0,
             "ticks": ""
            },
            "colorscale": [
             [
              0,
              "#0d0887"
             ],
             [
              0.1111111111111111,
              "#46039f"
             ],
             [
              0.2222222222222222,
              "#7201a8"
             ],
             [
              0.3333333333333333,
              "#9c179e"
             ],
             [
              0.4444444444444444,
              "#bd3786"
             ],
             [
              0.5555555555555556,
              "#d8576b"
             ],
             [
              0.6666666666666666,
              "#ed7953"
             ],
             [
              0.7777777777777778,
              "#fb9f3a"
             ],
             [
              0.8888888888888888,
              "#fdca26"
             ],
             [
              1,
              "#f0f921"
             ]
            ],
            "type": "heatmapgl"
           }
          ],
          "histogram": [
           {
            "marker": {
             "pattern": {
              "fillmode": "overlay",
              "size": 10,
              "solidity": 0.2
             }
            },
            "type": "histogram"
           }
          ],
          "histogram2d": [
           {
            "colorbar": {
             "outlinewidth": 0,
             "ticks": ""
            },
            "colorscale": [
             [
              0,
              "#0d0887"
             ],
             [
              0.1111111111111111,
              "#46039f"
             ],
             [
              0.2222222222222222,
              "#7201a8"
             ],
             [
              0.3333333333333333,
              "#9c179e"
             ],
             [
              0.4444444444444444,
              "#bd3786"
             ],
             [
              0.5555555555555556,
              "#d8576b"
             ],
             [
              0.6666666666666666,
              "#ed7953"
             ],
             [
              0.7777777777777778,
              "#fb9f3a"
             ],
             [
              0.8888888888888888,
              "#fdca26"
             ],
             [
              1,
              "#f0f921"
             ]
            ],
            "type": "histogram2d"
           }
          ],
          "histogram2dcontour": [
           {
            "colorbar": {
             "outlinewidth": 0,
             "ticks": ""
            },
            "colorscale": [
             [
              0,
              "#0d0887"
             ],
             [
              0.1111111111111111,
              "#46039f"
             ],
             [
              0.2222222222222222,
              "#7201a8"
             ],
             [
              0.3333333333333333,
              "#9c179e"
             ],
             [
              0.4444444444444444,
              "#bd3786"
             ],
             [
              0.5555555555555556,
              "#d8576b"
             ],
             [
              0.6666666666666666,
              "#ed7953"
             ],
             [
              0.7777777777777778,
              "#fb9f3a"
             ],
             [
              0.8888888888888888,
              "#fdca26"
             ],
             [
              1,
              "#f0f921"
             ]
            ],
            "type": "histogram2dcontour"
           }
          ],
          "mesh3d": [
           {
            "colorbar": {
             "outlinewidth": 0,
             "ticks": ""
            },
            "type": "mesh3d"
           }
          ],
          "parcoords": [
           {
            "line": {
             "colorbar": {
              "outlinewidth": 0,
              "ticks": ""
             }
            },
            "type": "parcoords"
           }
          ],
          "pie": [
           {
            "automargin": true,
            "type": "pie"
           }
          ],
          "scatter": [
           {
            "fillpattern": {
             "fillmode": "overlay",
             "size": 10,
             "solidity": 0.2
            },
            "type": "scatter"
           }
          ],
          "scatter3d": [
           {
            "line": {
             "colorbar": {
              "outlinewidth": 0,
              "ticks": ""
             }
            },
            "marker": {
             "colorbar": {
              "outlinewidth": 0,
              "ticks": ""
             }
            },
            "type": "scatter3d"
           }
          ],
          "scattercarpet": [
           {
            "marker": {
             "colorbar": {
              "outlinewidth": 0,
              "ticks": ""
             }
            },
            "type": "scattercarpet"
           }
          ],
          "scattergeo": [
           {
            "marker": {
             "colorbar": {
              "outlinewidth": 0,
              "ticks": ""
             }
            },
            "type": "scattergeo"
           }
          ],
          "scattergl": [
           {
            "marker": {
             "colorbar": {
              "outlinewidth": 0,
              "ticks": ""
             }
            },
            "type": "scattergl"
           }
          ],
          "scattermapbox": [
           {
            "marker": {
             "colorbar": {
              "outlinewidth": 0,
              "ticks": ""
             }
            },
            "type": "scattermapbox"
           }
          ],
          "scatterpolar": [
           {
            "marker": {
             "colorbar": {
              "outlinewidth": 0,
              "ticks": ""
             }
            },
            "type": "scatterpolar"
           }
          ],
          "scatterpolargl": [
           {
            "marker": {
             "colorbar": {
              "outlinewidth": 0,
              "ticks": ""
             }
            },
            "type": "scatterpolargl"
           }
          ],
          "scatterternary": [
           {
            "marker": {
             "colorbar": {
              "outlinewidth": 0,
              "ticks": ""
             }
            },
            "type": "scatterternary"
           }
          ],
          "surface": [
           {
            "colorbar": {
             "outlinewidth": 0,
             "ticks": ""
            },
            "colorscale": [
             [
              0,
              "#0d0887"
             ],
             [
              0.1111111111111111,
              "#46039f"
             ],
             [
              0.2222222222222222,
              "#7201a8"
             ],
             [
              0.3333333333333333,
              "#9c179e"
             ],
             [
              0.4444444444444444,
              "#bd3786"
             ],
             [
              0.5555555555555556,
              "#d8576b"
             ],
             [
              0.6666666666666666,
              "#ed7953"
             ],
             [
              0.7777777777777778,
              "#fb9f3a"
             ],
             [
              0.8888888888888888,
              "#fdca26"
             ],
             [
              1,
              "#f0f921"
             ]
            ],
            "type": "surface"
           }
          ],
          "table": [
           {
            "cells": {
             "fill": {
              "color": "#EBF0F8"
             },
             "line": {
              "color": "white"
             }
            },
            "header": {
             "fill": {
              "color": "#C8D4E3"
             },
             "line": {
              "color": "white"
             }
            },
            "type": "table"
           }
          ]
         },
         "layout": {
          "annotationdefaults": {
           "arrowcolor": "#2a3f5f",
           "arrowhead": 0,
           "arrowwidth": 1
          },
          "autotypenumbers": "strict",
          "coloraxis": {
           "colorbar": {
            "outlinewidth": 0,
            "ticks": ""
           }
          },
          "colorscale": {
           "diverging": [
            [
             0,
             "#8e0152"
            ],
            [
             0.1,
             "#c51b7d"
            ],
            [
             0.2,
             "#de77ae"
            ],
            [
             0.3,
             "#f1b6da"
            ],
            [
             0.4,
             "#fde0ef"
            ],
            [
             0.5,
             "#f7f7f7"
            ],
            [
             0.6,
             "#e6f5d0"
            ],
            [
             0.7,
             "#b8e186"
            ],
            [
             0.8,
             "#7fbc41"
            ],
            [
             0.9,
             "#4d9221"
            ],
            [
             1,
             "#276419"
            ]
           ],
           "sequential": [
            [
             0,
             "#0d0887"
            ],
            [
             0.1111111111111111,
             "#46039f"
            ],
            [
             0.2222222222222222,
             "#7201a8"
            ],
            [
             0.3333333333333333,
             "#9c179e"
            ],
            [
             0.4444444444444444,
             "#bd3786"
            ],
            [
             0.5555555555555556,
             "#d8576b"
            ],
            [
             0.6666666666666666,
             "#ed7953"
            ],
            [
             0.7777777777777778,
             "#fb9f3a"
            ],
            [
             0.8888888888888888,
             "#fdca26"
            ],
            [
             1,
             "#f0f921"
            ]
           ],
           "sequentialminus": [
            [
             0,
             "#0d0887"
            ],
            [
             0.1111111111111111,
             "#46039f"
            ],
            [
             0.2222222222222222,
             "#7201a8"
            ],
            [
             0.3333333333333333,
             "#9c179e"
            ],
            [
             0.4444444444444444,
             "#bd3786"
            ],
            [
             0.5555555555555556,
             "#d8576b"
            ],
            [
             0.6666666666666666,
             "#ed7953"
            ],
            [
             0.7777777777777778,
             "#fb9f3a"
            ],
            [
             0.8888888888888888,
             "#fdca26"
            ],
            [
             1,
             "#f0f921"
            ]
           ]
          },
          "colorway": [
           "#636efa",
           "#EF553B",
           "#00cc96",
           "#ab63fa",
           "#FFA15A",
           "#19d3f3",
           "#FF6692",
           "#B6E880",
           "#FF97FF",
           "#FECB52"
          ],
          "font": {
           "color": "#2a3f5f"
          },
          "geo": {
           "bgcolor": "white",
           "lakecolor": "white",
           "landcolor": "#E5ECF6",
           "showlakes": true,
           "showland": true,
           "subunitcolor": "white"
          },
          "hoverlabel": {
           "align": "left"
          },
          "hovermode": "closest",
          "mapbox": {
           "style": "light"
          },
          "paper_bgcolor": "white",
          "plot_bgcolor": "#E5ECF6",
          "polar": {
           "angularaxis": {
            "gridcolor": "white",
            "linecolor": "white",
            "ticks": ""
           },
           "bgcolor": "#E5ECF6",
           "radialaxis": {
            "gridcolor": "white",
            "linecolor": "white",
            "ticks": ""
           }
          },
          "scene": {
           "xaxis": {
            "backgroundcolor": "#E5ECF6",
            "gridcolor": "white",
            "gridwidth": 2,
            "linecolor": "white",
            "showbackground": true,
            "ticks": "",
            "zerolinecolor": "white"
           },
           "yaxis": {
            "backgroundcolor": "#E5ECF6",
            "gridcolor": "white",
            "gridwidth": 2,
            "linecolor": "white",
            "showbackground": true,
            "ticks": "",
            "zerolinecolor": "white"
           },
           "zaxis": {
            "backgroundcolor": "#E5ECF6",
            "gridcolor": "white",
            "gridwidth": 2,
            "linecolor": "white",
            "showbackground": true,
            "ticks": "",
            "zerolinecolor": "white"
           }
          },
          "shapedefaults": {
           "line": {
            "color": "#2a3f5f"
           }
          },
          "ternary": {
           "aaxis": {
            "gridcolor": "white",
            "linecolor": "white",
            "ticks": ""
           },
           "baxis": {
            "gridcolor": "white",
            "linecolor": "white",
            "ticks": ""
           },
           "bgcolor": "#E5ECF6",
           "caxis": {
            "gridcolor": "white",
            "linecolor": "white",
            "ticks": ""
           }
          },
          "title": {
           "x": 0.05
          },
          "xaxis": {
           "automargin": true,
           "gridcolor": "white",
           "linecolor": "white",
           "ticks": "",
           "title": {
            "standoff": 15
           },
           "zerolinecolor": "white",
           "zerolinewidth": 2
          },
          "yaxis": {
           "automargin": true,
           "gridcolor": "white",
           "linecolor": "white",
           "ticks": "",
           "title": {
            "standoff": 15
           },
           "zerolinecolor": "white",
           "zerolinewidth": 2
          }
         }
        },
        "title": {
         "font": {
          "color": "#4D5663"
         }
        },
        "xaxis": {
         "gridcolor": "#E1E5ED",
         "showgrid": true,
         "tickfont": {
          "color": "#4D5663"
         },
         "title": {
          "font": {
           "color": "#4D5663"
          },
          "text": ""
         },
         "zerolinecolor": "#E1E5ED"
        },
        "yaxis": {
         "gridcolor": "#E1E5ED",
         "showgrid": true,
         "tickfont": {
          "color": "#4D5663"
         },
         "title": {
          "font": {
           "color": "#4D5663"
          },
          "text": ""
         },
         "zerolinecolor": "#E1E5ED"
        }
       }
      },
      "text/html": [
       "<div>                            <div id=\"ed24b84f-fcd1-47a8-b91a-c0b7364d6bee\" class=\"plotly-graph-div\" style=\"height:525px; width:100%;\"></div>            <script type=\"text/javascript\">                require([\"plotly\"], function(Plotly) {                    window.PLOTLYENV=window.PLOTLYENV || {};\n",
       "                    window.PLOTLYENV.BASE_URL='https://plot.ly';                                    if (document.getElementById(\"ed24b84f-fcd1-47a8-b91a-c0b7364d6bee\")) {                    Plotly.newPlot(                        \"ed24b84f-fcd1-47a8-b91a-c0b7364d6bee\",                        [{\"histfunc\":\"count\",\"histnorm\":\"\",\"marker\":{\"color\":\"rgba(255, 153, 51, 1.0)\",\"line\":{\"color\":\"#4D5663\",\"width\":1.3}},\"name\":\"A\",\"nbinsx\":25,\"opacity\":0.8,\"orientation\":\"v\",\"x\":[-0.8717698350824767,0.11158432563991447,-2.7407395816036657,-1.0831976641681382,1.1051072558998412,-0.17169344572694262,0.43545635385970705,-0.09179294744208095,1.2264053142154256,1.551070466120222,-0.07121816924493687,-0.24600156908269727,0.15679944703330018,0.36559433298643446,2.660901371310062,1.855261613043312,-1.187059893505927,-0.3052965411783563,0.34235339848159724,-1.0084991752646242,-0.44254546436287656,0.6015254636451396,-0.2893097954432154,-0.7546569708093946,-0.649126922087612,-2.1670947304978943,-0.3521562590934882,-0.9825167171173528,0.4823638869124494,1.3991689937677,-1.0813487141186187,0.6812913811262418,-1.7997352733997822,0.40689483051570857,0.7305405406125538,0.17729696480255686,-0.4913828603510736,2.1551214812117236,-0.3357732892600588,0.6710258318221457,0.4922473932911538,-0.10608069827993899,-1.0721648569540283,1.5728260539297312,0.20627952814649006,0.4331828673111826,0.5413904546492052,0.596582038146462,-1.8059550967021047,1.0945562036012295,-0.6169826965091776,-1.7902865377237571,0.5756306505590018,0.22217194529919052,-0.37471866566691503,0.7533629372808431,1.2629346709986544,-0.29821714013709033,-0.40133028481671007,-0.14040244863090015,-0.7990425935512757,-0.25061752621963,0.09440658081002298,0.4639600910791964,-0.7548655530468488,0.2734573473584046,0.49953115601213216,0.2621673503662859,0.30879618891841415,-0.742579207698379,-2.140700808751398,1.085103424801508,2.5556712856305173,-0.3637449248748844,-1.7745895218285208,1.2839097135591673,1.4597017361633555,0.14355489019463594,1.1128650539993221,-1.399046146468581,0.29022433493130806,0.13941011249953447,-0.2557152779064104,-0.7964512095902642,0.9961864143816616,-0.2691610164434471,-0.5858401029934867,0.11472154570458645,-0.4385200016664815,1.5008416922368417,-1.4689795375674919,-1.3756996146289049,-1.4038172925442085,0.03665900419045025,1.3403311533249536,0.06474975963959607,-0.2672933031787719,0.5128393508997586,-0.393643566601903,0.22607092990429803],\"type\":\"histogram\"}],                        {\"barmode\":\"overlay\",\"legend\":{\"bgcolor\":\"#F5F6F9\",\"font\":{\"color\":\"#4D5663\"}},\"paper_bgcolor\":\"#F5F6F9\",\"plot_bgcolor\":\"#F5F6F9\",\"template\":{\"data\":{\"barpolar\":[{\"marker\":{\"line\":{\"color\":\"#E5ECF6\",\"width\":0.5},\"pattern\":{\"fillmode\":\"overlay\",\"size\":10,\"solidity\":0.2}},\"type\":\"barpolar\"}],\"bar\":[{\"error_x\":{\"color\":\"#2a3f5f\"},\"error_y\":{\"color\":\"#2a3f5f\"},\"marker\":{\"line\":{\"color\":\"#E5ECF6\",\"width\":0.5},\"pattern\":{\"fillmode\":\"overlay\",\"size\":10,\"solidity\":0.2}},\"type\":\"bar\"}],\"carpet\":[{\"aaxis\":{\"endlinecolor\":\"#2a3f5f\",\"gridcolor\":\"white\",\"linecolor\":\"white\",\"minorgridcolor\":\"white\",\"startlinecolor\":\"#2a3f5f\"},\"baxis\":{\"endlinecolor\":\"#2a3f5f\",\"gridcolor\":\"white\",\"linecolor\":\"white\",\"minorgridcolor\":\"white\",\"startlinecolor\":\"#2a3f5f\"},\"type\":\"carpet\"}],\"choropleth\":[{\"colorbar\":{\"outlinewidth\":0,\"ticks\":\"\"},\"type\":\"choropleth\"}],\"contourcarpet\":[{\"colorbar\":{\"outlinewidth\":0,\"ticks\":\"\"},\"type\":\"contourcarpet\"}],\"contour\":[{\"colorbar\":{\"outlinewidth\":0,\"ticks\":\"\"},\"colorscale\":[[0.0,\"#0d0887\"],[0.1111111111111111,\"#46039f\"],[0.2222222222222222,\"#7201a8\"],[0.3333333333333333,\"#9c179e\"],[0.4444444444444444,\"#bd3786\"],[0.5555555555555556,\"#d8576b\"],[0.6666666666666666,\"#ed7953\"],[0.7777777777777778,\"#fb9f3a\"],[0.8888888888888888,\"#fdca26\"],[1.0,\"#f0f921\"]],\"type\":\"contour\"}],\"heatmapgl\":[{\"colorbar\":{\"outlinewidth\":0,\"ticks\":\"\"},\"colorscale\":[[0.0,\"#0d0887\"],[0.1111111111111111,\"#46039f\"],[0.2222222222222222,\"#7201a8\"],[0.3333333333333333,\"#9c179e\"],[0.4444444444444444,\"#bd3786\"],[0.5555555555555556,\"#d8576b\"],[0.6666666666666666,\"#ed7953\"],[0.7777777777777778,\"#fb9f3a\"],[0.8888888888888888,\"#fdca26\"],[1.0,\"#f0f921\"]],\"type\":\"heatmapgl\"}],\"heatmap\":[{\"colorbar\":{\"outlinewidth\":0,\"ticks\":\"\"},\"colorscale\":[[0.0,\"#0d0887\"],[0.1111111111111111,\"#46039f\"],[0.2222222222222222,\"#7201a8\"],[0.3333333333333333,\"#9c179e\"],[0.4444444444444444,\"#bd3786\"],[0.5555555555555556,\"#d8576b\"],[0.6666666666666666,\"#ed7953\"],[0.7777777777777778,\"#fb9f3a\"],[0.8888888888888888,\"#fdca26\"],[1.0,\"#f0f921\"]],\"type\":\"heatmap\"}],\"histogram2dcontour\":[{\"colorbar\":{\"outlinewidth\":0,\"ticks\":\"\"},\"colorscale\":[[0.0,\"#0d0887\"],[0.1111111111111111,\"#46039f\"],[0.2222222222222222,\"#7201a8\"],[0.3333333333333333,\"#9c179e\"],[0.4444444444444444,\"#bd3786\"],[0.5555555555555556,\"#d8576b\"],[0.6666666666666666,\"#ed7953\"],[0.7777777777777778,\"#fb9f3a\"],[0.8888888888888888,\"#fdca26\"],[1.0,\"#f0f921\"]],\"type\":\"histogram2dcontour\"}],\"histogram2d\":[{\"colorbar\":{\"outlinewidth\":0,\"ticks\":\"\"},\"colorscale\":[[0.0,\"#0d0887\"],[0.1111111111111111,\"#46039f\"],[0.2222222222222222,\"#7201a8\"],[0.3333333333333333,\"#9c179e\"],[0.4444444444444444,\"#bd3786\"],[0.5555555555555556,\"#d8576b\"],[0.6666666666666666,\"#ed7953\"],[0.7777777777777778,\"#fb9f3a\"],[0.8888888888888888,\"#fdca26\"],[1.0,\"#f0f921\"]],\"type\":\"histogram2d\"}],\"histogram\":[{\"marker\":{\"pattern\":{\"fillmode\":\"overlay\",\"size\":10,\"solidity\":0.2}},\"type\":\"histogram\"}],\"mesh3d\":[{\"colorbar\":{\"outlinewidth\":0,\"ticks\":\"\"},\"type\":\"mesh3d\"}],\"parcoords\":[{\"line\":{\"colorbar\":{\"outlinewidth\":0,\"ticks\":\"\"}},\"type\":\"parcoords\"}],\"pie\":[{\"automargin\":true,\"type\":\"pie\"}],\"scatter3d\":[{\"line\":{\"colorbar\":{\"outlinewidth\":0,\"ticks\":\"\"}},\"marker\":{\"colorbar\":{\"outlinewidth\":0,\"ticks\":\"\"}},\"type\":\"scatter3d\"}],\"scattercarpet\":[{\"marker\":{\"colorbar\":{\"outlinewidth\":0,\"ticks\":\"\"}},\"type\":\"scattercarpet\"}],\"scattergeo\":[{\"marker\":{\"colorbar\":{\"outlinewidth\":0,\"ticks\":\"\"}},\"type\":\"scattergeo\"}],\"scattergl\":[{\"marker\":{\"colorbar\":{\"outlinewidth\":0,\"ticks\":\"\"}},\"type\":\"scattergl\"}],\"scattermapbox\":[{\"marker\":{\"colorbar\":{\"outlinewidth\":0,\"ticks\":\"\"}},\"type\":\"scattermapbox\"}],\"scatterpolargl\":[{\"marker\":{\"colorbar\":{\"outlinewidth\":0,\"ticks\":\"\"}},\"type\":\"scatterpolargl\"}],\"scatterpolar\":[{\"marker\":{\"colorbar\":{\"outlinewidth\":0,\"ticks\":\"\"}},\"type\":\"scatterpolar\"}],\"scatter\":[{\"fillpattern\":{\"fillmode\":\"overlay\",\"size\":10,\"solidity\":0.2},\"type\":\"scatter\"}],\"scatterternary\":[{\"marker\":{\"colorbar\":{\"outlinewidth\":0,\"ticks\":\"\"}},\"type\":\"scatterternary\"}],\"surface\":[{\"colorbar\":{\"outlinewidth\":0,\"ticks\":\"\"},\"colorscale\":[[0.0,\"#0d0887\"],[0.1111111111111111,\"#46039f\"],[0.2222222222222222,\"#7201a8\"],[0.3333333333333333,\"#9c179e\"],[0.4444444444444444,\"#bd3786\"],[0.5555555555555556,\"#d8576b\"],[0.6666666666666666,\"#ed7953\"],[0.7777777777777778,\"#fb9f3a\"],[0.8888888888888888,\"#fdca26\"],[1.0,\"#f0f921\"]],\"type\":\"surface\"}],\"table\":[{\"cells\":{\"fill\":{\"color\":\"#EBF0F8\"},\"line\":{\"color\":\"white\"}},\"header\":{\"fill\":{\"color\":\"#C8D4E3\"},\"line\":{\"color\":\"white\"}},\"type\":\"table\"}]},\"layout\":{\"annotationdefaults\":{\"arrowcolor\":\"#2a3f5f\",\"arrowhead\":0,\"arrowwidth\":1},\"autotypenumbers\":\"strict\",\"coloraxis\":{\"colorbar\":{\"outlinewidth\":0,\"ticks\":\"\"}},\"colorscale\":{\"diverging\":[[0,\"#8e0152\"],[0.1,\"#c51b7d\"],[0.2,\"#de77ae\"],[0.3,\"#f1b6da\"],[0.4,\"#fde0ef\"],[0.5,\"#f7f7f7\"],[0.6,\"#e6f5d0\"],[0.7,\"#b8e186\"],[0.8,\"#7fbc41\"],[0.9,\"#4d9221\"],[1,\"#276419\"]],\"sequential\":[[0.0,\"#0d0887\"],[0.1111111111111111,\"#46039f\"],[0.2222222222222222,\"#7201a8\"],[0.3333333333333333,\"#9c179e\"],[0.4444444444444444,\"#bd3786\"],[0.5555555555555556,\"#d8576b\"],[0.6666666666666666,\"#ed7953\"],[0.7777777777777778,\"#fb9f3a\"],[0.8888888888888888,\"#fdca26\"],[1.0,\"#f0f921\"]],\"sequentialminus\":[[0.0,\"#0d0887\"],[0.1111111111111111,\"#46039f\"],[0.2222222222222222,\"#7201a8\"],[0.3333333333333333,\"#9c179e\"],[0.4444444444444444,\"#bd3786\"],[0.5555555555555556,\"#d8576b\"],[0.6666666666666666,\"#ed7953\"],[0.7777777777777778,\"#fb9f3a\"],[0.8888888888888888,\"#fdca26\"],[1.0,\"#f0f921\"]]},\"colorway\":[\"#636efa\",\"#EF553B\",\"#00cc96\",\"#ab63fa\",\"#FFA15A\",\"#19d3f3\",\"#FF6692\",\"#B6E880\",\"#FF97FF\",\"#FECB52\"],\"font\":{\"color\":\"#2a3f5f\"},\"geo\":{\"bgcolor\":\"white\",\"lakecolor\":\"white\",\"landcolor\":\"#E5ECF6\",\"showlakes\":true,\"showland\":true,\"subunitcolor\":\"white\"},\"hoverlabel\":{\"align\":\"left\"},\"hovermode\":\"closest\",\"mapbox\":{\"style\":\"light\"},\"paper_bgcolor\":\"white\",\"plot_bgcolor\":\"#E5ECF6\",\"polar\":{\"angularaxis\":{\"gridcolor\":\"white\",\"linecolor\":\"white\",\"ticks\":\"\"},\"bgcolor\":\"#E5ECF6\",\"radialaxis\":{\"gridcolor\":\"white\",\"linecolor\":\"white\",\"ticks\":\"\"}},\"scene\":{\"xaxis\":{\"backgroundcolor\":\"#E5ECF6\",\"gridcolor\":\"white\",\"gridwidth\":2,\"linecolor\":\"white\",\"showbackground\":true,\"ticks\":\"\",\"zerolinecolor\":\"white\"},\"yaxis\":{\"backgroundcolor\":\"#E5ECF6\",\"gridcolor\":\"white\",\"gridwidth\":2,\"linecolor\":\"white\",\"showbackground\":true,\"ticks\":\"\",\"zerolinecolor\":\"white\"},\"zaxis\":{\"backgroundcolor\":\"#E5ECF6\",\"gridcolor\":\"white\",\"gridwidth\":2,\"linecolor\":\"white\",\"showbackground\":true,\"ticks\":\"\",\"zerolinecolor\":\"white\"}},\"shapedefaults\":{\"line\":{\"color\":\"#2a3f5f\"}},\"ternary\":{\"aaxis\":{\"gridcolor\":\"white\",\"linecolor\":\"white\",\"ticks\":\"\"},\"baxis\":{\"gridcolor\":\"white\",\"linecolor\":\"white\",\"ticks\":\"\"},\"bgcolor\":\"#E5ECF6\",\"caxis\":{\"gridcolor\":\"white\",\"linecolor\":\"white\",\"ticks\":\"\"}},\"title\":{\"x\":0.05},\"xaxis\":{\"automargin\":true,\"gridcolor\":\"white\",\"linecolor\":\"white\",\"ticks\":\"\",\"title\":{\"standoff\":15},\"zerolinecolor\":\"white\",\"zerolinewidth\":2},\"yaxis\":{\"automargin\":true,\"gridcolor\":\"white\",\"linecolor\":\"white\",\"ticks\":\"\",\"title\":{\"standoff\":15},\"zerolinecolor\":\"white\",\"zerolinewidth\":2}}},\"title\":{\"font\":{\"color\":\"#4D5663\"}},\"xaxis\":{\"gridcolor\":\"#E1E5ED\",\"showgrid\":true,\"tickfont\":{\"color\":\"#4D5663\"},\"title\":{\"font\":{\"color\":\"#4D5663\"},\"text\":\"\"},\"zerolinecolor\":\"#E1E5ED\"},\"yaxis\":{\"gridcolor\":\"#E1E5ED\",\"showgrid\":true,\"tickfont\":{\"color\":\"#4D5663\"},\"title\":{\"font\":{\"color\":\"#4D5663\"},\"text\":\"\"},\"zerolinecolor\":\"#E1E5ED\"}},                        {\"showLink\": true, \"linkText\": \"Export to plot.ly\", \"plotlyServerURL\": \"https://plot.ly\", \"responsive\": true}                    ).then(function(){\n",
       "                            \n",
       "var gd = document.getElementById('ed24b84f-fcd1-47a8-b91a-c0b7364d6bee');\n",
       "var x = new MutationObserver(function (mutations, observer) {{\n",
       "        var display = window.getComputedStyle(gd).display;\n",
       "        if (!display || display === 'none') {{\n",
       "            console.log([gd, 'removed!']);\n",
       "            Plotly.purge(gd);\n",
       "            observer.disconnect();\n",
       "        }}\n",
       "}});\n",
       "\n",
       "// Listen for the removal of the full notebook cells\n",
       "var notebookContainer = gd.closest('#notebook-container');\n",
       "if (notebookContainer) {{\n",
       "    x.observe(notebookContainer, {childList: true});\n",
       "}}\n",
       "\n",
       "// Listen for the clearing of the current output cell\n",
       "var outputEl = gd.closest('.output');\n",
       "if (outputEl) {{\n",
       "    x.observe(outputEl, {childList: true});\n",
       "}}\n",
       "\n",
       "                        })                };                });            </script>        </div>"
      ]
     },
     "metadata": {},
     "output_type": "display_data"
    }
   ],
   "source": [
    "df['A'].iplot(kind='hist',bins=25)"
   ]
  },
  {
   "cell_type": "code",
   "execution_count": 19,
   "metadata": {},
   "outputs": [
    {
     "data": {
      "application/vnd.plotly.v1+json": {
       "config": {
        "linkText": "Export to plot.ly",
        "plotlyServerURL": "https://plot.ly",
        "showLink": true
       },
       "data": [
        {
         "marker": {
          "color": [
           "rgb(255, 153, 51)",
           "rgb(55, 128, 191)",
           "rgb(50, 171, 96)",
           "rgb(128, 0, 128)",
           "rgb(219, 64, 82)",
           "rgb(0, 128, 128)",
           "rgb(255, 255, 51)",
           "rgb(128, 128, 0)",
           "rgb(251, 128, 114)",
           "rgb(128, 177, 211)"
          ],
          "line": {
           "width": 1.3
          },
          "size": [
           21,
           43,
           56,
           65,
           53,
           12,
           54,
           17,
           63,
           63,
           93,
           45,
           83,
           75,
           58,
           92,
           56,
           79,
           74,
           36,
           67,
           36,
           69,
           50,
           87,
           79,
           71,
           19,
           50,
           68,
           57,
           44,
           49,
           97,
           74,
           47,
           60,
           88,
           77,
           27,
           56,
           77,
           44,
           77,
           84,
           97,
           32,
           73,
           16,
           39,
           78,
           69,
           61,
           54,
           58,
           45,
           56,
           47,
           26,
           37,
           25,
           45,
           54,
           89,
           30,
           66,
           72,
           69,
           47,
           103,
           25,
           37,
           65,
           67,
           65,
           80,
           54,
           43,
           25,
           78,
           63,
           52,
           66,
           60,
           39,
           45,
           26,
           81,
           112,
           62,
           42,
           44,
           46,
           50,
           37,
           63,
           56,
           36,
           76,
           32
          ],
          "symbol": "circle"
         },
         "mode": "markers",
         "text": "",
         "type": "scatter",
         "x": [
          -0.8717698350824767,
          0.11158432563991447,
          -2.7407395816036657,
          -1.0831976641681382,
          1.1051072558998412,
          -0.17169344572694262,
          0.43545635385970705,
          -0.09179294744208095,
          1.2264053142154256,
          1.551070466120222,
          -0.07121816924493687,
          -0.24600156908269727,
          0.15679944703330018,
          0.36559433298643446,
          2.660901371310062,
          1.855261613043312,
          -1.187059893505927,
          -0.3052965411783563,
          0.34235339848159724,
          -1.0084991752646242,
          -0.44254546436287656,
          0.6015254636451396,
          -0.2893097954432154,
          -0.7546569708093946,
          -0.649126922087612,
          -2.1670947304978943,
          -0.3521562590934882,
          -0.9825167171173528,
          0.4823638869124494,
          1.3991689937677,
          -1.0813487141186187,
          0.6812913811262418,
          -1.7997352733997822,
          0.40689483051570857,
          0.7305405406125538,
          0.17729696480255686,
          -0.4913828603510736,
          2.1551214812117236,
          -0.3357732892600588,
          0.6710258318221457,
          0.4922473932911538,
          -0.10608069827993899,
          -1.0721648569540283,
          1.5728260539297312,
          0.20627952814649006,
          0.4331828673111826,
          0.5413904546492052,
          0.596582038146462,
          -1.8059550967021047,
          1.0945562036012295,
          -0.6169826965091776,
          -1.7902865377237571,
          0.5756306505590018,
          0.22217194529919052,
          -0.37471866566691503,
          0.7533629372808431,
          1.2629346709986544,
          -0.29821714013709033,
          -0.40133028481671007,
          -0.14040244863090015,
          -0.7990425935512757,
          -0.25061752621963,
          0.09440658081002298,
          0.4639600910791964,
          -0.7548655530468488,
          0.2734573473584046,
          0.49953115601213216,
          0.2621673503662859,
          0.30879618891841415,
          -0.742579207698379,
          -2.140700808751398,
          1.085103424801508,
          2.5556712856305173,
          -0.3637449248748844,
          -1.7745895218285208,
          1.2839097135591673,
          1.4597017361633555,
          0.14355489019463594,
          1.1128650539993221,
          -1.399046146468581,
          0.29022433493130806,
          0.13941011249953447,
          -0.2557152779064104,
          -0.7964512095902642,
          0.9961864143816616,
          -0.2691610164434471,
          -0.5858401029934867,
          0.11472154570458645,
          -0.4385200016664815,
          1.5008416922368417,
          -1.4689795375674919,
          -1.3756996146289049,
          -1.4038172925442085,
          0.03665900419045025,
          1.3403311533249536,
          0.06474975963959607,
          -0.2672933031787719,
          0.5128393508997586,
          -0.393643566601903,
          0.22607092990429803
         ],
         "y": [
          0.5065620379191607,
          -0.2602965765539084,
          0.8947735922539433,
          -0.20706460026943954,
          1.165771221022478,
          0.0032613999056064972,
          0.15139506602725938,
          0.6216258350353989,
          -0.021273642226957677,
          -1.1658427051339177,
          0.4485693463235875,
          1.198274486639321,
          -0.25883153636865897,
          1.5829050442292472,
          -0.2682700312910577,
          -0.9352385575141785,
          0.38738771844743153,
          0.6574085019682239,
          -0.3572746873306874,
          2.714060854793366,
          -0.27291585141713237,
          -1.2906302068302504,
          -1.222761949561528,
          0.013025776556479629,
          0.9555304598689044,
          -0.6561146067300845,
          0.7298158130029747,
          -0.0432119828545582,
          -1.5216252605551706,
          -0.41404987215419986,
          -0.4810554232967754,
          -0.3078050607294259,
          -0.9495597220821862,
          0.20112949349038098,
          0.47257768807001005,
          0.29574464382459376,
          -0.6667256588550254,
          -0.7800462317273794,
          -2.4382958618125476,
          1.3828570141272503,
          -0.21013575867841097,
          -0.3029006268498382,
          1.2927029777297245,
          0.2830982533145663,
          0.3963400146525552,
          -0.3848004619501144,
          -0.09272185828621662,
          0.6770153647503461,
          -0.1959600613591739,
          0.5404291839045626,
          -1.8217224971370247,
          1.3296596322879783,
          0.8917605845336027,
          -0.15443195850639932,
          -0.3156397923478492,
          -1.2712742376782356,
          1.1883595805266332,
          0.6353385091511609,
          1.3454674446590853,
          0.12178515997828125,
          -0.8555683113616778,
          -0.9785772156833887,
          0.057287811538334794,
          0.8105752779966868,
          0.529391625431157,
          0.02176697311291148,
          0.1811098993369195,
          0.5414145403099591,
          1.4132829236858184,
          1.121263069616955,
          -0.6065062884038721,
          -0.4234421639133906,
          0.7333946895918884,
          -0.7988318165943966,
          -0.15333737291964203,
          0.6713340498814011,
          2.5654821666609644,
          -0.6368941736308625,
          0.2447377902458404,
          -0.2695855843246836,
          0.1999260409044481,
          2.7906488565862717,
          -0.5480652035741574,
          1.4897751979445475,
          0.9394818515356372,
          -0.6843231983909116,
          -0.8926565888689287,
          -1.0233349824867406,
          -0.19876779176298331,
          0.331603640930695,
          -0.4698479174404729,
          -0.23190086495094775,
          0.0019005050666524434,
          -0.47242195242887397,
          0.6676122184294951,
          0.22315978389252422,
          0.08768989910542416,
          0.4226123590160756,
          -1.8801039927214822,
          0.36933946508991744
         ]
        }
       ],
       "layout": {
        "legend": {
         "bgcolor": "#F5F6F9",
         "font": {
          "color": "#4D5663"
         }
        },
        "paper_bgcolor": "#F5F6F9",
        "plot_bgcolor": "#F5F6F9",
        "template": {
         "data": {
          "bar": [
           {
            "error_x": {
             "color": "#2a3f5f"
            },
            "error_y": {
             "color": "#2a3f5f"
            },
            "marker": {
             "line": {
              "color": "#E5ECF6",
              "width": 0.5
             },
             "pattern": {
              "fillmode": "overlay",
              "size": 10,
              "solidity": 0.2
             }
            },
            "type": "bar"
           }
          ],
          "barpolar": [
           {
            "marker": {
             "line": {
              "color": "#E5ECF6",
              "width": 0.5
             },
             "pattern": {
              "fillmode": "overlay",
              "size": 10,
              "solidity": 0.2
             }
            },
            "type": "barpolar"
           }
          ],
          "carpet": [
           {
            "aaxis": {
             "endlinecolor": "#2a3f5f",
             "gridcolor": "white",
             "linecolor": "white",
             "minorgridcolor": "white",
             "startlinecolor": "#2a3f5f"
            },
            "baxis": {
             "endlinecolor": "#2a3f5f",
             "gridcolor": "white",
             "linecolor": "white",
             "minorgridcolor": "white",
             "startlinecolor": "#2a3f5f"
            },
            "type": "carpet"
           }
          ],
          "choropleth": [
           {
            "colorbar": {
             "outlinewidth": 0,
             "ticks": ""
            },
            "type": "choropleth"
           }
          ],
          "contour": [
           {
            "colorbar": {
             "outlinewidth": 0,
             "ticks": ""
            },
            "colorscale": [
             [
              0,
              "#0d0887"
             ],
             [
              0.1111111111111111,
              "#46039f"
             ],
             [
              0.2222222222222222,
              "#7201a8"
             ],
             [
              0.3333333333333333,
              "#9c179e"
             ],
             [
              0.4444444444444444,
              "#bd3786"
             ],
             [
              0.5555555555555556,
              "#d8576b"
             ],
             [
              0.6666666666666666,
              "#ed7953"
             ],
             [
              0.7777777777777778,
              "#fb9f3a"
             ],
             [
              0.8888888888888888,
              "#fdca26"
             ],
             [
              1,
              "#f0f921"
             ]
            ],
            "type": "contour"
           }
          ],
          "contourcarpet": [
           {
            "colorbar": {
             "outlinewidth": 0,
             "ticks": ""
            },
            "type": "contourcarpet"
           }
          ],
          "heatmap": [
           {
            "colorbar": {
             "outlinewidth": 0,
             "ticks": ""
            },
            "colorscale": [
             [
              0,
              "#0d0887"
             ],
             [
              0.1111111111111111,
              "#46039f"
             ],
             [
              0.2222222222222222,
              "#7201a8"
             ],
             [
              0.3333333333333333,
              "#9c179e"
             ],
             [
              0.4444444444444444,
              "#bd3786"
             ],
             [
              0.5555555555555556,
              "#d8576b"
             ],
             [
              0.6666666666666666,
              "#ed7953"
             ],
             [
              0.7777777777777778,
              "#fb9f3a"
             ],
             [
              0.8888888888888888,
              "#fdca26"
             ],
             [
              1,
              "#f0f921"
             ]
            ],
            "type": "heatmap"
           }
          ],
          "heatmapgl": [
           {
            "colorbar": {
             "outlinewidth": 0,
             "ticks": ""
            },
            "colorscale": [
             [
              0,
              "#0d0887"
             ],
             [
              0.1111111111111111,
              "#46039f"
             ],
             [
              0.2222222222222222,
              "#7201a8"
             ],
             [
              0.3333333333333333,
              "#9c179e"
             ],
             [
              0.4444444444444444,
              "#bd3786"
             ],
             [
              0.5555555555555556,
              "#d8576b"
             ],
             [
              0.6666666666666666,
              "#ed7953"
             ],
             [
              0.7777777777777778,
              "#fb9f3a"
             ],
             [
              0.8888888888888888,
              "#fdca26"
             ],
             [
              1,
              "#f0f921"
             ]
            ],
            "type": "heatmapgl"
           }
          ],
          "histogram": [
           {
            "marker": {
             "pattern": {
              "fillmode": "overlay",
              "size": 10,
              "solidity": 0.2
             }
            },
            "type": "histogram"
           }
          ],
          "histogram2d": [
           {
            "colorbar": {
             "outlinewidth": 0,
             "ticks": ""
            },
            "colorscale": [
             [
              0,
              "#0d0887"
             ],
             [
              0.1111111111111111,
              "#46039f"
             ],
             [
              0.2222222222222222,
              "#7201a8"
             ],
             [
              0.3333333333333333,
              "#9c179e"
             ],
             [
              0.4444444444444444,
              "#bd3786"
             ],
             [
              0.5555555555555556,
              "#d8576b"
             ],
             [
              0.6666666666666666,
              "#ed7953"
             ],
             [
              0.7777777777777778,
              "#fb9f3a"
             ],
             [
              0.8888888888888888,
              "#fdca26"
             ],
             [
              1,
              "#f0f921"
             ]
            ],
            "type": "histogram2d"
           }
          ],
          "histogram2dcontour": [
           {
            "colorbar": {
             "outlinewidth": 0,
             "ticks": ""
            },
            "colorscale": [
             [
              0,
              "#0d0887"
             ],
             [
              0.1111111111111111,
              "#46039f"
             ],
             [
              0.2222222222222222,
              "#7201a8"
             ],
             [
              0.3333333333333333,
              "#9c179e"
             ],
             [
              0.4444444444444444,
              "#bd3786"
             ],
             [
              0.5555555555555556,
              "#d8576b"
             ],
             [
              0.6666666666666666,
              "#ed7953"
             ],
             [
              0.7777777777777778,
              "#fb9f3a"
             ],
             [
              0.8888888888888888,
              "#fdca26"
             ],
             [
              1,
              "#f0f921"
             ]
            ],
            "type": "histogram2dcontour"
           }
          ],
          "mesh3d": [
           {
            "colorbar": {
             "outlinewidth": 0,
             "ticks": ""
            },
            "type": "mesh3d"
           }
          ],
          "parcoords": [
           {
            "line": {
             "colorbar": {
              "outlinewidth": 0,
              "ticks": ""
             }
            },
            "type": "parcoords"
           }
          ],
          "pie": [
           {
            "automargin": true,
            "type": "pie"
           }
          ],
          "scatter": [
           {
            "fillpattern": {
             "fillmode": "overlay",
             "size": 10,
             "solidity": 0.2
            },
            "type": "scatter"
           }
          ],
          "scatter3d": [
           {
            "line": {
             "colorbar": {
              "outlinewidth": 0,
              "ticks": ""
             }
            },
            "marker": {
             "colorbar": {
              "outlinewidth": 0,
              "ticks": ""
             }
            },
            "type": "scatter3d"
           }
          ],
          "scattercarpet": [
           {
            "marker": {
             "colorbar": {
              "outlinewidth": 0,
              "ticks": ""
             }
            },
            "type": "scattercarpet"
           }
          ],
          "scattergeo": [
           {
            "marker": {
             "colorbar": {
              "outlinewidth": 0,
              "ticks": ""
             }
            },
            "type": "scattergeo"
           }
          ],
          "scattergl": [
           {
            "marker": {
             "colorbar": {
              "outlinewidth": 0,
              "ticks": ""
             }
            },
            "type": "scattergl"
           }
          ],
          "scattermapbox": [
           {
            "marker": {
             "colorbar": {
              "outlinewidth": 0,
              "ticks": ""
             }
            },
            "type": "scattermapbox"
           }
          ],
          "scatterpolar": [
           {
            "marker": {
             "colorbar": {
              "outlinewidth": 0,
              "ticks": ""
             }
            },
            "type": "scatterpolar"
           }
          ],
          "scatterpolargl": [
           {
            "marker": {
             "colorbar": {
              "outlinewidth": 0,
              "ticks": ""
             }
            },
            "type": "scatterpolargl"
           }
          ],
          "scatterternary": [
           {
            "marker": {
             "colorbar": {
              "outlinewidth": 0,
              "ticks": ""
             }
            },
            "type": "scatterternary"
           }
          ],
          "surface": [
           {
            "colorbar": {
             "outlinewidth": 0,
             "ticks": ""
            },
            "colorscale": [
             [
              0,
              "#0d0887"
             ],
             [
              0.1111111111111111,
              "#46039f"
             ],
             [
              0.2222222222222222,
              "#7201a8"
             ],
             [
              0.3333333333333333,
              "#9c179e"
             ],
             [
              0.4444444444444444,
              "#bd3786"
             ],
             [
              0.5555555555555556,
              "#d8576b"
             ],
             [
              0.6666666666666666,
              "#ed7953"
             ],
             [
              0.7777777777777778,
              "#fb9f3a"
             ],
             [
              0.8888888888888888,
              "#fdca26"
             ],
             [
              1,
              "#f0f921"
             ]
            ],
            "type": "surface"
           }
          ],
          "table": [
           {
            "cells": {
             "fill": {
              "color": "#EBF0F8"
             },
             "line": {
              "color": "white"
             }
            },
            "header": {
             "fill": {
              "color": "#C8D4E3"
             },
             "line": {
              "color": "white"
             }
            },
            "type": "table"
           }
          ]
         },
         "layout": {
          "annotationdefaults": {
           "arrowcolor": "#2a3f5f",
           "arrowhead": 0,
           "arrowwidth": 1
          },
          "autotypenumbers": "strict",
          "coloraxis": {
           "colorbar": {
            "outlinewidth": 0,
            "ticks": ""
           }
          },
          "colorscale": {
           "diverging": [
            [
             0,
             "#8e0152"
            ],
            [
             0.1,
             "#c51b7d"
            ],
            [
             0.2,
             "#de77ae"
            ],
            [
             0.3,
             "#f1b6da"
            ],
            [
             0.4,
             "#fde0ef"
            ],
            [
             0.5,
             "#f7f7f7"
            ],
            [
             0.6,
             "#e6f5d0"
            ],
            [
             0.7,
             "#b8e186"
            ],
            [
             0.8,
             "#7fbc41"
            ],
            [
             0.9,
             "#4d9221"
            ],
            [
             1,
             "#276419"
            ]
           ],
           "sequential": [
            [
             0,
             "#0d0887"
            ],
            [
             0.1111111111111111,
             "#46039f"
            ],
            [
             0.2222222222222222,
             "#7201a8"
            ],
            [
             0.3333333333333333,
             "#9c179e"
            ],
            [
             0.4444444444444444,
             "#bd3786"
            ],
            [
             0.5555555555555556,
             "#d8576b"
            ],
            [
             0.6666666666666666,
             "#ed7953"
            ],
            [
             0.7777777777777778,
             "#fb9f3a"
            ],
            [
             0.8888888888888888,
             "#fdca26"
            ],
            [
             1,
             "#f0f921"
            ]
           ],
           "sequentialminus": [
            [
             0,
             "#0d0887"
            ],
            [
             0.1111111111111111,
             "#46039f"
            ],
            [
             0.2222222222222222,
             "#7201a8"
            ],
            [
             0.3333333333333333,
             "#9c179e"
            ],
            [
             0.4444444444444444,
             "#bd3786"
            ],
            [
             0.5555555555555556,
             "#d8576b"
            ],
            [
             0.6666666666666666,
             "#ed7953"
            ],
            [
             0.7777777777777778,
             "#fb9f3a"
            ],
            [
             0.8888888888888888,
             "#fdca26"
            ],
            [
             1,
             "#f0f921"
            ]
           ]
          },
          "colorway": [
           "#636efa",
           "#EF553B",
           "#00cc96",
           "#ab63fa",
           "#FFA15A",
           "#19d3f3",
           "#FF6692",
           "#B6E880",
           "#FF97FF",
           "#FECB52"
          ],
          "font": {
           "color": "#2a3f5f"
          },
          "geo": {
           "bgcolor": "white",
           "lakecolor": "white",
           "landcolor": "#E5ECF6",
           "showlakes": true,
           "showland": true,
           "subunitcolor": "white"
          },
          "hoverlabel": {
           "align": "left"
          },
          "hovermode": "closest",
          "mapbox": {
           "style": "light"
          },
          "paper_bgcolor": "white",
          "plot_bgcolor": "#E5ECF6",
          "polar": {
           "angularaxis": {
            "gridcolor": "white",
            "linecolor": "white",
            "ticks": ""
           },
           "bgcolor": "#E5ECF6",
           "radialaxis": {
            "gridcolor": "white",
            "linecolor": "white",
            "ticks": ""
           }
          },
          "scene": {
           "xaxis": {
            "backgroundcolor": "#E5ECF6",
            "gridcolor": "white",
            "gridwidth": 2,
            "linecolor": "white",
            "showbackground": true,
            "ticks": "",
            "zerolinecolor": "white"
           },
           "yaxis": {
            "backgroundcolor": "#E5ECF6",
            "gridcolor": "white",
            "gridwidth": 2,
            "linecolor": "white",
            "showbackground": true,
            "ticks": "",
            "zerolinecolor": "white"
           },
           "zaxis": {
            "backgroundcolor": "#E5ECF6",
            "gridcolor": "white",
            "gridwidth": 2,
            "linecolor": "white",
            "showbackground": true,
            "ticks": "",
            "zerolinecolor": "white"
           }
          },
          "shapedefaults": {
           "line": {
            "color": "#2a3f5f"
           }
          },
          "ternary": {
           "aaxis": {
            "gridcolor": "white",
            "linecolor": "white",
            "ticks": ""
           },
           "baxis": {
            "gridcolor": "white",
            "linecolor": "white",
            "ticks": ""
           },
           "bgcolor": "#E5ECF6",
           "caxis": {
            "gridcolor": "white",
            "linecolor": "white",
            "ticks": ""
           }
          },
          "title": {
           "x": 0.05
          },
          "xaxis": {
           "automargin": true,
           "gridcolor": "white",
           "linecolor": "white",
           "ticks": "",
           "title": {
            "standoff": 15
           },
           "zerolinecolor": "white",
           "zerolinewidth": 2
          },
          "yaxis": {
           "automargin": true,
           "gridcolor": "white",
           "linecolor": "white",
           "ticks": "",
           "title": {
            "standoff": 15
           },
           "zerolinecolor": "white",
           "zerolinewidth": 2
          }
         }
        },
        "title": {
         "font": {
          "color": "#4D5663"
         }
        },
        "xaxis": {
         "gridcolor": "#E1E5ED",
         "showgrid": true,
         "tickfont": {
          "color": "#4D5663"
         },
         "title": {
          "font": {
           "color": "#4D5663"
          },
          "text": ""
         },
         "zerolinecolor": "#E1E5ED"
        },
        "yaxis": {
         "gridcolor": "#E1E5ED",
         "showgrid": true,
         "tickfont": {
          "color": "#4D5663"
         },
         "title": {
          "font": {
           "color": "#4D5663"
          },
          "text": ""
         },
         "zerolinecolor": "#E1E5ED"
        }
       }
      },
      "text/html": [
       "<div>                            <div id=\"e929b8cf-e069-44e9-8a34-bcd1255e2caf\" class=\"plotly-graph-div\" style=\"height:525px; width:100%;\"></div>            <script type=\"text/javascript\">                require([\"plotly\"], function(Plotly) {                    window.PLOTLYENV=window.PLOTLYENV || {};\n",
       "                    window.PLOTLYENV.BASE_URL='https://plot.ly';                                    if (document.getElementById(\"e929b8cf-e069-44e9-8a34-bcd1255e2caf\")) {                    Plotly.newPlot(                        \"e929b8cf-e069-44e9-8a34-bcd1255e2caf\",                        [{\"marker\":{\"color\":[\"rgb(255, 153, 51)\",\"rgb(55, 128, 191)\",\"rgb(50, 171, 96)\",\"rgb(128, 0, 128)\",\"rgb(219, 64, 82)\",\"rgb(0, 128, 128)\",\"rgb(255, 255, 51)\",\"rgb(128, 128, 0)\",\"rgb(251, 128, 114)\",\"rgb(128, 177, 211)\"],\"line\":{\"width\":1.3},\"size\":[21,43,56,65,53,12,54,17,63,63,93,45,83,75,58,92,56,79,74,36,67,36,69,50,87,79,71,19,50,68,57,44,49,97,74,47,60,88,77,27,56,77,44,77,84,97,32,73,16,39,78,69,61,54,58,45,56,47,26,37,25,45,54,89,30,66,72,69,47,103,25,37,65,67,65,80,54,43,25,78,63,52,66,60,39,45,26,81,112,62,42,44,46,50,37,63,56,36,76,32],\"symbol\":\"circle\"},\"mode\":\"markers\",\"text\":\"\",\"x\":[-0.8717698350824767,0.11158432563991447,-2.7407395816036657,-1.0831976641681382,1.1051072558998412,-0.17169344572694262,0.43545635385970705,-0.09179294744208095,1.2264053142154256,1.551070466120222,-0.07121816924493687,-0.24600156908269727,0.15679944703330018,0.36559433298643446,2.660901371310062,1.855261613043312,-1.187059893505927,-0.3052965411783563,0.34235339848159724,-1.0084991752646242,-0.44254546436287656,0.6015254636451396,-0.2893097954432154,-0.7546569708093946,-0.649126922087612,-2.1670947304978943,-0.3521562590934882,-0.9825167171173528,0.4823638869124494,1.3991689937677,-1.0813487141186187,0.6812913811262418,-1.7997352733997822,0.40689483051570857,0.7305405406125538,0.17729696480255686,-0.4913828603510736,2.1551214812117236,-0.3357732892600588,0.6710258318221457,0.4922473932911538,-0.10608069827993899,-1.0721648569540283,1.5728260539297312,0.20627952814649006,0.4331828673111826,0.5413904546492052,0.596582038146462,-1.8059550967021047,1.0945562036012295,-0.6169826965091776,-1.7902865377237571,0.5756306505590018,0.22217194529919052,-0.37471866566691503,0.7533629372808431,1.2629346709986544,-0.29821714013709033,-0.40133028481671007,-0.14040244863090015,-0.7990425935512757,-0.25061752621963,0.09440658081002298,0.4639600910791964,-0.7548655530468488,0.2734573473584046,0.49953115601213216,0.2621673503662859,0.30879618891841415,-0.742579207698379,-2.140700808751398,1.085103424801508,2.5556712856305173,-0.3637449248748844,-1.7745895218285208,1.2839097135591673,1.4597017361633555,0.14355489019463594,1.1128650539993221,-1.399046146468581,0.29022433493130806,0.13941011249953447,-0.2557152779064104,-0.7964512095902642,0.9961864143816616,-0.2691610164434471,-0.5858401029934867,0.11472154570458645,-0.4385200016664815,1.5008416922368417,-1.4689795375674919,-1.3756996146289049,-1.4038172925442085,0.03665900419045025,1.3403311533249536,0.06474975963959607,-0.2672933031787719,0.5128393508997586,-0.393643566601903,0.22607092990429803],\"y\":[0.5065620379191607,-0.2602965765539084,0.8947735922539433,-0.20706460026943954,1.165771221022478,0.0032613999056064972,0.15139506602725938,0.6216258350353989,-0.021273642226957677,-1.1658427051339177,0.4485693463235875,1.198274486639321,-0.25883153636865897,1.5829050442292472,-0.2682700312910577,-0.9352385575141785,0.38738771844743153,0.6574085019682239,-0.3572746873306874,2.714060854793366,-0.27291585141713237,-1.2906302068302504,-1.222761949561528,0.013025776556479629,0.9555304598689044,-0.6561146067300845,0.7298158130029747,-0.0432119828545582,-1.5216252605551706,-0.41404987215419986,-0.4810554232967754,-0.3078050607294259,-0.9495597220821862,0.20112949349038098,0.47257768807001005,0.29574464382459376,-0.6667256588550254,-0.7800462317273794,-2.4382958618125476,1.3828570141272503,-0.21013575867841097,-0.3029006268498382,1.2927029777297245,0.2830982533145663,0.3963400146525552,-0.3848004619501144,-0.09272185828621662,0.6770153647503461,-0.1959600613591739,0.5404291839045626,-1.8217224971370247,1.3296596322879783,0.8917605845336027,-0.15443195850639932,-0.3156397923478492,-1.2712742376782356,1.1883595805266332,0.6353385091511609,1.3454674446590853,0.12178515997828125,-0.8555683113616778,-0.9785772156833887,0.057287811538334794,0.8105752779966868,0.529391625431157,0.02176697311291148,0.1811098993369195,0.5414145403099591,1.4132829236858184,1.121263069616955,-0.6065062884038721,-0.4234421639133906,0.7333946895918884,-0.7988318165943966,-0.15333737291964203,0.6713340498814011,2.5654821666609644,-0.6368941736308625,0.2447377902458404,-0.2695855843246836,0.1999260409044481,2.7906488565862717,-0.5480652035741574,1.4897751979445475,0.9394818515356372,-0.6843231983909116,-0.8926565888689287,-1.0233349824867406,-0.19876779176298331,0.331603640930695,-0.4698479174404729,-0.23190086495094775,0.0019005050666524434,-0.47242195242887397,0.6676122184294951,0.22315978389252422,0.08768989910542416,0.4226123590160756,-1.8801039927214822,0.36933946508991744],\"type\":\"scatter\"}],                        {\"legend\":{\"bgcolor\":\"#F5F6F9\",\"font\":{\"color\":\"#4D5663\"}},\"paper_bgcolor\":\"#F5F6F9\",\"plot_bgcolor\":\"#F5F6F9\",\"template\":{\"data\":{\"barpolar\":[{\"marker\":{\"line\":{\"color\":\"#E5ECF6\",\"width\":0.5},\"pattern\":{\"fillmode\":\"overlay\",\"size\":10,\"solidity\":0.2}},\"type\":\"barpolar\"}],\"bar\":[{\"error_x\":{\"color\":\"#2a3f5f\"},\"error_y\":{\"color\":\"#2a3f5f\"},\"marker\":{\"line\":{\"color\":\"#E5ECF6\",\"width\":0.5},\"pattern\":{\"fillmode\":\"overlay\",\"size\":10,\"solidity\":0.2}},\"type\":\"bar\"}],\"carpet\":[{\"aaxis\":{\"endlinecolor\":\"#2a3f5f\",\"gridcolor\":\"white\",\"linecolor\":\"white\",\"minorgridcolor\":\"white\",\"startlinecolor\":\"#2a3f5f\"},\"baxis\":{\"endlinecolor\":\"#2a3f5f\",\"gridcolor\":\"white\",\"linecolor\":\"white\",\"minorgridcolor\":\"white\",\"startlinecolor\":\"#2a3f5f\"},\"type\":\"carpet\"}],\"choropleth\":[{\"colorbar\":{\"outlinewidth\":0,\"ticks\":\"\"},\"type\":\"choropleth\"}],\"contourcarpet\":[{\"colorbar\":{\"outlinewidth\":0,\"ticks\":\"\"},\"type\":\"contourcarpet\"}],\"contour\":[{\"colorbar\":{\"outlinewidth\":0,\"ticks\":\"\"},\"colorscale\":[[0.0,\"#0d0887\"],[0.1111111111111111,\"#46039f\"],[0.2222222222222222,\"#7201a8\"],[0.3333333333333333,\"#9c179e\"],[0.4444444444444444,\"#bd3786\"],[0.5555555555555556,\"#d8576b\"],[0.6666666666666666,\"#ed7953\"],[0.7777777777777778,\"#fb9f3a\"],[0.8888888888888888,\"#fdca26\"],[1.0,\"#f0f921\"]],\"type\":\"contour\"}],\"heatmapgl\":[{\"colorbar\":{\"outlinewidth\":0,\"ticks\":\"\"},\"colorscale\":[[0.0,\"#0d0887\"],[0.1111111111111111,\"#46039f\"],[0.2222222222222222,\"#7201a8\"],[0.3333333333333333,\"#9c179e\"],[0.4444444444444444,\"#bd3786\"],[0.5555555555555556,\"#d8576b\"],[0.6666666666666666,\"#ed7953\"],[0.7777777777777778,\"#fb9f3a\"],[0.8888888888888888,\"#fdca26\"],[1.0,\"#f0f921\"]],\"type\":\"heatmapgl\"}],\"heatmap\":[{\"colorbar\":{\"outlinewidth\":0,\"ticks\":\"\"},\"colorscale\":[[0.0,\"#0d0887\"],[0.1111111111111111,\"#46039f\"],[0.2222222222222222,\"#7201a8\"],[0.3333333333333333,\"#9c179e\"],[0.4444444444444444,\"#bd3786\"],[0.5555555555555556,\"#d8576b\"],[0.6666666666666666,\"#ed7953\"],[0.7777777777777778,\"#fb9f3a\"],[0.8888888888888888,\"#fdca26\"],[1.0,\"#f0f921\"]],\"type\":\"heatmap\"}],\"histogram2dcontour\":[{\"colorbar\":{\"outlinewidth\":0,\"ticks\":\"\"},\"colorscale\":[[0.0,\"#0d0887\"],[0.1111111111111111,\"#46039f\"],[0.2222222222222222,\"#7201a8\"],[0.3333333333333333,\"#9c179e\"],[0.4444444444444444,\"#bd3786\"],[0.5555555555555556,\"#d8576b\"],[0.6666666666666666,\"#ed7953\"],[0.7777777777777778,\"#fb9f3a\"],[0.8888888888888888,\"#fdca26\"],[1.0,\"#f0f921\"]],\"type\":\"histogram2dcontour\"}],\"histogram2d\":[{\"colorbar\":{\"outlinewidth\":0,\"ticks\":\"\"},\"colorscale\":[[0.0,\"#0d0887\"],[0.1111111111111111,\"#46039f\"],[0.2222222222222222,\"#7201a8\"],[0.3333333333333333,\"#9c179e\"],[0.4444444444444444,\"#bd3786\"],[0.5555555555555556,\"#d8576b\"],[0.6666666666666666,\"#ed7953\"],[0.7777777777777778,\"#fb9f3a\"],[0.8888888888888888,\"#fdca26\"],[1.0,\"#f0f921\"]],\"type\":\"histogram2d\"}],\"histogram\":[{\"marker\":{\"pattern\":{\"fillmode\":\"overlay\",\"size\":10,\"solidity\":0.2}},\"type\":\"histogram\"}],\"mesh3d\":[{\"colorbar\":{\"outlinewidth\":0,\"ticks\":\"\"},\"type\":\"mesh3d\"}],\"parcoords\":[{\"line\":{\"colorbar\":{\"outlinewidth\":0,\"ticks\":\"\"}},\"type\":\"parcoords\"}],\"pie\":[{\"automargin\":true,\"type\":\"pie\"}],\"scatter3d\":[{\"line\":{\"colorbar\":{\"outlinewidth\":0,\"ticks\":\"\"}},\"marker\":{\"colorbar\":{\"outlinewidth\":0,\"ticks\":\"\"}},\"type\":\"scatter3d\"}],\"scattercarpet\":[{\"marker\":{\"colorbar\":{\"outlinewidth\":0,\"ticks\":\"\"}},\"type\":\"scattercarpet\"}],\"scattergeo\":[{\"marker\":{\"colorbar\":{\"outlinewidth\":0,\"ticks\":\"\"}},\"type\":\"scattergeo\"}],\"scattergl\":[{\"marker\":{\"colorbar\":{\"outlinewidth\":0,\"ticks\":\"\"}},\"type\":\"scattergl\"}],\"scattermapbox\":[{\"marker\":{\"colorbar\":{\"outlinewidth\":0,\"ticks\":\"\"}},\"type\":\"scattermapbox\"}],\"scatterpolargl\":[{\"marker\":{\"colorbar\":{\"outlinewidth\":0,\"ticks\":\"\"}},\"type\":\"scatterpolargl\"}],\"scatterpolar\":[{\"marker\":{\"colorbar\":{\"outlinewidth\":0,\"ticks\":\"\"}},\"type\":\"scatterpolar\"}],\"scatter\":[{\"fillpattern\":{\"fillmode\":\"overlay\",\"size\":10,\"solidity\":0.2},\"type\":\"scatter\"}],\"scatterternary\":[{\"marker\":{\"colorbar\":{\"outlinewidth\":0,\"ticks\":\"\"}},\"type\":\"scatterternary\"}],\"surface\":[{\"colorbar\":{\"outlinewidth\":0,\"ticks\":\"\"},\"colorscale\":[[0.0,\"#0d0887\"],[0.1111111111111111,\"#46039f\"],[0.2222222222222222,\"#7201a8\"],[0.3333333333333333,\"#9c179e\"],[0.4444444444444444,\"#bd3786\"],[0.5555555555555556,\"#d8576b\"],[0.6666666666666666,\"#ed7953\"],[0.7777777777777778,\"#fb9f3a\"],[0.8888888888888888,\"#fdca26\"],[1.0,\"#f0f921\"]],\"type\":\"surface\"}],\"table\":[{\"cells\":{\"fill\":{\"color\":\"#EBF0F8\"},\"line\":{\"color\":\"white\"}},\"header\":{\"fill\":{\"color\":\"#C8D4E3\"},\"line\":{\"color\":\"white\"}},\"type\":\"table\"}]},\"layout\":{\"annotationdefaults\":{\"arrowcolor\":\"#2a3f5f\",\"arrowhead\":0,\"arrowwidth\":1},\"autotypenumbers\":\"strict\",\"coloraxis\":{\"colorbar\":{\"outlinewidth\":0,\"ticks\":\"\"}},\"colorscale\":{\"diverging\":[[0,\"#8e0152\"],[0.1,\"#c51b7d\"],[0.2,\"#de77ae\"],[0.3,\"#f1b6da\"],[0.4,\"#fde0ef\"],[0.5,\"#f7f7f7\"],[0.6,\"#e6f5d0\"],[0.7,\"#b8e186\"],[0.8,\"#7fbc41\"],[0.9,\"#4d9221\"],[1,\"#276419\"]],\"sequential\":[[0.0,\"#0d0887\"],[0.1111111111111111,\"#46039f\"],[0.2222222222222222,\"#7201a8\"],[0.3333333333333333,\"#9c179e\"],[0.4444444444444444,\"#bd3786\"],[0.5555555555555556,\"#d8576b\"],[0.6666666666666666,\"#ed7953\"],[0.7777777777777778,\"#fb9f3a\"],[0.8888888888888888,\"#fdca26\"],[1.0,\"#f0f921\"]],\"sequentialminus\":[[0.0,\"#0d0887\"],[0.1111111111111111,\"#46039f\"],[0.2222222222222222,\"#7201a8\"],[0.3333333333333333,\"#9c179e\"],[0.4444444444444444,\"#bd3786\"],[0.5555555555555556,\"#d8576b\"],[0.6666666666666666,\"#ed7953\"],[0.7777777777777778,\"#fb9f3a\"],[0.8888888888888888,\"#fdca26\"],[1.0,\"#f0f921\"]]},\"colorway\":[\"#636efa\",\"#EF553B\",\"#00cc96\",\"#ab63fa\",\"#FFA15A\",\"#19d3f3\",\"#FF6692\",\"#B6E880\",\"#FF97FF\",\"#FECB52\"],\"font\":{\"color\":\"#2a3f5f\"},\"geo\":{\"bgcolor\":\"white\",\"lakecolor\":\"white\",\"landcolor\":\"#E5ECF6\",\"showlakes\":true,\"showland\":true,\"subunitcolor\":\"white\"},\"hoverlabel\":{\"align\":\"left\"},\"hovermode\":\"closest\",\"mapbox\":{\"style\":\"light\"},\"paper_bgcolor\":\"white\",\"plot_bgcolor\":\"#E5ECF6\",\"polar\":{\"angularaxis\":{\"gridcolor\":\"white\",\"linecolor\":\"white\",\"ticks\":\"\"},\"bgcolor\":\"#E5ECF6\",\"radialaxis\":{\"gridcolor\":\"white\",\"linecolor\":\"white\",\"ticks\":\"\"}},\"scene\":{\"xaxis\":{\"backgroundcolor\":\"#E5ECF6\",\"gridcolor\":\"white\",\"gridwidth\":2,\"linecolor\":\"white\",\"showbackground\":true,\"ticks\":\"\",\"zerolinecolor\":\"white\"},\"yaxis\":{\"backgroundcolor\":\"#E5ECF6\",\"gridcolor\":\"white\",\"gridwidth\":2,\"linecolor\":\"white\",\"showbackground\":true,\"ticks\":\"\",\"zerolinecolor\":\"white\"},\"zaxis\":{\"backgroundcolor\":\"#E5ECF6\",\"gridcolor\":\"white\",\"gridwidth\":2,\"linecolor\":\"white\",\"showbackground\":true,\"ticks\":\"\",\"zerolinecolor\":\"white\"}},\"shapedefaults\":{\"line\":{\"color\":\"#2a3f5f\"}},\"ternary\":{\"aaxis\":{\"gridcolor\":\"white\",\"linecolor\":\"white\",\"ticks\":\"\"},\"baxis\":{\"gridcolor\":\"white\",\"linecolor\":\"white\",\"ticks\":\"\"},\"bgcolor\":\"#E5ECF6\",\"caxis\":{\"gridcolor\":\"white\",\"linecolor\":\"white\",\"ticks\":\"\"}},\"title\":{\"x\":0.05},\"xaxis\":{\"automargin\":true,\"gridcolor\":\"white\",\"linecolor\":\"white\",\"ticks\":\"\",\"title\":{\"standoff\":15},\"zerolinecolor\":\"white\",\"zerolinewidth\":2},\"yaxis\":{\"automargin\":true,\"gridcolor\":\"white\",\"linecolor\":\"white\",\"ticks\":\"\",\"title\":{\"standoff\":15},\"zerolinecolor\":\"white\",\"zerolinewidth\":2}}},\"title\":{\"font\":{\"color\":\"#4D5663\"}},\"xaxis\":{\"gridcolor\":\"#E1E5ED\",\"showgrid\":true,\"tickfont\":{\"color\":\"#4D5663\"},\"title\":{\"font\":{\"color\":\"#4D5663\"},\"text\":\"\"},\"zerolinecolor\":\"#E1E5ED\"},\"yaxis\":{\"gridcolor\":\"#E1E5ED\",\"showgrid\":true,\"tickfont\":{\"color\":\"#4D5663\"},\"title\":{\"font\":{\"color\":\"#4D5663\"},\"text\":\"\"},\"zerolinecolor\":\"#E1E5ED\"}},                        {\"showLink\": true, \"linkText\": \"Export to plot.ly\", \"plotlyServerURL\": \"https://plot.ly\", \"responsive\": true}                    ).then(function(){\n",
       "                            \n",
       "var gd = document.getElementById('e929b8cf-e069-44e9-8a34-bcd1255e2caf');\n",
       "var x = new MutationObserver(function (mutations, observer) {{\n",
       "        var display = window.getComputedStyle(gd).display;\n",
       "        if (!display || display === 'none') {{\n",
       "            console.log([gd, 'removed!']);\n",
       "            Plotly.purge(gd);\n",
       "            observer.disconnect();\n",
       "        }}\n",
       "}});\n",
       "\n",
       "// Listen for the removal of the full notebook cells\n",
       "var notebookContainer = gd.closest('#notebook-container');\n",
       "if (notebookContainer) {{\n",
       "    x.observe(notebookContainer, {childList: true});\n",
       "}}\n",
       "\n",
       "// Listen for the clearing of the current output cell\n",
       "var outputEl = gd.closest('.output');\n",
       "if (outputEl) {{\n",
       "    x.observe(outputEl, {childList: true});\n",
       "}}\n",
       "\n",
       "                        })                };                });            </script>        </div>"
      ]
     },
     "metadata": {},
     "output_type": "display_data"
    }
   ],
   "source": [
    "df.iplot(kind='bubble',x='A',y='B',size='C')"
   ]
  },
  {
   "cell_type": "markdown",
   "metadata": {},
   "source": [
    "## scatter_matrix()\n",
    "\n",
    "Similar to sns.pairplot()"
   ]
  },
  {
   "cell_type": "code",
   "execution_count": 20,
   "metadata": {},
   "outputs": [
    {
     "data": {
      "application/vnd.plotly.v1+json": {
       "config": {
        "linkText": "Export to plot.ly",
        "plotlyServerURL": "https://plot.ly",
        "showLink": true
       },
       "data": [
        {
         "histfunc": "count",
         "histnorm": "",
         "marker": {
          "color": "rgba(255, 153, 51, 1.0)",
          "line": {
           "color": "#4D5663",
           "width": 1.3
          }
         },
         "name": "A",
         "nbinsx": 10,
         "opacity": 0.8,
         "orientation": "v",
         "type": "histogram",
         "x": [
          -0.8717698350824767,
          0.11158432563991447,
          -2.7407395816036657,
          -1.0831976641681382,
          1.1051072558998412,
          -0.17169344572694262,
          0.43545635385970705,
          -0.09179294744208095,
          1.2264053142154256,
          1.551070466120222,
          -0.07121816924493687,
          -0.24600156908269727,
          0.15679944703330018,
          0.36559433298643446,
          2.660901371310062,
          1.855261613043312,
          -1.187059893505927,
          -0.3052965411783563,
          0.34235339848159724,
          -1.0084991752646242,
          -0.44254546436287656,
          0.6015254636451396,
          -0.2893097954432154,
          -0.7546569708093946,
          -0.649126922087612,
          -2.1670947304978943,
          -0.3521562590934882,
          -0.9825167171173528,
          0.4823638869124494,
          1.3991689937677,
          -1.0813487141186187,
          0.6812913811262418,
          -1.7997352733997822,
          0.40689483051570857,
          0.7305405406125538,
          0.17729696480255686,
          -0.4913828603510736,
          2.1551214812117236,
          -0.3357732892600588,
          0.6710258318221457,
          0.4922473932911538,
          -0.10608069827993899,
          -1.0721648569540283,
          1.5728260539297312,
          0.20627952814649006,
          0.4331828673111826,
          0.5413904546492052,
          0.596582038146462,
          -1.8059550967021047,
          1.0945562036012295,
          -0.6169826965091776,
          -1.7902865377237571,
          0.5756306505590018,
          0.22217194529919052,
          -0.37471866566691503,
          0.7533629372808431,
          1.2629346709986544,
          -0.29821714013709033,
          -0.40133028481671007,
          -0.14040244863090015,
          -0.7990425935512757,
          -0.25061752621963,
          0.09440658081002298,
          0.4639600910791964,
          -0.7548655530468488,
          0.2734573473584046,
          0.49953115601213216,
          0.2621673503662859,
          0.30879618891841415,
          -0.742579207698379,
          -2.140700808751398,
          1.085103424801508,
          2.5556712856305173,
          -0.3637449248748844,
          -1.7745895218285208,
          1.2839097135591673,
          1.4597017361633555,
          0.14355489019463594,
          1.1128650539993221,
          -1.399046146468581,
          0.29022433493130806,
          0.13941011249953447,
          -0.2557152779064104,
          -0.7964512095902642,
          0.9961864143816616,
          -0.2691610164434471,
          -0.5858401029934867,
          0.11472154570458645,
          -0.4385200016664815,
          1.5008416922368417,
          -1.4689795375674919,
          -1.3756996146289049,
          -1.4038172925442085,
          0.03665900419045025,
          1.3403311533249536,
          0.06474975963959607,
          -0.2672933031787719,
          0.5128393508997586,
          -0.393643566601903,
          0.22607092990429803
         ],
         "xaxis": "x",
         "yaxis": "y"
        },
        {
         "line": {
          "color": "rgba(128, 128, 128, 1.0)",
          "dash": "solid",
          "shape": "linear",
          "width": 1.3
         },
         "marker": {
          "size": 2,
          "symbol": "circle"
         },
         "mode": "markers",
         "name": "A",
         "text": "",
         "type": "scatter",
         "x": [
          0.5065620379191607,
          -0.2602965765539084,
          0.8947735922539433,
          -0.20706460026943954,
          1.165771221022478,
          0.0032613999056064972,
          0.15139506602725938,
          0.6216258350353989,
          -0.021273642226957677,
          -1.1658427051339177,
          0.4485693463235875,
          1.198274486639321,
          -0.25883153636865897,
          1.5829050442292472,
          -0.2682700312910577,
          -0.9352385575141785,
          0.38738771844743153,
          0.6574085019682239,
          -0.3572746873306874,
          2.714060854793366,
          -0.27291585141713237,
          -1.2906302068302504,
          -1.222761949561528,
          0.013025776556479629,
          0.9555304598689044,
          -0.6561146067300845,
          0.7298158130029747,
          -0.0432119828545582,
          -1.5216252605551706,
          -0.41404987215419986,
          -0.4810554232967754,
          -0.3078050607294259,
          -0.9495597220821862,
          0.20112949349038098,
          0.47257768807001005,
          0.29574464382459376,
          -0.6667256588550254,
          -0.7800462317273794,
          -2.4382958618125476,
          1.3828570141272503,
          -0.21013575867841097,
          -0.3029006268498382,
          1.2927029777297245,
          0.2830982533145663,
          0.3963400146525552,
          -0.3848004619501144,
          -0.09272185828621662,
          0.6770153647503461,
          -0.1959600613591739,
          0.5404291839045626,
          -1.8217224971370247,
          1.3296596322879783,
          0.8917605845336027,
          -0.15443195850639932,
          -0.3156397923478492,
          -1.2712742376782356,
          1.1883595805266332,
          0.6353385091511609,
          1.3454674446590853,
          0.12178515997828125,
          -0.8555683113616778,
          -0.9785772156833887,
          0.057287811538334794,
          0.8105752779966868,
          0.529391625431157,
          0.02176697311291148,
          0.1811098993369195,
          0.5414145403099591,
          1.4132829236858184,
          1.121263069616955,
          -0.6065062884038721,
          -0.4234421639133906,
          0.7333946895918884,
          -0.7988318165943966,
          -0.15333737291964203,
          0.6713340498814011,
          2.5654821666609644,
          -0.6368941736308625,
          0.2447377902458404,
          -0.2695855843246836,
          0.1999260409044481,
          2.7906488565862717,
          -0.5480652035741574,
          1.4897751979445475,
          0.9394818515356372,
          -0.6843231983909116,
          -0.8926565888689287,
          -1.0233349824867406,
          -0.19876779176298331,
          0.331603640930695,
          -0.4698479174404729,
          -0.23190086495094775,
          0.0019005050666524434,
          -0.47242195242887397,
          0.6676122184294951,
          0.22315978389252422,
          0.08768989910542416,
          0.4226123590160756,
          -1.8801039927214822,
          0.36933946508991744
         ],
         "xaxis": "x2",
         "y": [
          -0.8717698350824767,
          0.11158432563991447,
          -2.7407395816036657,
          -1.0831976641681382,
          1.1051072558998412,
          -0.17169344572694262,
          0.43545635385970705,
          -0.09179294744208095,
          1.2264053142154256,
          1.551070466120222,
          -0.07121816924493687,
          -0.24600156908269727,
          0.15679944703330018,
          0.36559433298643446,
          2.660901371310062,
          1.855261613043312,
          -1.187059893505927,
          -0.3052965411783563,
          0.34235339848159724,
          -1.0084991752646242,
          -0.44254546436287656,
          0.6015254636451396,
          -0.2893097954432154,
          -0.7546569708093946,
          -0.649126922087612,
          -2.1670947304978943,
          -0.3521562590934882,
          -0.9825167171173528,
          0.4823638869124494,
          1.3991689937677,
          -1.0813487141186187,
          0.6812913811262418,
          -1.7997352733997822,
          0.40689483051570857,
          0.7305405406125538,
          0.17729696480255686,
          -0.4913828603510736,
          2.1551214812117236,
          -0.3357732892600588,
          0.6710258318221457,
          0.4922473932911538,
          -0.10608069827993899,
          -1.0721648569540283,
          1.5728260539297312,
          0.20627952814649006,
          0.4331828673111826,
          0.5413904546492052,
          0.596582038146462,
          -1.8059550967021047,
          1.0945562036012295,
          -0.6169826965091776,
          -1.7902865377237571,
          0.5756306505590018,
          0.22217194529919052,
          -0.37471866566691503,
          0.7533629372808431,
          1.2629346709986544,
          -0.29821714013709033,
          -0.40133028481671007,
          -0.14040244863090015,
          -0.7990425935512757,
          -0.25061752621963,
          0.09440658081002298,
          0.4639600910791964,
          -0.7548655530468488,
          0.2734573473584046,
          0.49953115601213216,
          0.2621673503662859,
          0.30879618891841415,
          -0.742579207698379,
          -2.140700808751398,
          1.085103424801508,
          2.5556712856305173,
          -0.3637449248748844,
          -1.7745895218285208,
          1.2839097135591673,
          1.4597017361633555,
          0.14355489019463594,
          1.1128650539993221,
          -1.399046146468581,
          0.29022433493130806,
          0.13941011249953447,
          -0.2557152779064104,
          -0.7964512095902642,
          0.9961864143816616,
          -0.2691610164434471,
          -0.5858401029934867,
          0.11472154570458645,
          -0.4385200016664815,
          1.5008416922368417,
          -1.4689795375674919,
          -1.3756996146289049,
          -1.4038172925442085,
          0.03665900419045025,
          1.3403311533249536,
          0.06474975963959607,
          -0.2672933031787719,
          0.5128393508997586,
          -0.393643566601903,
          0.22607092990429803
         ],
         "yaxis": "y2"
        },
        {
         "line": {
          "color": "rgba(128, 128, 128, 1.0)",
          "dash": "solid",
          "shape": "linear",
          "width": 1.3
         },
         "marker": {
          "size": 2,
          "symbol": "circle"
         },
         "mode": "markers",
         "name": "A",
         "text": "",
         "type": "scatter",
         "x": [
          -1.636956662731303,
          -0.6376043572924962,
          -0.04074808935507628,
          0.34497677696840484,
          -0.19076916942011005,
          -2.0954179115141818,
          -0.1258038529727859,
          -1.8322894147741204,
          0.2619118827468143,
          0.2888115165866037,
          1.6364493228914556,
          -0.551431182905678,
          1.1820607294773688,
          0.8382851237881066,
          0.05411647258773308,
          1.6032469748148923,
          -0.07039817890104534,
          0.9884718968144668,
          0.78145279651797,
          -0.9674629069418702,
          0.45066994892508166,
          -0.9660195906372077,
          0.5638362505027132,
          -0.31239299662172076,
          1.3629951220558272,
          1.0056265249042886,
          0.6586321388426318,
          -1.7485069952611128,
          -0.3467098592376142,
          0.5253221217405029,
          0.01221581442141305,
          -0.5888478040710935,
          -0.3699537395884266,
          1.8263495711307631,
          0.7879559997924204,
          -0.46413106150570277,
          0.15674294678992978,
          1.3999271035218088,
          0.9209383937821997,
          -1.403228581932192,
          -0.03426984855449471,
          0.8965896218615761,
          -0.5799793555951641,
          0.9301499968144166,
          1.2290103431464956,
          1.8497601002940371,
          -1.1586219484257647,
          0.7488581431714749,
          -1.8853196898851619,
          -0.8315380262150668,
          0.9715328986813034,
          0.5447699216016609,
          0.2034341042310319,
          -0.14660290085412775,
          0.0408606414598768,
          -0.5345984287120338,
          -0.06998739469961222,
          -0.45412086165879645,
          -1.423782090243259,
          -0.900151888308105,
          -1.4757163490379523,
          -0.5726645809768245,
          -0.13455376044729145,
          1.4873421811179082,
          -1.2503324306966512,
          0.4128439778789257,
          0.6840175517600873,
          0.5309673702717542,
          -0.4572041909767813,
          2.132455347659096,
          -1.4696516510617859,
          -0.9168835139347818,
          0.3645932325354682,
          0.43757693567404343,
          0.34345892699501984,
          1.0539374300788713,
          -0.16222096350144485,
          -0.6250207991087227,
          -1.4864522625867662,
          0.9822502059575067,
          0.26150056034773633,
          -0.22949725038415353,
          0.4011434816669361,
          0.14807677357748775,
          -0.8257120845329259,
          -0.5719670046842023,
          -1.4301469056048395,
          1.0815026785969433,
          2.503204404751823,
          0.24462449545777584,
          -0.6965985378768902,
          -0.6120127016594211,
          -0.5281273060393614,
          -0.33176256581655306,
          -0.942252273020844,
          0.2642135737777716,
          -0.03545626490580988,
          -0.9748092770873191,
          0.8552252426105975,
          -1.142679274938753
         ],
         "xaxis": "x3",
         "y": [
          -0.8717698350824767,
          0.11158432563991447,
          -2.7407395816036657,
          -1.0831976641681382,
          1.1051072558998412,
          -0.17169344572694262,
          0.43545635385970705,
          -0.09179294744208095,
          1.2264053142154256,
          1.551070466120222,
          -0.07121816924493687,
          -0.24600156908269727,
          0.15679944703330018,
          0.36559433298643446,
          2.660901371310062,
          1.855261613043312,
          -1.187059893505927,
          -0.3052965411783563,
          0.34235339848159724,
          -1.0084991752646242,
          -0.44254546436287656,
          0.6015254636451396,
          -0.2893097954432154,
          -0.7546569708093946,
          -0.649126922087612,
          -2.1670947304978943,
          -0.3521562590934882,
          -0.9825167171173528,
          0.4823638869124494,
          1.3991689937677,
          -1.0813487141186187,
          0.6812913811262418,
          -1.7997352733997822,
          0.40689483051570857,
          0.7305405406125538,
          0.17729696480255686,
          -0.4913828603510736,
          2.1551214812117236,
          -0.3357732892600588,
          0.6710258318221457,
          0.4922473932911538,
          -0.10608069827993899,
          -1.0721648569540283,
          1.5728260539297312,
          0.20627952814649006,
          0.4331828673111826,
          0.5413904546492052,
          0.596582038146462,
          -1.8059550967021047,
          1.0945562036012295,
          -0.6169826965091776,
          -1.7902865377237571,
          0.5756306505590018,
          0.22217194529919052,
          -0.37471866566691503,
          0.7533629372808431,
          1.2629346709986544,
          -0.29821714013709033,
          -0.40133028481671007,
          -0.14040244863090015,
          -0.7990425935512757,
          -0.25061752621963,
          0.09440658081002298,
          0.4639600910791964,
          -0.7548655530468488,
          0.2734573473584046,
          0.49953115601213216,
          0.2621673503662859,
          0.30879618891841415,
          -0.742579207698379,
          -2.140700808751398,
          1.085103424801508,
          2.5556712856305173,
          -0.3637449248748844,
          -1.7745895218285208,
          1.2839097135591673,
          1.4597017361633555,
          0.14355489019463594,
          1.1128650539993221,
          -1.399046146468581,
          0.29022433493130806,
          0.13941011249953447,
          -0.2557152779064104,
          -0.7964512095902642,
          0.9961864143816616,
          -0.2691610164434471,
          -0.5858401029934867,
          0.11472154570458645,
          -0.4385200016664815,
          1.5008416922368417,
          -1.4689795375674919,
          -1.3756996146289049,
          -1.4038172925442085,
          0.03665900419045025,
          1.3403311533249536,
          0.06474975963959607,
          -0.2672933031787719,
          0.5128393508997586,
          -0.393643566601903,
          0.22607092990429803
         ],
         "yaxis": "y3"
        },
        {
         "line": {
          "color": "rgba(128, 128, 128, 1.0)",
          "dash": "solid",
          "shape": "linear",
          "width": 1.3
         },
         "marker": {
          "size": 2,
          "symbol": "circle"
         },
         "mode": "markers",
         "name": "A",
         "text": "",
         "type": "scatter",
         "x": [
          -0.07361023118327803,
          -1.954620093840618,
          0.3868275981196489,
          1.6022759283893118,
          0.5025031626623727,
          0.49297890284603363,
          -1.5175409515682257,
          -1.3988304194778804,
          0.7651118782401064,
          1.0195034760829493,
          -0.288436533540941,
          -0.427864616296082,
          -0.6981146609047546,
          -0.5837048700144051,
          0.28625126469522205,
          0.033969180055852845,
          -0.6800941336845024,
          -1.2936759604819117,
          0.2976493477975922,
          0.8876648716287192,
          0.4539119475551905,
          0.46876307597007094,
          0.42860056900710036,
          0.4162356701437077,
          -1.3411061973503395,
          0.6593272851144585,
          0.006360936392886699,
          -0.09294284205777326,
          0.8186243719201479,
          0.8375383073202678,
          -0.257778987819475,
          -0.9029949282022555,
          0.20524331367960652,
          -0.9320590169586531,
          -0.3745256486057368,
          0.3443083354664249,
          1.1036934902034283,
          -0.5098200365561425,
          0.8824236017654274,
          0.4851045623174309,
          -0.9121612675512513,
          0.46725976905766886,
          -0.38480015719057103,
          1.072600167340778,
          0.5606624960519553,
          0.05538623717839237,
          -0.9256291974263261,
          -1.3085284502493197,
          0.5322089433139756,
          1.3711258601960699,
          0.8939837960076227,
          0.6323907190600253,
          -0.04608371954015574,
          -0.6120198505115956,
          -1.113995762940247,
          -0.4604899515584618,
          -1.1814699481756323,
          0.47379987149557157,
          1.1365868596602342,
          0.3251544689243104,
          -1.6099274719269303,
          0.10935135880595509,
          -0.31071960743429444,
          -0.2587371889720593,
          -1.4803413476675145,
          -2.296481131385899,
          -1.307467158891181,
          0.11281434648274909,
          -0.27399818011197324,
          -0.2620068775064324,
          0.9864897880510298,
          1.1458292298213306,
          -0.37315735252561644,
          0.7304093761080327,
          0.1980194607638059,
          0.585256830129519,
          -1.0975617901207673,
          0.13051460601987414,
          -0.6971999142736548,
          -1.1888300482764687,
          0.538170007088638,
          0.6960707066352149,
          -1.3155445632578306,
          0.445343941603825,
          1.9551168589061723,
          -1.0867432370182428,
          -0.8716209241960768,
          0.38771374137623954,
          0.21161730176790372,
          0.5300797560802026,
          -0.46012960283045934,
          0.8688986413921359,
          -0.9154699808991233,
          1.1453668429563433,
          0.9862346094675136,
          0.9744844483024134,
          0.5219721187073837,
          -1.3173678443749777,
          1.246537174178265,
          -1.1376531789629023
         ],
         "xaxis": "x4",
         "y": [
          -0.8717698350824767,
          0.11158432563991447,
          -2.7407395816036657,
          -1.0831976641681382,
          1.1051072558998412,
          -0.17169344572694262,
          0.43545635385970705,
          -0.09179294744208095,
          1.2264053142154256,
          1.551070466120222,
          -0.07121816924493687,
          -0.24600156908269727,
          0.15679944703330018,
          0.36559433298643446,
          2.660901371310062,
          1.855261613043312,
          -1.187059893505927,
          -0.3052965411783563,
          0.34235339848159724,
          -1.0084991752646242,
          -0.44254546436287656,
          0.6015254636451396,
          -0.2893097954432154,
          -0.7546569708093946,
          -0.649126922087612,
          -2.1670947304978943,
          -0.3521562590934882,
          -0.9825167171173528,
          0.4823638869124494,
          1.3991689937677,
          -1.0813487141186187,
          0.6812913811262418,
          -1.7997352733997822,
          0.40689483051570857,
          0.7305405406125538,
          0.17729696480255686,
          -0.4913828603510736,
          2.1551214812117236,
          -0.3357732892600588,
          0.6710258318221457,
          0.4922473932911538,
          -0.10608069827993899,
          -1.0721648569540283,
          1.5728260539297312,
          0.20627952814649006,
          0.4331828673111826,
          0.5413904546492052,
          0.596582038146462,
          -1.8059550967021047,
          1.0945562036012295,
          -0.6169826965091776,
          -1.7902865377237571,
          0.5756306505590018,
          0.22217194529919052,
          -0.37471866566691503,
          0.7533629372808431,
          1.2629346709986544,
          -0.29821714013709033,
          -0.40133028481671007,
          -0.14040244863090015,
          -0.7990425935512757,
          -0.25061752621963,
          0.09440658081002298,
          0.4639600910791964,
          -0.7548655530468488,
          0.2734573473584046,
          0.49953115601213216,
          0.2621673503662859,
          0.30879618891841415,
          -0.742579207698379,
          -2.140700808751398,
          1.085103424801508,
          2.5556712856305173,
          -0.3637449248748844,
          -1.7745895218285208,
          1.2839097135591673,
          1.4597017361633555,
          0.14355489019463594,
          1.1128650539993221,
          -1.399046146468581,
          0.29022433493130806,
          0.13941011249953447,
          -0.2557152779064104,
          -0.7964512095902642,
          0.9961864143816616,
          -0.2691610164434471,
          -0.5858401029934867,
          0.11472154570458645,
          -0.4385200016664815,
          1.5008416922368417,
          -1.4689795375674919,
          -1.3756996146289049,
          -1.4038172925442085,
          0.03665900419045025,
          1.3403311533249536,
          0.06474975963959607,
          -0.2672933031787719,
          0.5128393508997586,
          -0.393643566601903,
          0.22607092990429803
         ],
         "yaxis": "y4"
        },
        {
         "line": {
          "color": "rgba(128, 128, 128, 1.0)",
          "dash": "solid",
          "shape": "linear",
          "width": 1.3
         },
         "marker": {
          "size": 2,
          "symbol": "circle"
         },
         "mode": "markers",
         "name": "B",
         "text": "",
         "type": "scatter",
         "x": [
          -0.8717698350824767,
          0.11158432563991447,
          -2.7407395816036657,
          -1.0831976641681382,
          1.1051072558998412,
          -0.17169344572694262,
          0.43545635385970705,
          -0.09179294744208095,
          1.2264053142154256,
          1.551070466120222,
          -0.07121816924493687,
          -0.24600156908269727,
          0.15679944703330018,
          0.36559433298643446,
          2.660901371310062,
          1.855261613043312,
          -1.187059893505927,
          -0.3052965411783563,
          0.34235339848159724,
          -1.0084991752646242,
          -0.44254546436287656,
          0.6015254636451396,
          -0.2893097954432154,
          -0.7546569708093946,
          -0.649126922087612,
          -2.1670947304978943,
          -0.3521562590934882,
          -0.9825167171173528,
          0.4823638869124494,
          1.3991689937677,
          -1.0813487141186187,
          0.6812913811262418,
          -1.7997352733997822,
          0.40689483051570857,
          0.7305405406125538,
          0.17729696480255686,
          -0.4913828603510736,
          2.1551214812117236,
          -0.3357732892600588,
          0.6710258318221457,
          0.4922473932911538,
          -0.10608069827993899,
          -1.0721648569540283,
          1.5728260539297312,
          0.20627952814649006,
          0.4331828673111826,
          0.5413904546492052,
          0.596582038146462,
          -1.8059550967021047,
          1.0945562036012295,
          -0.6169826965091776,
          -1.7902865377237571,
          0.5756306505590018,
          0.22217194529919052,
          -0.37471866566691503,
          0.7533629372808431,
          1.2629346709986544,
          -0.29821714013709033,
          -0.40133028481671007,
          -0.14040244863090015,
          -0.7990425935512757,
          -0.25061752621963,
          0.09440658081002298,
          0.4639600910791964,
          -0.7548655530468488,
          0.2734573473584046,
          0.49953115601213216,
          0.2621673503662859,
          0.30879618891841415,
          -0.742579207698379,
          -2.140700808751398,
          1.085103424801508,
          2.5556712856305173,
          -0.3637449248748844,
          -1.7745895218285208,
          1.2839097135591673,
          1.4597017361633555,
          0.14355489019463594,
          1.1128650539993221,
          -1.399046146468581,
          0.29022433493130806,
          0.13941011249953447,
          -0.2557152779064104,
          -0.7964512095902642,
          0.9961864143816616,
          -0.2691610164434471,
          -0.5858401029934867,
          0.11472154570458645,
          -0.4385200016664815,
          1.5008416922368417,
          -1.4689795375674919,
          -1.3756996146289049,
          -1.4038172925442085,
          0.03665900419045025,
          1.3403311533249536,
          0.06474975963959607,
          -0.2672933031787719,
          0.5128393508997586,
          -0.393643566601903,
          0.22607092990429803
         ],
         "xaxis": "x5",
         "y": [
          0.5065620379191607,
          -0.2602965765539084,
          0.8947735922539433,
          -0.20706460026943954,
          1.165771221022478,
          0.0032613999056064972,
          0.15139506602725938,
          0.6216258350353989,
          -0.021273642226957677,
          -1.1658427051339177,
          0.4485693463235875,
          1.198274486639321,
          -0.25883153636865897,
          1.5829050442292472,
          -0.2682700312910577,
          -0.9352385575141785,
          0.38738771844743153,
          0.6574085019682239,
          -0.3572746873306874,
          2.714060854793366,
          -0.27291585141713237,
          -1.2906302068302504,
          -1.222761949561528,
          0.013025776556479629,
          0.9555304598689044,
          -0.6561146067300845,
          0.7298158130029747,
          -0.0432119828545582,
          -1.5216252605551706,
          -0.41404987215419986,
          -0.4810554232967754,
          -0.3078050607294259,
          -0.9495597220821862,
          0.20112949349038098,
          0.47257768807001005,
          0.29574464382459376,
          -0.6667256588550254,
          -0.7800462317273794,
          -2.4382958618125476,
          1.3828570141272503,
          -0.21013575867841097,
          -0.3029006268498382,
          1.2927029777297245,
          0.2830982533145663,
          0.3963400146525552,
          -0.3848004619501144,
          -0.09272185828621662,
          0.6770153647503461,
          -0.1959600613591739,
          0.5404291839045626,
          -1.8217224971370247,
          1.3296596322879783,
          0.8917605845336027,
          -0.15443195850639932,
          -0.3156397923478492,
          -1.2712742376782356,
          1.1883595805266332,
          0.6353385091511609,
          1.3454674446590853,
          0.12178515997828125,
          -0.8555683113616778,
          -0.9785772156833887,
          0.057287811538334794,
          0.8105752779966868,
          0.529391625431157,
          0.02176697311291148,
          0.1811098993369195,
          0.5414145403099591,
          1.4132829236858184,
          1.121263069616955,
          -0.6065062884038721,
          -0.4234421639133906,
          0.7333946895918884,
          -0.7988318165943966,
          -0.15333737291964203,
          0.6713340498814011,
          2.5654821666609644,
          -0.6368941736308625,
          0.2447377902458404,
          -0.2695855843246836,
          0.1999260409044481,
          2.7906488565862717,
          -0.5480652035741574,
          1.4897751979445475,
          0.9394818515356372,
          -0.6843231983909116,
          -0.8926565888689287,
          -1.0233349824867406,
          -0.19876779176298331,
          0.331603640930695,
          -0.4698479174404729,
          -0.23190086495094775,
          0.0019005050666524434,
          -0.47242195242887397,
          0.6676122184294951,
          0.22315978389252422,
          0.08768989910542416,
          0.4226123590160756,
          -1.8801039927214822,
          0.36933946508991744
         ],
         "yaxis": "y5"
        },
        {
         "histfunc": "count",
         "histnorm": "",
         "marker": {
          "color": "rgba(55, 128, 191, 1.0)",
          "line": {
           "color": "#4D5663",
           "width": 1.3
          }
         },
         "name": "B",
         "nbinsx": 10,
         "opacity": 0.8,
         "orientation": "v",
         "type": "histogram",
         "x": [
          0.5065620379191607,
          -0.2602965765539084,
          0.8947735922539433,
          -0.20706460026943954,
          1.165771221022478,
          0.0032613999056064972,
          0.15139506602725938,
          0.6216258350353989,
          -0.021273642226957677,
          -1.1658427051339177,
          0.4485693463235875,
          1.198274486639321,
          -0.25883153636865897,
          1.5829050442292472,
          -0.2682700312910577,
          -0.9352385575141785,
          0.38738771844743153,
          0.6574085019682239,
          -0.3572746873306874,
          2.714060854793366,
          -0.27291585141713237,
          -1.2906302068302504,
          -1.222761949561528,
          0.013025776556479629,
          0.9555304598689044,
          -0.6561146067300845,
          0.7298158130029747,
          -0.0432119828545582,
          -1.5216252605551706,
          -0.41404987215419986,
          -0.4810554232967754,
          -0.3078050607294259,
          -0.9495597220821862,
          0.20112949349038098,
          0.47257768807001005,
          0.29574464382459376,
          -0.6667256588550254,
          -0.7800462317273794,
          -2.4382958618125476,
          1.3828570141272503,
          -0.21013575867841097,
          -0.3029006268498382,
          1.2927029777297245,
          0.2830982533145663,
          0.3963400146525552,
          -0.3848004619501144,
          -0.09272185828621662,
          0.6770153647503461,
          -0.1959600613591739,
          0.5404291839045626,
          -1.8217224971370247,
          1.3296596322879783,
          0.8917605845336027,
          -0.15443195850639932,
          -0.3156397923478492,
          -1.2712742376782356,
          1.1883595805266332,
          0.6353385091511609,
          1.3454674446590853,
          0.12178515997828125,
          -0.8555683113616778,
          -0.9785772156833887,
          0.057287811538334794,
          0.8105752779966868,
          0.529391625431157,
          0.02176697311291148,
          0.1811098993369195,
          0.5414145403099591,
          1.4132829236858184,
          1.121263069616955,
          -0.6065062884038721,
          -0.4234421639133906,
          0.7333946895918884,
          -0.7988318165943966,
          -0.15333737291964203,
          0.6713340498814011,
          2.5654821666609644,
          -0.6368941736308625,
          0.2447377902458404,
          -0.2695855843246836,
          0.1999260409044481,
          2.7906488565862717,
          -0.5480652035741574,
          1.4897751979445475,
          0.9394818515356372,
          -0.6843231983909116,
          -0.8926565888689287,
          -1.0233349824867406,
          -0.19876779176298331,
          0.331603640930695,
          -0.4698479174404729,
          -0.23190086495094775,
          0.0019005050666524434,
          -0.47242195242887397,
          0.6676122184294951,
          0.22315978389252422,
          0.08768989910542416,
          0.4226123590160756,
          -1.8801039927214822,
          0.36933946508991744
         ],
         "xaxis": "x6",
         "yaxis": "y6"
        },
        {
         "line": {
          "color": "rgba(128, 128, 128, 1.0)",
          "dash": "solid",
          "shape": "linear",
          "width": 1.3
         },
         "marker": {
          "size": 2,
          "symbol": "circle"
         },
         "mode": "markers",
         "name": "B",
         "text": "",
         "type": "scatter",
         "x": [
          -1.636956662731303,
          -0.6376043572924962,
          -0.04074808935507628,
          0.34497677696840484,
          -0.19076916942011005,
          -2.0954179115141818,
          -0.1258038529727859,
          -1.8322894147741204,
          0.2619118827468143,
          0.2888115165866037,
          1.6364493228914556,
          -0.551431182905678,
          1.1820607294773688,
          0.8382851237881066,
          0.05411647258773308,
          1.6032469748148923,
          -0.07039817890104534,
          0.9884718968144668,
          0.78145279651797,
          -0.9674629069418702,
          0.45066994892508166,
          -0.9660195906372077,
          0.5638362505027132,
          -0.31239299662172076,
          1.3629951220558272,
          1.0056265249042886,
          0.6586321388426318,
          -1.7485069952611128,
          -0.3467098592376142,
          0.5253221217405029,
          0.01221581442141305,
          -0.5888478040710935,
          -0.3699537395884266,
          1.8263495711307631,
          0.7879559997924204,
          -0.46413106150570277,
          0.15674294678992978,
          1.3999271035218088,
          0.9209383937821997,
          -1.403228581932192,
          -0.03426984855449471,
          0.8965896218615761,
          -0.5799793555951641,
          0.9301499968144166,
          1.2290103431464956,
          1.8497601002940371,
          -1.1586219484257647,
          0.7488581431714749,
          -1.8853196898851619,
          -0.8315380262150668,
          0.9715328986813034,
          0.5447699216016609,
          0.2034341042310319,
          -0.14660290085412775,
          0.0408606414598768,
          -0.5345984287120338,
          -0.06998739469961222,
          -0.45412086165879645,
          -1.423782090243259,
          -0.900151888308105,
          -1.4757163490379523,
          -0.5726645809768245,
          -0.13455376044729145,
          1.4873421811179082,
          -1.2503324306966512,
          0.4128439778789257,
          0.6840175517600873,
          0.5309673702717542,
          -0.4572041909767813,
          2.132455347659096,
          -1.4696516510617859,
          -0.9168835139347818,
          0.3645932325354682,
          0.43757693567404343,
          0.34345892699501984,
          1.0539374300788713,
          -0.16222096350144485,
          -0.6250207991087227,
          -1.4864522625867662,
          0.9822502059575067,
          0.26150056034773633,
          -0.22949725038415353,
          0.4011434816669361,
          0.14807677357748775,
          -0.8257120845329259,
          -0.5719670046842023,
          -1.4301469056048395,
          1.0815026785969433,
          2.503204404751823,
          0.24462449545777584,
          -0.6965985378768902,
          -0.6120127016594211,
          -0.5281273060393614,
          -0.33176256581655306,
          -0.942252273020844,
          0.2642135737777716,
          -0.03545626490580988,
          -0.9748092770873191,
          0.8552252426105975,
          -1.142679274938753
         ],
         "xaxis": "x7",
         "y": [
          0.5065620379191607,
          -0.2602965765539084,
          0.8947735922539433,
          -0.20706460026943954,
          1.165771221022478,
          0.0032613999056064972,
          0.15139506602725938,
          0.6216258350353989,
          -0.021273642226957677,
          -1.1658427051339177,
          0.4485693463235875,
          1.198274486639321,
          -0.25883153636865897,
          1.5829050442292472,
          -0.2682700312910577,
          -0.9352385575141785,
          0.38738771844743153,
          0.6574085019682239,
          -0.3572746873306874,
          2.714060854793366,
          -0.27291585141713237,
          -1.2906302068302504,
          -1.222761949561528,
          0.013025776556479629,
          0.9555304598689044,
          -0.6561146067300845,
          0.7298158130029747,
          -0.0432119828545582,
          -1.5216252605551706,
          -0.41404987215419986,
          -0.4810554232967754,
          -0.3078050607294259,
          -0.9495597220821862,
          0.20112949349038098,
          0.47257768807001005,
          0.29574464382459376,
          -0.6667256588550254,
          -0.7800462317273794,
          -2.4382958618125476,
          1.3828570141272503,
          -0.21013575867841097,
          -0.3029006268498382,
          1.2927029777297245,
          0.2830982533145663,
          0.3963400146525552,
          -0.3848004619501144,
          -0.09272185828621662,
          0.6770153647503461,
          -0.1959600613591739,
          0.5404291839045626,
          -1.8217224971370247,
          1.3296596322879783,
          0.8917605845336027,
          -0.15443195850639932,
          -0.3156397923478492,
          -1.2712742376782356,
          1.1883595805266332,
          0.6353385091511609,
          1.3454674446590853,
          0.12178515997828125,
          -0.8555683113616778,
          -0.9785772156833887,
          0.057287811538334794,
          0.8105752779966868,
          0.529391625431157,
          0.02176697311291148,
          0.1811098993369195,
          0.5414145403099591,
          1.4132829236858184,
          1.121263069616955,
          -0.6065062884038721,
          -0.4234421639133906,
          0.7333946895918884,
          -0.7988318165943966,
          -0.15333737291964203,
          0.6713340498814011,
          2.5654821666609644,
          -0.6368941736308625,
          0.2447377902458404,
          -0.2695855843246836,
          0.1999260409044481,
          2.7906488565862717,
          -0.5480652035741574,
          1.4897751979445475,
          0.9394818515356372,
          -0.6843231983909116,
          -0.8926565888689287,
          -1.0233349824867406,
          -0.19876779176298331,
          0.331603640930695,
          -0.4698479174404729,
          -0.23190086495094775,
          0.0019005050666524434,
          -0.47242195242887397,
          0.6676122184294951,
          0.22315978389252422,
          0.08768989910542416,
          0.4226123590160756,
          -1.8801039927214822,
          0.36933946508991744
         ],
         "yaxis": "y7"
        },
        {
         "line": {
          "color": "rgba(128, 128, 128, 1.0)",
          "dash": "solid",
          "shape": "linear",
          "width": 1.3
         },
         "marker": {
          "size": 2,
          "symbol": "circle"
         },
         "mode": "markers",
         "name": "B",
         "text": "",
         "type": "scatter",
         "x": [
          -0.07361023118327803,
          -1.954620093840618,
          0.3868275981196489,
          1.6022759283893118,
          0.5025031626623727,
          0.49297890284603363,
          -1.5175409515682257,
          -1.3988304194778804,
          0.7651118782401064,
          1.0195034760829493,
          -0.288436533540941,
          -0.427864616296082,
          -0.6981146609047546,
          -0.5837048700144051,
          0.28625126469522205,
          0.033969180055852845,
          -0.6800941336845024,
          -1.2936759604819117,
          0.2976493477975922,
          0.8876648716287192,
          0.4539119475551905,
          0.46876307597007094,
          0.42860056900710036,
          0.4162356701437077,
          -1.3411061973503395,
          0.6593272851144585,
          0.006360936392886699,
          -0.09294284205777326,
          0.8186243719201479,
          0.8375383073202678,
          -0.257778987819475,
          -0.9029949282022555,
          0.20524331367960652,
          -0.9320590169586531,
          -0.3745256486057368,
          0.3443083354664249,
          1.1036934902034283,
          -0.5098200365561425,
          0.8824236017654274,
          0.4851045623174309,
          -0.9121612675512513,
          0.46725976905766886,
          -0.38480015719057103,
          1.072600167340778,
          0.5606624960519553,
          0.05538623717839237,
          -0.9256291974263261,
          -1.3085284502493197,
          0.5322089433139756,
          1.3711258601960699,
          0.8939837960076227,
          0.6323907190600253,
          -0.04608371954015574,
          -0.6120198505115956,
          -1.113995762940247,
          -0.4604899515584618,
          -1.1814699481756323,
          0.47379987149557157,
          1.1365868596602342,
          0.3251544689243104,
          -1.6099274719269303,
          0.10935135880595509,
          -0.31071960743429444,
          -0.2587371889720593,
          -1.4803413476675145,
          -2.296481131385899,
          -1.307467158891181,
          0.11281434648274909,
          -0.27399818011197324,
          -0.2620068775064324,
          0.9864897880510298,
          1.1458292298213306,
          -0.37315735252561644,
          0.7304093761080327,
          0.1980194607638059,
          0.585256830129519,
          -1.0975617901207673,
          0.13051460601987414,
          -0.6971999142736548,
          -1.1888300482764687,
          0.538170007088638,
          0.6960707066352149,
          -1.3155445632578306,
          0.445343941603825,
          1.9551168589061723,
          -1.0867432370182428,
          -0.8716209241960768,
          0.38771374137623954,
          0.21161730176790372,
          0.5300797560802026,
          -0.46012960283045934,
          0.8688986413921359,
          -0.9154699808991233,
          1.1453668429563433,
          0.9862346094675136,
          0.9744844483024134,
          0.5219721187073837,
          -1.3173678443749777,
          1.246537174178265,
          -1.1376531789629023
         ],
         "xaxis": "x8",
         "y": [
          0.5065620379191607,
          -0.2602965765539084,
          0.8947735922539433,
          -0.20706460026943954,
          1.165771221022478,
          0.0032613999056064972,
          0.15139506602725938,
          0.6216258350353989,
          -0.021273642226957677,
          -1.1658427051339177,
          0.4485693463235875,
          1.198274486639321,
          -0.25883153636865897,
          1.5829050442292472,
          -0.2682700312910577,
          -0.9352385575141785,
          0.38738771844743153,
          0.6574085019682239,
          -0.3572746873306874,
          2.714060854793366,
          -0.27291585141713237,
          -1.2906302068302504,
          -1.222761949561528,
          0.013025776556479629,
          0.9555304598689044,
          -0.6561146067300845,
          0.7298158130029747,
          -0.0432119828545582,
          -1.5216252605551706,
          -0.41404987215419986,
          -0.4810554232967754,
          -0.3078050607294259,
          -0.9495597220821862,
          0.20112949349038098,
          0.47257768807001005,
          0.29574464382459376,
          -0.6667256588550254,
          -0.7800462317273794,
          -2.4382958618125476,
          1.3828570141272503,
          -0.21013575867841097,
          -0.3029006268498382,
          1.2927029777297245,
          0.2830982533145663,
          0.3963400146525552,
          -0.3848004619501144,
          -0.09272185828621662,
          0.6770153647503461,
          -0.1959600613591739,
          0.5404291839045626,
          -1.8217224971370247,
          1.3296596322879783,
          0.8917605845336027,
          -0.15443195850639932,
          -0.3156397923478492,
          -1.2712742376782356,
          1.1883595805266332,
          0.6353385091511609,
          1.3454674446590853,
          0.12178515997828125,
          -0.8555683113616778,
          -0.9785772156833887,
          0.057287811538334794,
          0.8105752779966868,
          0.529391625431157,
          0.02176697311291148,
          0.1811098993369195,
          0.5414145403099591,
          1.4132829236858184,
          1.121263069616955,
          -0.6065062884038721,
          -0.4234421639133906,
          0.7333946895918884,
          -0.7988318165943966,
          -0.15333737291964203,
          0.6713340498814011,
          2.5654821666609644,
          -0.6368941736308625,
          0.2447377902458404,
          -0.2695855843246836,
          0.1999260409044481,
          2.7906488565862717,
          -0.5480652035741574,
          1.4897751979445475,
          0.9394818515356372,
          -0.6843231983909116,
          -0.8926565888689287,
          -1.0233349824867406,
          -0.19876779176298331,
          0.331603640930695,
          -0.4698479174404729,
          -0.23190086495094775,
          0.0019005050666524434,
          -0.47242195242887397,
          0.6676122184294951,
          0.22315978389252422,
          0.08768989910542416,
          0.4226123590160756,
          -1.8801039927214822,
          0.36933946508991744
         ],
         "yaxis": "y8"
        },
        {
         "line": {
          "color": "rgba(128, 128, 128, 1.0)",
          "dash": "solid",
          "shape": "linear",
          "width": 1.3
         },
         "marker": {
          "size": 2,
          "symbol": "circle"
         },
         "mode": "markers",
         "name": "C",
         "text": "",
         "type": "scatter",
         "x": [
          -0.8717698350824767,
          0.11158432563991447,
          -2.7407395816036657,
          -1.0831976641681382,
          1.1051072558998412,
          -0.17169344572694262,
          0.43545635385970705,
          -0.09179294744208095,
          1.2264053142154256,
          1.551070466120222,
          -0.07121816924493687,
          -0.24600156908269727,
          0.15679944703330018,
          0.36559433298643446,
          2.660901371310062,
          1.855261613043312,
          -1.187059893505927,
          -0.3052965411783563,
          0.34235339848159724,
          -1.0084991752646242,
          -0.44254546436287656,
          0.6015254636451396,
          -0.2893097954432154,
          -0.7546569708093946,
          -0.649126922087612,
          -2.1670947304978943,
          -0.3521562590934882,
          -0.9825167171173528,
          0.4823638869124494,
          1.3991689937677,
          -1.0813487141186187,
          0.6812913811262418,
          -1.7997352733997822,
          0.40689483051570857,
          0.7305405406125538,
          0.17729696480255686,
          -0.4913828603510736,
          2.1551214812117236,
          -0.3357732892600588,
          0.6710258318221457,
          0.4922473932911538,
          -0.10608069827993899,
          -1.0721648569540283,
          1.5728260539297312,
          0.20627952814649006,
          0.4331828673111826,
          0.5413904546492052,
          0.596582038146462,
          -1.8059550967021047,
          1.0945562036012295,
          -0.6169826965091776,
          -1.7902865377237571,
          0.5756306505590018,
          0.22217194529919052,
          -0.37471866566691503,
          0.7533629372808431,
          1.2629346709986544,
          -0.29821714013709033,
          -0.40133028481671007,
          -0.14040244863090015,
          -0.7990425935512757,
          -0.25061752621963,
          0.09440658081002298,
          0.4639600910791964,
          -0.7548655530468488,
          0.2734573473584046,
          0.49953115601213216,
          0.2621673503662859,
          0.30879618891841415,
          -0.742579207698379,
          -2.140700808751398,
          1.085103424801508,
          2.5556712856305173,
          -0.3637449248748844,
          -1.7745895218285208,
          1.2839097135591673,
          1.4597017361633555,
          0.14355489019463594,
          1.1128650539993221,
          -1.399046146468581,
          0.29022433493130806,
          0.13941011249953447,
          -0.2557152779064104,
          -0.7964512095902642,
          0.9961864143816616,
          -0.2691610164434471,
          -0.5858401029934867,
          0.11472154570458645,
          -0.4385200016664815,
          1.5008416922368417,
          -1.4689795375674919,
          -1.3756996146289049,
          -1.4038172925442085,
          0.03665900419045025,
          1.3403311533249536,
          0.06474975963959607,
          -0.2672933031787719,
          0.5128393508997586,
          -0.393643566601903,
          0.22607092990429803
         ],
         "xaxis": "x9",
         "y": [
          -1.636956662731303,
          -0.6376043572924962,
          -0.04074808935507628,
          0.34497677696840484,
          -0.19076916942011005,
          -2.0954179115141818,
          -0.1258038529727859,
          -1.8322894147741204,
          0.2619118827468143,
          0.2888115165866037,
          1.6364493228914556,
          -0.551431182905678,
          1.1820607294773688,
          0.8382851237881066,
          0.05411647258773308,
          1.6032469748148923,
          -0.07039817890104534,
          0.9884718968144668,
          0.78145279651797,
          -0.9674629069418702,
          0.45066994892508166,
          -0.9660195906372077,
          0.5638362505027132,
          -0.31239299662172076,
          1.3629951220558272,
          1.0056265249042886,
          0.6586321388426318,
          -1.7485069952611128,
          -0.3467098592376142,
          0.5253221217405029,
          0.01221581442141305,
          -0.5888478040710935,
          -0.3699537395884266,
          1.8263495711307631,
          0.7879559997924204,
          -0.46413106150570277,
          0.15674294678992978,
          1.3999271035218088,
          0.9209383937821997,
          -1.403228581932192,
          -0.03426984855449471,
          0.8965896218615761,
          -0.5799793555951641,
          0.9301499968144166,
          1.2290103431464956,
          1.8497601002940371,
          -1.1586219484257647,
          0.7488581431714749,
          -1.8853196898851619,
          -0.8315380262150668,
          0.9715328986813034,
          0.5447699216016609,
          0.2034341042310319,
          -0.14660290085412775,
          0.0408606414598768,
          -0.5345984287120338,
          -0.06998739469961222,
          -0.45412086165879645,
          -1.423782090243259,
          -0.900151888308105,
          -1.4757163490379523,
          -0.5726645809768245,
          -0.13455376044729145,
          1.4873421811179082,
          -1.2503324306966512,
          0.4128439778789257,
          0.6840175517600873,
          0.5309673702717542,
          -0.4572041909767813,
          2.132455347659096,
          -1.4696516510617859,
          -0.9168835139347818,
          0.3645932325354682,
          0.43757693567404343,
          0.34345892699501984,
          1.0539374300788713,
          -0.16222096350144485,
          -0.6250207991087227,
          -1.4864522625867662,
          0.9822502059575067,
          0.26150056034773633,
          -0.22949725038415353,
          0.4011434816669361,
          0.14807677357748775,
          -0.8257120845329259,
          -0.5719670046842023,
          -1.4301469056048395,
          1.0815026785969433,
          2.503204404751823,
          0.24462449545777584,
          -0.6965985378768902,
          -0.6120127016594211,
          -0.5281273060393614,
          -0.33176256581655306,
          -0.942252273020844,
          0.2642135737777716,
          -0.03545626490580988,
          -0.9748092770873191,
          0.8552252426105975,
          -1.142679274938753
         ],
         "yaxis": "y9"
        },
        {
         "line": {
          "color": "rgba(128, 128, 128, 1.0)",
          "dash": "solid",
          "shape": "linear",
          "width": 1.3
         },
         "marker": {
          "size": 2,
          "symbol": "circle"
         },
         "mode": "markers",
         "name": "C",
         "text": "",
         "type": "scatter",
         "x": [
          0.5065620379191607,
          -0.2602965765539084,
          0.8947735922539433,
          -0.20706460026943954,
          1.165771221022478,
          0.0032613999056064972,
          0.15139506602725938,
          0.6216258350353989,
          -0.021273642226957677,
          -1.1658427051339177,
          0.4485693463235875,
          1.198274486639321,
          -0.25883153636865897,
          1.5829050442292472,
          -0.2682700312910577,
          -0.9352385575141785,
          0.38738771844743153,
          0.6574085019682239,
          -0.3572746873306874,
          2.714060854793366,
          -0.27291585141713237,
          -1.2906302068302504,
          -1.222761949561528,
          0.013025776556479629,
          0.9555304598689044,
          -0.6561146067300845,
          0.7298158130029747,
          -0.0432119828545582,
          -1.5216252605551706,
          -0.41404987215419986,
          -0.4810554232967754,
          -0.3078050607294259,
          -0.9495597220821862,
          0.20112949349038098,
          0.47257768807001005,
          0.29574464382459376,
          -0.6667256588550254,
          -0.7800462317273794,
          -2.4382958618125476,
          1.3828570141272503,
          -0.21013575867841097,
          -0.3029006268498382,
          1.2927029777297245,
          0.2830982533145663,
          0.3963400146525552,
          -0.3848004619501144,
          -0.09272185828621662,
          0.6770153647503461,
          -0.1959600613591739,
          0.5404291839045626,
          -1.8217224971370247,
          1.3296596322879783,
          0.8917605845336027,
          -0.15443195850639932,
          -0.3156397923478492,
          -1.2712742376782356,
          1.1883595805266332,
          0.6353385091511609,
          1.3454674446590853,
          0.12178515997828125,
          -0.8555683113616778,
          -0.9785772156833887,
          0.057287811538334794,
          0.8105752779966868,
          0.529391625431157,
          0.02176697311291148,
          0.1811098993369195,
          0.5414145403099591,
          1.4132829236858184,
          1.121263069616955,
          -0.6065062884038721,
          -0.4234421639133906,
          0.7333946895918884,
          -0.7988318165943966,
          -0.15333737291964203,
          0.6713340498814011,
          2.5654821666609644,
          -0.6368941736308625,
          0.2447377902458404,
          -0.2695855843246836,
          0.1999260409044481,
          2.7906488565862717,
          -0.5480652035741574,
          1.4897751979445475,
          0.9394818515356372,
          -0.6843231983909116,
          -0.8926565888689287,
          -1.0233349824867406,
          -0.19876779176298331,
          0.331603640930695,
          -0.4698479174404729,
          -0.23190086495094775,
          0.0019005050666524434,
          -0.47242195242887397,
          0.6676122184294951,
          0.22315978389252422,
          0.08768989910542416,
          0.4226123590160756,
          -1.8801039927214822,
          0.36933946508991744
         ],
         "xaxis": "x10",
         "y": [
          -1.636956662731303,
          -0.6376043572924962,
          -0.04074808935507628,
          0.34497677696840484,
          -0.19076916942011005,
          -2.0954179115141818,
          -0.1258038529727859,
          -1.8322894147741204,
          0.2619118827468143,
          0.2888115165866037,
          1.6364493228914556,
          -0.551431182905678,
          1.1820607294773688,
          0.8382851237881066,
          0.05411647258773308,
          1.6032469748148923,
          -0.07039817890104534,
          0.9884718968144668,
          0.78145279651797,
          -0.9674629069418702,
          0.45066994892508166,
          -0.9660195906372077,
          0.5638362505027132,
          -0.31239299662172076,
          1.3629951220558272,
          1.0056265249042886,
          0.6586321388426318,
          -1.7485069952611128,
          -0.3467098592376142,
          0.5253221217405029,
          0.01221581442141305,
          -0.5888478040710935,
          -0.3699537395884266,
          1.8263495711307631,
          0.7879559997924204,
          -0.46413106150570277,
          0.15674294678992978,
          1.3999271035218088,
          0.9209383937821997,
          -1.403228581932192,
          -0.03426984855449471,
          0.8965896218615761,
          -0.5799793555951641,
          0.9301499968144166,
          1.2290103431464956,
          1.8497601002940371,
          -1.1586219484257647,
          0.7488581431714749,
          -1.8853196898851619,
          -0.8315380262150668,
          0.9715328986813034,
          0.5447699216016609,
          0.2034341042310319,
          -0.14660290085412775,
          0.0408606414598768,
          -0.5345984287120338,
          -0.06998739469961222,
          -0.45412086165879645,
          -1.423782090243259,
          -0.900151888308105,
          -1.4757163490379523,
          -0.5726645809768245,
          -0.13455376044729145,
          1.4873421811179082,
          -1.2503324306966512,
          0.4128439778789257,
          0.6840175517600873,
          0.5309673702717542,
          -0.4572041909767813,
          2.132455347659096,
          -1.4696516510617859,
          -0.9168835139347818,
          0.3645932325354682,
          0.43757693567404343,
          0.34345892699501984,
          1.0539374300788713,
          -0.16222096350144485,
          -0.6250207991087227,
          -1.4864522625867662,
          0.9822502059575067,
          0.26150056034773633,
          -0.22949725038415353,
          0.4011434816669361,
          0.14807677357748775,
          -0.8257120845329259,
          -0.5719670046842023,
          -1.4301469056048395,
          1.0815026785969433,
          2.503204404751823,
          0.24462449545777584,
          -0.6965985378768902,
          -0.6120127016594211,
          -0.5281273060393614,
          -0.33176256581655306,
          -0.942252273020844,
          0.2642135737777716,
          -0.03545626490580988,
          -0.9748092770873191,
          0.8552252426105975,
          -1.142679274938753
         ],
         "yaxis": "y10"
        },
        {
         "histfunc": "count",
         "histnorm": "",
         "marker": {
          "color": "rgba(50, 171, 96, 1.0)",
          "line": {
           "color": "#4D5663",
           "width": 1.3
          }
         },
         "name": "C",
         "nbinsx": 10,
         "opacity": 0.8,
         "orientation": "v",
         "type": "histogram",
         "x": [
          -1.636956662731303,
          -0.6376043572924962,
          -0.04074808935507628,
          0.34497677696840484,
          -0.19076916942011005,
          -2.0954179115141818,
          -0.1258038529727859,
          -1.8322894147741204,
          0.2619118827468143,
          0.2888115165866037,
          1.6364493228914556,
          -0.551431182905678,
          1.1820607294773688,
          0.8382851237881066,
          0.05411647258773308,
          1.6032469748148923,
          -0.07039817890104534,
          0.9884718968144668,
          0.78145279651797,
          -0.9674629069418702,
          0.45066994892508166,
          -0.9660195906372077,
          0.5638362505027132,
          -0.31239299662172076,
          1.3629951220558272,
          1.0056265249042886,
          0.6586321388426318,
          -1.7485069952611128,
          -0.3467098592376142,
          0.5253221217405029,
          0.01221581442141305,
          -0.5888478040710935,
          -0.3699537395884266,
          1.8263495711307631,
          0.7879559997924204,
          -0.46413106150570277,
          0.15674294678992978,
          1.3999271035218088,
          0.9209383937821997,
          -1.403228581932192,
          -0.03426984855449471,
          0.8965896218615761,
          -0.5799793555951641,
          0.9301499968144166,
          1.2290103431464956,
          1.8497601002940371,
          -1.1586219484257647,
          0.7488581431714749,
          -1.8853196898851619,
          -0.8315380262150668,
          0.9715328986813034,
          0.5447699216016609,
          0.2034341042310319,
          -0.14660290085412775,
          0.0408606414598768,
          -0.5345984287120338,
          -0.06998739469961222,
          -0.45412086165879645,
          -1.423782090243259,
          -0.900151888308105,
          -1.4757163490379523,
          -0.5726645809768245,
          -0.13455376044729145,
          1.4873421811179082,
          -1.2503324306966512,
          0.4128439778789257,
          0.6840175517600873,
          0.5309673702717542,
          -0.4572041909767813,
          2.132455347659096,
          -1.4696516510617859,
          -0.9168835139347818,
          0.3645932325354682,
          0.43757693567404343,
          0.34345892699501984,
          1.0539374300788713,
          -0.16222096350144485,
          -0.6250207991087227,
          -1.4864522625867662,
          0.9822502059575067,
          0.26150056034773633,
          -0.22949725038415353,
          0.4011434816669361,
          0.14807677357748775,
          -0.8257120845329259,
          -0.5719670046842023,
          -1.4301469056048395,
          1.0815026785969433,
          2.503204404751823,
          0.24462449545777584,
          -0.6965985378768902,
          -0.6120127016594211,
          -0.5281273060393614,
          -0.33176256581655306,
          -0.942252273020844,
          0.2642135737777716,
          -0.03545626490580988,
          -0.9748092770873191,
          0.8552252426105975,
          -1.142679274938753
         ],
         "xaxis": "x11",
         "yaxis": "y11"
        },
        {
         "line": {
          "color": "rgba(128, 128, 128, 1.0)",
          "dash": "solid",
          "shape": "linear",
          "width": 1.3
         },
         "marker": {
          "size": 2,
          "symbol": "circle"
         },
         "mode": "markers",
         "name": "C",
         "text": "",
         "type": "scatter",
         "x": [
          -0.07361023118327803,
          -1.954620093840618,
          0.3868275981196489,
          1.6022759283893118,
          0.5025031626623727,
          0.49297890284603363,
          -1.5175409515682257,
          -1.3988304194778804,
          0.7651118782401064,
          1.0195034760829493,
          -0.288436533540941,
          -0.427864616296082,
          -0.6981146609047546,
          -0.5837048700144051,
          0.28625126469522205,
          0.033969180055852845,
          -0.6800941336845024,
          -1.2936759604819117,
          0.2976493477975922,
          0.8876648716287192,
          0.4539119475551905,
          0.46876307597007094,
          0.42860056900710036,
          0.4162356701437077,
          -1.3411061973503395,
          0.6593272851144585,
          0.006360936392886699,
          -0.09294284205777326,
          0.8186243719201479,
          0.8375383073202678,
          -0.257778987819475,
          -0.9029949282022555,
          0.20524331367960652,
          -0.9320590169586531,
          -0.3745256486057368,
          0.3443083354664249,
          1.1036934902034283,
          -0.5098200365561425,
          0.8824236017654274,
          0.4851045623174309,
          -0.9121612675512513,
          0.46725976905766886,
          -0.38480015719057103,
          1.072600167340778,
          0.5606624960519553,
          0.05538623717839237,
          -0.9256291974263261,
          -1.3085284502493197,
          0.5322089433139756,
          1.3711258601960699,
          0.8939837960076227,
          0.6323907190600253,
          -0.04608371954015574,
          -0.6120198505115956,
          -1.113995762940247,
          -0.4604899515584618,
          -1.1814699481756323,
          0.47379987149557157,
          1.1365868596602342,
          0.3251544689243104,
          -1.6099274719269303,
          0.10935135880595509,
          -0.31071960743429444,
          -0.2587371889720593,
          -1.4803413476675145,
          -2.296481131385899,
          -1.307467158891181,
          0.11281434648274909,
          -0.27399818011197324,
          -0.2620068775064324,
          0.9864897880510298,
          1.1458292298213306,
          -0.37315735252561644,
          0.7304093761080327,
          0.1980194607638059,
          0.585256830129519,
          -1.0975617901207673,
          0.13051460601987414,
          -0.6971999142736548,
          -1.1888300482764687,
          0.538170007088638,
          0.6960707066352149,
          -1.3155445632578306,
          0.445343941603825,
          1.9551168589061723,
          -1.0867432370182428,
          -0.8716209241960768,
          0.38771374137623954,
          0.21161730176790372,
          0.5300797560802026,
          -0.46012960283045934,
          0.8688986413921359,
          -0.9154699808991233,
          1.1453668429563433,
          0.9862346094675136,
          0.9744844483024134,
          0.5219721187073837,
          -1.3173678443749777,
          1.246537174178265,
          -1.1376531789629023
         ],
         "xaxis": "x12",
         "y": [
          -1.636956662731303,
          -0.6376043572924962,
          -0.04074808935507628,
          0.34497677696840484,
          -0.19076916942011005,
          -2.0954179115141818,
          -0.1258038529727859,
          -1.8322894147741204,
          0.2619118827468143,
          0.2888115165866037,
          1.6364493228914556,
          -0.551431182905678,
          1.1820607294773688,
          0.8382851237881066,
          0.05411647258773308,
          1.6032469748148923,
          -0.07039817890104534,
          0.9884718968144668,
          0.78145279651797,
          -0.9674629069418702,
          0.45066994892508166,
          -0.9660195906372077,
          0.5638362505027132,
          -0.31239299662172076,
          1.3629951220558272,
          1.0056265249042886,
          0.6586321388426318,
          -1.7485069952611128,
          -0.3467098592376142,
          0.5253221217405029,
          0.01221581442141305,
          -0.5888478040710935,
          -0.3699537395884266,
          1.8263495711307631,
          0.7879559997924204,
          -0.46413106150570277,
          0.15674294678992978,
          1.3999271035218088,
          0.9209383937821997,
          -1.403228581932192,
          -0.03426984855449471,
          0.8965896218615761,
          -0.5799793555951641,
          0.9301499968144166,
          1.2290103431464956,
          1.8497601002940371,
          -1.1586219484257647,
          0.7488581431714749,
          -1.8853196898851619,
          -0.8315380262150668,
          0.9715328986813034,
          0.5447699216016609,
          0.2034341042310319,
          -0.14660290085412775,
          0.0408606414598768,
          -0.5345984287120338,
          -0.06998739469961222,
          -0.45412086165879645,
          -1.423782090243259,
          -0.900151888308105,
          -1.4757163490379523,
          -0.5726645809768245,
          -0.13455376044729145,
          1.4873421811179082,
          -1.2503324306966512,
          0.4128439778789257,
          0.6840175517600873,
          0.5309673702717542,
          -0.4572041909767813,
          2.132455347659096,
          -1.4696516510617859,
          -0.9168835139347818,
          0.3645932325354682,
          0.43757693567404343,
          0.34345892699501984,
          1.0539374300788713,
          -0.16222096350144485,
          -0.6250207991087227,
          -1.4864522625867662,
          0.9822502059575067,
          0.26150056034773633,
          -0.22949725038415353,
          0.4011434816669361,
          0.14807677357748775,
          -0.8257120845329259,
          -0.5719670046842023,
          -1.4301469056048395,
          1.0815026785969433,
          2.503204404751823,
          0.24462449545777584,
          -0.6965985378768902,
          -0.6120127016594211,
          -0.5281273060393614,
          -0.33176256581655306,
          -0.942252273020844,
          0.2642135737777716,
          -0.03545626490580988,
          -0.9748092770873191,
          0.8552252426105975,
          -1.142679274938753
         ],
         "yaxis": "y12"
        },
        {
         "line": {
          "color": "rgba(128, 128, 128, 1.0)",
          "dash": "solid",
          "shape": "linear",
          "width": 1.3
         },
         "marker": {
          "size": 2,
          "symbol": "circle"
         },
         "mode": "markers",
         "name": "D",
         "text": "",
         "type": "scatter",
         "x": [
          -0.8717698350824767,
          0.11158432563991447,
          -2.7407395816036657,
          -1.0831976641681382,
          1.1051072558998412,
          -0.17169344572694262,
          0.43545635385970705,
          -0.09179294744208095,
          1.2264053142154256,
          1.551070466120222,
          -0.07121816924493687,
          -0.24600156908269727,
          0.15679944703330018,
          0.36559433298643446,
          2.660901371310062,
          1.855261613043312,
          -1.187059893505927,
          -0.3052965411783563,
          0.34235339848159724,
          -1.0084991752646242,
          -0.44254546436287656,
          0.6015254636451396,
          -0.2893097954432154,
          -0.7546569708093946,
          -0.649126922087612,
          -2.1670947304978943,
          -0.3521562590934882,
          -0.9825167171173528,
          0.4823638869124494,
          1.3991689937677,
          -1.0813487141186187,
          0.6812913811262418,
          -1.7997352733997822,
          0.40689483051570857,
          0.7305405406125538,
          0.17729696480255686,
          -0.4913828603510736,
          2.1551214812117236,
          -0.3357732892600588,
          0.6710258318221457,
          0.4922473932911538,
          -0.10608069827993899,
          -1.0721648569540283,
          1.5728260539297312,
          0.20627952814649006,
          0.4331828673111826,
          0.5413904546492052,
          0.596582038146462,
          -1.8059550967021047,
          1.0945562036012295,
          -0.6169826965091776,
          -1.7902865377237571,
          0.5756306505590018,
          0.22217194529919052,
          -0.37471866566691503,
          0.7533629372808431,
          1.2629346709986544,
          -0.29821714013709033,
          -0.40133028481671007,
          -0.14040244863090015,
          -0.7990425935512757,
          -0.25061752621963,
          0.09440658081002298,
          0.4639600910791964,
          -0.7548655530468488,
          0.2734573473584046,
          0.49953115601213216,
          0.2621673503662859,
          0.30879618891841415,
          -0.742579207698379,
          -2.140700808751398,
          1.085103424801508,
          2.5556712856305173,
          -0.3637449248748844,
          -1.7745895218285208,
          1.2839097135591673,
          1.4597017361633555,
          0.14355489019463594,
          1.1128650539993221,
          -1.399046146468581,
          0.29022433493130806,
          0.13941011249953447,
          -0.2557152779064104,
          -0.7964512095902642,
          0.9961864143816616,
          -0.2691610164434471,
          -0.5858401029934867,
          0.11472154570458645,
          -0.4385200016664815,
          1.5008416922368417,
          -1.4689795375674919,
          -1.3756996146289049,
          -1.4038172925442085,
          0.03665900419045025,
          1.3403311533249536,
          0.06474975963959607,
          -0.2672933031787719,
          0.5128393508997586,
          -0.393643566601903,
          0.22607092990429803
         ],
         "xaxis": "x13",
         "y": [
          -0.07361023118327803,
          -1.954620093840618,
          0.3868275981196489,
          1.6022759283893118,
          0.5025031626623727,
          0.49297890284603363,
          -1.5175409515682257,
          -1.3988304194778804,
          0.7651118782401064,
          1.0195034760829493,
          -0.288436533540941,
          -0.427864616296082,
          -0.6981146609047546,
          -0.5837048700144051,
          0.28625126469522205,
          0.033969180055852845,
          -0.6800941336845024,
          -1.2936759604819117,
          0.2976493477975922,
          0.8876648716287192,
          0.4539119475551905,
          0.46876307597007094,
          0.42860056900710036,
          0.4162356701437077,
          -1.3411061973503395,
          0.6593272851144585,
          0.006360936392886699,
          -0.09294284205777326,
          0.8186243719201479,
          0.8375383073202678,
          -0.257778987819475,
          -0.9029949282022555,
          0.20524331367960652,
          -0.9320590169586531,
          -0.3745256486057368,
          0.3443083354664249,
          1.1036934902034283,
          -0.5098200365561425,
          0.8824236017654274,
          0.4851045623174309,
          -0.9121612675512513,
          0.46725976905766886,
          -0.38480015719057103,
          1.072600167340778,
          0.5606624960519553,
          0.05538623717839237,
          -0.9256291974263261,
          -1.3085284502493197,
          0.5322089433139756,
          1.3711258601960699,
          0.8939837960076227,
          0.6323907190600253,
          -0.04608371954015574,
          -0.6120198505115956,
          -1.113995762940247,
          -0.4604899515584618,
          -1.1814699481756323,
          0.47379987149557157,
          1.1365868596602342,
          0.3251544689243104,
          -1.6099274719269303,
          0.10935135880595509,
          -0.31071960743429444,
          -0.2587371889720593,
          -1.4803413476675145,
          -2.296481131385899,
          -1.307467158891181,
          0.11281434648274909,
          -0.27399818011197324,
          -0.2620068775064324,
          0.9864897880510298,
          1.1458292298213306,
          -0.37315735252561644,
          0.7304093761080327,
          0.1980194607638059,
          0.585256830129519,
          -1.0975617901207673,
          0.13051460601987414,
          -0.6971999142736548,
          -1.1888300482764687,
          0.538170007088638,
          0.6960707066352149,
          -1.3155445632578306,
          0.445343941603825,
          1.9551168589061723,
          -1.0867432370182428,
          -0.8716209241960768,
          0.38771374137623954,
          0.21161730176790372,
          0.5300797560802026,
          -0.46012960283045934,
          0.8688986413921359,
          -0.9154699808991233,
          1.1453668429563433,
          0.9862346094675136,
          0.9744844483024134,
          0.5219721187073837,
          -1.3173678443749777,
          1.246537174178265,
          -1.1376531789629023
         ],
         "yaxis": "y13"
        },
        {
         "line": {
          "color": "rgba(128, 128, 128, 1.0)",
          "dash": "solid",
          "shape": "linear",
          "width": 1.3
         },
         "marker": {
          "size": 2,
          "symbol": "circle"
         },
         "mode": "markers",
         "name": "D",
         "text": "",
         "type": "scatter",
         "x": [
          0.5065620379191607,
          -0.2602965765539084,
          0.8947735922539433,
          -0.20706460026943954,
          1.165771221022478,
          0.0032613999056064972,
          0.15139506602725938,
          0.6216258350353989,
          -0.021273642226957677,
          -1.1658427051339177,
          0.4485693463235875,
          1.198274486639321,
          -0.25883153636865897,
          1.5829050442292472,
          -0.2682700312910577,
          -0.9352385575141785,
          0.38738771844743153,
          0.6574085019682239,
          -0.3572746873306874,
          2.714060854793366,
          -0.27291585141713237,
          -1.2906302068302504,
          -1.222761949561528,
          0.013025776556479629,
          0.9555304598689044,
          -0.6561146067300845,
          0.7298158130029747,
          -0.0432119828545582,
          -1.5216252605551706,
          -0.41404987215419986,
          -0.4810554232967754,
          -0.3078050607294259,
          -0.9495597220821862,
          0.20112949349038098,
          0.47257768807001005,
          0.29574464382459376,
          -0.6667256588550254,
          -0.7800462317273794,
          -2.4382958618125476,
          1.3828570141272503,
          -0.21013575867841097,
          -0.3029006268498382,
          1.2927029777297245,
          0.2830982533145663,
          0.3963400146525552,
          -0.3848004619501144,
          -0.09272185828621662,
          0.6770153647503461,
          -0.1959600613591739,
          0.5404291839045626,
          -1.8217224971370247,
          1.3296596322879783,
          0.8917605845336027,
          -0.15443195850639932,
          -0.3156397923478492,
          -1.2712742376782356,
          1.1883595805266332,
          0.6353385091511609,
          1.3454674446590853,
          0.12178515997828125,
          -0.8555683113616778,
          -0.9785772156833887,
          0.057287811538334794,
          0.8105752779966868,
          0.529391625431157,
          0.02176697311291148,
          0.1811098993369195,
          0.5414145403099591,
          1.4132829236858184,
          1.121263069616955,
          -0.6065062884038721,
          -0.4234421639133906,
          0.7333946895918884,
          -0.7988318165943966,
          -0.15333737291964203,
          0.6713340498814011,
          2.5654821666609644,
          -0.6368941736308625,
          0.2447377902458404,
          -0.2695855843246836,
          0.1999260409044481,
          2.7906488565862717,
          -0.5480652035741574,
          1.4897751979445475,
          0.9394818515356372,
          -0.6843231983909116,
          -0.8926565888689287,
          -1.0233349824867406,
          -0.19876779176298331,
          0.331603640930695,
          -0.4698479174404729,
          -0.23190086495094775,
          0.0019005050666524434,
          -0.47242195242887397,
          0.6676122184294951,
          0.22315978389252422,
          0.08768989910542416,
          0.4226123590160756,
          -1.8801039927214822,
          0.36933946508991744
         ],
         "xaxis": "x14",
         "y": [
          -0.07361023118327803,
          -1.954620093840618,
          0.3868275981196489,
          1.6022759283893118,
          0.5025031626623727,
          0.49297890284603363,
          -1.5175409515682257,
          -1.3988304194778804,
          0.7651118782401064,
          1.0195034760829493,
          -0.288436533540941,
          -0.427864616296082,
          -0.6981146609047546,
          -0.5837048700144051,
          0.28625126469522205,
          0.033969180055852845,
          -0.6800941336845024,
          -1.2936759604819117,
          0.2976493477975922,
          0.8876648716287192,
          0.4539119475551905,
          0.46876307597007094,
          0.42860056900710036,
          0.4162356701437077,
          -1.3411061973503395,
          0.6593272851144585,
          0.006360936392886699,
          -0.09294284205777326,
          0.8186243719201479,
          0.8375383073202678,
          -0.257778987819475,
          -0.9029949282022555,
          0.20524331367960652,
          -0.9320590169586531,
          -0.3745256486057368,
          0.3443083354664249,
          1.1036934902034283,
          -0.5098200365561425,
          0.8824236017654274,
          0.4851045623174309,
          -0.9121612675512513,
          0.46725976905766886,
          -0.38480015719057103,
          1.072600167340778,
          0.5606624960519553,
          0.05538623717839237,
          -0.9256291974263261,
          -1.3085284502493197,
          0.5322089433139756,
          1.3711258601960699,
          0.8939837960076227,
          0.6323907190600253,
          -0.04608371954015574,
          -0.6120198505115956,
          -1.113995762940247,
          -0.4604899515584618,
          -1.1814699481756323,
          0.47379987149557157,
          1.1365868596602342,
          0.3251544689243104,
          -1.6099274719269303,
          0.10935135880595509,
          -0.31071960743429444,
          -0.2587371889720593,
          -1.4803413476675145,
          -2.296481131385899,
          -1.307467158891181,
          0.11281434648274909,
          -0.27399818011197324,
          -0.2620068775064324,
          0.9864897880510298,
          1.1458292298213306,
          -0.37315735252561644,
          0.7304093761080327,
          0.1980194607638059,
          0.585256830129519,
          -1.0975617901207673,
          0.13051460601987414,
          -0.6971999142736548,
          -1.1888300482764687,
          0.538170007088638,
          0.6960707066352149,
          -1.3155445632578306,
          0.445343941603825,
          1.9551168589061723,
          -1.0867432370182428,
          -0.8716209241960768,
          0.38771374137623954,
          0.21161730176790372,
          0.5300797560802026,
          -0.46012960283045934,
          0.8688986413921359,
          -0.9154699808991233,
          1.1453668429563433,
          0.9862346094675136,
          0.9744844483024134,
          0.5219721187073837,
          -1.3173678443749777,
          1.246537174178265,
          -1.1376531789629023
         ],
         "yaxis": "y14"
        },
        {
         "line": {
          "color": "rgba(128, 128, 128, 1.0)",
          "dash": "solid",
          "shape": "linear",
          "width": 1.3
         },
         "marker": {
          "size": 2,
          "symbol": "circle"
         },
         "mode": "markers",
         "name": "D",
         "text": "",
         "type": "scatter",
         "x": [
          -1.636956662731303,
          -0.6376043572924962,
          -0.04074808935507628,
          0.34497677696840484,
          -0.19076916942011005,
          -2.0954179115141818,
          -0.1258038529727859,
          -1.8322894147741204,
          0.2619118827468143,
          0.2888115165866037,
          1.6364493228914556,
          -0.551431182905678,
          1.1820607294773688,
          0.8382851237881066,
          0.05411647258773308,
          1.6032469748148923,
          -0.07039817890104534,
          0.9884718968144668,
          0.78145279651797,
          -0.9674629069418702,
          0.45066994892508166,
          -0.9660195906372077,
          0.5638362505027132,
          -0.31239299662172076,
          1.3629951220558272,
          1.0056265249042886,
          0.6586321388426318,
          -1.7485069952611128,
          -0.3467098592376142,
          0.5253221217405029,
          0.01221581442141305,
          -0.5888478040710935,
          -0.3699537395884266,
          1.8263495711307631,
          0.7879559997924204,
          -0.46413106150570277,
          0.15674294678992978,
          1.3999271035218088,
          0.9209383937821997,
          -1.403228581932192,
          -0.03426984855449471,
          0.8965896218615761,
          -0.5799793555951641,
          0.9301499968144166,
          1.2290103431464956,
          1.8497601002940371,
          -1.1586219484257647,
          0.7488581431714749,
          -1.8853196898851619,
          -0.8315380262150668,
          0.9715328986813034,
          0.5447699216016609,
          0.2034341042310319,
          -0.14660290085412775,
          0.0408606414598768,
          -0.5345984287120338,
          -0.06998739469961222,
          -0.45412086165879645,
          -1.423782090243259,
          -0.900151888308105,
          -1.4757163490379523,
          -0.5726645809768245,
          -0.13455376044729145,
          1.4873421811179082,
          -1.2503324306966512,
          0.4128439778789257,
          0.6840175517600873,
          0.5309673702717542,
          -0.4572041909767813,
          2.132455347659096,
          -1.4696516510617859,
          -0.9168835139347818,
          0.3645932325354682,
          0.43757693567404343,
          0.34345892699501984,
          1.0539374300788713,
          -0.16222096350144485,
          -0.6250207991087227,
          -1.4864522625867662,
          0.9822502059575067,
          0.26150056034773633,
          -0.22949725038415353,
          0.4011434816669361,
          0.14807677357748775,
          -0.8257120845329259,
          -0.5719670046842023,
          -1.4301469056048395,
          1.0815026785969433,
          2.503204404751823,
          0.24462449545777584,
          -0.6965985378768902,
          -0.6120127016594211,
          -0.5281273060393614,
          -0.33176256581655306,
          -0.942252273020844,
          0.2642135737777716,
          -0.03545626490580988,
          -0.9748092770873191,
          0.8552252426105975,
          -1.142679274938753
         ],
         "xaxis": "x15",
         "y": [
          -0.07361023118327803,
          -1.954620093840618,
          0.3868275981196489,
          1.6022759283893118,
          0.5025031626623727,
          0.49297890284603363,
          -1.5175409515682257,
          -1.3988304194778804,
          0.7651118782401064,
          1.0195034760829493,
          -0.288436533540941,
          -0.427864616296082,
          -0.6981146609047546,
          -0.5837048700144051,
          0.28625126469522205,
          0.033969180055852845,
          -0.6800941336845024,
          -1.2936759604819117,
          0.2976493477975922,
          0.8876648716287192,
          0.4539119475551905,
          0.46876307597007094,
          0.42860056900710036,
          0.4162356701437077,
          -1.3411061973503395,
          0.6593272851144585,
          0.006360936392886699,
          -0.09294284205777326,
          0.8186243719201479,
          0.8375383073202678,
          -0.257778987819475,
          -0.9029949282022555,
          0.20524331367960652,
          -0.9320590169586531,
          -0.3745256486057368,
          0.3443083354664249,
          1.1036934902034283,
          -0.5098200365561425,
          0.8824236017654274,
          0.4851045623174309,
          -0.9121612675512513,
          0.46725976905766886,
          -0.38480015719057103,
          1.072600167340778,
          0.5606624960519553,
          0.05538623717839237,
          -0.9256291974263261,
          -1.3085284502493197,
          0.5322089433139756,
          1.3711258601960699,
          0.8939837960076227,
          0.6323907190600253,
          -0.04608371954015574,
          -0.6120198505115956,
          -1.113995762940247,
          -0.4604899515584618,
          -1.1814699481756323,
          0.47379987149557157,
          1.1365868596602342,
          0.3251544689243104,
          -1.6099274719269303,
          0.10935135880595509,
          -0.31071960743429444,
          -0.2587371889720593,
          -1.4803413476675145,
          -2.296481131385899,
          -1.307467158891181,
          0.11281434648274909,
          -0.27399818011197324,
          -0.2620068775064324,
          0.9864897880510298,
          1.1458292298213306,
          -0.37315735252561644,
          0.7304093761080327,
          0.1980194607638059,
          0.585256830129519,
          -1.0975617901207673,
          0.13051460601987414,
          -0.6971999142736548,
          -1.1888300482764687,
          0.538170007088638,
          0.6960707066352149,
          -1.3155445632578306,
          0.445343941603825,
          1.9551168589061723,
          -1.0867432370182428,
          -0.8716209241960768,
          0.38771374137623954,
          0.21161730176790372,
          0.5300797560802026,
          -0.46012960283045934,
          0.8688986413921359,
          -0.9154699808991233,
          1.1453668429563433,
          0.9862346094675136,
          0.9744844483024134,
          0.5219721187073837,
          -1.3173678443749777,
          1.246537174178265,
          -1.1376531789629023
         ],
         "yaxis": "y15"
        },
        {
         "histfunc": "count",
         "histnorm": "",
         "marker": {
          "color": "rgba(128, 0, 128, 1.0)",
          "line": {
           "color": "#4D5663",
           "width": 1.3
          }
         },
         "name": "D",
         "nbinsx": 10,
         "opacity": 0.8,
         "orientation": "v",
         "type": "histogram",
         "x": [
          -0.07361023118327803,
          -1.954620093840618,
          0.3868275981196489,
          1.6022759283893118,
          0.5025031626623727,
          0.49297890284603363,
          -1.5175409515682257,
          -1.3988304194778804,
          0.7651118782401064,
          1.0195034760829493,
          -0.288436533540941,
          -0.427864616296082,
          -0.6981146609047546,
          -0.5837048700144051,
          0.28625126469522205,
          0.033969180055852845,
          -0.6800941336845024,
          -1.2936759604819117,
          0.2976493477975922,
          0.8876648716287192,
          0.4539119475551905,
          0.46876307597007094,
          0.42860056900710036,
          0.4162356701437077,
          -1.3411061973503395,
          0.6593272851144585,
          0.006360936392886699,
          -0.09294284205777326,
          0.8186243719201479,
          0.8375383073202678,
          -0.257778987819475,
          -0.9029949282022555,
          0.20524331367960652,
          -0.9320590169586531,
          -0.3745256486057368,
          0.3443083354664249,
          1.1036934902034283,
          -0.5098200365561425,
          0.8824236017654274,
          0.4851045623174309,
          -0.9121612675512513,
          0.46725976905766886,
          -0.38480015719057103,
          1.072600167340778,
          0.5606624960519553,
          0.05538623717839237,
          -0.9256291974263261,
          -1.3085284502493197,
          0.5322089433139756,
          1.3711258601960699,
          0.8939837960076227,
          0.6323907190600253,
          -0.04608371954015574,
          -0.6120198505115956,
          -1.113995762940247,
          -0.4604899515584618,
          -1.1814699481756323,
          0.47379987149557157,
          1.1365868596602342,
          0.3251544689243104,
          -1.6099274719269303,
          0.10935135880595509,
          -0.31071960743429444,
          -0.2587371889720593,
          -1.4803413476675145,
          -2.296481131385899,
          -1.307467158891181,
          0.11281434648274909,
          -0.27399818011197324,
          -0.2620068775064324,
          0.9864897880510298,
          1.1458292298213306,
          -0.37315735252561644,
          0.7304093761080327,
          0.1980194607638059,
          0.585256830129519,
          -1.0975617901207673,
          0.13051460601987414,
          -0.6971999142736548,
          -1.1888300482764687,
          0.538170007088638,
          0.6960707066352149,
          -1.3155445632578306,
          0.445343941603825,
          1.9551168589061723,
          -1.0867432370182428,
          -0.8716209241960768,
          0.38771374137623954,
          0.21161730176790372,
          0.5300797560802026,
          -0.46012960283045934,
          0.8688986413921359,
          -0.9154699808991233,
          1.1453668429563433,
          0.9862346094675136,
          0.9744844483024134,
          0.5219721187073837,
          -1.3173678443749777,
          1.246537174178265,
          -1.1376531789629023
         ],
         "xaxis": "x16",
         "yaxis": "y16"
        }
       ],
       "layout": {
        "bargap": 0.02,
        "legend": {
         "bgcolor": "#F5F6F9",
         "font": {
          "color": "#4D5663"
         }
        },
        "paper_bgcolor": "#F5F6F9",
        "plot_bgcolor": "#F5F6F9",
        "showlegend": false,
        "template": {
         "data": {
          "bar": [
           {
            "error_x": {
             "color": "#2a3f5f"
            },
            "error_y": {
             "color": "#2a3f5f"
            },
            "marker": {
             "line": {
              "color": "#E5ECF6",
              "width": 0.5
             },
             "pattern": {
              "fillmode": "overlay",
              "size": 10,
              "solidity": 0.2
             }
            },
            "type": "bar"
           }
          ],
          "barpolar": [
           {
            "marker": {
             "line": {
              "color": "#E5ECF6",
              "width": 0.5
             },
             "pattern": {
              "fillmode": "overlay",
              "size": 10,
              "solidity": 0.2
             }
            },
            "type": "barpolar"
           }
          ],
          "carpet": [
           {
            "aaxis": {
             "endlinecolor": "#2a3f5f",
             "gridcolor": "white",
             "linecolor": "white",
             "minorgridcolor": "white",
             "startlinecolor": "#2a3f5f"
            },
            "baxis": {
             "endlinecolor": "#2a3f5f",
             "gridcolor": "white",
             "linecolor": "white",
             "minorgridcolor": "white",
             "startlinecolor": "#2a3f5f"
            },
            "type": "carpet"
           }
          ],
          "choropleth": [
           {
            "colorbar": {
             "outlinewidth": 0,
             "ticks": ""
            },
            "type": "choropleth"
           }
          ],
          "contour": [
           {
            "colorbar": {
             "outlinewidth": 0,
             "ticks": ""
            },
            "colorscale": [
             [
              0,
              "#0d0887"
             ],
             [
              0.1111111111111111,
              "#46039f"
             ],
             [
              0.2222222222222222,
              "#7201a8"
             ],
             [
              0.3333333333333333,
              "#9c179e"
             ],
             [
              0.4444444444444444,
              "#bd3786"
             ],
             [
              0.5555555555555556,
              "#d8576b"
             ],
             [
              0.6666666666666666,
              "#ed7953"
             ],
             [
              0.7777777777777778,
              "#fb9f3a"
             ],
             [
              0.8888888888888888,
              "#fdca26"
             ],
             [
              1,
              "#f0f921"
             ]
            ],
            "type": "contour"
           }
          ],
          "contourcarpet": [
           {
            "colorbar": {
             "outlinewidth": 0,
             "ticks": ""
            },
            "type": "contourcarpet"
           }
          ],
          "heatmap": [
           {
            "colorbar": {
             "outlinewidth": 0,
             "ticks": ""
            },
            "colorscale": [
             [
              0,
              "#0d0887"
             ],
             [
              0.1111111111111111,
              "#46039f"
             ],
             [
              0.2222222222222222,
              "#7201a8"
             ],
             [
              0.3333333333333333,
              "#9c179e"
             ],
             [
              0.4444444444444444,
              "#bd3786"
             ],
             [
              0.5555555555555556,
              "#d8576b"
             ],
             [
              0.6666666666666666,
              "#ed7953"
             ],
             [
              0.7777777777777778,
              "#fb9f3a"
             ],
             [
              0.8888888888888888,
              "#fdca26"
             ],
             [
              1,
              "#f0f921"
             ]
            ],
            "type": "heatmap"
           }
          ],
          "heatmapgl": [
           {
            "colorbar": {
             "outlinewidth": 0,
             "ticks": ""
            },
            "colorscale": [
             [
              0,
              "#0d0887"
             ],
             [
              0.1111111111111111,
              "#46039f"
             ],
             [
              0.2222222222222222,
              "#7201a8"
             ],
             [
              0.3333333333333333,
              "#9c179e"
             ],
             [
              0.4444444444444444,
              "#bd3786"
             ],
             [
              0.5555555555555556,
              "#d8576b"
             ],
             [
              0.6666666666666666,
              "#ed7953"
             ],
             [
              0.7777777777777778,
              "#fb9f3a"
             ],
             [
              0.8888888888888888,
              "#fdca26"
             ],
             [
              1,
              "#f0f921"
             ]
            ],
            "type": "heatmapgl"
           }
          ],
          "histogram": [
           {
            "marker": {
             "pattern": {
              "fillmode": "overlay",
              "size": 10,
              "solidity": 0.2
             }
            },
            "type": "histogram"
           }
          ],
          "histogram2d": [
           {
            "colorbar": {
             "outlinewidth": 0,
             "ticks": ""
            },
            "colorscale": [
             [
              0,
              "#0d0887"
             ],
             [
              0.1111111111111111,
              "#46039f"
             ],
             [
              0.2222222222222222,
              "#7201a8"
             ],
             [
              0.3333333333333333,
              "#9c179e"
             ],
             [
              0.4444444444444444,
              "#bd3786"
             ],
             [
              0.5555555555555556,
              "#d8576b"
             ],
             [
              0.6666666666666666,
              "#ed7953"
             ],
             [
              0.7777777777777778,
              "#fb9f3a"
             ],
             [
              0.8888888888888888,
              "#fdca26"
             ],
             [
              1,
              "#f0f921"
             ]
            ],
            "type": "histogram2d"
           }
          ],
          "histogram2dcontour": [
           {
            "colorbar": {
             "outlinewidth": 0,
             "ticks": ""
            },
            "colorscale": [
             [
              0,
              "#0d0887"
             ],
             [
              0.1111111111111111,
              "#46039f"
             ],
             [
              0.2222222222222222,
              "#7201a8"
             ],
             [
              0.3333333333333333,
              "#9c179e"
             ],
             [
              0.4444444444444444,
              "#bd3786"
             ],
             [
              0.5555555555555556,
              "#d8576b"
             ],
             [
              0.6666666666666666,
              "#ed7953"
             ],
             [
              0.7777777777777778,
              "#fb9f3a"
             ],
             [
              0.8888888888888888,
              "#fdca26"
             ],
             [
              1,
              "#f0f921"
             ]
            ],
            "type": "histogram2dcontour"
           }
          ],
          "mesh3d": [
           {
            "colorbar": {
             "outlinewidth": 0,
             "ticks": ""
            },
            "type": "mesh3d"
           }
          ],
          "parcoords": [
           {
            "line": {
             "colorbar": {
              "outlinewidth": 0,
              "ticks": ""
             }
            },
            "type": "parcoords"
           }
          ],
          "pie": [
           {
            "automargin": true,
            "type": "pie"
           }
          ],
          "scatter": [
           {
            "fillpattern": {
             "fillmode": "overlay",
             "size": 10,
             "solidity": 0.2
            },
            "type": "scatter"
           }
          ],
          "scatter3d": [
           {
            "line": {
             "colorbar": {
              "outlinewidth": 0,
              "ticks": ""
             }
            },
            "marker": {
             "colorbar": {
              "outlinewidth": 0,
              "ticks": ""
             }
            },
            "type": "scatter3d"
           }
          ],
          "scattercarpet": [
           {
            "marker": {
             "colorbar": {
              "outlinewidth": 0,
              "ticks": ""
             }
            },
            "type": "scattercarpet"
           }
          ],
          "scattergeo": [
           {
            "marker": {
             "colorbar": {
              "outlinewidth": 0,
              "ticks": ""
             }
            },
            "type": "scattergeo"
           }
          ],
          "scattergl": [
           {
            "marker": {
             "colorbar": {
              "outlinewidth": 0,
              "ticks": ""
             }
            },
            "type": "scattergl"
           }
          ],
          "scattermapbox": [
           {
            "marker": {
             "colorbar": {
              "outlinewidth": 0,
              "ticks": ""
             }
            },
            "type": "scattermapbox"
           }
          ],
          "scatterpolar": [
           {
            "marker": {
             "colorbar": {
              "outlinewidth": 0,
              "ticks": ""
             }
            },
            "type": "scatterpolar"
           }
          ],
          "scatterpolargl": [
           {
            "marker": {
             "colorbar": {
              "outlinewidth": 0,
              "ticks": ""
             }
            },
            "type": "scatterpolargl"
           }
          ],
          "scatterternary": [
           {
            "marker": {
             "colorbar": {
              "outlinewidth": 0,
              "ticks": ""
             }
            },
            "type": "scatterternary"
           }
          ],
          "surface": [
           {
            "colorbar": {
             "outlinewidth": 0,
             "ticks": ""
            },
            "colorscale": [
             [
              0,
              "#0d0887"
             ],
             [
              0.1111111111111111,
              "#46039f"
             ],
             [
              0.2222222222222222,
              "#7201a8"
             ],
             [
              0.3333333333333333,
              "#9c179e"
             ],
             [
              0.4444444444444444,
              "#bd3786"
             ],
             [
              0.5555555555555556,
              "#d8576b"
             ],
             [
              0.6666666666666666,
              "#ed7953"
             ],
             [
              0.7777777777777778,
              "#fb9f3a"
             ],
             [
              0.8888888888888888,
              "#fdca26"
             ],
             [
              1,
              "#f0f921"
             ]
            ],
            "type": "surface"
           }
          ],
          "table": [
           {
            "cells": {
             "fill": {
              "color": "#EBF0F8"
             },
             "line": {
              "color": "white"
             }
            },
            "header": {
             "fill": {
              "color": "#C8D4E3"
             },
             "line": {
              "color": "white"
             }
            },
            "type": "table"
           }
          ]
         },
         "layout": {
          "annotationdefaults": {
           "arrowcolor": "#2a3f5f",
           "arrowhead": 0,
           "arrowwidth": 1
          },
          "autotypenumbers": "strict",
          "coloraxis": {
           "colorbar": {
            "outlinewidth": 0,
            "ticks": ""
           }
          },
          "colorscale": {
           "diverging": [
            [
             0,
             "#8e0152"
            ],
            [
             0.1,
             "#c51b7d"
            ],
            [
             0.2,
             "#de77ae"
            ],
            [
             0.3,
             "#f1b6da"
            ],
            [
             0.4,
             "#fde0ef"
            ],
            [
             0.5,
             "#f7f7f7"
            ],
            [
             0.6,
             "#e6f5d0"
            ],
            [
             0.7,
             "#b8e186"
            ],
            [
             0.8,
             "#7fbc41"
            ],
            [
             0.9,
             "#4d9221"
            ],
            [
             1,
             "#276419"
            ]
           ],
           "sequential": [
            [
             0,
             "#0d0887"
            ],
            [
             0.1111111111111111,
             "#46039f"
            ],
            [
             0.2222222222222222,
             "#7201a8"
            ],
            [
             0.3333333333333333,
             "#9c179e"
            ],
            [
             0.4444444444444444,
             "#bd3786"
            ],
            [
             0.5555555555555556,
             "#d8576b"
            ],
            [
             0.6666666666666666,
             "#ed7953"
            ],
            [
             0.7777777777777778,
             "#fb9f3a"
            ],
            [
             0.8888888888888888,
             "#fdca26"
            ],
            [
             1,
             "#f0f921"
            ]
           ],
           "sequentialminus": [
            [
             0,
             "#0d0887"
            ],
            [
             0.1111111111111111,
             "#46039f"
            ],
            [
             0.2222222222222222,
             "#7201a8"
            ],
            [
             0.3333333333333333,
             "#9c179e"
            ],
            [
             0.4444444444444444,
             "#bd3786"
            ],
            [
             0.5555555555555556,
             "#d8576b"
            ],
            [
             0.6666666666666666,
             "#ed7953"
            ],
            [
             0.7777777777777778,
             "#fb9f3a"
            ],
            [
             0.8888888888888888,
             "#fdca26"
            ],
            [
             1,
             "#f0f921"
            ]
           ]
          },
          "colorway": [
           "#636efa",
           "#EF553B",
           "#00cc96",
           "#ab63fa",
           "#FFA15A",
           "#19d3f3",
           "#FF6692",
           "#B6E880",
           "#FF97FF",
           "#FECB52"
          ],
          "font": {
           "color": "#2a3f5f"
          },
          "geo": {
           "bgcolor": "white",
           "lakecolor": "white",
           "landcolor": "#E5ECF6",
           "showlakes": true,
           "showland": true,
           "subunitcolor": "white"
          },
          "hoverlabel": {
           "align": "left"
          },
          "hovermode": "closest",
          "mapbox": {
           "style": "light"
          },
          "paper_bgcolor": "white",
          "plot_bgcolor": "#E5ECF6",
          "polar": {
           "angularaxis": {
            "gridcolor": "white",
            "linecolor": "white",
            "ticks": ""
           },
           "bgcolor": "#E5ECF6",
           "radialaxis": {
            "gridcolor": "white",
            "linecolor": "white",
            "ticks": ""
           }
          },
          "scene": {
           "xaxis": {
            "backgroundcolor": "#E5ECF6",
            "gridcolor": "white",
            "gridwidth": 2,
            "linecolor": "white",
            "showbackground": true,
            "ticks": "",
            "zerolinecolor": "white"
           },
           "yaxis": {
            "backgroundcolor": "#E5ECF6",
            "gridcolor": "white",
            "gridwidth": 2,
            "linecolor": "white",
            "showbackground": true,
            "ticks": "",
            "zerolinecolor": "white"
           },
           "zaxis": {
            "backgroundcolor": "#E5ECF6",
            "gridcolor": "white",
            "gridwidth": 2,
            "linecolor": "white",
            "showbackground": true,
            "ticks": "",
            "zerolinecolor": "white"
           }
          },
          "shapedefaults": {
           "line": {
            "color": "#2a3f5f"
           }
          },
          "ternary": {
           "aaxis": {
            "gridcolor": "white",
            "linecolor": "white",
            "ticks": ""
           },
           "baxis": {
            "gridcolor": "white",
            "linecolor": "white",
            "ticks": ""
           },
           "bgcolor": "#E5ECF6",
           "caxis": {
            "gridcolor": "white",
            "linecolor": "white",
            "ticks": ""
           }
          },
          "title": {
           "x": 0.05
          },
          "xaxis": {
           "automargin": true,
           "gridcolor": "white",
           "linecolor": "white",
           "ticks": "",
           "title": {
            "standoff": 15
           },
           "zerolinecolor": "white",
           "zerolinewidth": 2
          },
          "yaxis": {
           "automargin": true,
           "gridcolor": "white",
           "linecolor": "white",
           "ticks": "",
           "title": {
            "standoff": 15
           },
           "zerolinecolor": "white",
           "zerolinewidth": 2
          }
         }
        },
        "title": {
         "font": {
          "color": "#4D5663"
         }
        },
        "xaxis": {
         "anchor": "y",
         "domain": [
          0,
          0.2125
         ],
         "gridcolor": "#E1E5ED",
         "showgrid": false,
         "tickfont": {
          "color": "#4D5663"
         },
         "title": {
          "font": {
           "color": "#4D5663"
          },
          "text": ""
         },
         "zerolinecolor": "#E1E5ED"
        },
        "xaxis10": {
         "anchor": "y10",
         "domain": [
          0.2625,
          0.475
         ],
         "gridcolor": "#E1E5ED",
         "showgrid": false,
         "tickfont": {
          "color": "#4D5663"
         },
         "title": {
          "font": {
           "color": "#4D5663"
          },
          "text": ""
         },
         "zerolinecolor": "#E1E5ED"
        },
        "xaxis11": {
         "anchor": "y11",
         "domain": [
          0.525,
          0.7375
         ],
         "gridcolor": "#E1E5ED",
         "showgrid": false,
         "tickfont": {
          "color": "#4D5663"
         },
         "title": {
          "font": {
           "color": "#4D5663"
          },
          "text": ""
         },
         "zerolinecolor": "#E1E5ED"
        },
        "xaxis12": {
         "anchor": "y12",
         "domain": [
          0.7875,
          1
         ],
         "gridcolor": "#E1E5ED",
         "showgrid": false,
         "tickfont": {
          "color": "#4D5663"
         },
         "title": {
          "font": {
           "color": "#4D5663"
          },
          "text": ""
         },
         "zerolinecolor": "#E1E5ED"
        },
        "xaxis13": {
         "anchor": "y13",
         "domain": [
          0,
          0.2125
         ],
         "gridcolor": "#E1E5ED",
         "showgrid": false,
         "tickfont": {
          "color": "#4D5663"
         },
         "title": {
          "font": {
           "color": "#4D5663"
          },
          "text": ""
         },
         "zerolinecolor": "#E1E5ED"
        },
        "xaxis14": {
         "anchor": "y14",
         "domain": [
          0.2625,
          0.475
         ],
         "gridcolor": "#E1E5ED",
         "showgrid": false,
         "tickfont": {
          "color": "#4D5663"
         },
         "title": {
          "font": {
           "color": "#4D5663"
          },
          "text": ""
         },
         "zerolinecolor": "#E1E5ED"
        },
        "xaxis15": {
         "anchor": "y15",
         "domain": [
          0.525,
          0.7375
         ],
         "gridcolor": "#E1E5ED",
         "showgrid": false,
         "tickfont": {
          "color": "#4D5663"
         },
         "title": {
          "font": {
           "color": "#4D5663"
          },
          "text": ""
         },
         "zerolinecolor": "#E1E5ED"
        },
        "xaxis16": {
         "anchor": "y16",
         "domain": [
          0.7875,
          1
         ],
         "gridcolor": "#E1E5ED",
         "showgrid": false,
         "tickfont": {
          "color": "#4D5663"
         },
         "title": {
          "font": {
           "color": "#4D5663"
          },
          "text": ""
         },
         "zerolinecolor": "#E1E5ED"
        },
        "xaxis2": {
         "anchor": "y2",
         "domain": [
          0.2625,
          0.475
         ],
         "gridcolor": "#E1E5ED",
         "showgrid": false,
         "tickfont": {
          "color": "#4D5663"
         },
         "title": {
          "font": {
           "color": "#4D5663"
          },
          "text": ""
         },
         "zerolinecolor": "#E1E5ED"
        },
        "xaxis3": {
         "anchor": "y3",
         "domain": [
          0.525,
          0.7375
         ],
         "gridcolor": "#E1E5ED",
         "showgrid": false,
         "tickfont": {
          "color": "#4D5663"
         },
         "title": {
          "font": {
           "color": "#4D5663"
          },
          "text": ""
         },
         "zerolinecolor": "#E1E5ED"
        },
        "xaxis4": {
         "anchor": "y4",
         "domain": [
          0.7875,
          1
         ],
         "gridcolor": "#E1E5ED",
         "showgrid": false,
         "tickfont": {
          "color": "#4D5663"
         },
         "title": {
          "font": {
           "color": "#4D5663"
          },
          "text": ""
         },
         "zerolinecolor": "#E1E5ED"
        },
        "xaxis5": {
         "anchor": "y5",
         "domain": [
          0,
          0.2125
         ],
         "gridcolor": "#E1E5ED",
         "showgrid": false,
         "tickfont": {
          "color": "#4D5663"
         },
         "title": {
          "font": {
           "color": "#4D5663"
          },
          "text": ""
         },
         "zerolinecolor": "#E1E5ED"
        },
        "xaxis6": {
         "anchor": "y6",
         "domain": [
          0.2625,
          0.475
         ],
         "gridcolor": "#E1E5ED",
         "showgrid": false,
         "tickfont": {
          "color": "#4D5663"
         },
         "title": {
          "font": {
           "color": "#4D5663"
          },
          "text": ""
         },
         "zerolinecolor": "#E1E5ED"
        },
        "xaxis7": {
         "anchor": "y7",
         "domain": [
          0.525,
          0.7375
         ],
         "gridcolor": "#E1E5ED",
         "showgrid": false,
         "tickfont": {
          "color": "#4D5663"
         },
         "title": {
          "font": {
           "color": "#4D5663"
          },
          "text": ""
         },
         "zerolinecolor": "#E1E5ED"
        },
        "xaxis8": {
         "anchor": "y8",
         "domain": [
          0.7875,
          1
         ],
         "gridcolor": "#E1E5ED",
         "showgrid": false,
         "tickfont": {
          "color": "#4D5663"
         },
         "title": {
          "font": {
           "color": "#4D5663"
          },
          "text": ""
         },
         "zerolinecolor": "#E1E5ED"
        },
        "xaxis9": {
         "anchor": "y9",
         "domain": [
          0,
          0.2125
         ],
         "gridcolor": "#E1E5ED",
         "showgrid": false,
         "tickfont": {
          "color": "#4D5663"
         },
         "title": {
          "font": {
           "color": "#4D5663"
          },
          "text": ""
         },
         "zerolinecolor": "#E1E5ED"
        },
        "yaxis": {
         "anchor": "x",
         "domain": [
          0.8025,
          1
         ],
         "gridcolor": "#E1E5ED",
         "showgrid": false,
         "tickfont": {
          "color": "#4D5663"
         },
         "title": {
          "font": {
           "color": "#4D5663"
          },
          "text": ""
         },
         "zerolinecolor": "#E1E5ED"
        },
        "yaxis10": {
         "anchor": "x10",
         "domain": [
          0.2675,
          0.465
         ],
         "gridcolor": "#E1E5ED",
         "showgrid": false,
         "tickfont": {
          "color": "#4D5663"
         },
         "title": {
          "font": {
           "color": "#4D5663"
          },
          "text": ""
         },
         "zerolinecolor": "#E1E5ED"
        },
        "yaxis11": {
         "anchor": "x11",
         "domain": [
          0.2675,
          0.465
         ],
         "gridcolor": "#E1E5ED",
         "showgrid": false,
         "tickfont": {
          "color": "#4D5663"
         },
         "title": {
          "font": {
           "color": "#4D5663"
          },
          "text": ""
         },
         "zerolinecolor": "#E1E5ED"
        },
        "yaxis12": {
         "anchor": "x12",
         "domain": [
          0.2675,
          0.465
         ],
         "gridcolor": "#E1E5ED",
         "showgrid": false,
         "tickfont": {
          "color": "#4D5663"
         },
         "title": {
          "font": {
           "color": "#4D5663"
          },
          "text": ""
         },
         "zerolinecolor": "#E1E5ED"
        },
        "yaxis13": {
         "anchor": "x13",
         "domain": [
          0,
          0.1975
         ],
         "gridcolor": "#E1E5ED",
         "showgrid": false,
         "tickfont": {
          "color": "#4D5663"
         },
         "title": {
          "font": {
           "color": "#4D5663"
          },
          "text": ""
         },
         "zerolinecolor": "#E1E5ED"
        },
        "yaxis14": {
         "anchor": "x14",
         "domain": [
          0,
          0.1975
         ],
         "gridcolor": "#E1E5ED",
         "showgrid": false,
         "tickfont": {
          "color": "#4D5663"
         },
         "title": {
          "font": {
           "color": "#4D5663"
          },
          "text": ""
         },
         "zerolinecolor": "#E1E5ED"
        },
        "yaxis15": {
         "anchor": "x15",
         "domain": [
          0,
          0.1975
         ],
         "gridcolor": "#E1E5ED",
         "showgrid": false,
         "tickfont": {
          "color": "#4D5663"
         },
         "title": {
          "font": {
           "color": "#4D5663"
          },
          "text": ""
         },
         "zerolinecolor": "#E1E5ED"
        },
        "yaxis16": {
         "anchor": "x16",
         "domain": [
          0,
          0.1975
         ],
         "gridcolor": "#E1E5ED",
         "showgrid": false,
         "tickfont": {
          "color": "#4D5663"
         },
         "title": {
          "font": {
           "color": "#4D5663"
          },
          "text": ""
         },
         "zerolinecolor": "#E1E5ED"
        },
        "yaxis2": {
         "anchor": "x2",
         "domain": [
          0.8025,
          1
         ],
         "gridcolor": "#E1E5ED",
         "showgrid": false,
         "tickfont": {
          "color": "#4D5663"
         },
         "title": {
          "font": {
           "color": "#4D5663"
          },
          "text": ""
         },
         "zerolinecolor": "#E1E5ED"
        },
        "yaxis3": {
         "anchor": "x3",
         "domain": [
          0.8025,
          1
         ],
         "gridcolor": "#E1E5ED",
         "showgrid": false,
         "tickfont": {
          "color": "#4D5663"
         },
         "title": {
          "font": {
           "color": "#4D5663"
          },
          "text": ""
         },
         "zerolinecolor": "#E1E5ED"
        },
        "yaxis4": {
         "anchor": "x4",
         "domain": [
          0.8025,
          1
         ],
         "gridcolor": "#E1E5ED",
         "showgrid": false,
         "tickfont": {
          "color": "#4D5663"
         },
         "title": {
          "font": {
           "color": "#4D5663"
          },
          "text": ""
         },
         "zerolinecolor": "#E1E5ED"
        },
        "yaxis5": {
         "anchor": "x5",
         "domain": [
          0.535,
          0.7325
         ],
         "gridcolor": "#E1E5ED",
         "showgrid": false,
         "tickfont": {
          "color": "#4D5663"
         },
         "title": {
          "font": {
           "color": "#4D5663"
          },
          "text": ""
         },
         "zerolinecolor": "#E1E5ED"
        },
        "yaxis6": {
         "anchor": "x6",
         "domain": [
          0.535,
          0.7325
         ],
         "gridcolor": "#E1E5ED",
         "showgrid": false,
         "tickfont": {
          "color": "#4D5663"
         },
         "title": {
          "font": {
           "color": "#4D5663"
          },
          "text": ""
         },
         "zerolinecolor": "#E1E5ED"
        },
        "yaxis7": {
         "anchor": "x7",
         "domain": [
          0.535,
          0.7325
         ],
         "gridcolor": "#E1E5ED",
         "showgrid": false,
         "tickfont": {
          "color": "#4D5663"
         },
         "title": {
          "font": {
           "color": "#4D5663"
          },
          "text": ""
         },
         "zerolinecolor": "#E1E5ED"
        },
        "yaxis8": {
         "anchor": "x8",
         "domain": [
          0.535,
          0.7325
         ],
         "gridcolor": "#E1E5ED",
         "showgrid": false,
         "tickfont": {
          "color": "#4D5663"
         },
         "title": {
          "font": {
           "color": "#4D5663"
          },
          "text": ""
         },
         "zerolinecolor": "#E1E5ED"
        },
        "yaxis9": {
         "anchor": "x9",
         "domain": [
          0.2675,
          0.465
         ],
         "gridcolor": "#E1E5ED",
         "showgrid": false,
         "tickfont": {
          "color": "#4D5663"
         },
         "title": {
          "font": {
           "color": "#4D5663"
          },
          "text": ""
         },
         "zerolinecolor": "#E1E5ED"
        }
       }
      },
      "text/html": [
       "<div>                            <div id=\"8259a0bd-6904-4451-93ce-1aaabfa3d8b6\" class=\"plotly-graph-div\" style=\"height:525px; width:100%;\"></div>            <script type=\"text/javascript\">                require([\"plotly\"], function(Plotly) {                    window.PLOTLYENV=window.PLOTLYENV || {};\n",
       "                    window.PLOTLYENV.BASE_URL='https://plot.ly';                                    if (document.getElementById(\"8259a0bd-6904-4451-93ce-1aaabfa3d8b6\")) {                    Plotly.newPlot(                        \"8259a0bd-6904-4451-93ce-1aaabfa3d8b6\",                        [{\"histfunc\":\"count\",\"histnorm\":\"\",\"marker\":{\"color\":\"rgba(255, 153, 51, 1.0)\",\"line\":{\"color\":\"#4D5663\",\"width\":1.3}},\"name\":\"A\",\"nbinsx\":10,\"opacity\":0.8,\"orientation\":\"v\",\"x\":[-0.8717698350824767,0.11158432563991447,-2.7407395816036657,-1.0831976641681382,1.1051072558998412,-0.17169344572694262,0.43545635385970705,-0.09179294744208095,1.2264053142154256,1.551070466120222,-0.07121816924493687,-0.24600156908269727,0.15679944703330018,0.36559433298643446,2.660901371310062,1.855261613043312,-1.187059893505927,-0.3052965411783563,0.34235339848159724,-1.0084991752646242,-0.44254546436287656,0.6015254636451396,-0.2893097954432154,-0.7546569708093946,-0.649126922087612,-2.1670947304978943,-0.3521562590934882,-0.9825167171173528,0.4823638869124494,1.3991689937677,-1.0813487141186187,0.6812913811262418,-1.7997352733997822,0.40689483051570857,0.7305405406125538,0.17729696480255686,-0.4913828603510736,2.1551214812117236,-0.3357732892600588,0.6710258318221457,0.4922473932911538,-0.10608069827993899,-1.0721648569540283,1.5728260539297312,0.20627952814649006,0.4331828673111826,0.5413904546492052,0.596582038146462,-1.8059550967021047,1.0945562036012295,-0.6169826965091776,-1.7902865377237571,0.5756306505590018,0.22217194529919052,-0.37471866566691503,0.7533629372808431,1.2629346709986544,-0.29821714013709033,-0.40133028481671007,-0.14040244863090015,-0.7990425935512757,-0.25061752621963,0.09440658081002298,0.4639600910791964,-0.7548655530468488,0.2734573473584046,0.49953115601213216,0.2621673503662859,0.30879618891841415,-0.742579207698379,-2.140700808751398,1.085103424801508,2.5556712856305173,-0.3637449248748844,-1.7745895218285208,1.2839097135591673,1.4597017361633555,0.14355489019463594,1.1128650539993221,-1.399046146468581,0.29022433493130806,0.13941011249953447,-0.2557152779064104,-0.7964512095902642,0.9961864143816616,-0.2691610164434471,-0.5858401029934867,0.11472154570458645,-0.4385200016664815,1.5008416922368417,-1.4689795375674919,-1.3756996146289049,-1.4038172925442085,0.03665900419045025,1.3403311533249536,0.06474975963959607,-0.2672933031787719,0.5128393508997586,-0.393643566601903,0.22607092990429803],\"xaxis\":\"x\",\"yaxis\":\"y\",\"type\":\"histogram\"},{\"line\":{\"color\":\"rgba(128, 128, 128, 1.0)\",\"dash\":\"solid\",\"shape\":\"linear\",\"width\":1.3},\"marker\":{\"size\":2,\"symbol\":\"circle\"},\"mode\":\"markers\",\"name\":\"A\",\"text\":\"\",\"x\":[0.5065620379191607,-0.2602965765539084,0.8947735922539433,-0.20706460026943954,1.165771221022478,0.0032613999056064972,0.15139506602725938,0.6216258350353989,-0.021273642226957677,-1.1658427051339177,0.4485693463235875,1.198274486639321,-0.25883153636865897,1.5829050442292472,-0.2682700312910577,-0.9352385575141785,0.38738771844743153,0.6574085019682239,-0.3572746873306874,2.714060854793366,-0.27291585141713237,-1.2906302068302504,-1.222761949561528,0.013025776556479629,0.9555304598689044,-0.6561146067300845,0.7298158130029747,-0.0432119828545582,-1.5216252605551706,-0.41404987215419986,-0.4810554232967754,-0.3078050607294259,-0.9495597220821862,0.20112949349038098,0.47257768807001005,0.29574464382459376,-0.6667256588550254,-0.7800462317273794,-2.4382958618125476,1.3828570141272503,-0.21013575867841097,-0.3029006268498382,1.2927029777297245,0.2830982533145663,0.3963400146525552,-0.3848004619501144,-0.09272185828621662,0.6770153647503461,-0.1959600613591739,0.5404291839045626,-1.8217224971370247,1.3296596322879783,0.8917605845336027,-0.15443195850639932,-0.3156397923478492,-1.2712742376782356,1.1883595805266332,0.6353385091511609,1.3454674446590853,0.12178515997828125,-0.8555683113616778,-0.9785772156833887,0.057287811538334794,0.8105752779966868,0.529391625431157,0.02176697311291148,0.1811098993369195,0.5414145403099591,1.4132829236858184,1.121263069616955,-0.6065062884038721,-0.4234421639133906,0.7333946895918884,-0.7988318165943966,-0.15333737291964203,0.6713340498814011,2.5654821666609644,-0.6368941736308625,0.2447377902458404,-0.2695855843246836,0.1999260409044481,2.7906488565862717,-0.5480652035741574,1.4897751979445475,0.9394818515356372,-0.6843231983909116,-0.8926565888689287,-1.0233349824867406,-0.19876779176298331,0.331603640930695,-0.4698479174404729,-0.23190086495094775,0.0019005050666524434,-0.47242195242887397,0.6676122184294951,0.22315978389252422,0.08768989910542416,0.4226123590160756,-1.8801039927214822,0.36933946508991744],\"xaxis\":\"x2\",\"y\":[-0.8717698350824767,0.11158432563991447,-2.7407395816036657,-1.0831976641681382,1.1051072558998412,-0.17169344572694262,0.43545635385970705,-0.09179294744208095,1.2264053142154256,1.551070466120222,-0.07121816924493687,-0.24600156908269727,0.15679944703330018,0.36559433298643446,2.660901371310062,1.855261613043312,-1.187059893505927,-0.3052965411783563,0.34235339848159724,-1.0084991752646242,-0.44254546436287656,0.6015254636451396,-0.2893097954432154,-0.7546569708093946,-0.649126922087612,-2.1670947304978943,-0.3521562590934882,-0.9825167171173528,0.4823638869124494,1.3991689937677,-1.0813487141186187,0.6812913811262418,-1.7997352733997822,0.40689483051570857,0.7305405406125538,0.17729696480255686,-0.4913828603510736,2.1551214812117236,-0.3357732892600588,0.6710258318221457,0.4922473932911538,-0.10608069827993899,-1.0721648569540283,1.5728260539297312,0.20627952814649006,0.4331828673111826,0.5413904546492052,0.596582038146462,-1.8059550967021047,1.0945562036012295,-0.6169826965091776,-1.7902865377237571,0.5756306505590018,0.22217194529919052,-0.37471866566691503,0.7533629372808431,1.2629346709986544,-0.29821714013709033,-0.40133028481671007,-0.14040244863090015,-0.7990425935512757,-0.25061752621963,0.09440658081002298,0.4639600910791964,-0.7548655530468488,0.2734573473584046,0.49953115601213216,0.2621673503662859,0.30879618891841415,-0.742579207698379,-2.140700808751398,1.085103424801508,2.5556712856305173,-0.3637449248748844,-1.7745895218285208,1.2839097135591673,1.4597017361633555,0.14355489019463594,1.1128650539993221,-1.399046146468581,0.29022433493130806,0.13941011249953447,-0.2557152779064104,-0.7964512095902642,0.9961864143816616,-0.2691610164434471,-0.5858401029934867,0.11472154570458645,-0.4385200016664815,1.5008416922368417,-1.4689795375674919,-1.3756996146289049,-1.4038172925442085,0.03665900419045025,1.3403311533249536,0.06474975963959607,-0.2672933031787719,0.5128393508997586,-0.393643566601903,0.22607092990429803],\"yaxis\":\"y2\",\"type\":\"scatter\"},{\"line\":{\"color\":\"rgba(128, 128, 128, 1.0)\",\"dash\":\"solid\",\"shape\":\"linear\",\"width\":1.3},\"marker\":{\"size\":2,\"symbol\":\"circle\"},\"mode\":\"markers\",\"name\":\"A\",\"text\":\"\",\"x\":[-1.636956662731303,-0.6376043572924962,-0.04074808935507628,0.34497677696840484,-0.19076916942011005,-2.0954179115141818,-0.1258038529727859,-1.8322894147741204,0.2619118827468143,0.2888115165866037,1.6364493228914556,-0.551431182905678,1.1820607294773688,0.8382851237881066,0.05411647258773308,1.6032469748148923,-0.07039817890104534,0.9884718968144668,0.78145279651797,-0.9674629069418702,0.45066994892508166,-0.9660195906372077,0.5638362505027132,-0.31239299662172076,1.3629951220558272,1.0056265249042886,0.6586321388426318,-1.7485069952611128,-0.3467098592376142,0.5253221217405029,0.01221581442141305,-0.5888478040710935,-0.3699537395884266,1.8263495711307631,0.7879559997924204,-0.46413106150570277,0.15674294678992978,1.3999271035218088,0.9209383937821997,-1.403228581932192,-0.03426984855449471,0.8965896218615761,-0.5799793555951641,0.9301499968144166,1.2290103431464956,1.8497601002940371,-1.1586219484257647,0.7488581431714749,-1.8853196898851619,-0.8315380262150668,0.9715328986813034,0.5447699216016609,0.2034341042310319,-0.14660290085412775,0.0408606414598768,-0.5345984287120338,-0.06998739469961222,-0.45412086165879645,-1.423782090243259,-0.900151888308105,-1.4757163490379523,-0.5726645809768245,-0.13455376044729145,1.4873421811179082,-1.2503324306966512,0.4128439778789257,0.6840175517600873,0.5309673702717542,-0.4572041909767813,2.132455347659096,-1.4696516510617859,-0.9168835139347818,0.3645932325354682,0.43757693567404343,0.34345892699501984,1.0539374300788713,-0.16222096350144485,-0.6250207991087227,-1.4864522625867662,0.9822502059575067,0.26150056034773633,-0.22949725038415353,0.4011434816669361,0.14807677357748775,-0.8257120845329259,-0.5719670046842023,-1.4301469056048395,1.0815026785969433,2.503204404751823,0.24462449545777584,-0.6965985378768902,-0.6120127016594211,-0.5281273060393614,-0.33176256581655306,-0.942252273020844,0.2642135737777716,-0.03545626490580988,-0.9748092770873191,0.8552252426105975,-1.142679274938753],\"xaxis\":\"x3\",\"y\":[-0.8717698350824767,0.11158432563991447,-2.7407395816036657,-1.0831976641681382,1.1051072558998412,-0.17169344572694262,0.43545635385970705,-0.09179294744208095,1.2264053142154256,1.551070466120222,-0.07121816924493687,-0.24600156908269727,0.15679944703330018,0.36559433298643446,2.660901371310062,1.855261613043312,-1.187059893505927,-0.3052965411783563,0.34235339848159724,-1.0084991752646242,-0.44254546436287656,0.6015254636451396,-0.2893097954432154,-0.7546569708093946,-0.649126922087612,-2.1670947304978943,-0.3521562590934882,-0.9825167171173528,0.4823638869124494,1.3991689937677,-1.0813487141186187,0.6812913811262418,-1.7997352733997822,0.40689483051570857,0.7305405406125538,0.17729696480255686,-0.4913828603510736,2.1551214812117236,-0.3357732892600588,0.6710258318221457,0.4922473932911538,-0.10608069827993899,-1.0721648569540283,1.5728260539297312,0.20627952814649006,0.4331828673111826,0.5413904546492052,0.596582038146462,-1.8059550967021047,1.0945562036012295,-0.6169826965091776,-1.7902865377237571,0.5756306505590018,0.22217194529919052,-0.37471866566691503,0.7533629372808431,1.2629346709986544,-0.29821714013709033,-0.40133028481671007,-0.14040244863090015,-0.7990425935512757,-0.25061752621963,0.09440658081002298,0.4639600910791964,-0.7548655530468488,0.2734573473584046,0.49953115601213216,0.2621673503662859,0.30879618891841415,-0.742579207698379,-2.140700808751398,1.085103424801508,2.5556712856305173,-0.3637449248748844,-1.7745895218285208,1.2839097135591673,1.4597017361633555,0.14355489019463594,1.1128650539993221,-1.399046146468581,0.29022433493130806,0.13941011249953447,-0.2557152779064104,-0.7964512095902642,0.9961864143816616,-0.2691610164434471,-0.5858401029934867,0.11472154570458645,-0.4385200016664815,1.5008416922368417,-1.4689795375674919,-1.3756996146289049,-1.4038172925442085,0.03665900419045025,1.3403311533249536,0.06474975963959607,-0.2672933031787719,0.5128393508997586,-0.393643566601903,0.22607092990429803],\"yaxis\":\"y3\",\"type\":\"scatter\"},{\"line\":{\"color\":\"rgba(128, 128, 128, 1.0)\",\"dash\":\"solid\",\"shape\":\"linear\",\"width\":1.3},\"marker\":{\"size\":2,\"symbol\":\"circle\"},\"mode\":\"markers\",\"name\":\"A\",\"text\":\"\",\"x\":[-0.07361023118327803,-1.954620093840618,0.3868275981196489,1.6022759283893118,0.5025031626623727,0.49297890284603363,-1.5175409515682257,-1.3988304194778804,0.7651118782401064,1.0195034760829493,-0.288436533540941,-0.427864616296082,-0.6981146609047546,-0.5837048700144051,0.28625126469522205,0.033969180055852845,-0.6800941336845024,-1.2936759604819117,0.2976493477975922,0.8876648716287192,0.4539119475551905,0.46876307597007094,0.42860056900710036,0.4162356701437077,-1.3411061973503395,0.6593272851144585,0.006360936392886699,-0.09294284205777326,0.8186243719201479,0.8375383073202678,-0.257778987819475,-0.9029949282022555,0.20524331367960652,-0.9320590169586531,-0.3745256486057368,0.3443083354664249,1.1036934902034283,-0.5098200365561425,0.8824236017654274,0.4851045623174309,-0.9121612675512513,0.46725976905766886,-0.38480015719057103,1.072600167340778,0.5606624960519553,0.05538623717839237,-0.9256291974263261,-1.3085284502493197,0.5322089433139756,1.3711258601960699,0.8939837960076227,0.6323907190600253,-0.04608371954015574,-0.6120198505115956,-1.113995762940247,-0.4604899515584618,-1.1814699481756323,0.47379987149557157,1.1365868596602342,0.3251544689243104,-1.6099274719269303,0.10935135880595509,-0.31071960743429444,-0.2587371889720593,-1.4803413476675145,-2.296481131385899,-1.307467158891181,0.11281434648274909,-0.27399818011197324,-0.2620068775064324,0.9864897880510298,1.1458292298213306,-0.37315735252561644,0.7304093761080327,0.1980194607638059,0.585256830129519,-1.0975617901207673,0.13051460601987414,-0.6971999142736548,-1.1888300482764687,0.538170007088638,0.6960707066352149,-1.3155445632578306,0.445343941603825,1.9551168589061723,-1.0867432370182428,-0.8716209241960768,0.38771374137623954,0.21161730176790372,0.5300797560802026,-0.46012960283045934,0.8688986413921359,-0.9154699808991233,1.1453668429563433,0.9862346094675136,0.9744844483024134,0.5219721187073837,-1.3173678443749777,1.246537174178265,-1.1376531789629023],\"xaxis\":\"x4\",\"y\":[-0.8717698350824767,0.11158432563991447,-2.7407395816036657,-1.0831976641681382,1.1051072558998412,-0.17169344572694262,0.43545635385970705,-0.09179294744208095,1.2264053142154256,1.551070466120222,-0.07121816924493687,-0.24600156908269727,0.15679944703330018,0.36559433298643446,2.660901371310062,1.855261613043312,-1.187059893505927,-0.3052965411783563,0.34235339848159724,-1.0084991752646242,-0.44254546436287656,0.6015254636451396,-0.2893097954432154,-0.7546569708093946,-0.649126922087612,-2.1670947304978943,-0.3521562590934882,-0.9825167171173528,0.4823638869124494,1.3991689937677,-1.0813487141186187,0.6812913811262418,-1.7997352733997822,0.40689483051570857,0.7305405406125538,0.17729696480255686,-0.4913828603510736,2.1551214812117236,-0.3357732892600588,0.6710258318221457,0.4922473932911538,-0.10608069827993899,-1.0721648569540283,1.5728260539297312,0.20627952814649006,0.4331828673111826,0.5413904546492052,0.596582038146462,-1.8059550967021047,1.0945562036012295,-0.6169826965091776,-1.7902865377237571,0.5756306505590018,0.22217194529919052,-0.37471866566691503,0.7533629372808431,1.2629346709986544,-0.29821714013709033,-0.40133028481671007,-0.14040244863090015,-0.7990425935512757,-0.25061752621963,0.09440658081002298,0.4639600910791964,-0.7548655530468488,0.2734573473584046,0.49953115601213216,0.2621673503662859,0.30879618891841415,-0.742579207698379,-2.140700808751398,1.085103424801508,2.5556712856305173,-0.3637449248748844,-1.7745895218285208,1.2839097135591673,1.4597017361633555,0.14355489019463594,1.1128650539993221,-1.399046146468581,0.29022433493130806,0.13941011249953447,-0.2557152779064104,-0.7964512095902642,0.9961864143816616,-0.2691610164434471,-0.5858401029934867,0.11472154570458645,-0.4385200016664815,1.5008416922368417,-1.4689795375674919,-1.3756996146289049,-1.4038172925442085,0.03665900419045025,1.3403311533249536,0.06474975963959607,-0.2672933031787719,0.5128393508997586,-0.393643566601903,0.22607092990429803],\"yaxis\":\"y4\",\"type\":\"scatter\"},{\"line\":{\"color\":\"rgba(128, 128, 128, 1.0)\",\"dash\":\"solid\",\"shape\":\"linear\",\"width\":1.3},\"marker\":{\"size\":2,\"symbol\":\"circle\"},\"mode\":\"markers\",\"name\":\"B\",\"text\":\"\",\"x\":[-0.8717698350824767,0.11158432563991447,-2.7407395816036657,-1.0831976641681382,1.1051072558998412,-0.17169344572694262,0.43545635385970705,-0.09179294744208095,1.2264053142154256,1.551070466120222,-0.07121816924493687,-0.24600156908269727,0.15679944703330018,0.36559433298643446,2.660901371310062,1.855261613043312,-1.187059893505927,-0.3052965411783563,0.34235339848159724,-1.0084991752646242,-0.44254546436287656,0.6015254636451396,-0.2893097954432154,-0.7546569708093946,-0.649126922087612,-2.1670947304978943,-0.3521562590934882,-0.9825167171173528,0.4823638869124494,1.3991689937677,-1.0813487141186187,0.6812913811262418,-1.7997352733997822,0.40689483051570857,0.7305405406125538,0.17729696480255686,-0.4913828603510736,2.1551214812117236,-0.3357732892600588,0.6710258318221457,0.4922473932911538,-0.10608069827993899,-1.0721648569540283,1.5728260539297312,0.20627952814649006,0.4331828673111826,0.5413904546492052,0.596582038146462,-1.8059550967021047,1.0945562036012295,-0.6169826965091776,-1.7902865377237571,0.5756306505590018,0.22217194529919052,-0.37471866566691503,0.7533629372808431,1.2629346709986544,-0.29821714013709033,-0.40133028481671007,-0.14040244863090015,-0.7990425935512757,-0.25061752621963,0.09440658081002298,0.4639600910791964,-0.7548655530468488,0.2734573473584046,0.49953115601213216,0.2621673503662859,0.30879618891841415,-0.742579207698379,-2.140700808751398,1.085103424801508,2.5556712856305173,-0.3637449248748844,-1.7745895218285208,1.2839097135591673,1.4597017361633555,0.14355489019463594,1.1128650539993221,-1.399046146468581,0.29022433493130806,0.13941011249953447,-0.2557152779064104,-0.7964512095902642,0.9961864143816616,-0.2691610164434471,-0.5858401029934867,0.11472154570458645,-0.4385200016664815,1.5008416922368417,-1.4689795375674919,-1.3756996146289049,-1.4038172925442085,0.03665900419045025,1.3403311533249536,0.06474975963959607,-0.2672933031787719,0.5128393508997586,-0.393643566601903,0.22607092990429803],\"xaxis\":\"x5\",\"y\":[0.5065620379191607,-0.2602965765539084,0.8947735922539433,-0.20706460026943954,1.165771221022478,0.0032613999056064972,0.15139506602725938,0.6216258350353989,-0.021273642226957677,-1.1658427051339177,0.4485693463235875,1.198274486639321,-0.25883153636865897,1.5829050442292472,-0.2682700312910577,-0.9352385575141785,0.38738771844743153,0.6574085019682239,-0.3572746873306874,2.714060854793366,-0.27291585141713237,-1.2906302068302504,-1.222761949561528,0.013025776556479629,0.9555304598689044,-0.6561146067300845,0.7298158130029747,-0.0432119828545582,-1.5216252605551706,-0.41404987215419986,-0.4810554232967754,-0.3078050607294259,-0.9495597220821862,0.20112949349038098,0.47257768807001005,0.29574464382459376,-0.6667256588550254,-0.7800462317273794,-2.4382958618125476,1.3828570141272503,-0.21013575867841097,-0.3029006268498382,1.2927029777297245,0.2830982533145663,0.3963400146525552,-0.3848004619501144,-0.09272185828621662,0.6770153647503461,-0.1959600613591739,0.5404291839045626,-1.8217224971370247,1.3296596322879783,0.8917605845336027,-0.15443195850639932,-0.3156397923478492,-1.2712742376782356,1.1883595805266332,0.6353385091511609,1.3454674446590853,0.12178515997828125,-0.8555683113616778,-0.9785772156833887,0.057287811538334794,0.8105752779966868,0.529391625431157,0.02176697311291148,0.1811098993369195,0.5414145403099591,1.4132829236858184,1.121263069616955,-0.6065062884038721,-0.4234421639133906,0.7333946895918884,-0.7988318165943966,-0.15333737291964203,0.6713340498814011,2.5654821666609644,-0.6368941736308625,0.2447377902458404,-0.2695855843246836,0.1999260409044481,2.7906488565862717,-0.5480652035741574,1.4897751979445475,0.9394818515356372,-0.6843231983909116,-0.8926565888689287,-1.0233349824867406,-0.19876779176298331,0.331603640930695,-0.4698479174404729,-0.23190086495094775,0.0019005050666524434,-0.47242195242887397,0.6676122184294951,0.22315978389252422,0.08768989910542416,0.4226123590160756,-1.8801039927214822,0.36933946508991744],\"yaxis\":\"y5\",\"type\":\"scatter\"},{\"histfunc\":\"count\",\"histnorm\":\"\",\"marker\":{\"color\":\"rgba(55, 128, 191, 1.0)\",\"line\":{\"color\":\"#4D5663\",\"width\":1.3}},\"name\":\"B\",\"nbinsx\":10,\"opacity\":0.8,\"orientation\":\"v\",\"x\":[0.5065620379191607,-0.2602965765539084,0.8947735922539433,-0.20706460026943954,1.165771221022478,0.0032613999056064972,0.15139506602725938,0.6216258350353989,-0.021273642226957677,-1.1658427051339177,0.4485693463235875,1.198274486639321,-0.25883153636865897,1.5829050442292472,-0.2682700312910577,-0.9352385575141785,0.38738771844743153,0.6574085019682239,-0.3572746873306874,2.714060854793366,-0.27291585141713237,-1.2906302068302504,-1.222761949561528,0.013025776556479629,0.9555304598689044,-0.6561146067300845,0.7298158130029747,-0.0432119828545582,-1.5216252605551706,-0.41404987215419986,-0.4810554232967754,-0.3078050607294259,-0.9495597220821862,0.20112949349038098,0.47257768807001005,0.29574464382459376,-0.6667256588550254,-0.7800462317273794,-2.4382958618125476,1.3828570141272503,-0.21013575867841097,-0.3029006268498382,1.2927029777297245,0.2830982533145663,0.3963400146525552,-0.3848004619501144,-0.09272185828621662,0.6770153647503461,-0.1959600613591739,0.5404291839045626,-1.8217224971370247,1.3296596322879783,0.8917605845336027,-0.15443195850639932,-0.3156397923478492,-1.2712742376782356,1.1883595805266332,0.6353385091511609,1.3454674446590853,0.12178515997828125,-0.8555683113616778,-0.9785772156833887,0.057287811538334794,0.8105752779966868,0.529391625431157,0.02176697311291148,0.1811098993369195,0.5414145403099591,1.4132829236858184,1.121263069616955,-0.6065062884038721,-0.4234421639133906,0.7333946895918884,-0.7988318165943966,-0.15333737291964203,0.6713340498814011,2.5654821666609644,-0.6368941736308625,0.2447377902458404,-0.2695855843246836,0.1999260409044481,2.7906488565862717,-0.5480652035741574,1.4897751979445475,0.9394818515356372,-0.6843231983909116,-0.8926565888689287,-1.0233349824867406,-0.19876779176298331,0.331603640930695,-0.4698479174404729,-0.23190086495094775,0.0019005050666524434,-0.47242195242887397,0.6676122184294951,0.22315978389252422,0.08768989910542416,0.4226123590160756,-1.8801039927214822,0.36933946508991744],\"xaxis\":\"x6\",\"yaxis\":\"y6\",\"type\":\"histogram\"},{\"line\":{\"color\":\"rgba(128, 128, 128, 1.0)\",\"dash\":\"solid\",\"shape\":\"linear\",\"width\":1.3},\"marker\":{\"size\":2,\"symbol\":\"circle\"},\"mode\":\"markers\",\"name\":\"B\",\"text\":\"\",\"x\":[-1.636956662731303,-0.6376043572924962,-0.04074808935507628,0.34497677696840484,-0.19076916942011005,-2.0954179115141818,-0.1258038529727859,-1.8322894147741204,0.2619118827468143,0.2888115165866037,1.6364493228914556,-0.551431182905678,1.1820607294773688,0.8382851237881066,0.05411647258773308,1.6032469748148923,-0.07039817890104534,0.9884718968144668,0.78145279651797,-0.9674629069418702,0.45066994892508166,-0.9660195906372077,0.5638362505027132,-0.31239299662172076,1.3629951220558272,1.0056265249042886,0.6586321388426318,-1.7485069952611128,-0.3467098592376142,0.5253221217405029,0.01221581442141305,-0.5888478040710935,-0.3699537395884266,1.8263495711307631,0.7879559997924204,-0.46413106150570277,0.15674294678992978,1.3999271035218088,0.9209383937821997,-1.403228581932192,-0.03426984855449471,0.8965896218615761,-0.5799793555951641,0.9301499968144166,1.2290103431464956,1.8497601002940371,-1.1586219484257647,0.7488581431714749,-1.8853196898851619,-0.8315380262150668,0.9715328986813034,0.5447699216016609,0.2034341042310319,-0.14660290085412775,0.0408606414598768,-0.5345984287120338,-0.06998739469961222,-0.45412086165879645,-1.423782090243259,-0.900151888308105,-1.4757163490379523,-0.5726645809768245,-0.13455376044729145,1.4873421811179082,-1.2503324306966512,0.4128439778789257,0.6840175517600873,0.5309673702717542,-0.4572041909767813,2.132455347659096,-1.4696516510617859,-0.9168835139347818,0.3645932325354682,0.43757693567404343,0.34345892699501984,1.0539374300788713,-0.16222096350144485,-0.6250207991087227,-1.4864522625867662,0.9822502059575067,0.26150056034773633,-0.22949725038415353,0.4011434816669361,0.14807677357748775,-0.8257120845329259,-0.5719670046842023,-1.4301469056048395,1.0815026785969433,2.503204404751823,0.24462449545777584,-0.6965985378768902,-0.6120127016594211,-0.5281273060393614,-0.33176256581655306,-0.942252273020844,0.2642135737777716,-0.03545626490580988,-0.9748092770873191,0.8552252426105975,-1.142679274938753],\"xaxis\":\"x7\",\"y\":[0.5065620379191607,-0.2602965765539084,0.8947735922539433,-0.20706460026943954,1.165771221022478,0.0032613999056064972,0.15139506602725938,0.6216258350353989,-0.021273642226957677,-1.1658427051339177,0.4485693463235875,1.198274486639321,-0.25883153636865897,1.5829050442292472,-0.2682700312910577,-0.9352385575141785,0.38738771844743153,0.6574085019682239,-0.3572746873306874,2.714060854793366,-0.27291585141713237,-1.2906302068302504,-1.222761949561528,0.013025776556479629,0.9555304598689044,-0.6561146067300845,0.7298158130029747,-0.0432119828545582,-1.5216252605551706,-0.41404987215419986,-0.4810554232967754,-0.3078050607294259,-0.9495597220821862,0.20112949349038098,0.47257768807001005,0.29574464382459376,-0.6667256588550254,-0.7800462317273794,-2.4382958618125476,1.3828570141272503,-0.21013575867841097,-0.3029006268498382,1.2927029777297245,0.2830982533145663,0.3963400146525552,-0.3848004619501144,-0.09272185828621662,0.6770153647503461,-0.1959600613591739,0.5404291839045626,-1.8217224971370247,1.3296596322879783,0.8917605845336027,-0.15443195850639932,-0.3156397923478492,-1.2712742376782356,1.1883595805266332,0.6353385091511609,1.3454674446590853,0.12178515997828125,-0.8555683113616778,-0.9785772156833887,0.057287811538334794,0.8105752779966868,0.529391625431157,0.02176697311291148,0.1811098993369195,0.5414145403099591,1.4132829236858184,1.121263069616955,-0.6065062884038721,-0.4234421639133906,0.7333946895918884,-0.7988318165943966,-0.15333737291964203,0.6713340498814011,2.5654821666609644,-0.6368941736308625,0.2447377902458404,-0.2695855843246836,0.1999260409044481,2.7906488565862717,-0.5480652035741574,1.4897751979445475,0.9394818515356372,-0.6843231983909116,-0.8926565888689287,-1.0233349824867406,-0.19876779176298331,0.331603640930695,-0.4698479174404729,-0.23190086495094775,0.0019005050666524434,-0.47242195242887397,0.6676122184294951,0.22315978389252422,0.08768989910542416,0.4226123590160756,-1.8801039927214822,0.36933946508991744],\"yaxis\":\"y7\",\"type\":\"scatter\"},{\"line\":{\"color\":\"rgba(128, 128, 128, 1.0)\",\"dash\":\"solid\",\"shape\":\"linear\",\"width\":1.3},\"marker\":{\"size\":2,\"symbol\":\"circle\"},\"mode\":\"markers\",\"name\":\"B\",\"text\":\"\",\"x\":[-0.07361023118327803,-1.954620093840618,0.3868275981196489,1.6022759283893118,0.5025031626623727,0.49297890284603363,-1.5175409515682257,-1.3988304194778804,0.7651118782401064,1.0195034760829493,-0.288436533540941,-0.427864616296082,-0.6981146609047546,-0.5837048700144051,0.28625126469522205,0.033969180055852845,-0.6800941336845024,-1.2936759604819117,0.2976493477975922,0.8876648716287192,0.4539119475551905,0.46876307597007094,0.42860056900710036,0.4162356701437077,-1.3411061973503395,0.6593272851144585,0.006360936392886699,-0.09294284205777326,0.8186243719201479,0.8375383073202678,-0.257778987819475,-0.9029949282022555,0.20524331367960652,-0.9320590169586531,-0.3745256486057368,0.3443083354664249,1.1036934902034283,-0.5098200365561425,0.8824236017654274,0.4851045623174309,-0.9121612675512513,0.46725976905766886,-0.38480015719057103,1.072600167340778,0.5606624960519553,0.05538623717839237,-0.9256291974263261,-1.3085284502493197,0.5322089433139756,1.3711258601960699,0.8939837960076227,0.6323907190600253,-0.04608371954015574,-0.6120198505115956,-1.113995762940247,-0.4604899515584618,-1.1814699481756323,0.47379987149557157,1.1365868596602342,0.3251544689243104,-1.6099274719269303,0.10935135880595509,-0.31071960743429444,-0.2587371889720593,-1.4803413476675145,-2.296481131385899,-1.307467158891181,0.11281434648274909,-0.27399818011197324,-0.2620068775064324,0.9864897880510298,1.1458292298213306,-0.37315735252561644,0.7304093761080327,0.1980194607638059,0.585256830129519,-1.0975617901207673,0.13051460601987414,-0.6971999142736548,-1.1888300482764687,0.538170007088638,0.6960707066352149,-1.3155445632578306,0.445343941603825,1.9551168589061723,-1.0867432370182428,-0.8716209241960768,0.38771374137623954,0.21161730176790372,0.5300797560802026,-0.46012960283045934,0.8688986413921359,-0.9154699808991233,1.1453668429563433,0.9862346094675136,0.9744844483024134,0.5219721187073837,-1.3173678443749777,1.246537174178265,-1.1376531789629023],\"xaxis\":\"x8\",\"y\":[0.5065620379191607,-0.2602965765539084,0.8947735922539433,-0.20706460026943954,1.165771221022478,0.0032613999056064972,0.15139506602725938,0.6216258350353989,-0.021273642226957677,-1.1658427051339177,0.4485693463235875,1.198274486639321,-0.25883153636865897,1.5829050442292472,-0.2682700312910577,-0.9352385575141785,0.38738771844743153,0.6574085019682239,-0.3572746873306874,2.714060854793366,-0.27291585141713237,-1.2906302068302504,-1.222761949561528,0.013025776556479629,0.9555304598689044,-0.6561146067300845,0.7298158130029747,-0.0432119828545582,-1.5216252605551706,-0.41404987215419986,-0.4810554232967754,-0.3078050607294259,-0.9495597220821862,0.20112949349038098,0.47257768807001005,0.29574464382459376,-0.6667256588550254,-0.7800462317273794,-2.4382958618125476,1.3828570141272503,-0.21013575867841097,-0.3029006268498382,1.2927029777297245,0.2830982533145663,0.3963400146525552,-0.3848004619501144,-0.09272185828621662,0.6770153647503461,-0.1959600613591739,0.5404291839045626,-1.8217224971370247,1.3296596322879783,0.8917605845336027,-0.15443195850639932,-0.3156397923478492,-1.2712742376782356,1.1883595805266332,0.6353385091511609,1.3454674446590853,0.12178515997828125,-0.8555683113616778,-0.9785772156833887,0.057287811538334794,0.8105752779966868,0.529391625431157,0.02176697311291148,0.1811098993369195,0.5414145403099591,1.4132829236858184,1.121263069616955,-0.6065062884038721,-0.4234421639133906,0.7333946895918884,-0.7988318165943966,-0.15333737291964203,0.6713340498814011,2.5654821666609644,-0.6368941736308625,0.2447377902458404,-0.2695855843246836,0.1999260409044481,2.7906488565862717,-0.5480652035741574,1.4897751979445475,0.9394818515356372,-0.6843231983909116,-0.8926565888689287,-1.0233349824867406,-0.19876779176298331,0.331603640930695,-0.4698479174404729,-0.23190086495094775,0.0019005050666524434,-0.47242195242887397,0.6676122184294951,0.22315978389252422,0.08768989910542416,0.4226123590160756,-1.8801039927214822,0.36933946508991744],\"yaxis\":\"y8\",\"type\":\"scatter\"},{\"line\":{\"color\":\"rgba(128, 128, 128, 1.0)\",\"dash\":\"solid\",\"shape\":\"linear\",\"width\":1.3},\"marker\":{\"size\":2,\"symbol\":\"circle\"},\"mode\":\"markers\",\"name\":\"C\",\"text\":\"\",\"x\":[-0.8717698350824767,0.11158432563991447,-2.7407395816036657,-1.0831976641681382,1.1051072558998412,-0.17169344572694262,0.43545635385970705,-0.09179294744208095,1.2264053142154256,1.551070466120222,-0.07121816924493687,-0.24600156908269727,0.15679944703330018,0.36559433298643446,2.660901371310062,1.855261613043312,-1.187059893505927,-0.3052965411783563,0.34235339848159724,-1.0084991752646242,-0.44254546436287656,0.6015254636451396,-0.2893097954432154,-0.7546569708093946,-0.649126922087612,-2.1670947304978943,-0.3521562590934882,-0.9825167171173528,0.4823638869124494,1.3991689937677,-1.0813487141186187,0.6812913811262418,-1.7997352733997822,0.40689483051570857,0.7305405406125538,0.17729696480255686,-0.4913828603510736,2.1551214812117236,-0.3357732892600588,0.6710258318221457,0.4922473932911538,-0.10608069827993899,-1.0721648569540283,1.5728260539297312,0.20627952814649006,0.4331828673111826,0.5413904546492052,0.596582038146462,-1.8059550967021047,1.0945562036012295,-0.6169826965091776,-1.7902865377237571,0.5756306505590018,0.22217194529919052,-0.37471866566691503,0.7533629372808431,1.2629346709986544,-0.29821714013709033,-0.40133028481671007,-0.14040244863090015,-0.7990425935512757,-0.25061752621963,0.09440658081002298,0.4639600910791964,-0.7548655530468488,0.2734573473584046,0.49953115601213216,0.2621673503662859,0.30879618891841415,-0.742579207698379,-2.140700808751398,1.085103424801508,2.5556712856305173,-0.3637449248748844,-1.7745895218285208,1.2839097135591673,1.4597017361633555,0.14355489019463594,1.1128650539993221,-1.399046146468581,0.29022433493130806,0.13941011249953447,-0.2557152779064104,-0.7964512095902642,0.9961864143816616,-0.2691610164434471,-0.5858401029934867,0.11472154570458645,-0.4385200016664815,1.5008416922368417,-1.4689795375674919,-1.3756996146289049,-1.4038172925442085,0.03665900419045025,1.3403311533249536,0.06474975963959607,-0.2672933031787719,0.5128393508997586,-0.393643566601903,0.22607092990429803],\"xaxis\":\"x9\",\"y\":[-1.636956662731303,-0.6376043572924962,-0.04074808935507628,0.34497677696840484,-0.19076916942011005,-2.0954179115141818,-0.1258038529727859,-1.8322894147741204,0.2619118827468143,0.2888115165866037,1.6364493228914556,-0.551431182905678,1.1820607294773688,0.8382851237881066,0.05411647258773308,1.6032469748148923,-0.07039817890104534,0.9884718968144668,0.78145279651797,-0.9674629069418702,0.45066994892508166,-0.9660195906372077,0.5638362505027132,-0.31239299662172076,1.3629951220558272,1.0056265249042886,0.6586321388426318,-1.7485069952611128,-0.3467098592376142,0.5253221217405029,0.01221581442141305,-0.5888478040710935,-0.3699537395884266,1.8263495711307631,0.7879559997924204,-0.46413106150570277,0.15674294678992978,1.3999271035218088,0.9209383937821997,-1.403228581932192,-0.03426984855449471,0.8965896218615761,-0.5799793555951641,0.9301499968144166,1.2290103431464956,1.8497601002940371,-1.1586219484257647,0.7488581431714749,-1.8853196898851619,-0.8315380262150668,0.9715328986813034,0.5447699216016609,0.2034341042310319,-0.14660290085412775,0.0408606414598768,-0.5345984287120338,-0.06998739469961222,-0.45412086165879645,-1.423782090243259,-0.900151888308105,-1.4757163490379523,-0.5726645809768245,-0.13455376044729145,1.4873421811179082,-1.2503324306966512,0.4128439778789257,0.6840175517600873,0.5309673702717542,-0.4572041909767813,2.132455347659096,-1.4696516510617859,-0.9168835139347818,0.3645932325354682,0.43757693567404343,0.34345892699501984,1.0539374300788713,-0.16222096350144485,-0.6250207991087227,-1.4864522625867662,0.9822502059575067,0.26150056034773633,-0.22949725038415353,0.4011434816669361,0.14807677357748775,-0.8257120845329259,-0.5719670046842023,-1.4301469056048395,1.0815026785969433,2.503204404751823,0.24462449545777584,-0.6965985378768902,-0.6120127016594211,-0.5281273060393614,-0.33176256581655306,-0.942252273020844,0.2642135737777716,-0.03545626490580988,-0.9748092770873191,0.8552252426105975,-1.142679274938753],\"yaxis\":\"y9\",\"type\":\"scatter\"},{\"line\":{\"color\":\"rgba(128, 128, 128, 1.0)\",\"dash\":\"solid\",\"shape\":\"linear\",\"width\":1.3},\"marker\":{\"size\":2,\"symbol\":\"circle\"},\"mode\":\"markers\",\"name\":\"C\",\"text\":\"\",\"x\":[0.5065620379191607,-0.2602965765539084,0.8947735922539433,-0.20706460026943954,1.165771221022478,0.0032613999056064972,0.15139506602725938,0.6216258350353989,-0.021273642226957677,-1.1658427051339177,0.4485693463235875,1.198274486639321,-0.25883153636865897,1.5829050442292472,-0.2682700312910577,-0.9352385575141785,0.38738771844743153,0.6574085019682239,-0.3572746873306874,2.714060854793366,-0.27291585141713237,-1.2906302068302504,-1.222761949561528,0.013025776556479629,0.9555304598689044,-0.6561146067300845,0.7298158130029747,-0.0432119828545582,-1.5216252605551706,-0.41404987215419986,-0.4810554232967754,-0.3078050607294259,-0.9495597220821862,0.20112949349038098,0.47257768807001005,0.29574464382459376,-0.6667256588550254,-0.7800462317273794,-2.4382958618125476,1.3828570141272503,-0.21013575867841097,-0.3029006268498382,1.2927029777297245,0.2830982533145663,0.3963400146525552,-0.3848004619501144,-0.09272185828621662,0.6770153647503461,-0.1959600613591739,0.5404291839045626,-1.8217224971370247,1.3296596322879783,0.8917605845336027,-0.15443195850639932,-0.3156397923478492,-1.2712742376782356,1.1883595805266332,0.6353385091511609,1.3454674446590853,0.12178515997828125,-0.8555683113616778,-0.9785772156833887,0.057287811538334794,0.8105752779966868,0.529391625431157,0.02176697311291148,0.1811098993369195,0.5414145403099591,1.4132829236858184,1.121263069616955,-0.6065062884038721,-0.4234421639133906,0.7333946895918884,-0.7988318165943966,-0.15333737291964203,0.6713340498814011,2.5654821666609644,-0.6368941736308625,0.2447377902458404,-0.2695855843246836,0.1999260409044481,2.7906488565862717,-0.5480652035741574,1.4897751979445475,0.9394818515356372,-0.6843231983909116,-0.8926565888689287,-1.0233349824867406,-0.19876779176298331,0.331603640930695,-0.4698479174404729,-0.23190086495094775,0.0019005050666524434,-0.47242195242887397,0.6676122184294951,0.22315978389252422,0.08768989910542416,0.4226123590160756,-1.8801039927214822,0.36933946508991744],\"xaxis\":\"x10\",\"y\":[-1.636956662731303,-0.6376043572924962,-0.04074808935507628,0.34497677696840484,-0.19076916942011005,-2.0954179115141818,-0.1258038529727859,-1.8322894147741204,0.2619118827468143,0.2888115165866037,1.6364493228914556,-0.551431182905678,1.1820607294773688,0.8382851237881066,0.05411647258773308,1.6032469748148923,-0.07039817890104534,0.9884718968144668,0.78145279651797,-0.9674629069418702,0.45066994892508166,-0.9660195906372077,0.5638362505027132,-0.31239299662172076,1.3629951220558272,1.0056265249042886,0.6586321388426318,-1.7485069952611128,-0.3467098592376142,0.5253221217405029,0.01221581442141305,-0.5888478040710935,-0.3699537395884266,1.8263495711307631,0.7879559997924204,-0.46413106150570277,0.15674294678992978,1.3999271035218088,0.9209383937821997,-1.403228581932192,-0.03426984855449471,0.8965896218615761,-0.5799793555951641,0.9301499968144166,1.2290103431464956,1.8497601002940371,-1.1586219484257647,0.7488581431714749,-1.8853196898851619,-0.8315380262150668,0.9715328986813034,0.5447699216016609,0.2034341042310319,-0.14660290085412775,0.0408606414598768,-0.5345984287120338,-0.06998739469961222,-0.45412086165879645,-1.423782090243259,-0.900151888308105,-1.4757163490379523,-0.5726645809768245,-0.13455376044729145,1.4873421811179082,-1.2503324306966512,0.4128439778789257,0.6840175517600873,0.5309673702717542,-0.4572041909767813,2.132455347659096,-1.4696516510617859,-0.9168835139347818,0.3645932325354682,0.43757693567404343,0.34345892699501984,1.0539374300788713,-0.16222096350144485,-0.6250207991087227,-1.4864522625867662,0.9822502059575067,0.26150056034773633,-0.22949725038415353,0.4011434816669361,0.14807677357748775,-0.8257120845329259,-0.5719670046842023,-1.4301469056048395,1.0815026785969433,2.503204404751823,0.24462449545777584,-0.6965985378768902,-0.6120127016594211,-0.5281273060393614,-0.33176256581655306,-0.942252273020844,0.2642135737777716,-0.03545626490580988,-0.9748092770873191,0.8552252426105975,-1.142679274938753],\"yaxis\":\"y10\",\"type\":\"scatter\"},{\"histfunc\":\"count\",\"histnorm\":\"\",\"marker\":{\"color\":\"rgba(50, 171, 96, 1.0)\",\"line\":{\"color\":\"#4D5663\",\"width\":1.3}},\"name\":\"C\",\"nbinsx\":10,\"opacity\":0.8,\"orientation\":\"v\",\"x\":[-1.636956662731303,-0.6376043572924962,-0.04074808935507628,0.34497677696840484,-0.19076916942011005,-2.0954179115141818,-0.1258038529727859,-1.8322894147741204,0.2619118827468143,0.2888115165866037,1.6364493228914556,-0.551431182905678,1.1820607294773688,0.8382851237881066,0.05411647258773308,1.6032469748148923,-0.07039817890104534,0.9884718968144668,0.78145279651797,-0.9674629069418702,0.45066994892508166,-0.9660195906372077,0.5638362505027132,-0.31239299662172076,1.3629951220558272,1.0056265249042886,0.6586321388426318,-1.7485069952611128,-0.3467098592376142,0.5253221217405029,0.01221581442141305,-0.5888478040710935,-0.3699537395884266,1.8263495711307631,0.7879559997924204,-0.46413106150570277,0.15674294678992978,1.3999271035218088,0.9209383937821997,-1.403228581932192,-0.03426984855449471,0.8965896218615761,-0.5799793555951641,0.9301499968144166,1.2290103431464956,1.8497601002940371,-1.1586219484257647,0.7488581431714749,-1.8853196898851619,-0.8315380262150668,0.9715328986813034,0.5447699216016609,0.2034341042310319,-0.14660290085412775,0.0408606414598768,-0.5345984287120338,-0.06998739469961222,-0.45412086165879645,-1.423782090243259,-0.900151888308105,-1.4757163490379523,-0.5726645809768245,-0.13455376044729145,1.4873421811179082,-1.2503324306966512,0.4128439778789257,0.6840175517600873,0.5309673702717542,-0.4572041909767813,2.132455347659096,-1.4696516510617859,-0.9168835139347818,0.3645932325354682,0.43757693567404343,0.34345892699501984,1.0539374300788713,-0.16222096350144485,-0.6250207991087227,-1.4864522625867662,0.9822502059575067,0.26150056034773633,-0.22949725038415353,0.4011434816669361,0.14807677357748775,-0.8257120845329259,-0.5719670046842023,-1.4301469056048395,1.0815026785969433,2.503204404751823,0.24462449545777584,-0.6965985378768902,-0.6120127016594211,-0.5281273060393614,-0.33176256581655306,-0.942252273020844,0.2642135737777716,-0.03545626490580988,-0.9748092770873191,0.8552252426105975,-1.142679274938753],\"xaxis\":\"x11\",\"yaxis\":\"y11\",\"type\":\"histogram\"},{\"line\":{\"color\":\"rgba(128, 128, 128, 1.0)\",\"dash\":\"solid\",\"shape\":\"linear\",\"width\":1.3},\"marker\":{\"size\":2,\"symbol\":\"circle\"},\"mode\":\"markers\",\"name\":\"C\",\"text\":\"\",\"x\":[-0.07361023118327803,-1.954620093840618,0.3868275981196489,1.6022759283893118,0.5025031626623727,0.49297890284603363,-1.5175409515682257,-1.3988304194778804,0.7651118782401064,1.0195034760829493,-0.288436533540941,-0.427864616296082,-0.6981146609047546,-0.5837048700144051,0.28625126469522205,0.033969180055852845,-0.6800941336845024,-1.2936759604819117,0.2976493477975922,0.8876648716287192,0.4539119475551905,0.46876307597007094,0.42860056900710036,0.4162356701437077,-1.3411061973503395,0.6593272851144585,0.006360936392886699,-0.09294284205777326,0.8186243719201479,0.8375383073202678,-0.257778987819475,-0.9029949282022555,0.20524331367960652,-0.9320590169586531,-0.3745256486057368,0.3443083354664249,1.1036934902034283,-0.5098200365561425,0.8824236017654274,0.4851045623174309,-0.9121612675512513,0.46725976905766886,-0.38480015719057103,1.072600167340778,0.5606624960519553,0.05538623717839237,-0.9256291974263261,-1.3085284502493197,0.5322089433139756,1.3711258601960699,0.8939837960076227,0.6323907190600253,-0.04608371954015574,-0.6120198505115956,-1.113995762940247,-0.4604899515584618,-1.1814699481756323,0.47379987149557157,1.1365868596602342,0.3251544689243104,-1.6099274719269303,0.10935135880595509,-0.31071960743429444,-0.2587371889720593,-1.4803413476675145,-2.296481131385899,-1.307467158891181,0.11281434648274909,-0.27399818011197324,-0.2620068775064324,0.9864897880510298,1.1458292298213306,-0.37315735252561644,0.7304093761080327,0.1980194607638059,0.585256830129519,-1.0975617901207673,0.13051460601987414,-0.6971999142736548,-1.1888300482764687,0.538170007088638,0.6960707066352149,-1.3155445632578306,0.445343941603825,1.9551168589061723,-1.0867432370182428,-0.8716209241960768,0.38771374137623954,0.21161730176790372,0.5300797560802026,-0.46012960283045934,0.8688986413921359,-0.9154699808991233,1.1453668429563433,0.9862346094675136,0.9744844483024134,0.5219721187073837,-1.3173678443749777,1.246537174178265,-1.1376531789629023],\"xaxis\":\"x12\",\"y\":[-1.636956662731303,-0.6376043572924962,-0.04074808935507628,0.34497677696840484,-0.19076916942011005,-2.0954179115141818,-0.1258038529727859,-1.8322894147741204,0.2619118827468143,0.2888115165866037,1.6364493228914556,-0.551431182905678,1.1820607294773688,0.8382851237881066,0.05411647258773308,1.6032469748148923,-0.07039817890104534,0.9884718968144668,0.78145279651797,-0.9674629069418702,0.45066994892508166,-0.9660195906372077,0.5638362505027132,-0.31239299662172076,1.3629951220558272,1.0056265249042886,0.6586321388426318,-1.7485069952611128,-0.3467098592376142,0.5253221217405029,0.01221581442141305,-0.5888478040710935,-0.3699537395884266,1.8263495711307631,0.7879559997924204,-0.46413106150570277,0.15674294678992978,1.3999271035218088,0.9209383937821997,-1.403228581932192,-0.03426984855449471,0.8965896218615761,-0.5799793555951641,0.9301499968144166,1.2290103431464956,1.8497601002940371,-1.1586219484257647,0.7488581431714749,-1.8853196898851619,-0.8315380262150668,0.9715328986813034,0.5447699216016609,0.2034341042310319,-0.14660290085412775,0.0408606414598768,-0.5345984287120338,-0.06998739469961222,-0.45412086165879645,-1.423782090243259,-0.900151888308105,-1.4757163490379523,-0.5726645809768245,-0.13455376044729145,1.4873421811179082,-1.2503324306966512,0.4128439778789257,0.6840175517600873,0.5309673702717542,-0.4572041909767813,2.132455347659096,-1.4696516510617859,-0.9168835139347818,0.3645932325354682,0.43757693567404343,0.34345892699501984,1.0539374300788713,-0.16222096350144485,-0.6250207991087227,-1.4864522625867662,0.9822502059575067,0.26150056034773633,-0.22949725038415353,0.4011434816669361,0.14807677357748775,-0.8257120845329259,-0.5719670046842023,-1.4301469056048395,1.0815026785969433,2.503204404751823,0.24462449545777584,-0.6965985378768902,-0.6120127016594211,-0.5281273060393614,-0.33176256581655306,-0.942252273020844,0.2642135737777716,-0.03545626490580988,-0.9748092770873191,0.8552252426105975,-1.142679274938753],\"yaxis\":\"y12\",\"type\":\"scatter\"},{\"line\":{\"color\":\"rgba(128, 128, 128, 1.0)\",\"dash\":\"solid\",\"shape\":\"linear\",\"width\":1.3},\"marker\":{\"size\":2,\"symbol\":\"circle\"},\"mode\":\"markers\",\"name\":\"D\",\"text\":\"\",\"x\":[-0.8717698350824767,0.11158432563991447,-2.7407395816036657,-1.0831976641681382,1.1051072558998412,-0.17169344572694262,0.43545635385970705,-0.09179294744208095,1.2264053142154256,1.551070466120222,-0.07121816924493687,-0.24600156908269727,0.15679944703330018,0.36559433298643446,2.660901371310062,1.855261613043312,-1.187059893505927,-0.3052965411783563,0.34235339848159724,-1.0084991752646242,-0.44254546436287656,0.6015254636451396,-0.2893097954432154,-0.7546569708093946,-0.649126922087612,-2.1670947304978943,-0.3521562590934882,-0.9825167171173528,0.4823638869124494,1.3991689937677,-1.0813487141186187,0.6812913811262418,-1.7997352733997822,0.40689483051570857,0.7305405406125538,0.17729696480255686,-0.4913828603510736,2.1551214812117236,-0.3357732892600588,0.6710258318221457,0.4922473932911538,-0.10608069827993899,-1.0721648569540283,1.5728260539297312,0.20627952814649006,0.4331828673111826,0.5413904546492052,0.596582038146462,-1.8059550967021047,1.0945562036012295,-0.6169826965091776,-1.7902865377237571,0.5756306505590018,0.22217194529919052,-0.37471866566691503,0.7533629372808431,1.2629346709986544,-0.29821714013709033,-0.40133028481671007,-0.14040244863090015,-0.7990425935512757,-0.25061752621963,0.09440658081002298,0.4639600910791964,-0.7548655530468488,0.2734573473584046,0.49953115601213216,0.2621673503662859,0.30879618891841415,-0.742579207698379,-2.140700808751398,1.085103424801508,2.5556712856305173,-0.3637449248748844,-1.7745895218285208,1.2839097135591673,1.4597017361633555,0.14355489019463594,1.1128650539993221,-1.399046146468581,0.29022433493130806,0.13941011249953447,-0.2557152779064104,-0.7964512095902642,0.9961864143816616,-0.2691610164434471,-0.5858401029934867,0.11472154570458645,-0.4385200016664815,1.5008416922368417,-1.4689795375674919,-1.3756996146289049,-1.4038172925442085,0.03665900419045025,1.3403311533249536,0.06474975963959607,-0.2672933031787719,0.5128393508997586,-0.393643566601903,0.22607092990429803],\"xaxis\":\"x13\",\"y\":[-0.07361023118327803,-1.954620093840618,0.3868275981196489,1.6022759283893118,0.5025031626623727,0.49297890284603363,-1.5175409515682257,-1.3988304194778804,0.7651118782401064,1.0195034760829493,-0.288436533540941,-0.427864616296082,-0.6981146609047546,-0.5837048700144051,0.28625126469522205,0.033969180055852845,-0.6800941336845024,-1.2936759604819117,0.2976493477975922,0.8876648716287192,0.4539119475551905,0.46876307597007094,0.42860056900710036,0.4162356701437077,-1.3411061973503395,0.6593272851144585,0.006360936392886699,-0.09294284205777326,0.8186243719201479,0.8375383073202678,-0.257778987819475,-0.9029949282022555,0.20524331367960652,-0.9320590169586531,-0.3745256486057368,0.3443083354664249,1.1036934902034283,-0.5098200365561425,0.8824236017654274,0.4851045623174309,-0.9121612675512513,0.46725976905766886,-0.38480015719057103,1.072600167340778,0.5606624960519553,0.05538623717839237,-0.9256291974263261,-1.3085284502493197,0.5322089433139756,1.3711258601960699,0.8939837960076227,0.6323907190600253,-0.04608371954015574,-0.6120198505115956,-1.113995762940247,-0.4604899515584618,-1.1814699481756323,0.47379987149557157,1.1365868596602342,0.3251544689243104,-1.6099274719269303,0.10935135880595509,-0.31071960743429444,-0.2587371889720593,-1.4803413476675145,-2.296481131385899,-1.307467158891181,0.11281434648274909,-0.27399818011197324,-0.2620068775064324,0.9864897880510298,1.1458292298213306,-0.37315735252561644,0.7304093761080327,0.1980194607638059,0.585256830129519,-1.0975617901207673,0.13051460601987414,-0.6971999142736548,-1.1888300482764687,0.538170007088638,0.6960707066352149,-1.3155445632578306,0.445343941603825,1.9551168589061723,-1.0867432370182428,-0.8716209241960768,0.38771374137623954,0.21161730176790372,0.5300797560802026,-0.46012960283045934,0.8688986413921359,-0.9154699808991233,1.1453668429563433,0.9862346094675136,0.9744844483024134,0.5219721187073837,-1.3173678443749777,1.246537174178265,-1.1376531789629023],\"yaxis\":\"y13\",\"type\":\"scatter\"},{\"line\":{\"color\":\"rgba(128, 128, 128, 1.0)\",\"dash\":\"solid\",\"shape\":\"linear\",\"width\":1.3},\"marker\":{\"size\":2,\"symbol\":\"circle\"},\"mode\":\"markers\",\"name\":\"D\",\"text\":\"\",\"x\":[0.5065620379191607,-0.2602965765539084,0.8947735922539433,-0.20706460026943954,1.165771221022478,0.0032613999056064972,0.15139506602725938,0.6216258350353989,-0.021273642226957677,-1.1658427051339177,0.4485693463235875,1.198274486639321,-0.25883153636865897,1.5829050442292472,-0.2682700312910577,-0.9352385575141785,0.38738771844743153,0.6574085019682239,-0.3572746873306874,2.714060854793366,-0.27291585141713237,-1.2906302068302504,-1.222761949561528,0.013025776556479629,0.9555304598689044,-0.6561146067300845,0.7298158130029747,-0.0432119828545582,-1.5216252605551706,-0.41404987215419986,-0.4810554232967754,-0.3078050607294259,-0.9495597220821862,0.20112949349038098,0.47257768807001005,0.29574464382459376,-0.6667256588550254,-0.7800462317273794,-2.4382958618125476,1.3828570141272503,-0.21013575867841097,-0.3029006268498382,1.2927029777297245,0.2830982533145663,0.3963400146525552,-0.3848004619501144,-0.09272185828621662,0.6770153647503461,-0.1959600613591739,0.5404291839045626,-1.8217224971370247,1.3296596322879783,0.8917605845336027,-0.15443195850639932,-0.3156397923478492,-1.2712742376782356,1.1883595805266332,0.6353385091511609,1.3454674446590853,0.12178515997828125,-0.8555683113616778,-0.9785772156833887,0.057287811538334794,0.8105752779966868,0.529391625431157,0.02176697311291148,0.1811098993369195,0.5414145403099591,1.4132829236858184,1.121263069616955,-0.6065062884038721,-0.4234421639133906,0.7333946895918884,-0.7988318165943966,-0.15333737291964203,0.6713340498814011,2.5654821666609644,-0.6368941736308625,0.2447377902458404,-0.2695855843246836,0.1999260409044481,2.7906488565862717,-0.5480652035741574,1.4897751979445475,0.9394818515356372,-0.6843231983909116,-0.8926565888689287,-1.0233349824867406,-0.19876779176298331,0.331603640930695,-0.4698479174404729,-0.23190086495094775,0.0019005050666524434,-0.47242195242887397,0.6676122184294951,0.22315978389252422,0.08768989910542416,0.4226123590160756,-1.8801039927214822,0.36933946508991744],\"xaxis\":\"x14\",\"y\":[-0.07361023118327803,-1.954620093840618,0.3868275981196489,1.6022759283893118,0.5025031626623727,0.49297890284603363,-1.5175409515682257,-1.3988304194778804,0.7651118782401064,1.0195034760829493,-0.288436533540941,-0.427864616296082,-0.6981146609047546,-0.5837048700144051,0.28625126469522205,0.033969180055852845,-0.6800941336845024,-1.2936759604819117,0.2976493477975922,0.8876648716287192,0.4539119475551905,0.46876307597007094,0.42860056900710036,0.4162356701437077,-1.3411061973503395,0.6593272851144585,0.006360936392886699,-0.09294284205777326,0.8186243719201479,0.8375383073202678,-0.257778987819475,-0.9029949282022555,0.20524331367960652,-0.9320590169586531,-0.3745256486057368,0.3443083354664249,1.1036934902034283,-0.5098200365561425,0.8824236017654274,0.4851045623174309,-0.9121612675512513,0.46725976905766886,-0.38480015719057103,1.072600167340778,0.5606624960519553,0.05538623717839237,-0.9256291974263261,-1.3085284502493197,0.5322089433139756,1.3711258601960699,0.8939837960076227,0.6323907190600253,-0.04608371954015574,-0.6120198505115956,-1.113995762940247,-0.4604899515584618,-1.1814699481756323,0.47379987149557157,1.1365868596602342,0.3251544689243104,-1.6099274719269303,0.10935135880595509,-0.31071960743429444,-0.2587371889720593,-1.4803413476675145,-2.296481131385899,-1.307467158891181,0.11281434648274909,-0.27399818011197324,-0.2620068775064324,0.9864897880510298,1.1458292298213306,-0.37315735252561644,0.7304093761080327,0.1980194607638059,0.585256830129519,-1.0975617901207673,0.13051460601987414,-0.6971999142736548,-1.1888300482764687,0.538170007088638,0.6960707066352149,-1.3155445632578306,0.445343941603825,1.9551168589061723,-1.0867432370182428,-0.8716209241960768,0.38771374137623954,0.21161730176790372,0.5300797560802026,-0.46012960283045934,0.8688986413921359,-0.9154699808991233,1.1453668429563433,0.9862346094675136,0.9744844483024134,0.5219721187073837,-1.3173678443749777,1.246537174178265,-1.1376531789629023],\"yaxis\":\"y14\",\"type\":\"scatter\"},{\"line\":{\"color\":\"rgba(128, 128, 128, 1.0)\",\"dash\":\"solid\",\"shape\":\"linear\",\"width\":1.3},\"marker\":{\"size\":2,\"symbol\":\"circle\"},\"mode\":\"markers\",\"name\":\"D\",\"text\":\"\",\"x\":[-1.636956662731303,-0.6376043572924962,-0.04074808935507628,0.34497677696840484,-0.19076916942011005,-2.0954179115141818,-0.1258038529727859,-1.8322894147741204,0.2619118827468143,0.2888115165866037,1.6364493228914556,-0.551431182905678,1.1820607294773688,0.8382851237881066,0.05411647258773308,1.6032469748148923,-0.07039817890104534,0.9884718968144668,0.78145279651797,-0.9674629069418702,0.45066994892508166,-0.9660195906372077,0.5638362505027132,-0.31239299662172076,1.3629951220558272,1.0056265249042886,0.6586321388426318,-1.7485069952611128,-0.3467098592376142,0.5253221217405029,0.01221581442141305,-0.5888478040710935,-0.3699537395884266,1.8263495711307631,0.7879559997924204,-0.46413106150570277,0.15674294678992978,1.3999271035218088,0.9209383937821997,-1.403228581932192,-0.03426984855449471,0.8965896218615761,-0.5799793555951641,0.9301499968144166,1.2290103431464956,1.8497601002940371,-1.1586219484257647,0.7488581431714749,-1.8853196898851619,-0.8315380262150668,0.9715328986813034,0.5447699216016609,0.2034341042310319,-0.14660290085412775,0.0408606414598768,-0.5345984287120338,-0.06998739469961222,-0.45412086165879645,-1.423782090243259,-0.900151888308105,-1.4757163490379523,-0.5726645809768245,-0.13455376044729145,1.4873421811179082,-1.2503324306966512,0.4128439778789257,0.6840175517600873,0.5309673702717542,-0.4572041909767813,2.132455347659096,-1.4696516510617859,-0.9168835139347818,0.3645932325354682,0.43757693567404343,0.34345892699501984,1.0539374300788713,-0.16222096350144485,-0.6250207991087227,-1.4864522625867662,0.9822502059575067,0.26150056034773633,-0.22949725038415353,0.4011434816669361,0.14807677357748775,-0.8257120845329259,-0.5719670046842023,-1.4301469056048395,1.0815026785969433,2.503204404751823,0.24462449545777584,-0.6965985378768902,-0.6120127016594211,-0.5281273060393614,-0.33176256581655306,-0.942252273020844,0.2642135737777716,-0.03545626490580988,-0.9748092770873191,0.8552252426105975,-1.142679274938753],\"xaxis\":\"x15\",\"y\":[-0.07361023118327803,-1.954620093840618,0.3868275981196489,1.6022759283893118,0.5025031626623727,0.49297890284603363,-1.5175409515682257,-1.3988304194778804,0.7651118782401064,1.0195034760829493,-0.288436533540941,-0.427864616296082,-0.6981146609047546,-0.5837048700144051,0.28625126469522205,0.033969180055852845,-0.6800941336845024,-1.2936759604819117,0.2976493477975922,0.8876648716287192,0.4539119475551905,0.46876307597007094,0.42860056900710036,0.4162356701437077,-1.3411061973503395,0.6593272851144585,0.006360936392886699,-0.09294284205777326,0.8186243719201479,0.8375383073202678,-0.257778987819475,-0.9029949282022555,0.20524331367960652,-0.9320590169586531,-0.3745256486057368,0.3443083354664249,1.1036934902034283,-0.5098200365561425,0.8824236017654274,0.4851045623174309,-0.9121612675512513,0.46725976905766886,-0.38480015719057103,1.072600167340778,0.5606624960519553,0.05538623717839237,-0.9256291974263261,-1.3085284502493197,0.5322089433139756,1.3711258601960699,0.8939837960076227,0.6323907190600253,-0.04608371954015574,-0.6120198505115956,-1.113995762940247,-0.4604899515584618,-1.1814699481756323,0.47379987149557157,1.1365868596602342,0.3251544689243104,-1.6099274719269303,0.10935135880595509,-0.31071960743429444,-0.2587371889720593,-1.4803413476675145,-2.296481131385899,-1.307467158891181,0.11281434648274909,-0.27399818011197324,-0.2620068775064324,0.9864897880510298,1.1458292298213306,-0.37315735252561644,0.7304093761080327,0.1980194607638059,0.585256830129519,-1.0975617901207673,0.13051460601987414,-0.6971999142736548,-1.1888300482764687,0.538170007088638,0.6960707066352149,-1.3155445632578306,0.445343941603825,1.9551168589061723,-1.0867432370182428,-0.8716209241960768,0.38771374137623954,0.21161730176790372,0.5300797560802026,-0.46012960283045934,0.8688986413921359,-0.9154699808991233,1.1453668429563433,0.9862346094675136,0.9744844483024134,0.5219721187073837,-1.3173678443749777,1.246537174178265,-1.1376531789629023],\"yaxis\":\"y15\",\"type\":\"scatter\"},{\"histfunc\":\"count\",\"histnorm\":\"\",\"marker\":{\"color\":\"rgba(128, 0, 128, 1.0)\",\"line\":{\"color\":\"#4D5663\",\"width\":1.3}},\"name\":\"D\",\"nbinsx\":10,\"opacity\":0.8,\"orientation\":\"v\",\"x\":[-0.07361023118327803,-1.954620093840618,0.3868275981196489,1.6022759283893118,0.5025031626623727,0.49297890284603363,-1.5175409515682257,-1.3988304194778804,0.7651118782401064,1.0195034760829493,-0.288436533540941,-0.427864616296082,-0.6981146609047546,-0.5837048700144051,0.28625126469522205,0.033969180055852845,-0.6800941336845024,-1.2936759604819117,0.2976493477975922,0.8876648716287192,0.4539119475551905,0.46876307597007094,0.42860056900710036,0.4162356701437077,-1.3411061973503395,0.6593272851144585,0.006360936392886699,-0.09294284205777326,0.8186243719201479,0.8375383073202678,-0.257778987819475,-0.9029949282022555,0.20524331367960652,-0.9320590169586531,-0.3745256486057368,0.3443083354664249,1.1036934902034283,-0.5098200365561425,0.8824236017654274,0.4851045623174309,-0.9121612675512513,0.46725976905766886,-0.38480015719057103,1.072600167340778,0.5606624960519553,0.05538623717839237,-0.9256291974263261,-1.3085284502493197,0.5322089433139756,1.3711258601960699,0.8939837960076227,0.6323907190600253,-0.04608371954015574,-0.6120198505115956,-1.113995762940247,-0.4604899515584618,-1.1814699481756323,0.47379987149557157,1.1365868596602342,0.3251544689243104,-1.6099274719269303,0.10935135880595509,-0.31071960743429444,-0.2587371889720593,-1.4803413476675145,-2.296481131385899,-1.307467158891181,0.11281434648274909,-0.27399818011197324,-0.2620068775064324,0.9864897880510298,1.1458292298213306,-0.37315735252561644,0.7304093761080327,0.1980194607638059,0.585256830129519,-1.0975617901207673,0.13051460601987414,-0.6971999142736548,-1.1888300482764687,0.538170007088638,0.6960707066352149,-1.3155445632578306,0.445343941603825,1.9551168589061723,-1.0867432370182428,-0.8716209241960768,0.38771374137623954,0.21161730176790372,0.5300797560802026,-0.46012960283045934,0.8688986413921359,-0.9154699808991233,1.1453668429563433,0.9862346094675136,0.9744844483024134,0.5219721187073837,-1.3173678443749777,1.246537174178265,-1.1376531789629023],\"xaxis\":\"x16\",\"yaxis\":\"y16\",\"type\":\"histogram\"}],                        {\"bargap\":0.02,\"legend\":{\"bgcolor\":\"#F5F6F9\",\"font\":{\"color\":\"#4D5663\"}},\"paper_bgcolor\":\"#F5F6F9\",\"plot_bgcolor\":\"#F5F6F9\",\"showlegend\":false,\"template\":{\"data\":{\"barpolar\":[{\"marker\":{\"line\":{\"color\":\"#E5ECF6\",\"width\":0.5},\"pattern\":{\"fillmode\":\"overlay\",\"size\":10,\"solidity\":0.2}},\"type\":\"barpolar\"}],\"bar\":[{\"error_x\":{\"color\":\"#2a3f5f\"},\"error_y\":{\"color\":\"#2a3f5f\"},\"marker\":{\"line\":{\"color\":\"#E5ECF6\",\"width\":0.5},\"pattern\":{\"fillmode\":\"overlay\",\"size\":10,\"solidity\":0.2}},\"type\":\"bar\"}],\"carpet\":[{\"aaxis\":{\"endlinecolor\":\"#2a3f5f\",\"gridcolor\":\"white\",\"linecolor\":\"white\",\"minorgridcolor\":\"white\",\"startlinecolor\":\"#2a3f5f\"},\"baxis\":{\"endlinecolor\":\"#2a3f5f\",\"gridcolor\":\"white\",\"linecolor\":\"white\",\"minorgridcolor\":\"white\",\"startlinecolor\":\"#2a3f5f\"},\"type\":\"carpet\"}],\"choropleth\":[{\"colorbar\":{\"outlinewidth\":0,\"ticks\":\"\"},\"type\":\"choropleth\"}],\"contourcarpet\":[{\"colorbar\":{\"outlinewidth\":0,\"ticks\":\"\"},\"type\":\"contourcarpet\"}],\"contour\":[{\"colorbar\":{\"outlinewidth\":0,\"ticks\":\"\"},\"colorscale\":[[0.0,\"#0d0887\"],[0.1111111111111111,\"#46039f\"],[0.2222222222222222,\"#7201a8\"],[0.3333333333333333,\"#9c179e\"],[0.4444444444444444,\"#bd3786\"],[0.5555555555555556,\"#d8576b\"],[0.6666666666666666,\"#ed7953\"],[0.7777777777777778,\"#fb9f3a\"],[0.8888888888888888,\"#fdca26\"],[1.0,\"#f0f921\"]],\"type\":\"contour\"}],\"heatmapgl\":[{\"colorbar\":{\"outlinewidth\":0,\"ticks\":\"\"},\"colorscale\":[[0.0,\"#0d0887\"],[0.1111111111111111,\"#46039f\"],[0.2222222222222222,\"#7201a8\"],[0.3333333333333333,\"#9c179e\"],[0.4444444444444444,\"#bd3786\"],[0.5555555555555556,\"#d8576b\"],[0.6666666666666666,\"#ed7953\"],[0.7777777777777778,\"#fb9f3a\"],[0.8888888888888888,\"#fdca26\"],[1.0,\"#f0f921\"]],\"type\":\"heatmapgl\"}],\"heatmap\":[{\"colorbar\":{\"outlinewidth\":0,\"ticks\":\"\"},\"colorscale\":[[0.0,\"#0d0887\"],[0.1111111111111111,\"#46039f\"],[0.2222222222222222,\"#7201a8\"],[0.3333333333333333,\"#9c179e\"],[0.4444444444444444,\"#bd3786\"],[0.5555555555555556,\"#d8576b\"],[0.6666666666666666,\"#ed7953\"],[0.7777777777777778,\"#fb9f3a\"],[0.8888888888888888,\"#fdca26\"],[1.0,\"#f0f921\"]],\"type\":\"heatmap\"}],\"histogram2dcontour\":[{\"colorbar\":{\"outlinewidth\":0,\"ticks\":\"\"},\"colorscale\":[[0.0,\"#0d0887\"],[0.1111111111111111,\"#46039f\"],[0.2222222222222222,\"#7201a8\"],[0.3333333333333333,\"#9c179e\"],[0.4444444444444444,\"#bd3786\"],[0.5555555555555556,\"#d8576b\"],[0.6666666666666666,\"#ed7953\"],[0.7777777777777778,\"#fb9f3a\"],[0.8888888888888888,\"#fdca26\"],[1.0,\"#f0f921\"]],\"type\":\"histogram2dcontour\"}],\"histogram2d\":[{\"colorbar\":{\"outlinewidth\":0,\"ticks\":\"\"},\"colorscale\":[[0.0,\"#0d0887\"],[0.1111111111111111,\"#46039f\"],[0.2222222222222222,\"#7201a8\"],[0.3333333333333333,\"#9c179e\"],[0.4444444444444444,\"#bd3786\"],[0.5555555555555556,\"#d8576b\"],[0.6666666666666666,\"#ed7953\"],[0.7777777777777778,\"#fb9f3a\"],[0.8888888888888888,\"#fdca26\"],[1.0,\"#f0f921\"]],\"type\":\"histogram2d\"}],\"histogram\":[{\"marker\":{\"pattern\":{\"fillmode\":\"overlay\",\"size\":10,\"solidity\":0.2}},\"type\":\"histogram\"}],\"mesh3d\":[{\"colorbar\":{\"outlinewidth\":0,\"ticks\":\"\"},\"type\":\"mesh3d\"}],\"parcoords\":[{\"line\":{\"colorbar\":{\"outlinewidth\":0,\"ticks\":\"\"}},\"type\":\"parcoords\"}],\"pie\":[{\"automargin\":true,\"type\":\"pie\"}],\"scatter3d\":[{\"line\":{\"colorbar\":{\"outlinewidth\":0,\"ticks\":\"\"}},\"marker\":{\"colorbar\":{\"outlinewidth\":0,\"ticks\":\"\"}},\"type\":\"scatter3d\"}],\"scattercarpet\":[{\"marker\":{\"colorbar\":{\"outlinewidth\":0,\"ticks\":\"\"}},\"type\":\"scattercarpet\"}],\"scattergeo\":[{\"marker\":{\"colorbar\":{\"outlinewidth\":0,\"ticks\":\"\"}},\"type\":\"scattergeo\"}],\"scattergl\":[{\"marker\":{\"colorbar\":{\"outlinewidth\":0,\"ticks\":\"\"}},\"type\":\"scattergl\"}],\"scattermapbox\":[{\"marker\":{\"colorbar\":{\"outlinewidth\":0,\"ticks\":\"\"}},\"type\":\"scattermapbox\"}],\"scatterpolargl\":[{\"marker\":{\"colorbar\":{\"outlinewidth\":0,\"ticks\":\"\"}},\"type\":\"scatterpolargl\"}],\"scatterpolar\":[{\"marker\":{\"colorbar\":{\"outlinewidth\":0,\"ticks\":\"\"}},\"type\":\"scatterpolar\"}],\"scatter\":[{\"fillpattern\":{\"fillmode\":\"overlay\",\"size\":10,\"solidity\":0.2},\"type\":\"scatter\"}],\"scatterternary\":[{\"marker\":{\"colorbar\":{\"outlinewidth\":0,\"ticks\":\"\"}},\"type\":\"scatterternary\"}],\"surface\":[{\"colorbar\":{\"outlinewidth\":0,\"ticks\":\"\"},\"colorscale\":[[0.0,\"#0d0887\"],[0.1111111111111111,\"#46039f\"],[0.2222222222222222,\"#7201a8\"],[0.3333333333333333,\"#9c179e\"],[0.4444444444444444,\"#bd3786\"],[0.5555555555555556,\"#d8576b\"],[0.6666666666666666,\"#ed7953\"],[0.7777777777777778,\"#fb9f3a\"],[0.8888888888888888,\"#fdca26\"],[1.0,\"#f0f921\"]],\"type\":\"surface\"}],\"table\":[{\"cells\":{\"fill\":{\"color\":\"#EBF0F8\"},\"line\":{\"color\":\"white\"}},\"header\":{\"fill\":{\"color\":\"#C8D4E3\"},\"line\":{\"color\":\"white\"}},\"type\":\"table\"}]},\"layout\":{\"annotationdefaults\":{\"arrowcolor\":\"#2a3f5f\",\"arrowhead\":0,\"arrowwidth\":1},\"autotypenumbers\":\"strict\",\"coloraxis\":{\"colorbar\":{\"outlinewidth\":0,\"ticks\":\"\"}},\"colorscale\":{\"diverging\":[[0,\"#8e0152\"],[0.1,\"#c51b7d\"],[0.2,\"#de77ae\"],[0.3,\"#f1b6da\"],[0.4,\"#fde0ef\"],[0.5,\"#f7f7f7\"],[0.6,\"#e6f5d0\"],[0.7,\"#b8e186\"],[0.8,\"#7fbc41\"],[0.9,\"#4d9221\"],[1,\"#276419\"]],\"sequential\":[[0.0,\"#0d0887\"],[0.1111111111111111,\"#46039f\"],[0.2222222222222222,\"#7201a8\"],[0.3333333333333333,\"#9c179e\"],[0.4444444444444444,\"#bd3786\"],[0.5555555555555556,\"#d8576b\"],[0.6666666666666666,\"#ed7953\"],[0.7777777777777778,\"#fb9f3a\"],[0.8888888888888888,\"#fdca26\"],[1.0,\"#f0f921\"]],\"sequentialminus\":[[0.0,\"#0d0887\"],[0.1111111111111111,\"#46039f\"],[0.2222222222222222,\"#7201a8\"],[0.3333333333333333,\"#9c179e\"],[0.4444444444444444,\"#bd3786\"],[0.5555555555555556,\"#d8576b\"],[0.6666666666666666,\"#ed7953\"],[0.7777777777777778,\"#fb9f3a\"],[0.8888888888888888,\"#fdca26\"],[1.0,\"#f0f921\"]]},\"colorway\":[\"#636efa\",\"#EF553B\",\"#00cc96\",\"#ab63fa\",\"#FFA15A\",\"#19d3f3\",\"#FF6692\",\"#B6E880\",\"#FF97FF\",\"#FECB52\"],\"font\":{\"color\":\"#2a3f5f\"},\"geo\":{\"bgcolor\":\"white\",\"lakecolor\":\"white\",\"landcolor\":\"#E5ECF6\",\"showlakes\":true,\"showland\":true,\"subunitcolor\":\"white\"},\"hoverlabel\":{\"align\":\"left\"},\"hovermode\":\"closest\",\"mapbox\":{\"style\":\"light\"},\"paper_bgcolor\":\"white\",\"plot_bgcolor\":\"#E5ECF6\",\"polar\":{\"angularaxis\":{\"gridcolor\":\"white\",\"linecolor\":\"white\",\"ticks\":\"\"},\"bgcolor\":\"#E5ECF6\",\"radialaxis\":{\"gridcolor\":\"white\",\"linecolor\":\"white\",\"ticks\":\"\"}},\"scene\":{\"xaxis\":{\"backgroundcolor\":\"#E5ECF6\",\"gridcolor\":\"white\",\"gridwidth\":2,\"linecolor\":\"white\",\"showbackground\":true,\"ticks\":\"\",\"zerolinecolor\":\"white\"},\"yaxis\":{\"backgroundcolor\":\"#E5ECF6\",\"gridcolor\":\"white\",\"gridwidth\":2,\"linecolor\":\"white\",\"showbackground\":true,\"ticks\":\"\",\"zerolinecolor\":\"white\"},\"zaxis\":{\"backgroundcolor\":\"#E5ECF6\",\"gridcolor\":\"white\",\"gridwidth\":2,\"linecolor\":\"white\",\"showbackground\":true,\"ticks\":\"\",\"zerolinecolor\":\"white\"}},\"shapedefaults\":{\"line\":{\"color\":\"#2a3f5f\"}},\"ternary\":{\"aaxis\":{\"gridcolor\":\"white\",\"linecolor\":\"white\",\"ticks\":\"\"},\"baxis\":{\"gridcolor\":\"white\",\"linecolor\":\"white\",\"ticks\":\"\"},\"bgcolor\":\"#E5ECF6\",\"caxis\":{\"gridcolor\":\"white\",\"linecolor\":\"white\",\"ticks\":\"\"}},\"title\":{\"x\":0.05},\"xaxis\":{\"automargin\":true,\"gridcolor\":\"white\",\"linecolor\":\"white\",\"ticks\":\"\",\"title\":{\"standoff\":15},\"zerolinecolor\":\"white\",\"zerolinewidth\":2},\"yaxis\":{\"automargin\":true,\"gridcolor\":\"white\",\"linecolor\":\"white\",\"ticks\":\"\",\"title\":{\"standoff\":15},\"zerolinecolor\":\"white\",\"zerolinewidth\":2}}},\"title\":{\"font\":{\"color\":\"#4D5663\"}},\"xaxis\":{\"anchor\":\"y\",\"domain\":[0.0,0.2125],\"gridcolor\":\"#E1E5ED\",\"showgrid\":false,\"tickfont\":{\"color\":\"#4D5663\"},\"title\":{\"font\":{\"color\":\"#4D5663\"},\"text\":\"\"},\"zerolinecolor\":\"#E1E5ED\"},\"yaxis\":{\"anchor\":\"x\",\"domain\":[0.8025,1.0],\"gridcolor\":\"#E1E5ED\",\"showgrid\":false,\"tickfont\":{\"color\":\"#4D5663\"},\"title\":{\"font\":{\"color\":\"#4D5663\"},\"text\":\"\"},\"zerolinecolor\":\"#E1E5ED\"},\"xaxis2\":{\"anchor\":\"y2\",\"domain\":[0.2625,0.475],\"gridcolor\":\"#E1E5ED\",\"showgrid\":false,\"tickfont\":{\"color\":\"#4D5663\"},\"title\":{\"font\":{\"color\":\"#4D5663\"},\"text\":\"\"},\"zerolinecolor\":\"#E1E5ED\"},\"yaxis2\":{\"anchor\":\"x2\",\"domain\":[0.8025,1.0],\"gridcolor\":\"#E1E5ED\",\"showgrid\":false,\"tickfont\":{\"color\":\"#4D5663\"},\"title\":{\"font\":{\"color\":\"#4D5663\"},\"text\":\"\"},\"zerolinecolor\":\"#E1E5ED\"},\"xaxis3\":{\"anchor\":\"y3\",\"domain\":[0.525,0.7375],\"gridcolor\":\"#E1E5ED\",\"showgrid\":false,\"tickfont\":{\"color\":\"#4D5663\"},\"title\":{\"font\":{\"color\":\"#4D5663\"},\"text\":\"\"},\"zerolinecolor\":\"#E1E5ED\"},\"yaxis3\":{\"anchor\":\"x3\",\"domain\":[0.8025,1.0],\"gridcolor\":\"#E1E5ED\",\"showgrid\":false,\"tickfont\":{\"color\":\"#4D5663\"},\"title\":{\"font\":{\"color\":\"#4D5663\"},\"text\":\"\"},\"zerolinecolor\":\"#E1E5ED\"},\"xaxis4\":{\"anchor\":\"y4\",\"domain\":[0.7875,1.0],\"gridcolor\":\"#E1E5ED\",\"showgrid\":false,\"tickfont\":{\"color\":\"#4D5663\"},\"title\":{\"font\":{\"color\":\"#4D5663\"},\"text\":\"\"},\"zerolinecolor\":\"#E1E5ED\"},\"yaxis4\":{\"anchor\":\"x4\",\"domain\":[0.8025,1.0],\"gridcolor\":\"#E1E5ED\",\"showgrid\":false,\"tickfont\":{\"color\":\"#4D5663\"},\"title\":{\"font\":{\"color\":\"#4D5663\"},\"text\":\"\"},\"zerolinecolor\":\"#E1E5ED\"},\"xaxis5\":{\"anchor\":\"y5\",\"domain\":[0.0,0.2125],\"gridcolor\":\"#E1E5ED\",\"showgrid\":false,\"tickfont\":{\"color\":\"#4D5663\"},\"title\":{\"font\":{\"color\":\"#4D5663\"},\"text\":\"\"},\"zerolinecolor\":\"#E1E5ED\"},\"yaxis5\":{\"anchor\":\"x5\",\"domain\":[0.535,0.7325],\"gridcolor\":\"#E1E5ED\",\"showgrid\":false,\"tickfont\":{\"color\":\"#4D5663\"},\"title\":{\"font\":{\"color\":\"#4D5663\"},\"text\":\"\"},\"zerolinecolor\":\"#E1E5ED\"},\"xaxis6\":{\"anchor\":\"y6\",\"domain\":[0.2625,0.475],\"gridcolor\":\"#E1E5ED\",\"showgrid\":false,\"tickfont\":{\"color\":\"#4D5663\"},\"title\":{\"font\":{\"color\":\"#4D5663\"},\"text\":\"\"},\"zerolinecolor\":\"#E1E5ED\"},\"yaxis6\":{\"anchor\":\"x6\",\"domain\":[0.535,0.7325],\"gridcolor\":\"#E1E5ED\",\"showgrid\":false,\"tickfont\":{\"color\":\"#4D5663\"},\"title\":{\"font\":{\"color\":\"#4D5663\"},\"text\":\"\"},\"zerolinecolor\":\"#E1E5ED\"},\"xaxis7\":{\"anchor\":\"y7\",\"domain\":[0.525,0.7375],\"gridcolor\":\"#E1E5ED\",\"showgrid\":false,\"tickfont\":{\"color\":\"#4D5663\"},\"title\":{\"font\":{\"color\":\"#4D5663\"},\"text\":\"\"},\"zerolinecolor\":\"#E1E5ED\"},\"yaxis7\":{\"anchor\":\"x7\",\"domain\":[0.535,0.7325],\"gridcolor\":\"#E1E5ED\",\"showgrid\":false,\"tickfont\":{\"color\":\"#4D5663\"},\"title\":{\"font\":{\"color\":\"#4D5663\"},\"text\":\"\"},\"zerolinecolor\":\"#E1E5ED\"},\"xaxis8\":{\"anchor\":\"y8\",\"domain\":[0.7875,1.0],\"gridcolor\":\"#E1E5ED\",\"showgrid\":false,\"tickfont\":{\"color\":\"#4D5663\"},\"title\":{\"font\":{\"color\":\"#4D5663\"},\"text\":\"\"},\"zerolinecolor\":\"#E1E5ED\"},\"yaxis8\":{\"anchor\":\"x8\",\"domain\":[0.535,0.7325],\"gridcolor\":\"#E1E5ED\",\"showgrid\":false,\"tickfont\":{\"color\":\"#4D5663\"},\"title\":{\"font\":{\"color\":\"#4D5663\"},\"text\":\"\"},\"zerolinecolor\":\"#E1E5ED\"},\"xaxis9\":{\"anchor\":\"y9\",\"domain\":[0.0,0.2125],\"gridcolor\":\"#E1E5ED\",\"showgrid\":false,\"tickfont\":{\"color\":\"#4D5663\"},\"title\":{\"font\":{\"color\":\"#4D5663\"},\"text\":\"\"},\"zerolinecolor\":\"#E1E5ED\"},\"yaxis9\":{\"anchor\":\"x9\",\"domain\":[0.2675,0.465],\"gridcolor\":\"#E1E5ED\",\"showgrid\":false,\"tickfont\":{\"color\":\"#4D5663\"},\"title\":{\"font\":{\"color\":\"#4D5663\"},\"text\":\"\"},\"zerolinecolor\":\"#E1E5ED\"},\"xaxis10\":{\"anchor\":\"y10\",\"domain\":[0.2625,0.475],\"gridcolor\":\"#E1E5ED\",\"showgrid\":false,\"tickfont\":{\"color\":\"#4D5663\"},\"title\":{\"font\":{\"color\":\"#4D5663\"},\"text\":\"\"},\"zerolinecolor\":\"#E1E5ED\"},\"yaxis10\":{\"anchor\":\"x10\",\"domain\":[0.2675,0.465],\"gridcolor\":\"#E1E5ED\",\"showgrid\":false,\"tickfont\":{\"color\":\"#4D5663\"},\"title\":{\"font\":{\"color\":\"#4D5663\"},\"text\":\"\"},\"zerolinecolor\":\"#E1E5ED\"},\"xaxis11\":{\"anchor\":\"y11\",\"domain\":[0.525,0.7375],\"gridcolor\":\"#E1E5ED\",\"showgrid\":false,\"tickfont\":{\"color\":\"#4D5663\"},\"title\":{\"font\":{\"color\":\"#4D5663\"},\"text\":\"\"},\"zerolinecolor\":\"#E1E5ED\"},\"yaxis11\":{\"anchor\":\"x11\",\"domain\":[0.2675,0.465],\"gridcolor\":\"#E1E5ED\",\"showgrid\":false,\"tickfont\":{\"color\":\"#4D5663\"},\"title\":{\"font\":{\"color\":\"#4D5663\"},\"text\":\"\"},\"zerolinecolor\":\"#E1E5ED\"},\"xaxis12\":{\"anchor\":\"y12\",\"domain\":[0.7875,1.0],\"gridcolor\":\"#E1E5ED\",\"showgrid\":false,\"tickfont\":{\"color\":\"#4D5663\"},\"title\":{\"font\":{\"color\":\"#4D5663\"},\"text\":\"\"},\"zerolinecolor\":\"#E1E5ED\"},\"yaxis12\":{\"anchor\":\"x12\",\"domain\":[0.2675,0.465],\"gridcolor\":\"#E1E5ED\",\"showgrid\":false,\"tickfont\":{\"color\":\"#4D5663\"},\"title\":{\"font\":{\"color\":\"#4D5663\"},\"text\":\"\"},\"zerolinecolor\":\"#E1E5ED\"},\"xaxis13\":{\"anchor\":\"y13\",\"domain\":[0.0,0.2125],\"gridcolor\":\"#E1E5ED\",\"showgrid\":false,\"tickfont\":{\"color\":\"#4D5663\"},\"title\":{\"font\":{\"color\":\"#4D5663\"},\"text\":\"\"},\"zerolinecolor\":\"#E1E5ED\"},\"yaxis13\":{\"anchor\":\"x13\",\"domain\":[0.0,0.1975],\"gridcolor\":\"#E1E5ED\",\"showgrid\":false,\"tickfont\":{\"color\":\"#4D5663\"},\"title\":{\"font\":{\"color\":\"#4D5663\"},\"text\":\"\"},\"zerolinecolor\":\"#E1E5ED\"},\"xaxis14\":{\"anchor\":\"y14\",\"domain\":[0.2625,0.475],\"gridcolor\":\"#E1E5ED\",\"showgrid\":false,\"tickfont\":{\"color\":\"#4D5663\"},\"title\":{\"font\":{\"color\":\"#4D5663\"},\"text\":\"\"},\"zerolinecolor\":\"#E1E5ED\"},\"yaxis14\":{\"anchor\":\"x14\",\"domain\":[0.0,0.1975],\"gridcolor\":\"#E1E5ED\",\"showgrid\":false,\"tickfont\":{\"color\":\"#4D5663\"},\"title\":{\"font\":{\"color\":\"#4D5663\"},\"text\":\"\"},\"zerolinecolor\":\"#E1E5ED\"},\"xaxis15\":{\"anchor\":\"y15\",\"domain\":[0.525,0.7375],\"gridcolor\":\"#E1E5ED\",\"showgrid\":false,\"tickfont\":{\"color\":\"#4D5663\"},\"title\":{\"font\":{\"color\":\"#4D5663\"},\"text\":\"\"},\"zerolinecolor\":\"#E1E5ED\"},\"yaxis15\":{\"anchor\":\"x15\",\"domain\":[0.0,0.1975],\"gridcolor\":\"#E1E5ED\",\"showgrid\":false,\"tickfont\":{\"color\":\"#4D5663\"},\"title\":{\"font\":{\"color\":\"#4D5663\"},\"text\":\"\"},\"zerolinecolor\":\"#E1E5ED\"},\"xaxis16\":{\"anchor\":\"y16\",\"domain\":[0.7875,1.0],\"gridcolor\":\"#E1E5ED\",\"showgrid\":false,\"tickfont\":{\"color\":\"#4D5663\"},\"title\":{\"font\":{\"color\":\"#4D5663\"},\"text\":\"\"},\"zerolinecolor\":\"#E1E5ED\"},\"yaxis16\":{\"anchor\":\"x16\",\"domain\":[0.0,0.1975],\"gridcolor\":\"#E1E5ED\",\"showgrid\":false,\"tickfont\":{\"color\":\"#4D5663\"},\"title\":{\"font\":{\"color\":\"#4D5663\"},\"text\":\"\"},\"zerolinecolor\":\"#E1E5ED\"}},                        {\"showLink\": true, \"linkText\": \"Export to plot.ly\", \"plotlyServerURL\": \"https://plot.ly\", \"responsive\": true}                    ).then(function(){\n",
       "                            \n",
       "var gd = document.getElementById('8259a0bd-6904-4451-93ce-1aaabfa3d8b6');\n",
       "var x = new MutationObserver(function (mutations, observer) {{\n",
       "        var display = window.getComputedStyle(gd).display;\n",
       "        if (!display || display === 'none') {{\n",
       "            console.log([gd, 'removed!']);\n",
       "            Plotly.purge(gd);\n",
       "            observer.disconnect();\n",
       "        }}\n",
       "}});\n",
       "\n",
       "// Listen for the removal of the full notebook cells\n",
       "var notebookContainer = gd.closest('#notebook-container');\n",
       "if (notebookContainer) {{\n",
       "    x.observe(notebookContainer, {childList: true});\n",
       "}}\n",
       "\n",
       "// Listen for the clearing of the current output cell\n",
       "var outputEl = gd.closest('.output');\n",
       "if (outputEl) {{\n",
       "    x.observe(outputEl, {childList: true});\n",
       "}}\n",
       "\n",
       "                        })                };                });            </script>        </div>"
      ]
     },
     "metadata": {},
     "output_type": "display_data"
    }
   ],
   "source": [
    "df.scatter_matrix()"
   ]
  }
 ],
 "metadata": {
  "kernelspec": {
   "display_name": "Python 3 (ipykernel)",
   "language": "python",
   "name": "python3"
  },
  "language_info": {
   "codemirror_mode": {
    "name": "ipython",
    "version": 3
   },
   "file_extension": ".py",
   "mimetype": "text/x-python",
   "name": "python",
   "nbconvert_exporter": "python",
   "pygments_lexer": "ipython3",
   "version": "3.11.3"
  }
 },
 "nbformat": 4,
 "nbformat_minor": 1
}
